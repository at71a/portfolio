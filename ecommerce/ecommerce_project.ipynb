{
 "cells": [
  {
   "cell_type": "markdown",
   "id": "058511e8",
   "metadata": {},
   "source": [
    "# Анализ товарного ассортимента в e-commerce "
   ]
  },
  {
   "cell_type": "markdown",
   "id": "a6fa0275",
   "metadata": {},
   "source": [
    "Презентация: https://disk.yandex.ru/i/_45jkXjC0VUcQQ"
   ]
  },
  {
   "cell_type": "markdown",
   "id": "684361cf",
   "metadata": {},
   "source": [
    "__Цель работы:__ Определить основной и дополнительный ассортимент магазина товаров для дома"
   ]
  },
  {
   "cell_type": "markdown",
   "id": "3072789f",
   "metadata": {},
   "source": [
    "__Датасет о покупках:__\n",
    "- `date` — дата заказа;\n",
    "- `customer_id` — идентификатор покупателя;\n",
    "- `order_id` — идентификатор заказа;\n",
    "- `product` — наименование товара;\n",
    "- `quantity` — количество товара в заказе;\n",
    "- `price` — цена товара."
   ]
  },
  {
   "cell_type": "markdown",
   "id": "99197c90",
   "metadata": {},
   "source": [
    "__Задачи работы:__\n",
    "\n",
    "*1. Выполнить предобработку данных*\n",
    "- Исследовать пропущенные значения;\n",
    "- Исследовать соответствие типов;\n",
    "- Исследовать дубликаты;\n",
    "- Проверить корректность наименований колонок;\n",
    "- Переименовать колонки;\n",
    "- Удалить дубликаты;\n",
    "- Привести типы;\n",
    "- Заменить пропущенные значения;\n",
    "- Найти выбросы, отфильтровать их;\n",
    "- Распределить товары по 5-6 категориям;\n",
    "- Создать столбцы с часом и днем недели покупки;\n",
    "- Проверить соответствие данных ТЗ.\n",
    "\n",
    "*2. Провести исследовательский анализ данных*\n",
    "- Изучить параметры заказов: средняя стоимость и число товаров в чеке;\n",
    "- Изучить динамику количества и объема заказов по времени заказа;\n",
    "- Изучить зависимость числа и объема заказов от временных интервалов в разные дня недели;\n",
    "- Изучить поведение пользователей: как часто заказывают, среднее число заказов на пользователя, доля пользователей с более чем одной покупкой;\n",
    "- Сравнить продаваемость категорий: доля выручки, количество;\n",
    "- Ранжировать товары по выручке и проданному количеству внутри каждой категории.\n",
    "\n",
    "*3. Выделить основной и дополнительный ассортимент*\n",
    "- Провести ABC-анализ по выручке и проданному количеству товарных позиций;\n",
    "- Разбивка на категории: А - до 80%, B - 80-95%, C- 95-100%;\n",
    "- Товар считается основным, если имеет хотя бы одну A. От товара C&C стоит избавиться, остальные - дополнительные.\n",
    "\n",
    "*4. Сформулировать 2-3 гипотезы*"
   ]
  },
  {
   "cell_type": "markdown",
   "id": "2fca9312",
   "metadata": {},
   "source": [
    "### Предобработка данных"
   ]
  },
  {
   "cell_type": "code",
   "execution_count": 1,
   "id": "008ec312",
   "metadata": {},
   "outputs": [],
   "source": [
    "# Импорт библиотек\n",
    "import pandas as pd\n",
    "import numpy as np\n",
    "from scipy import stats as st\n",
    "import math as mth\n",
    "import matplotlib.pyplot as plt\n",
    "from datetime import datetime, timedelta\n",
    "import datetime as dt\n",
    "import seaborn as sns\n",
    "  \n",
    "pd.set_option('display.max_columns', None)\n",
    "\n",
    "import warnings\n",
    "warnings.simplefilter(\"ignore\")"
   ]
  },
  {
   "cell_type": "code",
   "execution_count": 2,
   "id": "743d9ef2",
   "metadata": {},
   "outputs": [],
   "source": [
    "# загрузка файла\n",
    "data = pd.read_csv('ecom_dataset_upd.csv')"
   ]
  },
  {
   "cell_type": "code",
   "execution_count": 3,
   "id": "63e794f8",
   "metadata": {},
   "outputs": [
    {
     "data": {
      "text/html": [
       "<div>\n",
       "<style scoped>\n",
       "    .dataframe tbody tr th:only-of-type {\n",
       "        vertical-align: middle;\n",
       "    }\n",
       "\n",
       "    .dataframe tbody tr th {\n",
       "        vertical-align: top;\n",
       "    }\n",
       "\n",
       "    .dataframe thead th {\n",
       "        text-align: right;\n",
       "    }\n",
       "</style>\n",
       "<table border=\"1\" class=\"dataframe\">\n",
       "  <thead>\n",
       "    <tr style=\"text-align: right;\">\n",
       "      <th></th>\n",
       "      <th>date</th>\n",
       "      <th>customer_id</th>\n",
       "      <th>order_id</th>\n",
       "      <th>product</th>\n",
       "      <th>quantity</th>\n",
       "      <th>price</th>\n",
       "    </tr>\n",
       "  </thead>\n",
       "  <tbody>\n",
       "    <tr>\n",
       "      <th>0</th>\n",
       "      <td>2018100100</td>\n",
       "      <td>ee47d746-6d2f-4d3c-9622-c31412542920</td>\n",
       "      <td>68477</td>\n",
       "      <td>Комнатное растение в горшке Алое Вера, d12, h30</td>\n",
       "      <td>1</td>\n",
       "      <td>142.0</td>\n",
       "    </tr>\n",
       "    <tr>\n",
       "      <th>1</th>\n",
       "      <td>2018100100</td>\n",
       "      <td>ee47d746-6d2f-4d3c-9622-c31412542920</td>\n",
       "      <td>68477</td>\n",
       "      <td>Комнатное растение в горшке Кофе Арабика, d12,...</td>\n",
       "      <td>1</td>\n",
       "      <td>194.0</td>\n",
       "    </tr>\n",
       "    <tr>\n",
       "      <th>2</th>\n",
       "      <td>2018100100</td>\n",
       "      <td>ee47d746-6d2f-4d3c-9622-c31412542920</td>\n",
       "      <td>68477</td>\n",
       "      <td>Радермахера d-12 см h-20 см</td>\n",
       "      <td>1</td>\n",
       "      <td>112.0</td>\n",
       "    </tr>\n",
       "    <tr>\n",
       "      <th>3</th>\n",
       "      <td>2018100100</td>\n",
       "      <td>ee47d746-6d2f-4d3c-9622-c31412542920</td>\n",
       "      <td>68477</td>\n",
       "      <td>Хризолидокарпус Лутесценс d-9 см</td>\n",
       "      <td>1</td>\n",
       "      <td>179.0</td>\n",
       "    </tr>\n",
       "    <tr>\n",
       "      <th>4</th>\n",
       "      <td>2018100100</td>\n",
       "      <td>ee47d746-6d2f-4d3c-9622-c31412542920</td>\n",
       "      <td>68477</td>\n",
       "      <td>Циперус Зумула d-12 см h-25 см</td>\n",
       "      <td>1</td>\n",
       "      <td>112.0</td>\n",
       "    </tr>\n",
       "  </tbody>\n",
       "</table>\n",
       "</div>"
      ],
      "text/plain": [
       "         date                           customer_id  order_id  \\\n",
       "0  2018100100  ee47d746-6d2f-4d3c-9622-c31412542920     68477   \n",
       "1  2018100100  ee47d746-6d2f-4d3c-9622-c31412542920     68477   \n",
       "2  2018100100  ee47d746-6d2f-4d3c-9622-c31412542920     68477   \n",
       "3  2018100100  ee47d746-6d2f-4d3c-9622-c31412542920     68477   \n",
       "4  2018100100  ee47d746-6d2f-4d3c-9622-c31412542920     68477   \n",
       "\n",
       "                                             product  quantity  price  \n",
       "0    Комнатное растение в горшке Алое Вера, d12, h30         1  142.0  \n",
       "1  Комнатное растение в горшке Кофе Арабика, d12,...         1  194.0  \n",
       "2                        Радермахера d-12 см h-20 см         1  112.0  \n",
       "3                   Хризолидокарпус Лутесценс d-9 см         1  179.0  \n",
       "4                     Циперус Зумула d-12 см h-25 см         1  112.0  "
      ]
     },
     "metadata": {},
     "output_type": "display_data"
    },
    {
     "name": "stdout",
     "output_type": "stream",
     "text": [
      "<class 'pandas.core.frame.DataFrame'>\n",
      "RangeIndex: 7474 entries, 0 to 7473\n",
      "Data columns (total 6 columns):\n",
      " #   Column       Non-Null Count  Dtype  \n",
      "---  ------       --------------  -----  \n",
      " 0   date         7474 non-null   int64  \n",
      " 1   customer_id  7474 non-null   object \n",
      " 2   order_id     7474 non-null   int64  \n",
      " 3   product      7474 non-null   object \n",
      " 4   quantity     7474 non-null   int64  \n",
      " 5   price        7474 non-null   float64\n",
      "dtypes: float64(1), int64(3), object(2)\n",
      "memory usage: 350.5+ KB\n",
      "None\n",
      "Кол-во дубликатов: 0\n",
      "Пустые ячейки:\n",
      " date           0\n",
      "customer_id    0\n",
      "order_id       0\n",
      "product        0\n",
      "quantity       0\n",
      "price          0\n",
      "dtype: int64\n"
     ]
    }
   ],
   "source": [
    "# вывод основной информации и поиск дубликатов и пустых ячеек\n",
    "display(data.head())\n",
    "print(data.info())\n",
    "print('Кол-во дубликатов:', data.duplicated().sum())\n",
    "print('Пустые ячейки:\\n', data.isna().sum().sort_values(ascending=False))\n",
    "\n",
    "# число строк\n",
    "len_data = data['order_id'].count()"
   ]
  },
  {
   "cell_type": "markdown",
   "id": "e82aaa51",
   "metadata": {},
   "source": [
    "- В датафрейме представлена информация о проданных продуктах;\n",
    "- Дата покупки - в формате год, месяц, день и час;\n",
    "- Также в таблице название проданного товара, его количество в чеке, цена, номер заказа и айди пользователя;\n",
    "- Всего 7474 строк, нет пустых ячеек и явных дубликатов.\n",
    "\n",
    "Далее поищу неявные дубликаты. Для начала - заказы с более чем одним клиентом:"
   ]
  },
  {
   "cell_type": "code",
   "execution_count": 4,
   "id": "aaeffde7",
   "metadata": {},
   "outputs": [
    {
     "name": "stdout",
     "output_type": "stream",
     "text": [
      "Доля дубликатов среди заказов с несколькими пользователями равна 0.39%.\n"
     ]
    }
   ],
   "source": [
    "# заказы с 2 и более клиентами\n",
    "orders_dublicated = (data\n",
    "                     .groupby('order_id')\n",
    "                     .agg(count_users=('customer_id', 'nunique'))\n",
    "                     .query('count_users > 1').reset_index()['order_id'])\n",
    "\n",
    "# доля повторяющихся заказов\n",
    "share_dublicated_orders = orders_dublicated.count() / data['order_id'].count() * 100\n",
    "print('Доля дубликатов среди заказов с несколькими пользователями равна {:.2f}%.'.format(share_dublicated_orders))"
   ]
  },
  {
   "cell_type": "markdown",
   "id": "e0fa91c0",
   "metadata": {},
   "source": [
    "Доля задублированных заказов с несколькими пользователями заметно меньше 5% - можно удалить их."
   ]
  },
  {
   "cell_type": "code",
   "execution_count": 5,
   "id": "c145a100",
   "metadata": {},
   "outputs": [],
   "source": [
    "# удаление дубликатов\n",
    "data_raw = data.query('~order_id.isin(@orders_dublicated)')"
   ]
  },
  {
   "cell_type": "markdown",
   "id": "53fc9cfc",
   "metadata": {},
   "source": [
    "Теперь проверю заказы с более чем одной датой"
   ]
  },
  {
   "cell_type": "code",
   "execution_count": 6,
   "id": "bb0778c2",
   "metadata": {},
   "outputs": [
    {
     "data": {
      "text/html": [
       "<div>\n",
       "<style scoped>\n",
       "    .dataframe tbody tr th:only-of-type {\n",
       "        vertical-align: middle;\n",
       "    }\n",
       "\n",
       "    .dataframe tbody tr th {\n",
       "        vertical-align: top;\n",
       "    }\n",
       "\n",
       "    .dataframe thead th {\n",
       "        text-align: right;\n",
       "    }\n",
       "</style>\n",
       "<table border=\"1\" class=\"dataframe\">\n",
       "  <thead>\n",
       "    <tr style=\"text-align: right;\">\n",
       "      <th></th>\n",
       "      <th>order_id</th>\n",
       "      <th>count_dates</th>\n",
       "    </tr>\n",
       "  </thead>\n",
       "  <tbody>\n",
       "    <tr>\n",
       "      <th>20</th>\n",
       "      <td>14833</td>\n",
       "      <td>74</td>\n",
       "    </tr>\n",
       "    <tr>\n",
       "      <th>157</th>\n",
       "      <td>70960</td>\n",
       "      <td>60</td>\n",
       "    </tr>\n",
       "    <tr>\n",
       "      <th>53</th>\n",
       "      <td>69162</td>\n",
       "      <td>23</td>\n",
       "    </tr>\n",
       "    <tr>\n",
       "      <th>168</th>\n",
       "      <td>71148</td>\n",
       "      <td>16</td>\n",
       "    </tr>\n",
       "    <tr>\n",
       "      <th>77</th>\n",
       "      <td>69531</td>\n",
       "      <td>12</td>\n",
       "    </tr>\n",
       "    <tr>\n",
       "      <th>...</th>\n",
       "      <td>...</td>\n",
       "      <td>...</td>\n",
       "    </tr>\n",
       "    <tr>\n",
       "      <th>118</th>\n",
       "      <td>70424</td>\n",
       "      <td>2</td>\n",
       "    </tr>\n",
       "    <tr>\n",
       "      <th>119</th>\n",
       "      <td>70438</td>\n",
       "      <td>2</td>\n",
       "    </tr>\n",
       "    <tr>\n",
       "      <th>120</th>\n",
       "      <td>70450</td>\n",
       "      <td>2</td>\n",
       "    </tr>\n",
       "    <tr>\n",
       "      <th>122</th>\n",
       "      <td>70476</td>\n",
       "      <td>2</td>\n",
       "    </tr>\n",
       "    <tr>\n",
       "      <th>283</th>\n",
       "      <td>73137</td>\n",
       "      <td>2</td>\n",
       "    </tr>\n",
       "  </tbody>\n",
       "</table>\n",
       "<p>284 rows × 2 columns</p>\n",
       "</div>"
      ],
      "text/plain": [
       "     order_id  count_dates\n",
       "20      14833           74\n",
       "157     70960           60\n",
       "53      69162           23\n",
       "168     71148           16\n",
       "77      69531           12\n",
       "..        ...          ...\n",
       "118     70424            2\n",
       "119     70438            2\n",
       "120     70450            2\n",
       "122     70476            2\n",
       "283     73137            2\n",
       "\n",
       "[284 rows x 2 columns]"
      ]
     },
     "execution_count": 6,
     "metadata": {},
     "output_type": "execute_result"
    }
   ],
   "source": [
    "# заказы с несколькими датами\n",
    "orders_dublicated_date = (data\n",
    "                     .groupby('order_id')\n",
    "                     .agg(count_dates=('date', 'nunique'))\n",
    "                     .query('count_dates > 1').reset_index().sort_values(by='count_dates', ascending=False))\n",
    "\n",
    "orders_dublicated_date"
   ]
  },
  {
   "cell_type": "markdown",
   "id": "286befed",
   "metadata": {},
   "source": [
    "284 номера заказа имеют две и более даты, найду количество уникальных заказов в датасете:"
   ]
  },
  {
   "cell_type": "code",
   "execution_count": 7,
   "id": "f620c755",
   "metadata": {},
   "outputs": [
    {
     "name": "stdout",
     "output_type": "stream",
     "text": [
      "Число уникальных заказов равно: 3521\n"
     ]
    }
   ],
   "source": [
    "print('Число уникальных заказов равно:', data['order_id'].nunique())"
   ]
  },
  {
   "cell_type": "code",
   "execution_count": 8,
   "id": "7686cf69",
   "metadata": {},
   "outputs": [
    {
     "data": {
      "text/html": [
       "<div>\n",
       "<style scoped>\n",
       "    .dataframe tbody tr th:only-of-type {\n",
       "        vertical-align: middle;\n",
       "    }\n",
       "\n",
       "    .dataframe tbody tr th {\n",
       "        vertical-align: top;\n",
       "    }\n",
       "\n",
       "    .dataframe thead th {\n",
       "        text-align: right;\n",
       "    }\n",
       "</style>\n",
       "<table border=\"1\" class=\"dataframe\">\n",
       "  <thead>\n",
       "    <tr style=\"text-align: right;\">\n",
       "      <th></th>\n",
       "      <th>date</th>\n",
       "      <th>customer_id</th>\n",
       "      <th>order_id</th>\n",
       "      <th>product</th>\n",
       "      <th>quantity</th>\n",
       "      <th>price</th>\n",
       "    </tr>\n",
       "  </thead>\n",
       "  <tbody>\n",
       "    <tr>\n",
       "      <th>102</th>\n",
       "      <td>2018100500</td>\n",
       "      <td>b80e4826-7218-4bf9-ac08-eb2c81ab3f62</td>\n",
       "      <td>13547</td>\n",
       "      <td>Рассада зелени для кухни Лаванды в кассете по ...</td>\n",
       "      <td>1</td>\n",
       "      <td>315.0</td>\n",
       "    </tr>\n",
       "    <tr>\n",
       "      <th>103</th>\n",
       "      <td>2018100500</td>\n",
       "      <td>b80e4826-7218-4bf9-ac08-eb2c81ab3f62</td>\n",
       "      <td>13547</td>\n",
       "      <td>Рассада зелени для кухни Розмарина в кассете п...</td>\n",
       "      <td>1</td>\n",
       "      <td>207.0</td>\n",
       "    </tr>\n",
       "    <tr>\n",
       "      <th>104</th>\n",
       "      <td>2018100500</td>\n",
       "      <td>b80e4826-7218-4bf9-ac08-eb2c81ab3f62</td>\n",
       "      <td>13547</td>\n",
       "      <td>Рассада зелени для кухни Тимьяна в кассете по ...</td>\n",
       "      <td>1</td>\n",
       "      <td>162.0</td>\n",
       "    </tr>\n",
       "    <tr>\n",
       "      <th>376</th>\n",
       "      <td>2018102313</td>\n",
       "      <td>b80e4826-7218-4bf9-ac08-eb2c81ab3f62</td>\n",
       "      <td>13547</td>\n",
       "      <td>Рассада зелени для кухни Лаванды в кассете по ...</td>\n",
       "      <td>1</td>\n",
       "      <td>315.0</td>\n",
       "    </tr>\n",
       "    <tr>\n",
       "      <th>377</th>\n",
       "      <td>2018102313</td>\n",
       "      <td>b80e4826-7218-4bf9-ac08-eb2c81ab3f62</td>\n",
       "      <td>13547</td>\n",
       "      <td>Рассада зелени для кухни Розмарина в кассете п...</td>\n",
       "      <td>1</td>\n",
       "      <td>207.0</td>\n",
       "    </tr>\n",
       "    <tr>\n",
       "      <th>378</th>\n",
       "      <td>2018102313</td>\n",
       "      <td>b80e4826-7218-4bf9-ac08-eb2c81ab3f62</td>\n",
       "      <td>13547</td>\n",
       "      <td>Рассада зелени для кухни Тимьяна в кассете по ...</td>\n",
       "      <td>1</td>\n",
       "      <td>162.0</td>\n",
       "    </tr>\n",
       "    <tr>\n",
       "      <th>509</th>\n",
       "      <td>2018102819</td>\n",
       "      <td>b80e4826-7218-4bf9-ac08-eb2c81ab3f62</td>\n",
       "      <td>13547</td>\n",
       "      <td>Рассада зелени для кухни Лаванды в кассете по ...</td>\n",
       "      <td>1</td>\n",
       "      <td>315.0</td>\n",
       "    </tr>\n",
       "    <tr>\n",
       "      <th>510</th>\n",
       "      <td>2018102819</td>\n",
       "      <td>b80e4826-7218-4bf9-ac08-eb2c81ab3f62</td>\n",
       "      <td>13547</td>\n",
       "      <td>Рассада зелени для кухни Розмарина в кассете п...</td>\n",
       "      <td>1</td>\n",
       "      <td>207.0</td>\n",
       "    </tr>\n",
       "    <tr>\n",
       "      <th>511</th>\n",
       "      <td>2018102819</td>\n",
       "      <td>b80e4826-7218-4bf9-ac08-eb2c81ab3f62</td>\n",
       "      <td>13547</td>\n",
       "      <td>Рассада зелени для кухни Тимьяна в кассете по ...</td>\n",
       "      <td>1</td>\n",
       "      <td>162.0</td>\n",
       "    </tr>\n",
       "    <tr>\n",
       "      <th>588</th>\n",
       "      <td>2018110214</td>\n",
       "      <td>b80e4826-7218-4bf9-ac08-eb2c81ab3f62</td>\n",
       "      <td>13547</td>\n",
       "      <td>Рассада зелени для кухни Лаванды в кассете по ...</td>\n",
       "      <td>1</td>\n",
       "      <td>315.0</td>\n",
       "    </tr>\n",
       "    <tr>\n",
       "      <th>589</th>\n",
       "      <td>2018110214</td>\n",
       "      <td>b80e4826-7218-4bf9-ac08-eb2c81ab3f62</td>\n",
       "      <td>13547</td>\n",
       "      <td>Рассада зелени для кухни Розмарина в кассете п...</td>\n",
       "      <td>1</td>\n",
       "      <td>207.0</td>\n",
       "    </tr>\n",
       "    <tr>\n",
       "      <th>590</th>\n",
       "      <td>2018110214</td>\n",
       "      <td>b80e4826-7218-4bf9-ac08-eb2c81ab3f62</td>\n",
       "      <td>13547</td>\n",
       "      <td>Рассада зелени для кухни Тимьяна в кассете по ...</td>\n",
       "      <td>1</td>\n",
       "      <td>162.0</td>\n",
       "    </tr>\n",
       "    <tr>\n",
       "      <th>758</th>\n",
       "      <td>2018111017</td>\n",
       "      <td>b80e4826-7218-4bf9-ac08-eb2c81ab3f62</td>\n",
       "      <td>13547</td>\n",
       "      <td>Рассада зелени для кухни Лаванды в кассете по ...</td>\n",
       "      <td>1</td>\n",
       "      <td>315.0</td>\n",
       "    </tr>\n",
       "    <tr>\n",
       "      <th>759</th>\n",
       "      <td>2018111017</td>\n",
       "      <td>b80e4826-7218-4bf9-ac08-eb2c81ab3f62</td>\n",
       "      <td>13547</td>\n",
       "      <td>Рассада зелени для кухни Розмарина в кассете п...</td>\n",
       "      <td>1</td>\n",
       "      <td>207.0</td>\n",
       "    </tr>\n",
       "    <tr>\n",
       "      <th>760</th>\n",
       "      <td>2018111017</td>\n",
       "      <td>b80e4826-7218-4bf9-ac08-eb2c81ab3f62</td>\n",
       "      <td>13547</td>\n",
       "      <td>Рассада зелени для кухни Тимьяна в кассете по ...</td>\n",
       "      <td>1</td>\n",
       "      <td>162.0</td>\n",
       "    </tr>\n",
       "    <tr>\n",
       "      <th>816</th>\n",
       "      <td>2018111515</td>\n",
       "      <td>b80e4826-7218-4bf9-ac08-eb2c81ab3f62</td>\n",
       "      <td>13547</td>\n",
       "      <td>Рассада зелени для кухни Лаванды в кассете по ...</td>\n",
       "      <td>1</td>\n",
       "      <td>315.0</td>\n",
       "    </tr>\n",
       "    <tr>\n",
       "      <th>817</th>\n",
       "      <td>2018111515</td>\n",
       "      <td>b80e4826-7218-4bf9-ac08-eb2c81ab3f62</td>\n",
       "      <td>13547</td>\n",
       "      <td>Рассада зелени для кухни Розмарина в кассете п...</td>\n",
       "      <td>1</td>\n",
       "      <td>207.0</td>\n",
       "    </tr>\n",
       "    <tr>\n",
       "      <th>818</th>\n",
       "      <td>2018111515</td>\n",
       "      <td>b80e4826-7218-4bf9-ac08-eb2c81ab3f62</td>\n",
       "      <td>13547</td>\n",
       "      <td>Рассада зелени для кухни Тимьяна в кассете по ...</td>\n",
       "      <td>1</td>\n",
       "      <td>162.0</td>\n",
       "    </tr>\n",
       "    <tr>\n",
       "      <th>827</th>\n",
       "      <td>2018111616</td>\n",
       "      <td>b80e4826-7218-4bf9-ac08-eb2c81ab3f62</td>\n",
       "      <td>13547</td>\n",
       "      <td>Рассада зелени для кухни Лаванды в кассете по ...</td>\n",
       "      <td>1</td>\n",
       "      <td>315.0</td>\n",
       "    </tr>\n",
       "    <tr>\n",
       "      <th>828</th>\n",
       "      <td>2018111616</td>\n",
       "      <td>b80e4826-7218-4bf9-ac08-eb2c81ab3f62</td>\n",
       "      <td>13547</td>\n",
       "      <td>Рассада зелени для кухни Розмарина в кассете п...</td>\n",
       "      <td>1</td>\n",
       "      <td>207.0</td>\n",
       "    </tr>\n",
       "    <tr>\n",
       "      <th>829</th>\n",
       "      <td>2018111616</td>\n",
       "      <td>b80e4826-7218-4bf9-ac08-eb2c81ab3f62</td>\n",
       "      <td>13547</td>\n",
       "      <td>Рассада зелени для кухни Тимьяна в кассете по ...</td>\n",
       "      <td>1</td>\n",
       "      <td>162.0</td>\n",
       "    </tr>\n",
       "  </tbody>\n",
       "</table>\n",
       "</div>"
      ],
      "text/plain": [
       "           date                           customer_id  order_id  \\\n",
       "102  2018100500  b80e4826-7218-4bf9-ac08-eb2c81ab3f62     13547   \n",
       "103  2018100500  b80e4826-7218-4bf9-ac08-eb2c81ab3f62     13547   \n",
       "104  2018100500  b80e4826-7218-4bf9-ac08-eb2c81ab3f62     13547   \n",
       "376  2018102313  b80e4826-7218-4bf9-ac08-eb2c81ab3f62     13547   \n",
       "377  2018102313  b80e4826-7218-4bf9-ac08-eb2c81ab3f62     13547   \n",
       "378  2018102313  b80e4826-7218-4bf9-ac08-eb2c81ab3f62     13547   \n",
       "509  2018102819  b80e4826-7218-4bf9-ac08-eb2c81ab3f62     13547   \n",
       "510  2018102819  b80e4826-7218-4bf9-ac08-eb2c81ab3f62     13547   \n",
       "511  2018102819  b80e4826-7218-4bf9-ac08-eb2c81ab3f62     13547   \n",
       "588  2018110214  b80e4826-7218-4bf9-ac08-eb2c81ab3f62     13547   \n",
       "589  2018110214  b80e4826-7218-4bf9-ac08-eb2c81ab3f62     13547   \n",
       "590  2018110214  b80e4826-7218-4bf9-ac08-eb2c81ab3f62     13547   \n",
       "758  2018111017  b80e4826-7218-4bf9-ac08-eb2c81ab3f62     13547   \n",
       "759  2018111017  b80e4826-7218-4bf9-ac08-eb2c81ab3f62     13547   \n",
       "760  2018111017  b80e4826-7218-4bf9-ac08-eb2c81ab3f62     13547   \n",
       "816  2018111515  b80e4826-7218-4bf9-ac08-eb2c81ab3f62     13547   \n",
       "817  2018111515  b80e4826-7218-4bf9-ac08-eb2c81ab3f62     13547   \n",
       "818  2018111515  b80e4826-7218-4bf9-ac08-eb2c81ab3f62     13547   \n",
       "827  2018111616  b80e4826-7218-4bf9-ac08-eb2c81ab3f62     13547   \n",
       "828  2018111616  b80e4826-7218-4bf9-ac08-eb2c81ab3f62     13547   \n",
       "829  2018111616  b80e4826-7218-4bf9-ac08-eb2c81ab3f62     13547   \n",
       "\n",
       "                                               product  quantity  price  \n",
       "102  Рассада зелени для кухни Лаванды в кассете по ...         1  315.0  \n",
       "103  Рассада зелени для кухни Розмарина в кассете п...         1  207.0  \n",
       "104  Рассада зелени для кухни Тимьяна в кассете по ...         1  162.0  \n",
       "376  Рассада зелени для кухни Лаванды в кассете по ...         1  315.0  \n",
       "377  Рассада зелени для кухни Розмарина в кассете п...         1  207.0  \n",
       "378  Рассада зелени для кухни Тимьяна в кассете по ...         1  162.0  \n",
       "509  Рассада зелени для кухни Лаванды в кассете по ...         1  315.0  \n",
       "510  Рассада зелени для кухни Розмарина в кассете п...         1  207.0  \n",
       "511  Рассада зелени для кухни Тимьяна в кассете по ...         1  162.0  \n",
       "588  Рассада зелени для кухни Лаванды в кассете по ...         1  315.0  \n",
       "589  Рассада зелени для кухни Розмарина в кассете п...         1  207.0  \n",
       "590  Рассада зелени для кухни Тимьяна в кассете по ...         1  162.0  \n",
       "758  Рассада зелени для кухни Лаванды в кассете по ...         1  315.0  \n",
       "759  Рассада зелени для кухни Розмарина в кассете п...         1  207.0  \n",
       "760  Рассада зелени для кухни Тимьяна в кассете по ...         1  162.0  \n",
       "816  Рассада зелени для кухни Лаванды в кассете по ...         1  315.0  \n",
       "817  Рассада зелени для кухни Розмарина в кассете п...         1  207.0  \n",
       "818  Рассада зелени для кухни Тимьяна в кассете по ...         1  162.0  \n",
       "827  Рассада зелени для кухни Лаванды в кассете по ...         1  315.0  \n",
       "828  Рассада зелени для кухни Розмарина в кассете п...         1  207.0  \n",
       "829  Рассада зелени для кухни Тимьяна в кассете по ...         1  162.0  "
      ]
     },
     "execution_count": 8,
     "metadata": {},
     "output_type": "execute_result"
    }
   ],
   "source": [
    "# пример заказа с разными датами\n",
    "data.query('order_id == 13547')"
   ]
  },
  {
   "cell_type": "markdown",
   "id": "f6f3504d",
   "metadata": {},
   "source": [
    "Уникальный номер заказа может говорить о том, что он был оплачен единажды, ведь при повторном - его номер поменялся бы, пусть даже с теми же товарами. Возьму максимальную дату заказа и удалю строки, чья дата не равна максимальной. Мощность датасета уменьшится, но зато не будет дубликатов и смещений по заказам."
   ]
  },
  {
   "cell_type": "code",
   "execution_count": 9,
   "id": "8dfef0b6",
   "metadata": {},
   "outputs": [],
   "source": [
    "# для каждого заказа напишу самую позднюю дату\n",
    "data['max_date'] = data.groupby('order_id')['date'].transform('max')"
   ]
  },
  {
   "cell_type": "code",
   "execution_count": 10,
   "id": "12c389bd",
   "metadata": {},
   "outputs": [],
   "source": [
    "# обрежу повторяющиеся заказы\n",
    "data = data.query('date == max_date')\n",
    "\n",
    "# удалю вспомогательный столбец\n",
    "data = data.drop(columns='max_date').reset_index(drop=True)"
   ]
  },
  {
   "cell_type": "code",
   "execution_count": 11,
   "id": "471189a7",
   "metadata": {
    "scrolled": true
   },
   "outputs": [
    {
     "data": {
      "text/html": [
       "<div>\n",
       "<style scoped>\n",
       "    .dataframe tbody tr th:only-of-type {\n",
       "        vertical-align: middle;\n",
       "    }\n",
       "\n",
       "    .dataframe tbody tr th {\n",
       "        vertical-align: top;\n",
       "    }\n",
       "\n",
       "    .dataframe thead th {\n",
       "        text-align: right;\n",
       "    }\n",
       "</style>\n",
       "<table border=\"1\" class=\"dataframe\">\n",
       "  <thead>\n",
       "    <tr style=\"text-align: right;\">\n",
       "      <th></th>\n",
       "      <th>date</th>\n",
       "      <th>customer_id</th>\n",
       "      <th>order_id</th>\n",
       "      <th>product</th>\n",
       "      <th>quantity</th>\n",
       "      <th>price</th>\n",
       "    </tr>\n",
       "  </thead>\n",
       "  <tbody>\n",
       "    <tr>\n",
       "      <th>693</th>\n",
       "      <td>2018111616</td>\n",
       "      <td>b80e4826-7218-4bf9-ac08-eb2c81ab3f62</td>\n",
       "      <td>13547</td>\n",
       "      <td>Рассада зелени для кухни Лаванды в кассете по ...</td>\n",
       "      <td>1</td>\n",
       "      <td>315.0</td>\n",
       "    </tr>\n",
       "    <tr>\n",
       "      <th>694</th>\n",
       "      <td>2018111616</td>\n",
       "      <td>b80e4826-7218-4bf9-ac08-eb2c81ab3f62</td>\n",
       "      <td>13547</td>\n",
       "      <td>Рассада зелени для кухни Розмарина в кассете п...</td>\n",
       "      <td>1</td>\n",
       "      <td>207.0</td>\n",
       "    </tr>\n",
       "    <tr>\n",
       "      <th>695</th>\n",
       "      <td>2018111616</td>\n",
       "      <td>b80e4826-7218-4bf9-ac08-eb2c81ab3f62</td>\n",
       "      <td>13547</td>\n",
       "      <td>Рассада зелени для кухни Тимьяна в кассете по ...</td>\n",
       "      <td>1</td>\n",
       "      <td>162.0</td>\n",
       "    </tr>\n",
       "  </tbody>\n",
       "</table>\n",
       "</div>"
      ],
      "text/plain": [
       "           date                           customer_id  order_id  \\\n",
       "693  2018111616  b80e4826-7218-4bf9-ac08-eb2c81ab3f62     13547   \n",
       "694  2018111616  b80e4826-7218-4bf9-ac08-eb2c81ab3f62     13547   \n",
       "695  2018111616  b80e4826-7218-4bf9-ac08-eb2c81ab3f62     13547   \n",
       "\n",
       "                                               product  quantity  price  \n",
       "693  Рассада зелени для кухни Лаванды в кассете по ...         1  315.0  \n",
       "694  Рассада зелени для кухни Розмарина в кассете п...         1  207.0  \n",
       "695  Рассада зелени для кухни Тимьяна в кассете по ...         1  162.0  "
      ]
     },
     "execution_count": 11,
     "metadata": {},
     "output_type": "execute_result"
    }
   ],
   "source": [
    "# пример заказа с разными датами\n",
    "data.query('order_id == 13547')"
   ]
  },
  {
   "cell_type": "code",
   "execution_count": 12,
   "id": "e7427b71",
   "metadata": {},
   "outputs": [
    {
     "name": "stdout",
     "output_type": "stream",
     "text": [
      "Доля дубликатов среди заказов с несколькими датами равна 26.17%.\n"
     ]
    }
   ],
   "source": [
    "# доля дубликатов\n",
    "share_dublicated_orders = (1 -  data['order_id'].count() / len_data) * 100\n",
    "print('Доля дубликатов среди заказов с несколькими датами равна {:.2f}%.'.format(share_dublicated_orders))"
   ]
  },
  {
   "cell_type": "markdown",
   "id": "0a03563b",
   "metadata": {},
   "source": [
    "Пришлось удалить четверть базы, но зато избавился от смещения данных из-за длительного формирования заказов. Дубликатов нет!"
   ]
  },
  {
   "cell_type": "code",
   "execution_count": 13,
   "id": "bd50b311",
   "metadata": {
    "scrolled": true
   },
   "outputs": [],
   "source": [
    "# работа с форматом даты покупки\n",
    "data['date'] = data['date'].apply(lambda x: pd.to_datetime(str(x), format='%Y%m%d%H'))"
   ]
  },
  {
   "cell_type": "code",
   "execution_count": 14,
   "id": "6e8a661d",
   "metadata": {},
   "outputs": [],
   "source": [
    "# добавление стоимости проданных товаров\n",
    "data['value'] = data['quantity'] * data['price']"
   ]
  },
  {
   "cell_type": "code",
   "execution_count": 15,
   "id": "53e72c37",
   "metadata": {},
   "outputs": [
    {
     "name": "stdout",
     "output_type": "stream",
     "text": [
      "В датасете представлены данные по заказам, сделанным с 2018-10-01 по 2020-01-31\n"
     ]
    }
   ],
   "source": [
    "# добавление столбцов с временными интервалами\n",
    "data['day'] = pd.to_datetime(data['date']).dt.date\n",
    "data['hour'] = pd.to_datetime(data['date']).dt.hour\n",
    "data['weekday'] = pd.to_datetime(data['date']).dt.weekday\n",
    "data['month'] = pd.to_datetime(data['date']).dt.month\n",
    "data['year'] = pd.to_datetime(data['date']).dt.year\n",
    "data.head(1)\n",
    "\n",
    "print('В датасете представлены данные по заказам, сделанным с', data['day'].min(), 'по', data['day'].max())"
   ]
  },
  {
   "cell_type": "markdown",
   "id": "8da82f3d",
   "metadata": {},
   "source": [
    "Для анализа есть три последних месяца 2018, весь 2019 и январь 2020."
   ]
  },
  {
   "cell_type": "code",
   "execution_count": 16,
   "id": "d88fcb80",
   "metadata": {},
   "outputs": [
    {
     "data": {
      "text/html": [
       "<div>\n",
       "<style scoped>\n",
       "    .dataframe tbody tr th:only-of-type {\n",
       "        vertical-align: middle;\n",
       "    }\n",
       "\n",
       "    .dataframe tbody tr th {\n",
       "        vertical-align: top;\n",
       "    }\n",
       "\n",
       "    .dataframe thead th {\n",
       "        text-align: right;\n",
       "    }\n",
       "</style>\n",
       "<table border=\"1\" class=\"dataframe\">\n",
       "  <thead>\n",
       "    <tr style=\"text-align: right;\">\n",
       "      <th></th>\n",
       "      <th>date</th>\n",
       "      <th>customer_id</th>\n",
       "      <th>order_id</th>\n",
       "      <th>product</th>\n",
       "      <th>quantity</th>\n",
       "      <th>price</th>\n",
       "      <th>value</th>\n",
       "      <th>day</th>\n",
       "      <th>hour</th>\n",
       "      <th>weekday</th>\n",
       "      <th>month</th>\n",
       "      <th>year</th>\n",
       "      <th>sku</th>\n",
       "    </tr>\n",
       "  </thead>\n",
       "  <tbody>\n",
       "    <tr>\n",
       "      <th>0</th>\n",
       "      <td>2018-10-01</td>\n",
       "      <td>ee47d746-6d2f-4d3c-9622-c31412542920</td>\n",
       "      <td>68477</td>\n",
       "      <td>Комнатное растение в горшке Алое Вера, d12, h30</td>\n",
       "      <td>1</td>\n",
       "      <td>142.0</td>\n",
       "      <td>142.0</td>\n",
       "      <td>2018-10-01</td>\n",
       "      <td>0</td>\n",
       "      <td>0</td>\n",
       "      <td>10</td>\n",
       "      <td>2018</td>\n",
       "      <td>комнатное растение</td>\n",
       "    </tr>\n",
       "    <tr>\n",
       "      <th>1</th>\n",
       "      <td>2018-10-01</td>\n",
       "      <td>ee47d746-6d2f-4d3c-9622-c31412542920</td>\n",
       "      <td>68477</td>\n",
       "      <td>Комнатное растение в горшке Кофе Арабика, d12,...</td>\n",
       "      <td>1</td>\n",
       "      <td>194.0</td>\n",
       "      <td>194.0</td>\n",
       "      <td>2018-10-01</td>\n",
       "      <td>0</td>\n",
       "      <td>0</td>\n",
       "      <td>10</td>\n",
       "      <td>2018</td>\n",
       "      <td>комнатное растение</td>\n",
       "    </tr>\n",
       "    <tr>\n",
       "      <th>2</th>\n",
       "      <td>2018-10-01</td>\n",
       "      <td>ee47d746-6d2f-4d3c-9622-c31412542920</td>\n",
       "      <td>68477</td>\n",
       "      <td>Радермахера d-12 см h-20 см</td>\n",
       "      <td>1</td>\n",
       "      <td>112.0</td>\n",
       "      <td>112.0</td>\n",
       "      <td>2018-10-01</td>\n",
       "      <td>0</td>\n",
       "      <td>0</td>\n",
       "      <td>10</td>\n",
       "      <td>2018</td>\n",
       "      <td>радермахера d-12</td>\n",
       "    </tr>\n",
       "    <tr>\n",
       "      <th>3</th>\n",
       "      <td>2018-10-01</td>\n",
       "      <td>ee47d746-6d2f-4d3c-9622-c31412542920</td>\n",
       "      <td>68477</td>\n",
       "      <td>Хризолидокарпус Лутесценс d-9 см</td>\n",
       "      <td>1</td>\n",
       "      <td>179.0</td>\n",
       "      <td>179.0</td>\n",
       "      <td>2018-10-01</td>\n",
       "      <td>0</td>\n",
       "      <td>0</td>\n",
       "      <td>10</td>\n",
       "      <td>2018</td>\n",
       "      <td>хризолидокарпус лутесценс</td>\n",
       "    </tr>\n",
       "    <tr>\n",
       "      <th>4</th>\n",
       "      <td>2018-10-01</td>\n",
       "      <td>ee47d746-6d2f-4d3c-9622-c31412542920</td>\n",
       "      <td>68477</td>\n",
       "      <td>Циперус Зумула d-12 см h-25 см</td>\n",
       "      <td>1</td>\n",
       "      <td>112.0</td>\n",
       "      <td>112.0</td>\n",
       "      <td>2018-10-01</td>\n",
       "      <td>0</td>\n",
       "      <td>0</td>\n",
       "      <td>10</td>\n",
       "      <td>2018</td>\n",
       "      <td>циперус зумула</td>\n",
       "    </tr>\n",
       "  </tbody>\n",
       "</table>\n",
       "</div>"
      ],
      "text/plain": [
       "        date                           customer_id  order_id  \\\n",
       "0 2018-10-01  ee47d746-6d2f-4d3c-9622-c31412542920     68477   \n",
       "1 2018-10-01  ee47d746-6d2f-4d3c-9622-c31412542920     68477   \n",
       "2 2018-10-01  ee47d746-6d2f-4d3c-9622-c31412542920     68477   \n",
       "3 2018-10-01  ee47d746-6d2f-4d3c-9622-c31412542920     68477   \n",
       "4 2018-10-01  ee47d746-6d2f-4d3c-9622-c31412542920     68477   \n",
       "\n",
       "                                             product  quantity  price  value  \\\n",
       "0    Комнатное растение в горшке Алое Вера, d12, h30         1  142.0  142.0   \n",
       "1  Комнатное растение в горшке Кофе Арабика, d12,...         1  194.0  194.0   \n",
       "2                        Радермахера d-12 см h-20 см         1  112.0  112.0   \n",
       "3                   Хризолидокарпус Лутесценс d-9 см         1  179.0  179.0   \n",
       "4                     Циперус Зумула d-12 см h-25 см         1  112.0  112.0   \n",
       "\n",
       "          day  hour  weekday  month  year                        sku  \n",
       "0  2018-10-01     0        0     10  2018         комнатное растение  \n",
       "1  2018-10-01     0        0     10  2018         комнатное растение  \n",
       "2  2018-10-01     0        0     10  2018           радермахера d-12  \n",
       "3  2018-10-01     0        0     10  2018  хризолидокарпус лутесценс  \n",
       "4  2018-10-01     0        0     10  2018             циперус зумула  "
      ]
     },
     "execution_count": 16,
     "metadata": {},
     "output_type": "execute_result"
    }
   ],
   "source": [
    "# далее разобью товарные позиции на несколько категорий\n",
    "\n",
    "# первые два слова названия длиною в 3 и более буквы\n",
    "data['sku'] = data['product'].apply(lambda x: x.split(maxsplit = 3)[0] \\\n",
    "                                    if (len(x.split(maxsplit = 3)[0]) > 2) else '') \\\n",
    "       + ' ' + data['product'].apply(lambda x: x.split(maxsplit = 3)[1] \\\n",
    "                                    if (len(x.split(maxsplit = 3)[1]) > 2) else '') \n",
    "\n",
    "# замена ё на е и к нижнему регистру\n",
    "for word in range(len(data['sku'])):\n",
    "    data.loc[word, 'sku'] = data.loc[word, 'sku'].replace('ё', 'е').lower()\n",
    "\n",
    "data.head()"
   ]
  },
  {
   "cell_type": "code",
   "execution_count": 17,
   "id": "6088214b",
   "metadata": {
    "scrolled": true
   },
   "outputs": [
    {
     "name": "stdout",
     "output_type": "stream",
     "text": [
      "Всего в датасете 2336 товарных позиций\n",
      "После обработки остается 916\n"
     ]
    }
   ],
   "source": [
    "print('Всего в датасете {} товарных позиций'.format(data['product'].nunique()))\n",
    "print('После обработки остается {}'.format(data['sku'].nunique()))"
   ]
  },
  {
   "cell_type": "code",
   "execution_count": 18,
   "id": "d800f813",
   "metadata": {
    "scrolled": true
   },
   "outputs": [],
   "source": [
    "# выведу все уникальные значения\n",
    "# print(*[item + '\\n' for item in data['sku'].unique()])"
   ]
  },
  {
   "cell_type": "markdown",
   "id": "42e6b41a",
   "metadata": {},
   "source": [
    "Пробежав по позициям, думаю, что нужно разделить их на следующие категории:\n",
    "- Товары для кухни\n",
    "- Товары для спальни\n",
    "- Товары для ванной\n",
    "- Товары для ремонта\n",
    "- Растения\n",
    "- Полезные мелочи\n",
    "\n",
    "*Самые частые и самые сложные названия у растений, поэтому раскидаю товары других категорий, а остальные - попадут в растения*"
   ]
  },
  {
   "cell_type": "code",
   "execution_count": 19,
   "id": "f94e270a",
   "metadata": {},
   "outputs": [],
   "source": [
    "# Ниже довольно длинный список вариантов"
   ]
  },
  {
   "cell_type": "code",
   "execution_count": 20,
   "id": "fc07e326",
   "metadata": {},
   "outputs": [],
   "source": [
    "kitchen = [\n",
    "    'мини-сковорода marmiton',\n",
    "    'сковорода алюминиевая',\n",
    "    'стеклянная крышка',\n",
    "    'тарелка обеденная',\n",
    "    'вилка столовая',\n",
    "    'ложка столовая',\n",
    "    'ложка чайная',\n",
    "    'нож столовый',\n",
    "    'котел алюминиевый',    \n",
    "    'коврик bacchetta',\n",
    "    'набор кружек',\n",
    "    'коврик интерьерный',\n",
    "    'нож для',\n",
    "    'набор фужеров',\n",
    "    'скатерть династия',\n",
    "    'кувшин пластмассовый',  \n",
    "    'толкушка для',\n",
    "    'готовая скатерть',\n",
    "    'чайник эмалированный',\n",
    "    'банка ',\n",
    "    'противень прямоугольный',\n",
    "    'полотенце кухонное',\n",
    "    'вкладыши для',\n",
    "    'миксер delta', \n",
    "    'кофр для',\n",
    "    'tepмокружка avex', \n",
    "    'щетка для',\n",
    "    'контейнер для', \n",
    "    'скатерть лувр',\n",
    "    'ведро для', \n",
    "    'салфетка камушки',\n",
    "    'сковорода scovo',\n",
    "    'банка стеклянная',\n",
    "    'скатерть ', \n",
    "    'скатерть азалия',\n",
    "    'чайный набор',\n",
    "    'набор эмалированных',\n",
    "    'рыбочистка металлическая,', \n",
    "    'вешалка деревянная',\n",
    "    'вешалка ',\n",
    "    'короб стеллажный',\n",
    "    'коробка для',\n",
    "    'масленка коровка',\n",
    "    'овощеварка алюминиевая', \n",
    "    'терка webber',\n",
    "    'кружка 350',\n",
    "    'кружка для',\n",
    "    'кружка luminarc',\n",
    "    'лопатка attribute',\n",
    "    'лопатка ',\n",
    "    'овощечистка ', \n",
    "    'скатерть прямоугольная',\n",
    "    'чайник электрический', \n",
    "    'измельчитель овощей',\n",
    "    'салфетница металлическая',\n",
    "    'стакан низкий',\n",
    "    'стакан пластмассовый',\n",
    "    'столовая ложка',\n",
    "    'чайная ложка',\n",
    "    'лоток для', \n",
    "    'губка спираль',\n",
    "    'салатник романтик', \n",
    "    'салатник амори',\n",
    "    'салатник колорама',\n",
    "    'салатник рапсоди',\n",
    "    'антижир posh', \n",
    "    'кофр малый',\n",
    "    'набор кухонных', \n",
    "    'мантоварка алюминиевая',\n",
    "    'набор бокалов',\n",
    "    'набор стаканов',\n",
    "    'кухонные ножницы',\n",
    "    'набор ножей',\n",
    "    'нож кухонный',\n",
    "    'рыбочистка ',\n",
    "    'кисточка силиконовая',\n",
    "    'скребок кондитерский',  \n",
    "    'картофелемялка металлическая',\n",
    "    'салатник воларэ', \n",
    "    'бальзам для',\n",
    "    'коврик кухонный',   \n",
    "    'жестяная банка',\n",
    "    'кружка нордик',\n",
    "    'ополаскиватель для', \n",
    "    'набор форм',\n",
    "    'миска пластмассовая', \n",
    "    'кружка прозрачная', \n",
    "    'пресс для',\n",
    "    'термостакан webber', \n",
    "    'банка рондо',\n",
    "    'защитный экран', \n",
    "    'набор столовых',\n",
    "    'скатерть сидней', \n",
    "    'кувшин luminarc',\n",
    "    'скатерть towa', \n",
    "    'термокружка alpenkok',\n",
    "    'скатерть джулия',\n",
    "    'термос ', \n",
    "    'доска разделочная',\n",
    "    'скатерть 350х180',\n",
    "    'кружка бамбук',\n",
    "    'скатерть арлет',\n",
    "    'фарфоровая кружка',\n",
    "    'скатерть виниловая',\n",
    "    'электроштопор qwerty',\n",
    "    'столовый нож', \n",
    "    'блюдце утро',\n",
    "    'скатерть ажурная',\n",
    "    'скатерть беатрис',\n",
    "    'бульонница luminarc', \n",
    "    'миксер василиса',\n",
    "    'разделочная доска',\n",
    "    'мантоварка-пароварка webber',\n",
    "    'защитная соль', \n",
    "    'скатерть 150х120',\n",
    "    'скатерть муза',\n",
    "    'кружка мерная',\n",
    "    'модульная стеклянная',\n",
    "    'просеиватель для',\n",
    "    'скатерть meiwa', \n",
    "    'кастрюля чугунная',\n",
    "    'весы настольные',\n",
    "    'толкушка деревянная',\n",
    "    'хлебница деревянная',\n",
    "    'скатерть dasch',\n",
    "    'кружка марли',\n",
    "    'нетканые салфетки', \n",
    "    'кофе арабика',\n",
    "    'термокружка вакуумная',\n",
    "    'набор махровых',\n",
    "    'чайник заварочный',\n",
    "    'форма аlpenkok',\n",
    "    'орехоколка viva,', \n",
    "    'салфетка ',\n",
    "    'термокружка яромир',\n",
    "    'кухонное полотенце',\n",
    "    'сушилка meliconi',\n",
    "    'кастрюля круглая', \n",
    "    'миксер электрический',\n",
    "    'скатерть 350х150',\n",
    "    'скалка силиконовая,',  \n",
    "    'венчик ',\n",
    "    'сито webber', \n",
    "    'сковорода hard',\n",
    "    'миска фазенда',\n",
    "    'концентрат для',\n",
    "    'форма для',\n",
    "    'тортница curver',\n",
    "    'блюдо pasabahce',\n",
    "    'термокружка забава', \n",
    "    'ложка кухонная',\n",
    "    'кружка ',\n",
    "    'набор посуды',\n",
    "    'нож универсальный',\n",
    "    'кружка тачки',\n",
    "    'скатерть круглая',\n",
    "    'салатник эмпилабль',\n",
    "    'скатерть 180',\n",
    "    'кастрюля эмалированная,',\n",
    "    'сотейник алюминиевый',\n",
    "    'хлебница webber',\n",
    "    'салатник аспен',\n",
    "    'корзинка',\n",
    "    'кастрюля алюминиевая',\n",
    "    'лоток knit', \n",
    "    'ваза маскарад',\n",
    "    'отделитель косточек',\n",
    "    'нож поварской',\n",
    "    'набор для',\n",
    "    'шприц кондитерский',\n",
    "    'крышка оцинкованная',\n",
    "    'хлебница пластмасовая',\n",
    "    'миска для',\n",
    "    'сахарница фарфоровая',\n",
    "    'стакан для',\n",
    "    'чайник', \n",
    "    'соковарка webber',\n",
    "    'соковарка алюминиевая',\n",
    "    'скатерть жаклин',\n",
    "    'соковыжималка для',\n",
    "    'терка для',\n",
    "    'универсальный нож',\n",
    "    'скатерть рим',\n",
    "    'половник attribute',\n",
    "    'кипятильник электрический',\n",
    "    'кастрюля эмалированная',\n",
    "    'салатник карин',\n",
    "    'ёрш бутылочный',\n",
    "    'основание для',\n",
    "    'мерный стакан'\n",
    "]\n",
    "\n",
    "\n",
    "bedroom = [\n",
    "    'плед флисовый',\n",
    "    'коврик хлопковый',\n",
    "    'простыня ',\n",
    "    'плечики пластмассовые',\n",
    "    'подушка декоративная', \n",
    "    'штора для',\n",
    "    'наматрасник wellness',\n",
    "    'наматрицник-чехол natures',\n",
    "    'светильник настольный', \n",
    "    'штора ',\n",
    "    'вешалка-плечики без',\n",
    "    'вешалка напольная', \n",
    "    'вешалка-стойка ',\n",
    "    'вешалка-плечики',\n",
    "    'вешалки мягкие',    \n",
    "    'комод эльфпласт',  \n",
    "    'покрывало жаккард',\n",
    "    'вешалка гардеробная', \n",
    "    'комплект постельного',\n",
    "    'одеяло silver',  \n",
    "    'кольца для',  \n",
    "    'фоторамка alparaisa', \n",
    "    'вешалка металлическая',  \n",
    "    'простынь вафельная',  \n",
    "    'вешалка-перекладина valiant', \n",
    "    'наматрацник natures',\n",
    "    'одеяло wellness',\n",
    "    'наволочка wellness',  \n",
    "    'пододеяльник 214х150',  \n",
    "    'покрывало karna', \n",
    "    'покрывало стеганый',\n",
    "    'простыня двуспальная',  \n",
    "    'двуспальное постельное',  \n",
    "    'простыня сатиновая', \n",
    "    'подушка 40х40'    \n",
    "]\n",
    "\n",
    "\n",
    "bathroom = [\n",
    "    'настенная сушилка',\n",
    "    'таз пластмассовый',\n",
    "    'чехол для',\n",
    "    'штора текстильная',\n",
    "    'чехол eurogold',\n",
    "    'вешалка для',\n",
    "    'сушилка для',\n",
    "    'крючок одежный',\n",
    "    'корзина мягкая',\n",
    "    'ерш для',\n",
    "    'набор прищепок',\n",
    "    'корзина для',\n",
    "    'корзина пластиковая',\n",
    "    'доска гладильная',\n",
    "    'дозатор для',\n",
    "    'гладильная доска',    \n",
    "    'ёрш для',\n",
    "    'набор вешалок',\n",
    "    'набор ковров',\n",
    "    'комплект для',\n",
    "    'салфетка protec',\n",
    "    'коврик влаговпитывающий',\n",
    "    'щетка-утюжок ',\n",
    "    'жидкое мыло',     \n",
    "    'пена для',\n",
    "    'гладильная доска-стремянка',   \n",
    "    'зубная паста',  \n",
    "    'ящик для',\n",
    "    'подголовник для', \n",
    "    'настольная гладильная',\n",
    "    'сиденье ', \n",
    "    'подрукавник gimi',\n",
    "    'утюг электрический',\n",
    "    'корыто оцинкованное',  \n",
    "    'мыло жидкое', \n",
    "    'сиденье для',\n",
    "    'халат вафельный',  \n",
    "    'полотенце махровое',\n",
    "    'салфетка махровая', \n",
    "    'полотенце махровое',\n",
    "    'салфетка махровая',\n",
    "    'коврик ворсовый',  \n",
    "    'держатель для', \n",
    "    'пробка для',\n",
    "    'сушилка мульти',   \n",
    "    'фен дорожный',\n",
    "    'вешалка настенная',\n",
    "    'вешалка самоклеющая',  \n",
    "    'универсальное средство', \n",
    "    'ароматизированное средство',\n",
    "    'сетка для',  \n",
    "    'вешалка-сушилка gimi',  \n",
    "    'мыльница пластмассовая', \n",
    "    'подголовник bacchetta',\n",
    "    'коврик dasch',  \n",
    "    'мыло ручной',  \n",
    "    'комплект махровых', \n",
    "    'вантуз черный',\n",
    "    'вешалка valiant', \n",
    "    'кондиционер для',     \n",
    "    'гипоаллергенный концентрированный',\n",
    "    'махровое полотенце', \n",
    "    'вешалка ника',  \n",
    "    'пылесос delta',  \n",
    "    'штанга для', \n",
    "    'увлажняющая маска',\n",
    "    'махровый халат',  \n",
    "    'мыло-скраб ',\n",
    "    'рукав для',\n",
    "    'утюг delta',  \n",
    "    'бак для', \n",
    "    'бельевые прищепки',\n",
    "    'вешалка-стойка сакура',  \n",
    "    'полотенце прессованное',\n",
    "    'вантуз ',  \n",
    "    'ванна ',  \n",
    "    'прищепки для', \n",
    "    'покрытие для',\n",
    "    'паста зубная',  \n",
    "    'запасная насадка', \n",
    "    'стиральный биопорошок',\n",
    "    'чистящий крем',    \n",
    "    'вакуумный пакет',\n",
    "    'подрукавник leifheit' \n",
    "]\n",
    "\n",
    "\n",
    "other = [\n",
    "    'сумка-тележка 2-х',\n",
    "    'щетка-сметка 3-х',\n",
    "    'щетка-сметка 4-х',\n",
    "    'сумка для',\n",
    "    'коврик придверный',\n",
    "    'подкладка под',\n",
    "    'сумка-тележка хозяйственная',\n",
    "    'мусорный контейнер',\n",
    "    'ковер придверный',   \n",
    "    'перчатки латексные',\n",
    "    'тележка багажная',\n",
    "    'этажерка ',\n",
    "    'сумка-тележка 3-х',\n",
    "    'коврик резиновый',\n",
    "    'тележка хозяйственная',\n",
    "    'подрукавник складной',     \n",
    "    'веник сорго',   \n",
    "    'швабра многофункциональная,',\n",
    "    'щетка палубная',  \n",
    "    'насадка для',  \n",
    "    'швабра сальса',\n",
    "    'коврик придверный,',   \n",
    "    'ножеточка универсальная',\n",
    "    'шнур резиновый',\n",
    "    'урна уличная',  \n",
    "    'сметка ',   \n",
    "    'ложка обувная',\n",
    "    'коврик для',\n",
    "    'коврик sochi',   \n",
    "    'насадка ',\n",
    "    'средство для',   \n",
    "    'бензин для',  \n",
    "    'паста для', \n",
    "    'сумка-тележка gimi',\n",
    "    'сумка-тележка delta',  \n",
    "    'перчатки резиновые',  \n",
    "    'ролик для', \n",
    "    'сменный блок',\n",
    "    'термометр', \n",
    "    'термометр уличный',\n",
    "    'ящик почтовый',  \n",
    "    'сумка-тележка twin', \n",
    "    'ковш пластмассовый',  \n",
    "    'рассекатель пламени', \n",
    "    'весы напольные',\n",
    "    'подставка для',  \n",
    "    'ручка-скоба рс-100',\n",
    "    'щетка-сметка ',  \n",
    "    'многофункциональный инструмент',  \n",
    "    'коврик ', \n",
    "    'сумка хозяйственная',\n",
    "    'полки qwerty',    \n",
    "    'ключница картина', \n",
    "    'складная картонная',\n",
    "    'контейнер герметичный',\n",
    "    'емкость для',  \n",
    "    'декоративная коробка',\n",
    "    'швабра для',  \n",
    "    'совок ',  \n",
    "    'насадка-отжим пластиковая', \n",
    "    'ведро пластиковое',\n",
    "    'ведро ampari',  \n",
    "    'ведро овальное',  \n",
    "    'корзина ',  \n",
    "    'чабер bolero', \n",
    "    'коробка прямоугольная',\n",
    "    'вешалка надверная',  \n",
    "    'средство против',  \n",
    "    'полка для',  \n",
    "    'окномойка ', \n",
    "    'урна-пепельница ',\n",
    "    'веник для',  \n",
    "    'щетка хозяйственная',  \n",
    "    'сменная насадка', \n",
    "    'швабра хозяйственная', \n",
    "    'ткань универсальная',\n",
    "    'этажерка для',  \n",
    "    'автоматическая щетка',  \n",
    "    'тряпкодержатель ',\n",
    "    'весы электронные', \n",
    "    'фиксатор-шар хром',  \n",
    "    'ёрш радиаторный',  \n",
    "    'скребок ', \n",
    "    'обувница-3 квадро',  \n",
    "    'отжим для',  \n",
    "    'антинакипин для', \n",
    "    'ведро без',  \n",
    "    'таз алюминиевый,',  \n",
    "    'стеллаж для',  \n",
    "    'бидон пластмассовый', \n",
    "    'этажерка цветочная',  \n",
    "    'ведро полимербыт', \n",
    "    'коробка infinity', \n",
    "    'шнур хозяйственный',  \n",
    "    'сушилка уличная', \n",
    "    'веревка полипропиленовая', \n",
    "    'мешок для',  \n",
    "    'ткань для',   \n",
    "    'отбеливатель пероксоль', \n",
    "    'перчатки latex', \n",
    "    'щетка универсальная', \n",
    "    'пьезозажигалка ', \n",
    "    'решетка вентиляционная', \n",
    "    'перчатки extra', \n",
    "    'корзина city', \n",
    "    'тряпка для', \n",
    "    'совок металический', \n",
    "    'совок для', \n",
    "    'швабра leifheit', \n",
    "    'сумка-тележка brava', \n",
    "    'ведро резинопластиковое'    \n",
    "]\n",
    "\n",
    "\n",
    "fix= [\n",
    "    'крепеж для',\n",
    "    'пружина дверная',\n",
    "    'петля приварная',\n",
    "    'стремянка бытовая',  \n",
    "    'стяжка оконная',\n",
    "    'стремянка алюминиевая',\n",
    "    'лестница-стремянка dogrular',\n",
    "    'стремянки colombo',\n",
    "    'карниз алюминиевый',\n",
    "    'стремянка металлическая',\n",
    "    'стремянка framar',  \n",
    "    'стремянка eurogold',  \n",
    "    'холодная сварка',     \n",
    "    'стремянка ',\n",
    "    'измерительный алюминиевый',\n",
    "    'линейка, длина',     \n",
    "    'петля-стрела пс-286',\n",
    "    'шило ',\n",
    "    'набор сверел',   \n",
    "    'сверло-фреза, ',\n",
    "    'лестница-стремянка примус',    \n",
    "    'стремянка-табурет алюминиевая',\n",
    "    'петля рояльная',  \n",
    "    'перчатки fabrikators',\n",
    "    'лестница стремянка',\n",
    "    'карниз для',  \n",
    "    'крючок проволочный',\n",
    "    'стремянка colombo',  \n",
    "    'фал капроновый',\n",
    "    'штангенциркуль 150',  \n",
    "    'набор прецизионных',\n",
    "    'лестница-стремянка sarayli',   \n",
    "    'сверло ',\n",
    "    'стремянка scab',\n",
    "    'шпагат полипропиленовый', \n",
    "    'стремянка dogrular',\n",
    "    'измерительный угольник,',\n",
    "    'набор инструментов',\n",
    "    'завертка форточная',\n",
    "    'ручка мебельная', \n",
    "    'уголок оконный',\n",
    "    'стяжки для',\n",
    "    'шпингалет '\n",
    "]"
   ]
  },
  {
   "cell_type": "code",
   "execution_count": 21,
   "id": "257c8309",
   "metadata": {},
   "outputs": [],
   "source": [
    "# распределение по категориям\n",
    "for i in range(len(data['sku'])):\n",
    "    \n",
    "        if data.loc[i, 'sku'] in kitchen:\n",
    "            data.loc[i, 'group'] = 'Товары для кухни'\n",
    "            \n",
    "        elif data.loc[i, 'sku'] in bedroom:\n",
    "            data.loc[i, 'group'] = 'Товары для спальни'\n",
    "            \n",
    "        elif data.loc[i, 'sku'] in bathroom :\n",
    "            data.loc[i, 'group'] = 'Товары для ванной'\n",
    "            \n",
    "        elif data.loc[i, 'sku'] in other:\n",
    "            data.loc[i, 'group'] = 'Полезные мелочи'\n",
    "            \n",
    "        elif data.loc[i, 'sku'] in fix:\n",
    "            data.loc[i, 'group'] = 'Товары для ремонта'\n",
    "            \n",
    "        else:\n",
    "            data.loc[i, 'group'] = 'Растения'"
   ]
  },
  {
   "cell_type": "markdown",
   "id": "d8a57a28",
   "metadata": {},
   "source": [
    "Далее необходимо проверить датасет на выбросы. Для этого сортирую заказы по стоимости:"
   ]
  },
  {
   "cell_type": "code",
   "execution_count": 22,
   "id": "ca2f6fce",
   "metadata": {},
   "outputs": [
    {
     "data": {
      "text/html": [
       "<div>\n",
       "<style scoped>\n",
       "    .dataframe tbody tr th:only-of-type {\n",
       "        vertical-align: middle;\n",
       "    }\n",
       "\n",
       "    .dataframe tbody tr th {\n",
       "        vertical-align: top;\n",
       "    }\n",
       "\n",
       "    .dataframe thead th {\n",
       "        text-align: right;\n",
       "    }\n",
       "</style>\n",
       "<table border=\"1\" class=\"dataframe\">\n",
       "  <thead>\n",
       "    <tr style=\"text-align: right;\">\n",
       "      <th></th>\n",
       "      <th>date</th>\n",
       "      <th>customer_id</th>\n",
       "      <th>order_id</th>\n",
       "      <th>product</th>\n",
       "      <th>quantity</th>\n",
       "      <th>price</th>\n",
       "      <th>value</th>\n",
       "      <th>day</th>\n",
       "      <th>hour</th>\n",
       "      <th>weekday</th>\n",
       "      <th>month</th>\n",
       "      <th>year</th>\n",
       "      <th>sku</th>\n",
       "      <th>group</th>\n",
       "    </tr>\n",
       "  </thead>\n",
       "  <tbody>\n",
       "    <tr>\n",
       "      <th>3761</th>\n",
       "      <td>2019-06-18 15:00:00</td>\n",
       "      <td>312e9a3e-5fca-43ff-a6a1-892d2b2d5ba6</td>\n",
       "      <td>71743</td>\n",
       "      <td>Вантуз с деревянной ручкой d14 см красный, Bur...</td>\n",
       "      <td>1000</td>\n",
       "      <td>675.0</td>\n",
       "      <td>675000.0</td>\n",
       "      <td>2019-06-18</td>\n",
       "      <td>15</td>\n",
       "      <td>1</td>\n",
       "      <td>6</td>\n",
       "      <td>2019</td>\n",
       "      <td>вантуз</td>\n",
       "      <td>Товары для ванной</td>\n",
       "    </tr>\n",
       "    <tr>\n",
       "      <th>3693</th>\n",
       "      <td>2019-06-11 07:00:00</td>\n",
       "      <td>146cd9bf-a95c-4afb-915b-5f6684b17444</td>\n",
       "      <td>71668</td>\n",
       "      <td>Вешалки мягкие для деликатных вещей 3 шт шоколад</td>\n",
       "      <td>334</td>\n",
       "      <td>148.0</td>\n",
       "      <td>49432.0</td>\n",
       "      <td>2019-06-11</td>\n",
       "      <td>7</td>\n",
       "      <td>1</td>\n",
       "      <td>6</td>\n",
       "      <td>2019</td>\n",
       "      <td>вешалки мягкие</td>\n",
       "      <td>Товары для спальни</td>\n",
       "    </tr>\n",
       "    <tr>\n",
       "      <th>1274</th>\n",
       "      <td>2019-01-15 13:00:00</td>\n",
       "      <td>58a4c3cc-504f-43ea-a74a-bae19e665552</td>\n",
       "      <td>69830</td>\n",
       "      <td>Простынь вафельная 200х180 см WELLNESS RW180-0...</td>\n",
       "      <td>27</td>\n",
       "      <td>1755.0</td>\n",
       "      <td>47385.0</td>\n",
       "      <td>2019-01-15</td>\n",
       "      <td>13</td>\n",
       "      <td>1</td>\n",
       "      <td>1</td>\n",
       "      <td>2019</td>\n",
       "      <td>простынь вафельная</td>\n",
       "      <td>Товары для спальни</td>\n",
       "    </tr>\n",
       "    <tr>\n",
       "      <th>1116</th>\n",
       "      <td>2018-12-21 16:00:00</td>\n",
       "      <td>6987e6d6-a63a-4ce2-a2d0-f424092d235e</td>\n",
       "      <td>69504</td>\n",
       "      <td>Тележка багажная DELTA ТБР-22 синий грузоподъе...</td>\n",
       "      <td>57</td>\n",
       "      <td>574.0</td>\n",
       "      <td>32718.0</td>\n",
       "      <td>2018-12-21</td>\n",
       "      <td>16</td>\n",
       "      <td>4</td>\n",
       "      <td>12</td>\n",
       "      <td>2018</td>\n",
       "      <td>тележка багажная</td>\n",
       "      <td>Полезные мелочи</td>\n",
       "    </tr>\n",
       "    <tr>\n",
       "      <th>883</th>\n",
       "      <td>2018-11-29 17:00:00</td>\n",
       "      <td>8fba3604-ef57-4b9f-b2fe-3402fa8825c8</td>\n",
       "      <td>69156</td>\n",
       "      <td>Набор ножей Attribute CHEF 5 предметов AKF522</td>\n",
       "      <td>64</td>\n",
       "      <td>457.0</td>\n",
       "      <td>29248.0</td>\n",
       "      <td>2018-11-29</td>\n",
       "      <td>17</td>\n",
       "      <td>3</td>\n",
       "      <td>11</td>\n",
       "      <td>2018</td>\n",
       "      <td>набор ножей</td>\n",
       "      <td>Товары для кухни</td>\n",
       "    </tr>\n",
       "    <tr>\n",
       "      <th>551</th>\n",
       "      <td>2018-11-06 12:00:00</td>\n",
       "      <td>1b2764ad-9151-4051-a46a-9b01b62e6335</td>\n",
       "      <td>68878</td>\n",
       "      <td>Урна уличная \"Гео\", Hobbyka/Хоббика, 59*37,5см...</td>\n",
       "      <td>5</td>\n",
       "      <td>4874.0</td>\n",
       "      <td>24370.0</td>\n",
       "      <td>2018-11-06</td>\n",
       "      <td>12</td>\n",
       "      <td>1</td>\n",
       "      <td>11</td>\n",
       "      <td>2018</td>\n",
       "      <td>урна уличная</td>\n",
       "      <td>Полезные мелочи</td>\n",
       "    </tr>\n",
       "    <tr>\n",
       "      <th>1408</th>\n",
       "      <td>2019-02-04 06:00:00</td>\n",
       "      <td>909564b8-3a5c-4d3e-8310-5ba1c837bbd7</td>\n",
       "      <td>70080</td>\n",
       "      <td>Мусорный контейнер Hailo BigBin Swing 45 0845-...</td>\n",
       "      <td>3</td>\n",
       "      <td>5512.0</td>\n",
       "      <td>16536.0</td>\n",
       "      <td>2019-02-04</td>\n",
       "      <td>6</td>\n",
       "      <td>0</td>\n",
       "      <td>2</td>\n",
       "      <td>2019</td>\n",
       "      <td>мусорный контейнер</td>\n",
       "      <td>Полезные мелочи</td>\n",
       "    </tr>\n",
       "    <tr>\n",
       "      <th>2490</th>\n",
       "      <td>2019-04-19 19:00:00</td>\n",
       "      <td>498f12a4-6a62-4725-8516-cf5dc9ab8a3a</td>\n",
       "      <td>71206</td>\n",
       "      <td>Одеяло Wellness T142 белое темостеганое 140х20...</td>\n",
       "      <td>10</td>\n",
       "      <td>1568.0</td>\n",
       "      <td>15680.0</td>\n",
       "      <td>2019-04-19</td>\n",
       "      <td>19</td>\n",
       "      <td>4</td>\n",
       "      <td>4</td>\n",
       "      <td>2019</td>\n",
       "      <td>одеяло wellness</td>\n",
       "      <td>Товары для спальни</td>\n",
       "    </tr>\n",
       "    <tr>\n",
       "      <th>5234</th>\n",
       "      <td>2019-12-31 10:00:00</td>\n",
       "      <td>f279d50f-a508-40b4-bde5-5cb4a1be3ad0</td>\n",
       "      <td>107812</td>\n",
       "      <td>Сумка-тележка хозяйственная Rolser IMX006 bass...</td>\n",
       "      <td>2</td>\n",
       "      <td>7679.0</td>\n",
       "      <td>15358.0</td>\n",
       "      <td>2019-12-31</td>\n",
       "      <td>10</td>\n",
       "      <td>1</td>\n",
       "      <td>12</td>\n",
       "      <td>2019</td>\n",
       "      <td>сумка-тележка хозяйственная</td>\n",
       "      <td>Полезные мелочи</td>\n",
       "    </tr>\n",
       "    <tr>\n",
       "      <th>3339</th>\n",
       "      <td>2019-05-20 21:00:00</td>\n",
       "      <td>5d189e88-d4d6-4eac-ab43-fa65a3c4d106</td>\n",
       "      <td>71478</td>\n",
       "      <td>Муляж ЯБЛОКО 9 см красное</td>\n",
       "      <td>300</td>\n",
       "      <td>51.0</td>\n",
       "      <td>15300.0</td>\n",
       "      <td>2019-05-20</td>\n",
       "      <td>21</td>\n",
       "      <td>0</td>\n",
       "      <td>5</td>\n",
       "      <td>2019</td>\n",
       "      <td>муляж яблоко</td>\n",
       "      <td>Растения</td>\n",
       "    </tr>\n",
       "  </tbody>\n",
       "</table>\n",
       "</div>"
      ],
      "text/plain": [
       "                    date                           customer_id  order_id  \\\n",
       "3761 2019-06-18 15:00:00  312e9a3e-5fca-43ff-a6a1-892d2b2d5ba6     71743   \n",
       "3693 2019-06-11 07:00:00  146cd9bf-a95c-4afb-915b-5f6684b17444     71668   \n",
       "1274 2019-01-15 13:00:00  58a4c3cc-504f-43ea-a74a-bae19e665552     69830   \n",
       "1116 2018-12-21 16:00:00  6987e6d6-a63a-4ce2-a2d0-f424092d235e     69504   \n",
       "883  2018-11-29 17:00:00  8fba3604-ef57-4b9f-b2fe-3402fa8825c8     69156   \n",
       "551  2018-11-06 12:00:00  1b2764ad-9151-4051-a46a-9b01b62e6335     68878   \n",
       "1408 2019-02-04 06:00:00  909564b8-3a5c-4d3e-8310-5ba1c837bbd7     70080   \n",
       "2490 2019-04-19 19:00:00  498f12a4-6a62-4725-8516-cf5dc9ab8a3a     71206   \n",
       "5234 2019-12-31 10:00:00  f279d50f-a508-40b4-bde5-5cb4a1be3ad0    107812   \n",
       "3339 2019-05-20 21:00:00  5d189e88-d4d6-4eac-ab43-fa65a3c4d106     71478   \n",
       "\n",
       "                                                product  quantity   price  \\\n",
       "3761  Вантуз с деревянной ручкой d14 см красный, Bur...      1000   675.0   \n",
       "3693   Вешалки мягкие для деликатных вещей 3 шт шоколад       334   148.0   \n",
       "1274  Простынь вафельная 200х180 см WELLNESS RW180-0...        27  1755.0   \n",
       "1116  Тележка багажная DELTA ТБР-22 синий грузоподъе...        57   574.0   \n",
       "883       Набор ножей Attribute CHEF 5 предметов AKF522        64   457.0   \n",
       "551   Урна уличная \"Гео\", Hobbyka/Хоббика, 59*37,5см...         5  4874.0   \n",
       "1408  Мусорный контейнер Hailo BigBin Swing 45 0845-...         3  5512.0   \n",
       "2490  Одеяло Wellness T142 белое темостеганое 140х20...        10  1568.0   \n",
       "5234  Сумка-тележка хозяйственная Rolser IMX006 bass...         2  7679.0   \n",
       "3339                          Муляж ЯБЛОКО 9 см красное       300    51.0   \n",
       "\n",
       "         value         day  hour  weekday  month  year  \\\n",
       "3761  675000.0  2019-06-18    15        1      6  2019   \n",
       "3693   49432.0  2019-06-11     7        1      6  2019   \n",
       "1274   47385.0  2019-01-15    13        1      1  2019   \n",
       "1116   32718.0  2018-12-21    16        4     12  2018   \n",
       "883    29248.0  2018-11-29    17        3     11  2018   \n",
       "551    24370.0  2018-11-06    12        1     11  2018   \n",
       "1408   16536.0  2019-02-04     6        0      2  2019   \n",
       "2490   15680.0  2019-04-19    19        4      4  2019   \n",
       "5234   15358.0  2019-12-31    10        1     12  2019   \n",
       "3339   15300.0  2019-05-20    21        0      5  2019   \n",
       "\n",
       "                              sku               group  \n",
       "3761                      вантуз    Товары для ванной  \n",
       "3693               вешалки мягкие  Товары для спальни  \n",
       "1274           простынь вафельная  Товары для спальни  \n",
       "1116             тележка багажная     Полезные мелочи  \n",
       "883                   набор ножей    Товары для кухни  \n",
       "551                  урна уличная     Полезные мелочи  \n",
       "1408           мусорный контейнер     Полезные мелочи  \n",
       "2490              одеяло wellness  Товары для спальни  \n",
       "5234  сумка-тележка хозяйственная     Полезные мелочи  \n",
       "3339                 муляж яблоко            Растения  "
      ]
     },
     "execution_count": 22,
     "metadata": {},
     "output_type": "execute_result"
    }
   ],
   "source": [
    "data.sort_values(by='value', ascending=False).head(10)"
   ]
  },
  {
   "cell_type": "code",
   "execution_count": 23,
   "id": "6fd3fc8d",
   "metadata": {},
   "outputs": [],
   "source": [
    "# есть всего 6 заказов дороже 20 тысяч, из них один выброс - на 675 тысяч, предлагаю исключить эти заказы из базы,\n",
    "# чтобы оценить сезонность выручки, но при этом не потерять товар из ассортимента\n",
    "\n",
    "data = data.query('value < 20000')"
   ]
  },
  {
   "cell_type": "code",
   "execution_count": 24,
   "id": "b5746a6d",
   "metadata": {
    "scrolled": false
   },
   "outputs": [
    {
     "data": {
      "text/html": [
       "<div>\n",
       "<style scoped>\n",
       "    .dataframe tbody tr th:only-of-type {\n",
       "        vertical-align: middle;\n",
       "    }\n",
       "\n",
       "    .dataframe tbody tr th {\n",
       "        vertical-align: top;\n",
       "    }\n",
       "\n",
       "    .dataframe thead th {\n",
       "        text-align: right;\n",
       "    }\n",
       "</style>\n",
       "<table border=\"1\" class=\"dataframe\">\n",
       "  <thead>\n",
       "    <tr style=\"text-align: right;\">\n",
       "      <th></th>\n",
       "      <th>date</th>\n",
       "      <th>customer_id</th>\n",
       "      <th>order_id</th>\n",
       "      <th>product</th>\n",
       "      <th>quantity</th>\n",
       "      <th>price</th>\n",
       "      <th>value</th>\n",
       "      <th>day</th>\n",
       "      <th>hour</th>\n",
       "      <th>weekday</th>\n",
       "      <th>month</th>\n",
       "      <th>year</th>\n",
       "      <th>sku</th>\n",
       "      <th>group</th>\n",
       "    </tr>\n",
       "  </thead>\n",
       "  <tbody>\n",
       "    <tr>\n",
       "      <th>0</th>\n",
       "      <td>2018-10-01</td>\n",
       "      <td>ee47d746-6d2f-4d3c-9622-c31412542920</td>\n",
       "      <td>68477</td>\n",
       "      <td>Комнатное растение в горшке Алое Вера, d12, h30</td>\n",
       "      <td>1</td>\n",
       "      <td>142.0</td>\n",
       "      <td>142.0</td>\n",
       "      <td>2018-10-01</td>\n",
       "      <td>0</td>\n",
       "      <td>0</td>\n",
       "      <td>10</td>\n",
       "      <td>2018</td>\n",
       "      <td>комнатное растение</td>\n",
       "      <td>Растения</td>\n",
       "    </tr>\n",
       "  </tbody>\n",
       "</table>\n",
       "</div>"
      ],
      "text/plain": [
       "        date                           customer_id  order_id  \\\n",
       "0 2018-10-01  ee47d746-6d2f-4d3c-9622-c31412542920     68477   \n",
       "\n",
       "                                           product  quantity  price  value  \\\n",
       "0  Комнатное растение в горшке Алое Вера, d12, h30         1  142.0  142.0   \n",
       "\n",
       "          day  hour  weekday  month  year                 sku     group  \n",
       "0  2018-10-01     0        0     10  2018  комнатное растение  Растения  "
      ]
     },
     "metadata": {},
     "output_type": "display_data"
    },
    {
     "name": "stdout",
     "output_type": "stream",
     "text": [
      "<class 'pandas.core.frame.DataFrame'>\n",
      "Int64Index: 5512 entries, 0 to 5517\n",
      "Data columns (total 14 columns):\n",
      " #   Column       Non-Null Count  Dtype         \n",
      "---  ------       --------------  -----         \n",
      " 0   date         5512 non-null   datetime64[ns]\n",
      " 1   customer_id  5512 non-null   object        \n",
      " 2   order_id     5512 non-null   int64         \n",
      " 3   product      5512 non-null   object        \n",
      " 4   quantity     5512 non-null   int64         \n",
      " 5   price        5512 non-null   float64       \n",
      " 6   value        5512 non-null   float64       \n",
      " 7   day          5512 non-null   object        \n",
      " 8   hour         5512 non-null   int64         \n",
      " 9   weekday      5512 non-null   int64         \n",
      " 10  month        5512 non-null   int64         \n",
      " 11  year         5512 non-null   int64         \n",
      " 12  sku          5512 non-null   object        \n",
      " 13  group        5512 non-null   object        \n",
      "dtypes: datetime64[ns](1), float64(2), int64(6), object(5)\n",
      "memory usage: 645.9+ KB\n"
     ]
    }
   ],
   "source": [
    "display(data.head(1))\n",
    "data.info()"
   ]
  },
  {
   "cell_type": "markdown",
   "id": "cc119485",
   "metadata": {},
   "source": [
    "__Выводы по разделу предобработки данных:__\n",
    "\n",
    "- Пропущенных значений не обнаружено;\n",
    "- Неявные дубликаты удалены;\n",
    "- Колонки названы корректно;\n",
    "- Типы данных обработаны;\n",
    "- Колонки названы корректно;\n",
    "- Товары распределены по 6 категориям (кухня, спальня, ванная, ремонт, полезные мелочи и растения);\n",
    "- Добавлены столбцы с датой, часом заказа и днем недели, месяцем и годом;\n",
    "- Датасет соответсвует ТЗ;\n",
    "- Выбросы обработаны."
   ]
  },
  {
   "cell_type": "markdown",
   "id": "920e5da7",
   "metadata": {},
   "source": [
    "### Исследовательский анализ данных"
   ]
  },
  {
   "cell_type": "markdown",
   "id": "8f7601fd",
   "metadata": {},
   "source": [
    "#### Количество товаров в заказе и средняя стоимость"
   ]
  },
  {
   "cell_type": "code",
   "execution_count": 25,
   "id": "2c378164",
   "metadata": {
    "scrolled": true
   },
   "outputs": [
    {
     "name": "stdout",
     "output_type": "stream",
     "text": [
      "count    3516.000000\n",
      "mean        1.567406\n",
      "std         2.460211\n",
      "min         1.000000\n",
      "25%         1.000000\n",
      "50%         1.000000\n",
      "75%         1.000000\n",
      "max        51.000000\n",
      "Name: num_products, dtype: float64\n"
     ]
    },
    {
     "data": {
      "text/plain": [
       "count    3516.000000\n",
       "mean        1.021047\n",
       "std         0.198460\n",
       "min         1.000000\n",
       "25%         1.000000\n",
       "50%         1.000000\n",
       "75%         1.000000\n",
       "max         5.000000\n",
       "Name: num_groups, dtype: float64"
      ]
     },
     "execution_count": 25,
     "metadata": {},
     "output_type": "execute_result"
    }
   ],
   "source": [
    "# число товарных позиций и групп в чеке\n",
    "products_in_orders = (data\n",
    "            .groupby('order_id')\n",
    "            .agg(num_products=('product', 'nunique'), num_groups=('group', 'nunique'))\n",
    "          ).reset_index()\n",
    "\n",
    "# описание данных\n",
    "print(products_in_orders['num_products'].describe())\n",
    "products_in_orders['num_groups'].describe()"
   ]
  },
  {
   "cell_type": "markdown",
   "id": "b5ac0bfc",
   "metadata": {},
   "source": [
    "В среднем в заказ входит от 1 до 2 товарных позиций из одной группы. Есть заказ на 51 товар, видимо, из 5 групп."
   ]
  },
  {
   "cell_type": "code",
   "execution_count": 26,
   "id": "ecdbdceb",
   "metadata": {},
   "outputs": [
    {
     "data": {
      "text/html": [
       "<div>\n",
       "<style scoped>\n",
       "    .dataframe tbody tr th:only-of-type {\n",
       "        vertical-align: middle;\n",
       "    }\n",
       "\n",
       "    .dataframe tbody tr th {\n",
       "        vertical-align: top;\n",
       "    }\n",
       "\n",
       "    .dataframe thead th {\n",
       "        text-align: right;\n",
       "    }\n",
       "</style>\n",
       "<table border=\"1\" class=\"dataframe\">\n",
       "  <thead>\n",
       "    <tr style=\"text-align: right;\">\n",
       "      <th></th>\n",
       "      <th>year</th>\n",
       "      <th>month</th>\n",
       "      <th>day</th>\n",
       "      <th>hour</th>\n",
       "      <th>weekday</th>\n",
       "      <th>order_id</th>\n",
       "      <th>value</th>\n",
       "    </tr>\n",
       "  </thead>\n",
       "  <tbody>\n",
       "    <tr>\n",
       "      <th>0</th>\n",
       "      <td>2018</td>\n",
       "      <td>10</td>\n",
       "      <td>2018-10-01</td>\n",
       "      <td>0</td>\n",
       "      <td>0</td>\n",
       "      <td>68477</td>\n",
       "      <td>1037.0</td>\n",
       "    </tr>\n",
       "    <tr>\n",
       "      <th>1</th>\n",
       "      <td>2018</td>\n",
       "      <td>10</td>\n",
       "      <td>2018-10-01</td>\n",
       "      <td>8</td>\n",
       "      <td>0</td>\n",
       "      <td>68478</td>\n",
       "      <td>269.0</td>\n",
       "    </tr>\n",
       "    <tr>\n",
       "      <th>2</th>\n",
       "      <td>2018</td>\n",
       "      <td>10</td>\n",
       "      <td>2018-10-01</td>\n",
       "      <td>8</td>\n",
       "      <td>0</td>\n",
       "      <td>68479</td>\n",
       "      <td>824.0</td>\n",
       "    </tr>\n",
       "    <tr>\n",
       "      <th>3</th>\n",
       "      <td>2018</td>\n",
       "      <td>10</td>\n",
       "      <td>2018-10-01</td>\n",
       "      <td>9</td>\n",
       "      <td>0</td>\n",
       "      <td>68480</td>\n",
       "      <td>674.0</td>\n",
       "    </tr>\n",
       "    <tr>\n",
       "      <th>4</th>\n",
       "      <td>2018</td>\n",
       "      <td>10</td>\n",
       "      <td>2018-10-01</td>\n",
       "      <td>11</td>\n",
       "      <td>0</td>\n",
       "      <td>68483</td>\n",
       "      <td>820.0</td>\n",
       "    </tr>\n",
       "  </tbody>\n",
       "</table>\n",
       "</div>"
      ],
      "text/plain": [
       "   year  month         day  hour  weekday  order_id   value\n",
       "0  2018     10  2018-10-01     0        0     68477  1037.0\n",
       "1  2018     10  2018-10-01     8        0     68478   269.0\n",
       "2  2018     10  2018-10-01     8        0     68479   824.0\n",
       "3  2018     10  2018-10-01     9        0     68480   674.0\n",
       "4  2018     10  2018-10-01    11        0     68483   820.0"
      ]
     },
     "execution_count": 26,
     "metadata": {},
     "output_type": "execute_result"
    }
   ],
   "source": [
    "# датафрейм с заказами\n",
    "orders = (data\n",
    "            .groupby(['year', 'month', 'day', 'hour', 'weekday', 'order_id'])\n",
    "            .agg(value=('value', 'sum'))\n",
    "           ).reset_index()\n",
    "\n",
    "orders.head()"
   ]
  },
  {
   "cell_type": "code",
   "execution_count": 27,
   "id": "3fab9336",
   "metadata": {},
   "outputs": [
    {
     "data": {
      "text/plain": [
       "count     3516.000000\n",
       "mean      1062.912803\n",
       "std       1491.847230\n",
       "min          9.000000\n",
       "25%        192.250000\n",
       "50%        577.000000\n",
       "75%       1225.750000\n",
       "max      16536.000000\n",
       "Name: value, dtype: float64"
      ]
     },
     "execution_count": 27,
     "metadata": {},
     "output_type": "execute_result"
    }
   ],
   "source": [
    "# инфомрация по стоимости заказов\n",
    "orders['value'].describe()"
   ]
  },
  {
   "cell_type": "code",
   "execution_count": 28,
   "id": "ee9eebeb",
   "metadata": {},
   "outputs": [
    {
     "data": {
      "text/plain": [
       "7331.0"
      ]
     },
     "execution_count": 28,
     "metadata": {},
     "output_type": "execute_result"
    }
   ],
   "source": [
    "# 99 процентиль стоимости заказов\n",
    "round(np.percentile(orders['value'], 99),1)"
   ]
  },
  {
   "cell_type": "markdown",
   "id": "fa73c7b8",
   "metadata": {},
   "source": [
    "__По заказам:__\n",
    "- Средняя стоимость равна 1063;\n",
    "- Медиана 577;\n",
    "- 99% заказов стоят не более 7331;\n",
    "- Половина заказов от 192 до 1226."
   ]
  },
  {
   "cell_type": "markdown",
   "id": "ea12f763",
   "metadata": {},
   "source": [
    "#### Динамика стоимости и количества заказов"
   ]
  },
  {
   "cell_type": "code",
   "execution_count": 29,
   "id": "4f844806",
   "metadata": {},
   "outputs": [
    {
     "data": {
      "image/png": "[encoded data removed]",
      "text/plain": [
       "<Figure size 640x480 with 1 Axes>"
      ]
     },
     "metadata": {},
     "output_type": "display_data"
    }
   ],
   "source": [
    "# ящик с усами по месяцам\n",
    "ax = sns.boxplot(x = \"month\", y = \"value\", data=orders, palette=\"Blues\")\n",
    "\n",
    "ax.set(xlabel='Месяц', ylabel='Стоимость заказа', title='Размах стоимостей заказов по месяцам')\n",
    "plt.show()"
   ]
  },
  {
   "cell_type": "code",
   "execution_count": 30,
   "id": "17a9dcde",
   "metadata": {},
   "outputs": [
    {
     "data": {
      "image/png": "[encoded data removed]",
      "text/plain": [
       "<Figure size 640x480 with 1 Axes>"
      ]
     },
     "metadata": {},
     "output_type": "display_data"
    }
   ],
   "source": [
    "# количество заказов по месяцам буду анализировать только по 2019 году\n",
    "# это уберет смещение по месяцам, по которым есть данные за несколько лет\n",
    "orders_2019 = orders.query('year == 2019')\n",
    "\n",
    "# сумма заказов по месяцам 2019\n",
    "orders_2019['volume'] = orders_2019.groupby('month')['order_id'].transform('nunique')\n",
    "\n",
    "# выручка по месяцам 2019\n",
    "orders_2019['total_rev'] = orders_2019.groupby('month')['value'].transform('sum')\n",
    "\n",
    "# график\n",
    "ax = sns.lineplot(x = \"month\", y = \"volume\", data=orders_2019, palette=\"Blues\")\n",
    "ax.set(xlabel='Номер месяца', ylabel='Количество заказов', title='Динамика заказов в течение 2019 года')\n",
    "\n",
    "plt.show()"
   ]
  },
  {
   "cell_type": "code",
   "execution_count": 31,
   "id": "86fab0cb",
   "metadata": {},
   "outputs": [
    {
     "data": {
      "image/png": "[encoded data removed]",
      "text/plain": [
       "<Figure size 640x480 with 1 Axes>"
      ]
     },
     "metadata": {},
     "output_type": "display_data"
    }
   ],
   "source": [
    "# датафрейм для графика и график\n",
    "ax = sns.lineplot(x = \"month\", y = \"total_rev\", data=orders_2019, palette=\"Blues\")\n",
    "ax.set(xlabel='Номер месяца', ylabel='Выручка', title='Динамика выручка в течение года')\n",
    "plt.show()"
   ]
  },
  {
   "cell_type": "markdown",
   "id": "4565d90d",
   "metadata": {},
   "source": [
    "- Наибольшие стоимости заказов наблюдались в мае и октябре, чуть меньше в марте и сентябре. Меньше всего в январе и ноябре;\n",
    "- Пик числа заказов приходится на февраль. Также много в апреле, марте, ноябре и декабре. «Затишье» в июне, немногим больше в январе, мае, августе и сентябре;\n",
    "- Итого по выручке лучшие период: февраль - апрель. Хуже всего в ноябре, июне и августе."
   ]
  },
  {
   "cell_type": "markdown",
   "id": "3d9137f4",
   "metadata": {},
   "source": [
    "#### Зависимость числа и объема заказов от временных интервалов в разные дня недели"
   ]
  },
  {
   "cell_type": "code",
   "execution_count": 32,
   "id": "9bca24f4",
   "metadata": {
    "scrolled": false
   },
   "outputs": [
    {
     "data": {
      "image/png": "[encoded data removed]",
      "text/plain": [
       "<Figure size 640x480 with 1 Axes>"
      ]
     },
     "metadata": {},
     "output_type": "display_data"
    }
   ],
   "source": [
    "# ящик с усами по месяцам\n",
    "ax = sns.boxplot(x = \"weekday\", y = \"value\", data=orders, palette=\"Blues\")\n",
    "ax.set(xlabel='День недели', ylabel='Стоимость заказа', title='Размах стоимостей заказов по дням недели')\n",
    "#sns.set(rc={'figure.figsize':(7, 15)})\n",
    "plt.show()"
   ]
  },
  {
   "cell_type": "code",
   "execution_count": 33,
   "id": "787ffb81",
   "metadata": {},
   "outputs": [
    {
     "data": {
      "image/png": "[encoded data removed]",
      "text/plain": [
       "<Figure size 640x480 with 1 Axes>"
      ]
     },
     "metadata": {},
     "output_type": "display_data"
    }
   ],
   "source": [
    "# заказы по дням недели\n",
    "orders['volume'] = orders.groupby('weekday')['order_id'].transform('count')\n",
    "\n",
    "# график\n",
    "ax = sns.lineplot(x = \"weekday\", y = \"volume\", data=orders, palette=\"Blues\")\n",
    "ax.set(xlabel='День недели', ylabel='Количество заказов', title='Динамика заказов по дням недели')\n",
    "plt.show()"
   ]
  },
  {
   "cell_type": "code",
   "execution_count": 34,
   "id": "2a4c7578",
   "metadata": {},
   "outputs": [
    {
     "data": {
      "image/png": "[encoded data removed]",
      "text/plain": [
       "<Figure size 1500x600 with 2 Axes>"
      ]
     },
     "metadata": {},
     "output_type": "display_data"
    }
   ],
   "source": [
    "# датафрейм для графика и график\n",
    "work_days = orders.query('weekday < 5')\\\n",
    "    .groupby('hour').agg(volume=('order_id', 'count')).reset_index()\n",
    "\n",
    "weekend = orders.query('weekday >= 5')\\\n",
    "    .groupby('hour').agg(volume=('order_id', 'count')).reset_index()\n",
    "\n",
    "# график\n",
    "fig = plt.figure(figsize=(15,6))\n",
    "fig.suptitle('Количество заказов по часам')\n",
    "\n",
    "# будни\n",
    "ax1 = fig.add_subplot(121)\n",
    "sns.lineplot(x = \"hour\", y = \"volume\", data=work_days, palette=\"Blues\")\n",
    "ax1.set(xlabel='Часы', ylabel='Количество заказов', title='Будни')\n",
    "\n",
    "# выходные\n",
    "ax2 = fig.add_subplot(122, sharey=ax1)\n",
    "sns.lineplot(x = \"hour\", y = \"volume\", data=weekend, palette=\"Blues\")\n",
    "ax2.set(xlabel='Часы', ylabel='Количество заказов', title='Выходные')\n",
    "\n",
    "plt.tight_layout()\n",
    "plt.show()"
   ]
  },
  {
   "cell_type": "markdown",
   "id": "7fa3af0f",
   "metadata": {},
   "source": [
    "- Больше заказов посетители сайта делают в понедельник, вторник и четверг, наблюдается неболшой спад к среде и заметное снижение в пятницу-субботу, легкое восстановление в воскресенье, но оно не дотягивает до значений будней;\n",
    "- Медианный чек примерно одинаковый, на выходных - немного ниже;\n",
    "- В будни большинство заказов совершается с 9 до 16, пик в 11, есть подъем в 21 час;\n",
    "- По выходным большинство заказов после 10 часов, пик в 15."
   ]
  },
  {
   "cell_type": "markdown",
   "id": "948fdf89",
   "metadata": {},
   "source": [
    "#### Анализ поведения пользователей: как часто заказывают, среднее число заказов на пользователя, доля пользователей с более чем одной покупкой"
   ]
  },
  {
   "cell_type": "code",
   "execution_count": 35,
   "id": "0df253ff",
   "metadata": {},
   "outputs": [
    {
     "data": {
      "text/html": [
       "<div>\n",
       "<style scoped>\n",
       "    .dataframe tbody tr th:only-of-type {\n",
       "        vertical-align: middle;\n",
       "    }\n",
       "\n",
       "    .dataframe tbody tr th {\n",
       "        vertical-align: top;\n",
       "    }\n",
       "\n",
       "    .dataframe thead th {\n",
       "        text-align: right;\n",
       "    }\n",
       "</style>\n",
       "<table border=\"1\" class=\"dataframe\">\n",
       "  <thead>\n",
       "    <tr style=\"text-align: right;\">\n",
       "      <th></th>\n",
       "      <th>customer_id</th>\n",
       "      <th>num_orders</th>\n",
       "      <th>val_orders</th>\n",
       "      <th>avg</th>\n",
       "    </tr>\n",
       "  </thead>\n",
       "  <tbody>\n",
       "    <tr>\n",
       "      <th>1350</th>\n",
       "      <td>909564b8-3a5c-4d3e-8310-5ba1c837bbd7</td>\n",
       "      <td>1</td>\n",
       "      <td>16536.0</td>\n",
       "      <td>16536.0</td>\n",
       "    </tr>\n",
       "    <tr>\n",
       "      <th>863</th>\n",
       "      <td>5d189e88-d4d6-4eac-ab43-fa65a3c4d106</td>\n",
       "      <td>1</td>\n",
       "      <td>15300.0</td>\n",
       "      <td>15300.0</td>\n",
       "    </tr>\n",
       "    <tr>\n",
       "      <th>133</th>\n",
       "      <td>0d87f4ae-465a-4fac-81e6-5d629761783e</td>\n",
       "      <td>1</td>\n",
       "      <td>14917.0</td>\n",
       "      <td>14917.0</td>\n",
       "    </tr>\n",
       "  </tbody>\n",
       "</table>\n",
       "</div>"
      ],
      "text/plain": [
       "                               customer_id  num_orders  val_orders      avg\n",
       "1350  909564b8-3a5c-4d3e-8310-5ba1c837bbd7           1     16536.0  16536.0\n",
       "863   5d189e88-d4d6-4eac-ab43-fa65a3c4d106           1     15300.0  15300.0\n",
       "133   0d87f4ae-465a-4fac-81e6-5d629761783e           1     14917.0  14917.0"
      ]
     },
     "execution_count": 35,
     "metadata": {},
     "output_type": "execute_result"
    }
   ],
   "source": [
    "# датафрейм по покупателям\n",
    "customers = (data\n",
    "            .groupby('customer_id')\n",
    "            .agg(num_orders=('order_id', 'nunique'), val_orders=('value', 'sum'))\n",
    "           ).reset_index().sort_values(by='val_orders', ascending=False)\n",
    "\n",
    "# средняя покупка\n",
    "customers['avg'] = customers['val_orders'] / customers['num_orders']\n",
    "\n",
    "customers.sort_values(by='avg', ascending=False).head(3)"
   ]
  },
  {
   "cell_type": "code",
   "execution_count": 36,
   "id": "9c3eb73b",
   "metadata": {},
   "outputs": [
    {
     "data": {
      "text/html": [
       "<div>\n",
       "<style scoped>\n",
       "    .dataframe tbody tr th:only-of-type {\n",
       "        vertical-align: middle;\n",
       "    }\n",
       "\n",
       "    .dataframe tbody tr th {\n",
       "        vertical-align: top;\n",
       "    }\n",
       "\n",
       "    .dataframe thead th {\n",
       "        text-align: right;\n",
       "    }\n",
       "</style>\n",
       "<table border=\"1\" class=\"dataframe\">\n",
       "  <thead>\n",
       "    <tr style=\"text-align: right;\">\n",
       "      <th></th>\n",
       "      <th>num_orders</th>\n",
       "      <th>val_orders</th>\n",
       "      <th>avg</th>\n",
       "    </tr>\n",
       "  </thead>\n",
       "  <tbody>\n",
       "    <tr>\n",
       "      <th>count</th>\n",
       "      <td>2426.000000</td>\n",
       "      <td>2426.000000</td>\n",
       "      <td>2426.000000</td>\n",
       "    </tr>\n",
       "    <tr>\n",
       "      <th>mean</th>\n",
       "      <td>1.449711</td>\n",
       "      <td>1540.478737</td>\n",
       "      <td>1099.759479</td>\n",
       "    </tr>\n",
       "    <tr>\n",
       "      <th>std</th>\n",
       "      <td>2.691136</td>\n",
       "      <td>3942.849557</td>\n",
       "      <td>1416.959217</td>\n",
       "    </tr>\n",
       "    <tr>\n",
       "      <th>min</th>\n",
       "      <td>1.000000</td>\n",
       "      <td>15.000000</td>\n",
       "      <td>15.000000</td>\n",
       "    </tr>\n",
       "    <tr>\n",
       "      <th>25%</th>\n",
       "      <td>1.000000</td>\n",
       "      <td>391.500000</td>\n",
       "      <td>300.000000</td>\n",
       "    </tr>\n",
       "    <tr>\n",
       "      <th>50%</th>\n",
       "      <td>1.000000</td>\n",
       "      <td>830.500000</td>\n",
       "      <td>642.500000</td>\n",
       "    </tr>\n",
       "    <tr>\n",
       "      <th>75%</th>\n",
       "      <td>2.000000</td>\n",
       "      <td>1790.333333</td>\n",
       "      <td>1322.250000</td>\n",
       "    </tr>\n",
       "    <tr>\n",
       "      <th>max</th>\n",
       "      <td>126.000000</td>\n",
       "      <td>159508.000000</td>\n",
       "      <td>16536.000000</td>\n",
       "    </tr>\n",
       "  </tbody>\n",
       "</table>\n",
       "</div>"
      ],
      "text/plain": [
       "        num_orders     val_orders           avg\n",
       "count  2426.000000    2426.000000   2426.000000\n",
       "mean      1.449711    1540.478737   1099.759479\n",
       "std       2.691136    3942.849557   1416.959217\n",
       "min       1.000000      15.000000     15.000000\n",
       "25%       1.000000     391.500000    300.000000\n",
       "50%       1.000000     830.500000    642.500000\n",
       "75%       2.000000    1790.333333   1322.250000\n",
       "max     126.000000  159508.000000  16536.000000"
      ]
     },
     "execution_count": 36,
     "metadata": {},
     "output_type": "execute_result"
    }
   ],
   "source": [
    "customers.describe()"
   ]
  },
  {
   "cell_type": "code",
   "execution_count": 37,
   "id": "0c40ab05",
   "metadata": {},
   "outputs": [
    {
     "name": "stdout",
     "output_type": "stream",
     "text": [
      "Заказов на пользователя: 3.0\n",
      "Сумма всех заказов: 8723.8\n"
     ]
    }
   ],
   "source": [
    "# найду 99 процентиль по параметрам\n",
    "print('Заказов на пользователя:', round(np.percentile(customers['num_orders'], 99),1))\n",
    "print('Сумма всех заказов:', round(np.percentile(customers['val_orders'], 99),1))"
   ]
  },
  {
   "cell_type": "code",
   "execution_count": 38,
   "id": "226b412e",
   "metadata": {},
   "outputs": [
    {
     "name": "stdout",
     "output_type": "stream",
     "text": [
      "Доля тех, кто сделал два и более заказов: 36.48%\n",
      "Доля тех, кто сделал три и более заказов: 1.15%\n"
     ]
    }
   ],
   "source": [
    "# количество пользователей по числу заказов\n",
    "\n",
    "# все пользователи\n",
    "all_cust = len(customers)\n",
    "\n",
    "# пользователи с более чем одним заказом\n",
    "one_plus_cust = len(customers.query('num_orders > 1'))\n",
    "print('Доля тех, кто сделал два и более заказов: {:.2f}%'.format(one_plus_cust / all_cust * 100))\n",
    "      \n",
    "# пользователи с более чем двумя заказами\n",
    "two_plus_cust = len(customers.query('num_orders > 2'))\n",
    "print('Доля тех, кто сделал три и более заказов: {:.2f}%'.format(two_plus_cust / all_cust * 100))"
   ]
  },
  {
   "cell_type": "markdown",
   "id": "1c6032e3",
   "metadata": {},
   "source": [
    "- 37% пользователей сделали повторный заказ, а чуть более 1% - три и более;\n",
    "- В среднем пользователи совершали от 1 до 2 заказов общей суммой от 390 до 1790;\n",
    "- 99% клиентов совершили не более трех заказов общей суммой не выше 8,7 тысяч."
   ]
  },
  {
   "cell_type": "markdown",
   "id": "06e6aae6",
   "metadata": {},
   "source": [
    "#### Продаваемость категорий товаров"
   ]
  },
  {
   "cell_type": "code",
   "execution_count": 39,
   "id": "4aa244b7",
   "metadata": {},
   "outputs": [
    {
     "data": {
      "text/html": [
       "<div>\n",
       "<style scoped>\n",
       "    .dataframe tbody tr th:only-of-type {\n",
       "        vertical-align: middle;\n",
       "    }\n",
       "\n",
       "    .dataframe tbody tr th {\n",
       "        vertical-align: top;\n",
       "    }\n",
       "\n",
       "    .dataframe thead th {\n",
       "        text-align: right;\n",
       "    }\n",
       "</style>\n",
       "<table border=\"1\" class=\"dataframe\">\n",
       "  <thead>\n",
       "    <tr style=\"text-align: right;\">\n",
       "      <th></th>\n",
       "      <th>year</th>\n",
       "      <th>month</th>\n",
       "      <th>day</th>\n",
       "      <th>hour</th>\n",
       "      <th>weekday</th>\n",
       "      <th>group</th>\n",
       "      <th>product</th>\n",
       "      <th>price</th>\n",
       "      <th>value</th>\n",
       "      <th>sold</th>\n",
       "    </tr>\n",
       "  </thead>\n",
       "  <tbody>\n",
       "    <tr>\n",
       "      <th>0</th>\n",
       "      <td>2018</td>\n",
       "      <td>10</td>\n",
       "      <td>2018-10-01</td>\n",
       "      <td>0</td>\n",
       "      <td>0</td>\n",
       "      <td>Растения</td>\n",
       "      <td>Комнатное растение в горшке Алое Вера, d12, h30</td>\n",
       "      <td>142.0</td>\n",
       "      <td>142.0</td>\n",
       "      <td>1</td>\n",
       "    </tr>\n",
       "  </tbody>\n",
       "</table>\n",
       "</div>"
      ],
      "text/plain": [
       "   year  month         day  hour  weekday     group  \\\n",
       "0  2018     10  2018-10-01     0        0  Растения   \n",
       "\n",
       "                                           product  price  value  sold  \n",
       "0  Комнатное растение в горшке Алое Вера, d12, h30  142.0  142.0     1  "
      ]
     },
     "execution_count": 39,
     "metadata": {},
     "output_type": "execute_result"
    }
   ],
   "source": [
    "# датафрейм с товарами\n",
    "products = (data\n",
    "            .groupby(['year', 'month', 'day', 'hour', 'weekday', 'group', 'product', 'price'])\n",
    "            .agg(value=('value', 'sum'), sold=('quantity', 'sum'))\n",
    "           ).reset_index()\n",
    "\n",
    "products.head(1)"
   ]
  },
  {
   "cell_type": "code",
   "execution_count": 40,
   "id": "af8dca43",
   "metadata": {},
   "outputs": [
    {
     "data": {
      "text/html": [
       "<div>\n",
       "<style scoped>\n",
       "    .dataframe tbody tr th:only-of-type {\n",
       "        vertical-align: middle;\n",
       "    }\n",
       "\n",
       "    .dataframe tbody tr th {\n",
       "        vertical-align: top;\n",
       "    }\n",
       "\n",
       "    .dataframe thead th {\n",
       "        text-align: right;\n",
       "    }\n",
       "</style>\n",
       "<table border=\"1\" class=\"dataframe\">\n",
       "  <thead>\n",
       "    <tr style=\"text-align: right;\">\n",
       "      <th></th>\n",
       "      <th>year</th>\n",
       "      <th>month</th>\n",
       "      <th>group</th>\n",
       "      <th>product</th>\n",
       "      <th>total</th>\n",
       "      <th>number</th>\n",
       "    </tr>\n",
       "  </thead>\n",
       "  <tbody>\n",
       "    <tr>\n",
       "      <th>502</th>\n",
       "      <td>2018</td>\n",
       "      <td>11</td>\n",
       "      <td>Растения</td>\n",
       "      <td>Муляж ЯБЛОКО 9 см красное</td>\n",
       "      <td>16989.0</td>\n",
       "      <td>311</td>\n",
       "    </tr>\n",
       "    <tr>\n",
       "      <th>2252</th>\n",
       "      <td>2019</td>\n",
       "      <td>5</td>\n",
       "      <td>Растения</td>\n",
       "      <td>Муляж ЯБЛОКО 9 см красное</td>\n",
       "      <td>15300.0</td>\n",
       "      <td>300</td>\n",
       "    </tr>\n",
       "    <tr>\n",
       "      <th>727</th>\n",
       "      <td>2018</td>\n",
       "      <td>12</td>\n",
       "      <td>Полезные мелочи</td>\n",
       "      <td>Ручка-скоба РС-100 белая *Трибатрон*, 1108035</td>\n",
       "      <td>5800.0</td>\n",
       "      <td>200</td>\n",
       "    </tr>\n",
       "    <tr>\n",
       "      <th>343</th>\n",
       "      <td>2018</td>\n",
       "      <td>10</td>\n",
       "      <td>Товары для ремонта</td>\n",
       "      <td>Пружина дверная 240 мм оцинкованная (Д-19 мм) ...</td>\n",
       "      <td>5700.0</td>\n",
       "      <td>150</td>\n",
       "    </tr>\n",
       "    <tr>\n",
       "      <th>1694</th>\n",
       "      <td>2019</td>\n",
       "      <td>3</td>\n",
       "      <td>Товары для спальни</td>\n",
       "      <td>Плечики пластмассовые Размер 52 - 54 Тула 1205158</td>\n",
       "      <td>3000.0</td>\n",
       "      <td>150</td>\n",
       "    </tr>\n",
       "    <tr>\n",
       "      <th>...</th>\n",
       "      <td>...</td>\n",
       "      <td>...</td>\n",
       "      <td>...</td>\n",
       "      <td>...</td>\n",
       "      <td>...</td>\n",
       "      <td>...</td>\n",
       "    </tr>\n",
       "    <tr>\n",
       "      <th>1728</th>\n",
       "      <td>2019</td>\n",
       "      <td>4</td>\n",
       "      <td>Полезные мелочи</td>\n",
       "      <td>Сумка-тележка хозяйственная Andersen Scala Sho...</td>\n",
       "      <td>5249.0</td>\n",
       "      <td>1</td>\n",
       "    </tr>\n",
       "    <tr>\n",
       "      <th>1729</th>\n",
       "      <td>2019</td>\n",
       "      <td>4</td>\n",
       "      <td>Полезные мелочи</td>\n",
       "      <td>Сумка-тележка хозяйственная GIMI Ideal синяя</td>\n",
       "      <td>1649.0</td>\n",
       "      <td>1</td>\n",
       "    </tr>\n",
       "    <tr>\n",
       "      <th>1730</th>\n",
       "      <td>2019</td>\n",
       "      <td>4</td>\n",
       "      <td>Полезные мелочи</td>\n",
       "      <td>Сумка-тележка хозяйственная Rolser MNB019 rojo...</td>\n",
       "      <td>8077.0</td>\n",
       "      <td>1</td>\n",
       "    </tr>\n",
       "    <tr>\n",
       "      <th>1731</th>\n",
       "      <td>2019</td>\n",
       "      <td>4</td>\n",
       "      <td>Полезные мелочи</td>\n",
       "      <td>Сумка-тележка хозяйственная RolserJet C. Capri...</td>\n",
       "      <td>3329.0</td>\n",
       "      <td>1</td>\n",
       "    </tr>\n",
       "    <tr>\n",
       "      <th>4273</th>\n",
       "      <td>2020</td>\n",
       "      <td>1</td>\n",
       "      <td>Товары для спальни</td>\n",
       "      <td>Штора для ванной комнаты полиэстер Dasch 180х1...</td>\n",
       "      <td>188.0</td>\n",
       "      <td>1</td>\n",
       "    </tr>\n",
       "  </tbody>\n",
       "</table>\n",
       "<p>4274 rows × 6 columns</p>\n",
       "</div>"
      ],
      "text/plain": [
       "      year  month               group  \\\n",
       "502   2018     11            Растения   \n",
       "2252  2019      5            Растения   \n",
       "727   2018     12     Полезные мелочи   \n",
       "343   2018     10  Товары для ремонта   \n",
       "1694  2019      3  Товары для спальни   \n",
       "...    ...    ...                 ...   \n",
       "1728  2019      4     Полезные мелочи   \n",
       "1729  2019      4     Полезные мелочи   \n",
       "1730  2019      4     Полезные мелочи   \n",
       "1731  2019      4     Полезные мелочи   \n",
       "4273  2020      1  Товары для спальни   \n",
       "\n",
       "                                                product    total  number  \n",
       "502                           Муляж ЯБЛОКО 9 см красное  16989.0     311  \n",
       "2252                          Муляж ЯБЛОКО 9 см красное  15300.0     300  \n",
       "727       Ручка-скоба РС-100 белая *Трибатрон*, 1108035   5800.0     200  \n",
       "343   Пружина дверная 240 мм оцинкованная (Д-19 мм) ...   5700.0     150  \n",
       "1694  Плечики пластмассовые Размер 52 - 54 Тула 1205158   3000.0     150  \n",
       "...                                                 ...      ...     ...  \n",
       "1728  Сумка-тележка хозяйственная Andersen Scala Sho...   5249.0       1  \n",
       "1729       Сумка-тележка хозяйственная GIMI Ideal синяя   1649.0       1  \n",
       "1730  Сумка-тележка хозяйственная Rolser MNB019 rojo...   8077.0       1  \n",
       "1731  Сумка-тележка хозяйственная RolserJet C. Capri...   3329.0       1  \n",
       "4273  Штора для ванной комнаты полиэстер Dasch 180х1...    188.0       1  \n",
       "\n",
       "[4274 rows x 6 columns]"
      ]
     },
     "execution_count": 40,
     "metadata": {},
     "output_type": "execute_result"
    }
   ],
   "source": [
    "products_total = (products\n",
    "                  .groupby(['year', 'month', 'group', 'product'])\n",
    "                  .agg(total=('value', 'sum'), number=('sold', 'sum'))\n",
    "                  .reset_index()\n",
    "                 )\n",
    "# топ товаров по количеству продаж                  \n",
    "products_total.sort_values(by=['number'], ascending=False)"
   ]
  },
  {
   "cell_type": "code",
   "execution_count": 41,
   "id": "494f06d8",
   "metadata": {},
   "outputs": [
    {
     "data": {
      "text/html": [
       "<div>\n",
       "<style scoped>\n",
       "    .dataframe tbody tr th:only-of-type {\n",
       "        vertical-align: middle;\n",
       "    }\n",
       "\n",
       "    .dataframe tbody tr th {\n",
       "        vertical-align: top;\n",
       "    }\n",
       "\n",
       "    .dataframe thead th {\n",
       "        text-align: right;\n",
       "    }\n",
       "</style>\n",
       "<table border=\"1\" class=\"dataframe\">\n",
       "  <thead>\n",
       "    <tr style=\"text-align: right;\">\n",
       "      <th></th>\n",
       "      <th>total</th>\n",
       "      <th>number</th>\n",
       "    </tr>\n",
       "  </thead>\n",
       "  <tbody>\n",
       "    <tr>\n",
       "      <th>count</th>\n",
       "      <td>4274.000000</td>\n",
       "      <td>4274.000000</td>\n",
       "    </tr>\n",
       "    <tr>\n",
       "      <th>mean</th>\n",
       "      <td>874.403701</td>\n",
       "      <td>3.000702</td>\n",
       "    </tr>\n",
       "    <tr>\n",
       "      <th>std</th>\n",
       "      <td>1451.075527</td>\n",
       "      <td>10.311722</td>\n",
       "    </tr>\n",
       "    <tr>\n",
       "      <th>min</th>\n",
       "      <td>9.000000</td>\n",
       "      <td>1.000000</td>\n",
       "    </tr>\n",
       "    <tr>\n",
       "      <th>25%</th>\n",
       "      <td>134.000000</td>\n",
       "      <td>1.000000</td>\n",
       "    </tr>\n",
       "    <tr>\n",
       "      <th>50%</th>\n",
       "      <td>338.000000</td>\n",
       "      <td>1.000000</td>\n",
       "    </tr>\n",
       "    <tr>\n",
       "      <th>75%</th>\n",
       "      <td>974.000000</td>\n",
       "      <td>2.000000</td>\n",
       "    </tr>\n",
       "    <tr>\n",
       "      <th>max</th>\n",
       "      <td>16989.000000</td>\n",
       "      <td>311.000000</td>\n",
       "    </tr>\n",
       "  </tbody>\n",
       "</table>\n",
       "</div>"
      ],
      "text/plain": [
       "              total       number\n",
       "count   4274.000000  4274.000000\n",
       "mean     874.403701     3.000702\n",
       "std     1451.075527    10.311722\n",
       "min        9.000000     1.000000\n",
       "25%      134.000000     1.000000\n",
       "50%      338.000000     1.000000\n",
       "75%      974.000000     2.000000\n",
       "max    16989.000000   311.000000"
      ]
     },
     "execution_count": 41,
     "metadata": {},
     "output_type": "execute_result"
    }
   ],
   "source": [
    "# распределение\n",
    "products_total[['total', 'number']].describe()"
   ]
  },
  {
   "cell_type": "code",
   "execution_count": 42,
   "id": "facf2b4d",
   "metadata": {},
   "outputs": [
    {
     "data": {
      "image/png": "[encoded data removed]",
      "text/plain": [
       "<Figure size 1500x600 with 2 Axes>"
      ]
     },
     "metadata": {},
     "output_type": "display_data"
    }
   ],
   "source": [
    "# датафрейм для графиков\n",
    "raw = products_total.groupby('group').agg(total=('total', 'sum'), number=('number', 'sum')).reset_index()\n",
    "\n",
    "# выбор цвета\n",
    "colors = sns.color_palette('pastel')[0:6]\n",
    "\n",
    "fig = plt.figure(figsize=(15,6))\n",
    "fig.suptitle('Категории товаров')\n",
    "\n",
    "# выручка\n",
    "ax1 = fig.add_subplot(121)\n",
    "plt.pie(raw['total'], labels = raw['group'], colors = colors, autopct='%.0f%%')\n",
    "ax1.set_title('Выручка')\n",
    "\n",
    "# кол-во\n",
    "ax2 = fig.add_subplot(122)\n",
    "plt.pie(raw['number'], labels = raw['group'], colors = colors, autopct='%.0f%%')\n",
    "ax2.set_title('Проданное количество')\n",
    "\n",
    "plt.show()"
   ]
  },
  {
   "cell_type": "markdown",
   "id": "de1a58a6",
   "metadata": {},
   "source": [
    "- Наибольший вклад по деньгам приносят `полезные мелочи` (33%), а в штуках они на четвертом месте (11%);\n",
    "- 25% выручки делают `товары для ванной` и 13% от проданного количества;\n",
    "- `Растения` составляют 20% выручки и более половины от всего проданного количества (53%);\n",
    "- `Товары для кухни` занимают  по 11% в денежном и количественном выражении;\n",
    "- Меньше 7% у товаров для `спальни` и `ремонта`."
   ]
  },
  {
   "cell_type": "markdown",
   "id": "dd5764df",
   "metadata": {},
   "source": [
    "Далее изучу доли категорий в выручке по месяцам 2019"
   ]
  },
  {
   "cell_type": "code",
   "execution_count": 43,
   "id": "bcae6407",
   "metadata": {
    "scrolled": false
   },
   "outputs": [
    {
     "data": {
      "text/html": [
       "<div>\n",
       "<style scoped>\n",
       "    .dataframe tbody tr th:only-of-type {\n",
       "        vertical-align: middle;\n",
       "    }\n",
       "\n",
       "    .dataframe tbody tr th {\n",
       "        vertical-align: top;\n",
       "    }\n",
       "\n",
       "    .dataframe thead th {\n",
       "        text-align: right;\n",
       "    }\n",
       "</style>\n",
       "<table border=\"1\" class=\"dataframe\">\n",
       "  <thead>\n",
       "    <tr style=\"text-align: right;\">\n",
       "      <th></th>\n",
       "      <th>month</th>\n",
       "      <th>group</th>\n",
       "      <th>total</th>\n",
       "      <th>number</th>\n",
       "      <th>total_all</th>\n",
       "      <th>number_all</th>\n",
       "      <th>total_share</th>\n",
       "      <th>number_share</th>\n",
       "    </tr>\n",
       "  </thead>\n",
       "  <tbody>\n",
       "    <tr>\n",
       "      <th>0</th>\n",
       "      <td>1</td>\n",
       "      <td>Полезные мелочи</td>\n",
       "      <td>32118.0</td>\n",
       "      <td>45</td>\n",
       "      <td>184272.0</td>\n",
       "      <td>604</td>\n",
       "      <td>0.174297</td>\n",
       "      <td>0.074503</td>\n",
       "    </tr>\n",
       "    <tr>\n",
       "      <th>1</th>\n",
       "      <td>1</td>\n",
       "      <td>Растения</td>\n",
       "      <td>28441.0</td>\n",
       "      <td>193</td>\n",
       "      <td>184272.0</td>\n",
       "      <td>604</td>\n",
       "      <td>0.154342</td>\n",
       "      <td>0.319536</td>\n",
       "    </tr>\n",
       "    <tr>\n",
       "      <th>2</th>\n",
       "      <td>1</td>\n",
       "      <td>Товары для ванной</td>\n",
       "      <td>52555.0</td>\n",
       "      <td>135</td>\n",
       "      <td>184272.0</td>\n",
       "      <td>604</td>\n",
       "      <td>0.285203</td>\n",
       "      <td>0.223510</td>\n",
       "    </tr>\n",
       "    <tr>\n",
       "      <th>3</th>\n",
       "      <td>1</td>\n",
       "      <td>Товары для кухни</td>\n",
       "      <td>37186.0</td>\n",
       "      <td>191</td>\n",
       "      <td>184272.0</td>\n",
       "      <td>604</td>\n",
       "      <td>0.201800</td>\n",
       "      <td>0.316225</td>\n",
       "    </tr>\n",
       "    <tr>\n",
       "      <th>4</th>\n",
       "      <td>1</td>\n",
       "      <td>Товары для ремонта</td>\n",
       "      <td>13192.0</td>\n",
       "      <td>8</td>\n",
       "      <td>184272.0</td>\n",
       "      <td>604</td>\n",
       "      <td>0.071590</td>\n",
       "      <td>0.013245</td>\n",
       "    </tr>\n",
       "  </tbody>\n",
       "</table>\n",
       "</div>"
      ],
      "text/plain": [
       "   month               group    total  number  total_all  number_all  \\\n",
       "0      1     Полезные мелочи  32118.0      45   184272.0         604   \n",
       "1      1            Растения  28441.0     193   184272.0         604   \n",
       "2      1   Товары для ванной  52555.0     135   184272.0         604   \n",
       "3      1    Товары для кухни  37186.0     191   184272.0         604   \n",
       "4      1  Товары для ремонта  13192.0       8   184272.0         604   \n",
       "\n",
       "   total_share  number_share  \n",
       "0     0.174297      0.074503  \n",
       "1     0.154342      0.319536  \n",
       "2     0.285203      0.223510  \n",
       "3     0.201800      0.316225  \n",
       "4     0.071590      0.013245  "
      ]
     },
     "execution_count": 43,
     "metadata": {},
     "output_type": "execute_result"
    }
   ],
   "source": [
    "# датасет с категориями по месяцам 2019\n",
    "raw_month = products_total.query('year == 2019')\\\n",
    "    .groupby(['month', 'group']).agg(total=('total', 'sum'), number=('number', 'sum')).reset_index()\n",
    "\n",
    "# вспомогательный сет\n",
    "help_t = products_total.query('year == 2019')\\\n",
    "    .groupby(['month']).agg(total_all=('total', 'sum'), number_all=('number', 'sum')).reset_index()\n",
    "\n",
    "# объединение\n",
    "raw_month = raw_month.merge(help_t, on='month', how='left')\n",
    "\n",
    "# доли\n",
    "raw_month['total_share'] = raw_month['total'] / raw_month['total_all']\n",
    "raw_month['number_share'] = raw_month['number'] / raw_month['number_all']\n",
    "\n",
    "raw_month.head()"
   ]
  },
  {
   "cell_type": "code",
   "execution_count": 44,
   "id": "776bf7ef",
   "metadata": {},
   "outputs": [
    {
     "data": {
      "image/png": "[encoded data removed]",
      "text/plain": [
       "<Figure size 900x600 with 1 Axes>"
      ]
     },
     "metadata": {},
     "output_type": "display_data"
    }
   ],
   "source": [
    "# выручка \n",
    "item = 'total_share'\n",
    "\n",
    "# палитра\n",
    "mycolors = sns.color_palette('pastel')[0:6]    \n",
    "\n",
    "fig, ax = plt.subplots(1,1,figsize=(15, 10), dpi= 60)\n",
    "\n",
    "columns = [\n",
    "    'Полезные мелочи', \n",
    "    'Растения', \n",
    "    'Товары для ванной', \n",
    "    'Товары для кухни', \n",
    "    'Товары для ремонта', \n",
    "    'Товары для спальни'\n",
    "]\n",
    "\n",
    "labs = columns\n",
    "\n",
    "# Данные\n",
    "x  = list(range(1, 13))\n",
    "y0 = raw_month.query('group == \"Полезные мелочи\"')[item].values.tolist()\n",
    "y1 = raw_month.query('group == \"Растения\"')[item].values.tolist()\n",
    "y2 = raw_month.query('group == \"Товары для ванной\"')[item].values.tolist()\n",
    "y3 = raw_month.query('group == \"Товары для кухни\"')[item].values.tolist()\n",
    "y4 = raw_month.query('group == \"Товары для ремонта\"')[item].values.tolist()\n",
    "y5 = raw_month.query('group == \"Товары для спальни\"')[item].values.tolist()\n",
    "y = np.vstack([y0, y1, y2, y3, y4, y5])\n",
    "\n",
    "ax = plt.gca()\n",
    "ax.stackplot(x, y, labels=labs, colors=mycolors)\n",
    "\n",
    "plt.xticks(x[::1], fontsize=10, horizontalalignment='center')\n",
    "plt.yticks(fontsize=10)\n",
    "\n",
    "ax.set_title('Доли выручки категорий по месяцам 2019', fontsize=14)\n",
    "ax.legend(fontsize=10, ncol=3)\n",
    "\n",
    "plt.gca().spines[\"top\"].set_alpha(0.1)\n",
    "plt.gca().spines[\"bottom\"].set_alpha(0.1)\n",
    "plt.gca().spines[\"right\"].set_alpha(0.1)\n",
    "plt.gca().spines[\"left\"].set_alpha(0.1)\n",
    "\n",
    "plt.show()"
   ]
  },
  {
   "cell_type": "markdown",
   "id": "7d9d19ba",
   "metadata": {},
   "source": [
    "- Доля `полезных мелочей` в выручке колеблется от 18 до 38%, провал в начале лета, пик в августе;\n",
    "- Спрос на `растения` наибольший в апреле и мае (садовый сезон), в другое время ровный - около 10 %;\n",
    "- `Товары для ванной` приносят около 20%, спад в апреле и мае;\n",
    "- Продажи `товаров для кухни` составляют около 17% в начале года, снижаются до 5% в период с апреля по июнь;\n",
    "- `Товары для ремонта` лучше продаются летом и в середине осени; \n",
    "- `Товары для спальни` продаются равномерно в течение года, небольшой рост в марте и декабре из-за праздников."
   ]
  },
  {
   "cell_type": "markdown",
   "id": "97b7af4f",
   "metadata": {},
   "source": [
    "#### Ранжирование товаров по выручке и проданному количеству внутри каждой категории"
   ]
  },
  {
   "cell_type": "code",
   "execution_count": 45,
   "id": "8015a237",
   "metadata": {},
   "outputs": [
    {
     "data": {
      "text/html": [
       "<div>\n",
       "<style scoped>\n",
       "    .dataframe tbody tr th:only-of-type {\n",
       "        vertical-align: middle;\n",
       "    }\n",
       "\n",
       "    .dataframe tbody tr th {\n",
       "        vertical-align: top;\n",
       "    }\n",
       "\n",
       "    .dataframe thead th {\n",
       "        text-align: right;\n",
       "    }\n",
       "</style>\n",
       "<table border=\"1\" class=\"dataframe\">\n",
       "  <thead>\n",
       "    <tr style=\"text-align: right;\">\n",
       "      <th></th>\n",
       "      <th>group</th>\n",
       "      <th>product</th>\n",
       "      <th>rev_share</th>\n",
       "      <th>count_share</th>\n",
       "    </tr>\n",
       "  </thead>\n",
       "  <tbody>\n",
       "    <tr>\n",
       "      <th>2263</th>\n",
       "      <td>Товары для спальни</td>\n",
       "      <td>Одеяло Wellness T142 белое темостеганое 140х20...</td>\n",
       "      <td>0.077447</td>\n",
       "      <td>0.022495</td>\n",
       "    </tr>\n",
       "    <tr>\n",
       "      <th>2082</th>\n",
       "      <td>Товары для кухни</td>\n",
       "      <td>Сушилка Meliconi Stendy Junior</td>\n",
       "      <td>0.066350</td>\n",
       "      <td>0.003394</td>\n",
       "    </tr>\n",
       "    <tr>\n",
       "      <th>2259</th>\n",
       "      <td>Товары для спальни</td>\n",
       "      <td>Наматрацник Natures Бархатный бамбук ББ-Н-1-2 ...</td>\n",
       "      <td>0.063743</td>\n",
       "      <td>0.024540</td>\n",
       "    </tr>\n",
       "    <tr>\n",
       "      <th>2221</th>\n",
       "      <td>Товары для ремонта</td>\n",
       "      <td>Стремянки Colombo Leonardo 2 ступени G300A02W ...</td>\n",
       "      <td>0.051028</td>\n",
       "      <td>0.003212</td>\n",
       "    </tr>\n",
       "    <tr>\n",
       "      <th>2222</th>\n",
       "      <td>Товары для ремонта</td>\n",
       "      <td>Стремянки Colombo Leonardo 3 ступени G300A03W ...</td>\n",
       "      <td>0.045079</td>\n",
       "      <td>0.002141</td>\n",
       "    </tr>\n",
       "    <tr>\n",
       "      <th>698</th>\n",
       "      <td>Растения</td>\n",
       "      <td>Муляж ЯБЛОКО 9 см красное</td>\n",
       "      <td>0.044236</td>\n",
       "      <td>0.091420</td>\n",
       "    </tr>\n",
       "    <tr>\n",
       "      <th>2200</th>\n",
       "      <td>Товары для ремонта</td>\n",
       "      <td>Стремянка 7 ступенчатая Hailo 8040-707 XXL 13 ...</td>\n",
       "      <td>0.043808</td>\n",
       "      <td>0.001071</td>\n",
       "    </tr>\n",
       "    <tr>\n",
       "      <th>2275</th>\n",
       "      <td>Товары для спальни</td>\n",
       "      <td>Покрывало жаккард шенилл BIRHOME VALENTIN 240х...</td>\n",
       "      <td>0.043636</td>\n",
       "      <td>0.004090</td>\n",
       "    </tr>\n",
       "    <tr>\n",
       "      <th>2220</th>\n",
       "      <td>Товары для ремонта</td>\n",
       "      <td>Стремянки Colombo Leonardo 2 ступени G300A02W ...</td>\n",
       "      <td>0.042107</td>\n",
       "      <td>0.002141</td>\n",
       "    </tr>\n",
       "    <tr>\n",
       "      <th>156</th>\n",
       "      <td>Полезные мелочи</td>\n",
       "      <td>Сумка-тележка 2-х колесная Gimi Argo синяя</td>\n",
       "      <td>0.040959</td>\n",
       "      <td>0.032148</td>\n",
       "    </tr>\n",
       "  </tbody>\n",
       "</table>\n",
       "</div>"
      ],
      "text/plain": [
       "                   group                                            product  \\\n",
       "2263  Товары для спальни  Одеяло Wellness T142 белое темостеганое 140х20...   \n",
       "2082    Товары для кухни                     Сушилка Meliconi Stendy Junior   \n",
       "2259  Товары для спальни  Наматрацник Natures Бархатный бамбук ББ-Н-1-2 ...   \n",
       "2221  Товары для ремонта  Стремянки Colombo Leonardo 2 ступени G300A02W ...   \n",
       "2222  Товары для ремонта  Стремянки Colombo Leonardo 3 ступени G300A03W ...   \n",
       "698             Растения                          Муляж ЯБЛОКО 9 см красное   \n",
       "2200  Товары для ремонта  Стремянка 7 ступенчатая Hailo 8040-707 XXL 13 ...   \n",
       "2275  Товары для спальни  Покрывало жаккард шенилл BIRHOME VALENTIN 240х...   \n",
       "2220  Товары для ремонта  Стремянки Colombo Leonardo 2 ступени G300A02W ...   \n",
       "156      Полезные мелочи         Сумка-тележка 2-х колесная Gimi Argo синяя   \n",
       "\n",
       "      rev_share  count_share  \n",
       "2263   0.077447     0.022495  \n",
       "2082   0.066350     0.003394  \n",
       "2259   0.063743     0.024540  \n",
       "2221   0.051028     0.003212  \n",
       "2222   0.045079     0.002141  \n",
       "698    0.044236     0.091420  \n",
       "2200   0.043808     0.001071  \n",
       "2275   0.043636     0.004090  \n",
       "2220   0.042107     0.002141  \n",
       "156    0.040959     0.032148  "
      ]
     },
     "execution_count": 45,
     "metadata": {},
     "output_type": "execute_result"
    }
   ],
   "source": [
    "# разбивка на категории и продукты\n",
    "product_month = (products_total\n",
    "    .groupby(['group', 'product'])\n",
    "    .agg(rev=('total', 'sum'), count=('number', 'sum'))\n",
    "    .reset_index())\n",
    "\n",
    "# общие продажи в денежном и количественном выражении уже считал\n",
    "# датафрейм raw\n",
    "fin_groups = product_month.merge(raw, on='group', how='left')\n",
    "\n",
    "fin_groups['rev_share'] = fin_groups['rev'] / fin_groups['total']\n",
    "fin_groups['count_share'] = fin_groups['count'] / fin_groups['number']\n",
    "\n",
    "# удалю вспомогательные столбцы\n",
    "fin_groups = fin_groups.drop(columns=['rev', 'count', 'total', 'number']).reset_index(drop=True)\n",
    "\n",
    "# сортировка\n",
    "fin_groups = fin_groups.sort_values(by='rev_share', ascending=False)\n",
    "\n",
    "fin_groups.head(10)"
   ]
  },
  {
   "cell_type": "markdown",
   "id": "a1f40071",
   "metadata": {},
   "source": [
    "Самыми \"выручкоёмкими\" товара являются стремянки. По отдельным позициям лидер одеяло и покрывало. "
   ]
  },
  {
   "cell_type": "markdown",
   "id": "eb22f58d",
   "metadata": {},
   "source": [
    "*Выводы по исследовательскому анализу данных сделаны в каждом разделе, общий - в конце проекта*"
   ]
  },
  {
   "cell_type": "markdown",
   "id": "acc17d04",
   "metadata": {},
   "source": [
    "### ABC-анализ"
   ]
  },
  {
   "cell_type": "code",
   "execution_count": 46,
   "id": "948317d2",
   "metadata": {},
   "outputs": [
    {
     "data": {
      "text/html": [
       "<div>\n",
       "<style scoped>\n",
       "    .dataframe tbody tr th:only-of-type {\n",
       "        vertical-align: middle;\n",
       "    }\n",
       "\n",
       "    .dataframe tbody tr th {\n",
       "        vertical-align: top;\n",
       "    }\n",
       "\n",
       "    .dataframe thead th {\n",
       "        text-align: right;\n",
       "    }\n",
       "</style>\n",
       "<table border=\"1\" class=\"dataframe\">\n",
       "  <thead>\n",
       "    <tr style=\"text-align: right;\">\n",
       "      <th></th>\n",
       "      <th>group</th>\n",
       "      <th>product</th>\n",
       "      <th>rev_share</th>\n",
       "      <th>count_share</th>\n",
       "      <th>revenue_cumulative</th>\n",
       "    </tr>\n",
       "  </thead>\n",
       "  <tbody>\n",
       "    <tr>\n",
       "      <th>2263</th>\n",
       "      <td>Товары для спальни</td>\n",
       "      <td>Одеяло Wellness T142 белое темостеганое 140х20...</td>\n",
       "      <td>0.077447</td>\n",
       "      <td>0.022495</td>\n",
       "      <td>0.077447</td>\n",
       "    </tr>\n",
       "    <tr>\n",
       "      <th>2082</th>\n",
       "      <td>Товары для кухни</td>\n",
       "      <td>Сушилка Meliconi Stendy Junior</td>\n",
       "      <td>0.066350</td>\n",
       "      <td>0.003394</td>\n",
       "      <td>0.066350</td>\n",
       "    </tr>\n",
       "    <tr>\n",
       "      <th>2259</th>\n",
       "      <td>Товары для спальни</td>\n",
       "      <td>Наматрацник Natures Бархатный бамбук ББ-Н-1-2 ...</td>\n",
       "      <td>0.063743</td>\n",
       "      <td>0.024540</td>\n",
       "      <td>0.141190</td>\n",
       "    </tr>\n",
       "    <tr>\n",
       "      <th>2221</th>\n",
       "      <td>Товары для ремонта</td>\n",
       "      <td>Стремянки Colombo Leonardo 2 ступени G300A02W ...</td>\n",
       "      <td>0.051028</td>\n",
       "      <td>0.003212</td>\n",
       "      <td>0.051028</td>\n",
       "    </tr>\n",
       "    <tr>\n",
       "      <th>2222</th>\n",
       "      <td>Товары для ремонта</td>\n",
       "      <td>Стремянки Colombo Leonardo 3 ступени G300A03W ...</td>\n",
       "      <td>0.045079</td>\n",
       "      <td>0.002141</td>\n",
       "      <td>0.096107</td>\n",
       "    </tr>\n",
       "  </tbody>\n",
       "</table>\n",
       "</div>"
      ],
      "text/plain": [
       "                   group                                            product  \\\n",
       "2263  Товары для спальни  Одеяло Wellness T142 белое темостеганое 140х20...   \n",
       "2082    Товары для кухни                     Сушилка Meliconi Stendy Junior   \n",
       "2259  Товары для спальни  Наматрацник Natures Бархатный бамбук ББ-Н-1-2 ...   \n",
       "2221  Товары для ремонта  Стремянки Colombo Leonardo 2 ступени G300A02W ...   \n",
       "2222  Товары для ремонта  Стремянки Colombo Leonardo 3 ступени G300A03W ...   \n",
       "\n",
       "      rev_share  count_share  revenue_cumulative  \n",
       "2263   0.077447     0.022495            0.077447  \n",
       "2082   0.066350     0.003394            0.066350  \n",
       "2259   0.063743     0.024540            0.141190  \n",
       "2221   0.051028     0.003212            0.051028  \n",
       "2222   0.045079     0.002141            0.096107  "
      ]
     },
     "execution_count": 46,
     "metadata": {},
     "output_type": "execute_result"
    }
   ],
   "source": [
    "# накопительный процент по выручке\n",
    "fin_groups['revenue_cumulative'] = fin_groups.groupby('group')['rev_share'].transform('cumsum')\n",
    "fin_groups.head()"
   ]
  },
  {
   "cell_type": "code",
   "execution_count": 47,
   "id": "edff6895",
   "metadata": {},
   "outputs": [
    {
     "data": {
      "text/html": [
       "<div>\n",
       "<style scoped>\n",
       "    .dataframe tbody tr th:only-of-type {\n",
       "        vertical-align: middle;\n",
       "    }\n",
       "\n",
       "    .dataframe tbody tr th {\n",
       "        vertical-align: top;\n",
       "    }\n",
       "\n",
       "    .dataframe thead th {\n",
       "        text-align: right;\n",
       "    }\n",
       "</style>\n",
       "<table border=\"1\" class=\"dataframe\">\n",
       "  <thead>\n",
       "    <tr style=\"text-align: right;\">\n",
       "      <th></th>\n",
       "      <th>group</th>\n",
       "      <th>product</th>\n",
       "      <th>rev_share</th>\n",
       "      <th>count_share</th>\n",
       "      <th>revenue_cumulative</th>\n",
       "      <th>count_cumulative</th>\n",
       "    </tr>\n",
       "  </thead>\n",
       "  <tbody>\n",
       "    <tr>\n",
       "      <th>2263</th>\n",
       "      <td>Товары для спальни</td>\n",
       "      <td>Одеяло Wellness T142 белое темостеганое 140х20...</td>\n",
       "      <td>0.077447</td>\n",
       "      <td>0.022495</td>\n",
       "      <td>0.077447</td>\n",
       "      <td>0.022495</td>\n",
       "    </tr>\n",
       "    <tr>\n",
       "      <th>2082</th>\n",
       "      <td>Товары для кухни</td>\n",
       "      <td>Сушилка Meliconi Stendy Junior</td>\n",
       "      <td>0.066350</td>\n",
       "      <td>0.003394</td>\n",
       "      <td>0.066350</td>\n",
       "      <td>0.003394</td>\n",
       "    </tr>\n",
       "    <tr>\n",
       "      <th>2259</th>\n",
       "      <td>Товары для спальни</td>\n",
       "      <td>Наматрацник Natures Бархатный бамбук ББ-Н-1-2 ...</td>\n",
       "      <td>0.063743</td>\n",
       "      <td>0.024540</td>\n",
       "      <td>0.141190</td>\n",
       "      <td>0.047035</td>\n",
       "    </tr>\n",
       "    <tr>\n",
       "      <th>2221</th>\n",
       "      <td>Товары для ремонта</td>\n",
       "      <td>Стремянки Colombo Leonardo 2 ступени G300A02W ...</td>\n",
       "      <td>0.051028</td>\n",
       "      <td>0.003212</td>\n",
       "      <td>0.051028</td>\n",
       "      <td>0.003212</td>\n",
       "    </tr>\n",
       "    <tr>\n",
       "      <th>2222</th>\n",
       "      <td>Товары для ремонта</td>\n",
       "      <td>Стремянки Colombo Leonardo 3 ступени G300A03W ...</td>\n",
       "      <td>0.045079</td>\n",
       "      <td>0.002141</td>\n",
       "      <td>0.096107</td>\n",
       "      <td>0.005353</td>\n",
       "    </tr>\n",
       "  </tbody>\n",
       "</table>\n",
       "</div>"
      ],
      "text/plain": [
       "                   group                                            product  \\\n",
       "2263  Товары для спальни  Одеяло Wellness T142 белое темостеганое 140х20...   \n",
       "2082    Товары для кухни                     Сушилка Meliconi Stendy Junior   \n",
       "2259  Товары для спальни  Наматрацник Natures Бархатный бамбук ББ-Н-1-2 ...   \n",
       "2221  Товары для ремонта  Стремянки Colombo Leonardo 2 ступени G300A02W ...   \n",
       "2222  Товары для ремонта  Стремянки Colombo Leonardo 3 ступени G300A03W ...   \n",
       "\n",
       "      rev_share  count_share  revenue_cumulative  count_cumulative  \n",
       "2263   0.077447     0.022495            0.077447          0.022495  \n",
       "2082   0.066350     0.003394            0.066350          0.003394  \n",
       "2259   0.063743     0.024540            0.141190          0.047035  \n",
       "2221   0.051028     0.003212            0.051028          0.003212  \n",
       "2222   0.045079     0.002141            0.096107          0.005353  "
      ]
     },
     "execution_count": 47,
     "metadata": {},
     "output_type": "execute_result"
    }
   ],
   "source": [
    "# накопительный процент по количеству\n",
    "fin_groups.sort_values(by='count_share', ascending=False)\n",
    "fin_groups['count_cumulative'] = fin_groups.groupby('group')['count_share'].transform('cumsum')\n",
    "fin_groups.head()"
   ]
  },
  {
   "cell_type": "code",
   "execution_count": 48,
   "id": "009905e7",
   "metadata": {},
   "outputs": [
    {
     "data": {
      "text/html": [
       "<div>\n",
       "<style scoped>\n",
       "    .dataframe tbody tr th:only-of-type {\n",
       "        vertical-align: middle;\n",
       "    }\n",
       "\n",
       "    .dataframe tbody tr th {\n",
       "        vertical-align: top;\n",
       "    }\n",
       "\n",
       "    .dataframe thead th {\n",
       "        text-align: right;\n",
       "    }\n",
       "</style>\n",
       "<table border=\"1\" class=\"dataframe\">\n",
       "  <thead>\n",
       "    <tr style=\"text-align: right;\">\n",
       "      <th></th>\n",
       "      <th>group</th>\n",
       "      <th>product</th>\n",
       "      <th>rev_share</th>\n",
       "      <th>count_share</th>\n",
       "      <th>revenue_cumulative</th>\n",
       "      <th>count_cumulative</th>\n",
       "      <th>cut_rev</th>\n",
       "      <th>cut_count</th>\n",
       "    </tr>\n",
       "  </thead>\n",
       "  <tbody>\n",
       "    <tr>\n",
       "      <th>0</th>\n",
       "      <td>Товары для спальни</td>\n",
       "      <td>Одеяло Wellness T142 белое темостеганое 140х20...</td>\n",
       "      <td>0.077447</td>\n",
       "      <td>0.022495</td>\n",
       "      <td>0.077447</td>\n",
       "      <td>0.022495</td>\n",
       "      <td>A</td>\n",
       "      <td>A</td>\n",
       "    </tr>\n",
       "    <tr>\n",
       "      <th>1</th>\n",
       "      <td>Товары для кухни</td>\n",
       "      <td>Сушилка Meliconi Stendy Junior</td>\n",
       "      <td>0.066350</td>\n",
       "      <td>0.003394</td>\n",
       "      <td>0.066350</td>\n",
       "      <td>0.003394</td>\n",
       "      <td>A</td>\n",
       "      <td>A</td>\n",
       "    </tr>\n",
       "    <tr>\n",
       "      <th>2</th>\n",
       "      <td>Товары для спальни</td>\n",
       "      <td>Наматрацник Natures Бархатный бамбук ББ-Н-1-2 ...</td>\n",
       "      <td>0.063743</td>\n",
       "      <td>0.024540</td>\n",
       "      <td>0.141190</td>\n",
       "      <td>0.047035</td>\n",
       "      <td>A</td>\n",
       "      <td>A</td>\n",
       "    </tr>\n",
       "    <tr>\n",
       "      <th>3</th>\n",
       "      <td>Товары для ремонта</td>\n",
       "      <td>Стремянки Colombo Leonardo 2 ступени G300A02W ...</td>\n",
       "      <td>0.051028</td>\n",
       "      <td>0.003212</td>\n",
       "      <td>0.051028</td>\n",
       "      <td>0.003212</td>\n",
       "      <td>A</td>\n",
       "      <td>A</td>\n",
       "    </tr>\n",
       "    <tr>\n",
       "      <th>4</th>\n",
       "      <td>Товары для ремонта</td>\n",
       "      <td>Стремянки Colombo Leonardo 3 ступени G300A03W ...</td>\n",
       "      <td>0.045079</td>\n",
       "      <td>0.002141</td>\n",
       "      <td>0.096107</td>\n",
       "      <td>0.005353</td>\n",
       "      <td>A</td>\n",
       "      <td>A</td>\n",
       "    </tr>\n",
       "  </tbody>\n",
       "</table>\n",
       "</div>"
      ],
      "text/plain": [
       "                group                                            product  \\\n",
       "0  Товары для спальни  Одеяло Wellness T142 белое темостеганое 140х20...   \n",
       "1    Товары для кухни                     Сушилка Meliconi Stendy Junior   \n",
       "2  Товары для спальни  Наматрацник Natures Бархатный бамбук ББ-Н-1-2 ...   \n",
       "3  Товары для ремонта  Стремянки Colombo Leonardo 2 ступени G300A02W ...   \n",
       "4  Товары для ремонта  Стремянки Colombo Leonardo 3 ступени G300A03W ...   \n",
       "\n",
       "   rev_share  count_share  revenue_cumulative  count_cumulative cut_rev  \\\n",
       "0   0.077447     0.022495            0.077447          0.022495       A   \n",
       "1   0.066350     0.003394            0.066350          0.003394       A   \n",
       "2   0.063743     0.024540            0.141190          0.047035       A   \n",
       "3   0.051028     0.003212            0.051028          0.003212       A   \n",
       "4   0.045079     0.002141            0.096107          0.005353       A   \n",
       "\n",
       "  cut_count  \n",
       "0         A  \n",
       "1         A  \n",
       "2         A  \n",
       "3         A  \n",
       "4         A  "
      ]
     },
     "execution_count": 48,
     "metadata": {},
     "output_type": "execute_result"
    }
   ],
   "source": [
    "# распределение товаров по трем категориям: A - до 80%, B - 80-95%, C - от 95%.\n",
    "cut_labels = ['A', 'B', 'C']\n",
    "cut_bins = [0, 0.8, 0.95, 1]\n",
    "\n",
    "# по выручке\n",
    "fin_groups['cut_rev'] = pd.cut(fin_groups['revenue_cumulative'],\n",
    "                      bins=cut_bins,\n",
    "                      labels=cut_labels)\n",
    "\n",
    "# по количеству\n",
    "fin_groups['cut_count'] = pd.cut(fin_groups['count_cumulative'],\n",
    "                        bins=cut_bins,\n",
    "                        labels=cut_labels)\n",
    "\n",
    "fin_groups = fin_groups.reset_index(drop=True)\n",
    "fin_groups.head()"
   ]
  },
  {
   "cell_type": "code",
   "execution_count": 49,
   "id": "c00f2393",
   "metadata": {},
   "outputs": [
    {
     "data": {
      "text/html": [
       "<div>\n",
       "<style scoped>\n",
       "    .dataframe tbody tr th:only-of-type {\n",
       "        vertical-align: middle;\n",
       "    }\n",
       "\n",
       "    .dataframe tbody tr th {\n",
       "        vertical-align: top;\n",
       "    }\n",
       "\n",
       "    .dataframe thead th {\n",
       "        text-align: right;\n",
       "    }\n",
       "</style>\n",
       "<table border=\"1\" class=\"dataframe\">\n",
       "  <thead>\n",
       "    <tr style=\"text-align: right;\">\n",
       "      <th></th>\n",
       "      <th>group</th>\n",
       "      <th>product</th>\n",
       "      <th>rev_share</th>\n",
       "      <th>count_share</th>\n",
       "      <th>revenue_cumulative</th>\n",
       "      <th>count_cumulative</th>\n",
       "      <th>cut_rev</th>\n",
       "      <th>cut_count</th>\n",
       "      <th>type</th>\n",
       "    </tr>\n",
       "  </thead>\n",
       "  <tbody>\n",
       "    <tr>\n",
       "      <th>2029</th>\n",
       "      <td>Растения</td>\n",
       "      <td>Муляж Долька Арбуза 14*7,5 см</td>\n",
       "      <td>0.000160</td>\n",
       "      <td>0.000296</td>\n",
       "      <td>0.980894</td>\n",
       "      <td>0.948964</td>\n",
       "      <td>C</td>\n",
       "      <td>B</td>\n",
       "      <td>Дополнительный товар</td>\n",
       "    </tr>\n",
       "    <tr>\n",
       "      <th>1895</th>\n",
       "      <td>Полезные мелочи</td>\n",
       "      <td>Коробка прямоугольная Полимербыт ПРОВАНС 5,5 л...</td>\n",
       "      <td>0.000206</td>\n",
       "      <td>0.001368</td>\n",
       "      <td>0.996325</td>\n",
       "      <td>0.957592</td>\n",
       "      <td>C</td>\n",
       "      <td>C</td>\n",
       "      <td>Можно избавиться</td>\n",
       "    </tr>\n",
       "    <tr>\n",
       "      <th>1581</th>\n",
       "      <td>Растения</td>\n",
       "      <td>Шеффлера Голд Капелла d-12 см h-25 см</td>\n",
       "      <td>0.000403</td>\n",
       "      <td>0.000296</td>\n",
       "      <td>0.892720</td>\n",
       "      <td>0.829734</td>\n",
       "      <td>B</td>\n",
       "      <td>B</td>\n",
       "      <td>Дополнительный товар</td>\n",
       "    </tr>\n",
       "    <tr>\n",
       "      <th>481</th>\n",
       "      <td>Полезные мелочи</td>\n",
       "      <td>Этажерка для обуви НИКА ЭТП3/З с ящиком золотой</td>\n",
       "      <td>0.003198</td>\n",
       "      <td>0.002052</td>\n",
       "      <td>0.781933</td>\n",
       "      <td>0.579343</td>\n",
       "      <td>A</td>\n",
       "      <td>A</td>\n",
       "      <td>Основной товар</td>\n",
       "    </tr>\n",
       "    <tr>\n",
       "      <th>2227</th>\n",
       "      <td>Растения</td>\n",
       "      <td>Космея Попсокс розовая 10 шт 4650091480555</td>\n",
       "      <td>0.000060</td>\n",
       "      <td>0.000296</td>\n",
       "      <td>0.996563</td>\n",
       "      <td>0.981805</td>\n",
       "      <td>C</td>\n",
       "      <td>C</td>\n",
       "      <td>Можно избавиться</td>\n",
       "    </tr>\n",
       "  </tbody>\n",
       "</table>\n",
       "</div>"
      ],
      "text/plain": [
       "                group                                            product  \\\n",
       "2029         Растения                      Муляж Долька Арбуза 14*7,5 см   \n",
       "1895  Полезные мелочи  Коробка прямоугольная Полимербыт ПРОВАНС 5,5 л...   \n",
       "1581         Растения              Шеффлера Голд Капелла d-12 см h-25 см   \n",
       "481   Полезные мелочи    Этажерка для обуви НИКА ЭТП3/З с ящиком золотой   \n",
       "2227         Растения         Космея Попсокс розовая 10 шт 4650091480555   \n",
       "\n",
       "      rev_share  count_share  revenue_cumulative  count_cumulative cut_rev  \\\n",
       "2029   0.000160     0.000296            0.980894          0.948964       C   \n",
       "1895   0.000206     0.001368            0.996325          0.957592       C   \n",
       "1581   0.000403     0.000296            0.892720          0.829734       B   \n",
       "481    0.003198     0.002052            0.781933          0.579343       A   \n",
       "2227   0.000060     0.000296            0.996563          0.981805       C   \n",
       "\n",
       "     cut_count                  type  \n",
       "2029         B  Дополнительный товар  \n",
       "1895         C      Можно избавиться  \n",
       "1581         B  Дополнительный товар  \n",
       "481          A        Основной товар  \n",
       "2227         C      Можно избавиться  "
      ]
     },
     "execution_count": 49,
     "metadata": {},
     "output_type": "execute_result"
    }
   ],
   "source": [
    "# товары по типам влияния на продажи интернет-магазина: \"основные\", \"дополнительные\" и \"можно избавиться\"\n",
    "for i in range(len(fin_groups['product'])): \n",
    "    if fin_groups.loc[i, 'cut_rev'] == 'A' or fin_groups.loc[i, 'cut_count'] == 'A':\n",
    "        fin_groups.loc[i, 'type'] = 'Основной товар'\n",
    "    elif fin_groups.loc[i, 'cut_rev'] == 'C' and fin_groups.loc[i, 'cut_count'] == 'C':\n",
    "        fin_groups.loc[i, 'type'] = 'Можно избавиться'\n",
    "    else: \n",
    "        fin_groups.loc[i, 'type'] = 'Дополнительный товар'\n",
    "\n",
    "fin_groups.sample(5)"
   ]
  },
  {
   "cell_type": "code",
   "execution_count": 50,
   "id": "3baf69d8",
   "metadata": {},
   "outputs": [
    {
     "name": "stdout",
     "output_type": "stream",
     "text": [
      "Основной товар 51%\n",
      "Дополнительный товар 31%\n",
      "Можно избавиться 18%\n"
     ]
    }
   ],
   "source": [
    "# доля каждого типа\n",
    "for i in ['Основной товар', 'Дополнительный товар', 'Можно избавиться']:\n",
    "    x = len(fin_groups.query('type == @i')) / len(fin_groups) * 100\n",
    "    print(i, '{:.0f}%'.format(x))"
   ]
  },
  {
   "cell_type": "code",
   "execution_count": 51,
   "id": "40ef96a8",
   "metadata": {},
   "outputs": [],
   "source": [
    "# какая часть товаров каждой категории попала в \"можно избавиться\"\n",
    "\n",
    "# общее количество\n",
    "fin_groups['total_count'] = fin_groups.groupby('group')['product'].transform('nunique')\n",
    "\n",
    "# количество под удаление\n",
    "fin_groups['C&С_count'] = fin_groups.query('type == \"Можно избавиться\"').groupby('group')['product'].transform('nunique')\n",
    "\n",
    "# датафрейм\n",
    "throw_data = fin_groups.query('type == \"Можно избавиться\"').drop_duplicates(subset=['group'])[['group','total_count','C&С_count']]\n",
    "\n",
    "# доли\n",
    "throw_data['share'] = round(throw_data['C&С_count'] / throw_data['total_count'] * 100)\n",
    "\n",
    "# сортировка\n",
    "throw_data = throw_data.sort_values(by='share', ascending=False)"
   ]
  },
  {
   "cell_type": "code",
   "execution_count": 52,
   "id": "b9ee4e77",
   "metadata": {},
   "outputs": [
    {
     "data": {
      "image/png": "[encoded data removed]",
      "text/plain": [
       "<Figure size 640x480 with 1 Axes>"
      ]
     },
     "metadata": {},
     "output_type": "display_data"
    }
   ],
   "source": [
    "# график\n",
    "ax = sns.barplot(y='group', x='share', data=throw_data, palette=\"pastel\")\n",
    "\n",
    "\n",
    "plt.title('Доли товаров C&C по категориям')\n",
    "plt.xlabel('Доля, %')\n",
    "plt.ylabel('Категория')\n",
    "\n",
    "plt.show()"
   ]
  },
  {
   "cell_type": "markdown",
   "id": "a49e0c21",
   "metadata": {},
   "source": [
    "Больше всего товарных позиций по удаление из `товаров для ремонта` (30%). Затем идут `растения` (20%), `кухня` (17%), `ванная` и `полезные мелочи` - по 16%. Самыми полезными позициями стали `товары для спальни`, под удаление только 11%."
   ]
  },
  {
   "cell_type": "code",
   "execution_count": 53,
   "id": "4379cd10",
   "metadata": {},
   "outputs": [
    {
     "data": {
      "text/html": [
       "<div>\n",
       "<style scoped>\n",
       "    .dataframe tbody tr th:only-of-type {\n",
       "        vertical-align: middle;\n",
       "    }\n",
       "\n",
       "    .dataframe tbody tr th {\n",
       "        vertical-align: top;\n",
       "    }\n",
       "\n",
       "    .dataframe thead th {\n",
       "        text-align: right;\n",
       "    }\n",
       "</style>\n",
       "<table border=\"1\" class=\"dataframe\">\n",
       "  <thead>\n",
       "    <tr style=\"text-align: right;\">\n",
       "      <th></th>\n",
       "      <th>group</th>\n",
       "      <th>product</th>\n",
       "    </tr>\n",
       "  </thead>\n",
       "  <tbody>\n",
       "    <tr>\n",
       "      <th>2075</th>\n",
       "      <td>Полезные мелочи</td>\n",
       "      <td>Ёрш радиаторный без ручки 1807007</td>\n",
       "    </tr>\n",
       "    <tr>\n",
       "      <th>2093</th>\n",
       "      <td>Полезные мелочи</td>\n",
       "      <td>Антинакипин для утюгов Ампулы 10 мл по 5 шт UN...</td>\n",
       "    </tr>\n",
       "    <tr>\n",
       "      <th>1868</th>\n",
       "      <td>Полезные мелочи</td>\n",
       "      <td>Бидон пластмассовый 5,0 л (Иж) 1401119</td>\n",
       "    </tr>\n",
       "    <tr>\n",
       "      <th>2122</th>\n",
       "      <td>Полезные мелочи</td>\n",
       "      <td>Ведро Полимербыт ГРИБЫ 9 л 4314103</td>\n",
       "    </tr>\n",
       "    <tr>\n",
       "      <th>1869</th>\n",
       "      <td>Полезные мелочи</td>\n",
       "      <td>Ведро без крышки Полимербыт Лаванда 9 л 4314108</td>\n",
       "    </tr>\n",
       "    <tr>\n",
       "      <th>...</th>\n",
       "      <td>...</td>\n",
       "      <td>...</td>\n",
       "    </tr>\n",
       "    <tr>\n",
       "      <th>1244</th>\n",
       "      <td>Товары для спальни</td>\n",
       "      <td>Штора для ванной и душа текстильная, 180х200см...</td>\n",
       "    </tr>\n",
       "    <tr>\n",
       "      <th>1728</th>\n",
       "      <td>Товары для спальни</td>\n",
       "      <td>Штора для ванной комнаты ПВХ 180х180 см Водоро...</td>\n",
       "    </tr>\n",
       "    <tr>\n",
       "      <th>1325</th>\n",
       "      <td>Товары для спальни</td>\n",
       "      <td>Штора для ванной комнаты ПВХ 180х180 см Ракушк...</td>\n",
       "    </tr>\n",
       "    <tr>\n",
       "      <th>1116</th>\n",
       "      <td>Товары для спальни</td>\n",
       "      <td>Штора для ванной комнаты полиэстер Dasch 180х1...</td>\n",
       "    </tr>\n",
       "    <tr>\n",
       "      <th>1324</th>\n",
       "      <td>Товары для спальни</td>\n",
       "      <td>Штора для ванной с кольцами RL-0071 Мыльные пу...</td>\n",
       "    </tr>\n",
       "  </tbody>\n",
       "</table>\n",
       "<p>424 rows × 2 columns</p>\n",
       "</div>"
      ],
      "text/plain": [
       "                   group                                            product\n",
       "2075     Полезные мелочи                  Ёрш радиаторный без ручки 1807007\n",
       "2093     Полезные мелочи  Антинакипин для утюгов Ампулы 10 мл по 5 шт UN...\n",
       "1868     Полезные мелочи             Бидон пластмассовый 5,0 л (Иж) 1401119\n",
       "2122     Полезные мелочи                 Ведро Полимербыт ГРИБЫ 9 л 4314103\n",
       "1869     Полезные мелочи    Ведро без крышки Полимербыт Лаванда 9 л 4314108\n",
       "...                  ...                                                ...\n",
       "1244  Товары для спальни  Штора для ванной и душа текстильная, 180х200см...\n",
       "1728  Товары для спальни  Штора для ванной комнаты ПВХ 180х180 см Водоро...\n",
       "1325  Товары для спальни  Штора для ванной комнаты ПВХ 180х180 см Ракушк...\n",
       "1116  Товары для спальни  Штора для ванной комнаты полиэстер Dasch 180х1...\n",
       "1324  Товары для спальни  Штора для ванной с кольцами RL-0071 Мыльные пу...\n",
       "\n",
       "[424 rows x 2 columns]"
      ]
     },
     "execution_count": 53,
     "metadata": {},
     "output_type": "execute_result"
    }
   ],
   "source": [
    "# товары, от которых можно избавиться\n",
    "throw_list = fin_groups.query('type == \"Можно избавиться\"')\n",
    "throw_list = throw_list[['group', 'product']].sort_values(by=['group', 'product'])\n",
    "throw_list"
   ]
  },
  {
   "cell_type": "markdown",
   "id": "81e65a81",
   "metadata": {},
   "source": [
    "- Основного товара 51%, это тот товар, который приносит до 80% выручки или проданного количества;\n",
    "- Дополнительного товара 31%;\n",
    "- От 18% товарных наименований можно избавиться, они приносят наименьший вклад в выручку.\n",
    "- Больше всего товарных позиций на удаление в категории `товары для ремонта` и `растения`, затем `кухня` и `ванная`, `полезные мелочи`. Меньше всего - `товары для спальни`."
   ]
  },
  {
   "cell_type": "markdown",
   "id": "ae7d89a1",
   "metadata": {},
   "source": [
    "### Гипотезы"
   ]
  },
  {
   "cell_type": "code",
   "execution_count": 54,
   "id": "8c993d76",
   "metadata": {},
   "outputs": [],
   "source": [
    "# Подготовка датафрейма для проверки гипотез\n",
    "\n",
    "# список уникальных заказов\n",
    "list = orders['order_id'].unique()\n",
    "\n",
    "# датафрейм продаж с указанием типа продукта (основной, дополнительный, можно избавиться)\n",
    "df = data.query('order_id in @list')\n",
    "df = df.merge(fin_groups[['product', 'cut_rev', 'cut_count', 'type']], on='product', how='left')"
   ]
  },
  {
   "cell_type": "code",
   "execution_count": 55,
   "id": "839bf9ab",
   "metadata": {},
   "outputs": [
    {
     "data": {
      "text/html": [
       "<div>\n",
       "<style scoped>\n",
       "    .dataframe tbody tr th:only-of-type {\n",
       "        vertical-align: middle;\n",
       "    }\n",
       "\n",
       "    .dataframe tbody tr th {\n",
       "        vertical-align: top;\n",
       "    }\n",
       "\n",
       "    .dataframe thead th {\n",
       "        text-align: right;\n",
       "    }\n",
       "</style>\n",
       "<table border=\"1\" class=\"dataframe\">\n",
       "  <thead>\n",
       "    <tr style=\"text-align: right;\">\n",
       "      <th></th>\n",
       "      <th>date</th>\n",
       "      <th>customer_id</th>\n",
       "      <th>order_id</th>\n",
       "      <th>product</th>\n",
       "      <th>quantity</th>\n",
       "      <th>price</th>\n",
       "      <th>value</th>\n",
       "      <th>day</th>\n",
       "      <th>hour</th>\n",
       "      <th>weekday</th>\n",
       "      <th>month</th>\n",
       "      <th>year</th>\n",
       "      <th>sku</th>\n",
       "      <th>group</th>\n",
       "      <th>cut_rev</th>\n",
       "      <th>cut_count</th>\n",
       "      <th>type</th>\n",
       "    </tr>\n",
       "  </thead>\n",
       "  <tbody>\n",
       "    <tr>\n",
       "      <th>0</th>\n",
       "      <td>2018-10-01</td>\n",
       "      <td>ee47d746-6d2f-4d3c-9622-c31412542920</td>\n",
       "      <td>68477</td>\n",
       "      <td>Комнатное растение в горшке Алое Вера, d12, h30</td>\n",
       "      <td>1</td>\n",
       "      <td>142.0</td>\n",
       "      <td>142.0</td>\n",
       "      <td>2018-10-01</td>\n",
       "      <td>0</td>\n",
       "      <td>0</td>\n",
       "      <td>10</td>\n",
       "      <td>2018</td>\n",
       "      <td>комнатное растение</td>\n",
       "      <td>Растения</td>\n",
       "      <td>B</td>\n",
       "      <td>A</td>\n",
       "      <td>Основной товар</td>\n",
       "    </tr>\n",
       "    <tr>\n",
       "      <th>1</th>\n",
       "      <td>2018-10-01</td>\n",
       "      <td>ee47d746-6d2f-4d3c-9622-c31412542920</td>\n",
       "      <td>68477</td>\n",
       "      <td>Комнатное растение в горшке Кофе Арабика, d12,...</td>\n",
       "      <td>1</td>\n",
       "      <td>194.0</td>\n",
       "      <td>194.0</td>\n",
       "      <td>2018-10-01</td>\n",
       "      <td>0</td>\n",
       "      <td>0</td>\n",
       "      <td>10</td>\n",
       "      <td>2018</td>\n",
       "      <td>комнатное растение</td>\n",
       "      <td>Растения</td>\n",
       "      <td>B</td>\n",
       "      <td>A</td>\n",
       "      <td>Основной товар</td>\n",
       "    </tr>\n",
       "    <tr>\n",
       "      <th>2</th>\n",
       "      <td>2018-10-01</td>\n",
       "      <td>ee47d746-6d2f-4d3c-9622-c31412542920</td>\n",
       "      <td>68477</td>\n",
       "      <td>Радермахера d-12 см h-20 см</td>\n",
       "      <td>1</td>\n",
       "      <td>112.0</td>\n",
       "      <td>112.0</td>\n",
       "      <td>2018-10-01</td>\n",
       "      <td>0</td>\n",
       "      <td>0</td>\n",
       "      <td>10</td>\n",
       "      <td>2018</td>\n",
       "      <td>радермахера d-12</td>\n",
       "      <td>Растения</td>\n",
       "      <td>C</td>\n",
       "      <td>C</td>\n",
       "      <td>Можно избавиться</td>\n",
       "    </tr>\n",
       "    <tr>\n",
       "      <th>3</th>\n",
       "      <td>2018-10-01</td>\n",
       "      <td>ee47d746-6d2f-4d3c-9622-c31412542920</td>\n",
       "      <td>68477</td>\n",
       "      <td>Хризолидокарпус Лутесценс d-9 см</td>\n",
       "      <td>1</td>\n",
       "      <td>179.0</td>\n",
       "      <td>179.0</td>\n",
       "      <td>2018-10-01</td>\n",
       "      <td>0</td>\n",
       "      <td>0</td>\n",
       "      <td>10</td>\n",
       "      <td>2018</td>\n",
       "      <td>хризолидокарпус лутесценс</td>\n",
       "      <td>Растения</td>\n",
       "      <td>B</td>\n",
       "      <td>A</td>\n",
       "      <td>Основной товар</td>\n",
       "    </tr>\n",
       "    <tr>\n",
       "      <th>4</th>\n",
       "      <td>2018-10-01</td>\n",
       "      <td>ee47d746-6d2f-4d3c-9622-c31412542920</td>\n",
       "      <td>68477</td>\n",
       "      <td>Циперус Зумула d-12 см h-25 см</td>\n",
       "      <td>1</td>\n",
       "      <td>112.0</td>\n",
       "      <td>112.0</td>\n",
       "      <td>2018-10-01</td>\n",
       "      <td>0</td>\n",
       "      <td>0</td>\n",
       "      <td>10</td>\n",
       "      <td>2018</td>\n",
       "      <td>циперус зумула</td>\n",
       "      <td>Растения</td>\n",
       "      <td>A</td>\n",
       "      <td>A</td>\n",
       "      <td>Основной товар</td>\n",
       "    </tr>\n",
       "  </tbody>\n",
       "</table>\n",
       "</div>"
      ],
      "text/plain": [
       "        date                           customer_id  order_id  \\\n",
       "0 2018-10-01  ee47d746-6d2f-4d3c-9622-c31412542920     68477   \n",
       "1 2018-10-01  ee47d746-6d2f-4d3c-9622-c31412542920     68477   \n",
       "2 2018-10-01  ee47d746-6d2f-4d3c-9622-c31412542920     68477   \n",
       "3 2018-10-01  ee47d746-6d2f-4d3c-9622-c31412542920     68477   \n",
       "4 2018-10-01  ee47d746-6d2f-4d3c-9622-c31412542920     68477   \n",
       "\n",
       "                                             product  quantity  price  value  \\\n",
       "0    Комнатное растение в горшке Алое Вера, d12, h30         1  142.0  142.0   \n",
       "1  Комнатное растение в горшке Кофе Арабика, d12,...         1  194.0  194.0   \n",
       "2                        Радермахера d-12 см h-20 см         1  112.0  112.0   \n",
       "3                   Хризолидокарпус Лутесценс d-9 см         1  179.0  179.0   \n",
       "4                     Циперус Зумула d-12 см h-25 см         1  112.0  112.0   \n",
       "\n",
       "          day  hour  weekday  month  year                        sku  \\\n",
       "0  2018-10-01     0        0     10  2018         комнатное растение   \n",
       "1  2018-10-01     0        0     10  2018         комнатное растение   \n",
       "2  2018-10-01     0        0     10  2018           радермахера d-12   \n",
       "3  2018-10-01     0        0     10  2018  хризолидокарпус лутесценс   \n",
       "4  2018-10-01     0        0     10  2018             циперус зумула   \n",
       "\n",
       "      group cut_rev cut_count              type  \n",
       "0  Растения       B         A    Основной товар  \n",
       "1  Растения       B         A    Основной товар  \n",
       "2  Растения       C         C  Можно избавиться  \n",
       "3  Растения       B         A    Основной товар  \n",
       "4  Растения       A         A    Основной товар  "
      ]
     },
     "execution_count": 55,
     "metadata": {},
     "output_type": "execute_result"
    }
   ],
   "source": [
    "df.head()"
   ]
  },
  {
   "cell_type": "markdown",
   "id": "b26318a5",
   "metadata": {},
   "source": [
    "#### Различаются ли средние стоимости основных и дополнительных товаров"
   ]
  },
  {
   "cell_type": "markdown",
   "id": "3c584ece",
   "metadata": {},
   "source": [
    "```\n",
    "H_0: Средняя стоимость основных товаров = средняя стоимость дополнительных товаров\n",
    "H_1: Средняя стоимость основных товаров ≠ средняя стоимость дополнительных товаров\n",
    "alpha = 0.05\n",
    "```"
   ]
  },
  {
   "cell_type": "code",
   "execution_count": 56,
   "id": "69b2dedc",
   "metadata": {},
   "outputs": [
    {
     "name": "stdout",
     "output_type": "stream",
     "text": [
      "p-значение: 2.685864461675029e-46\n",
      "Отвергаем нулевую гипотезу\n",
      "Медиана выборки по основным товарам 337\n",
      "Медиана выборки по дополнительным товарам 157\n"
     ]
    }
   ],
   "source": [
    "# значения продаж по типу\n",
    "main = df.query('type == \"Основной товар\"')['value']\n",
    "sub = df.query('type == \"Дополнительный товар\"')['value']\n",
    "\n",
    "# уровень статистической значимости\n",
    "alpha = 0.05 \n",
    "\n",
    "results = st.ttest_ind(main.to_list(), sub.to_list())\n",
    "\n",
    "print('p-значение:', results.pvalue)\n",
    "\n",
    "if results.pvalue < alpha:\n",
    "    print('Отвергаем нулевую гипотезу')\n",
    "else:\n",
    "    print('Не получилось отвергнуть нулевую гипотезу')\n",
    "    \n",
    "print('Медиана выборки по основным товарам', '{:.0f}'.format(main.median()))\n",
    "print('Медиана выборки по дополнительным товарам', '{:.0f}'.format(sub.median()))"
   ]
  },
  {
   "cell_type": "markdown",
   "id": "a05946b9",
   "metadata": {},
   "source": [
    "Значение p-value меньше уровня значимости, отвергаем нулевые гипотезу - средние стоимости основных и дополнительных товаров не равны."
   ]
  },
  {
   "cell_type": "markdown",
   "id": "536355d9",
   "metadata": {},
   "source": [
    "#### Равны ли доли продаж растений весной и осенью 2019"
   ]
  },
  {
   "cell_type": "markdown",
   "id": "1a1649a9",
   "metadata": {},
   "source": [
    "В ходе анализа установлено, что продажи растений (лидер по количеству проданных позиций) подвержены сезонности. Проверю, приносят ли они разный вклад в выручку магазина весной и осенью."
   ]
  },
  {
   "cell_type": "markdown",
   "id": "83086e0a",
   "metadata": {},
   "source": [
    "```\n",
    "H_0: Доля выручки растений весной 2019 = доля выручки растений осенью 2019\n",
    "H_1: Доля выручки растений весной 2019 ≠ доля выручки растений осенью 2019\n",
    "alpha = 0.05\n",
    "```"
   ]
  },
  {
   "cell_type": "code",
   "execution_count": 57,
   "id": "c60c6e07",
   "metadata": {},
   "outputs": [
    {
     "name": "stdout",
     "output_type": "stream",
     "text": [
      "p-значение:  0.0\n",
      "Отвергаем нулевую гипотезу: между долями есть значимая разница\n"
     ]
    }
   ],
   "source": [
    "df_19 = df.query('year == 2019')\n",
    "\n",
    "# критический уровень статистической значимости\n",
    "alpha = .05 \n",
    "\n",
    "# сумма продаж весной и осенью\n",
    "spring = df_19.query('month in (3, 4, 5)')['value'].sum()\n",
    "autumn = df_19.query('month in (9, 10, 11)')['value'].sum()\n",
    "\n",
    "# сумма продаж весной и осенью\n",
    "fl_spr = df_19.query('month in (3, 4, 5) & group == \"Растения\"')['value'].sum()\n",
    "fl_aut = df_19.query('month in (9, 10, 11) & group == \"Растения\"')['value'].sum()\n",
    "\n",
    "# доля продаж весной\n",
    "p1 = fl_spr / spring\n",
    "\n",
    "# доля продаж осенью\n",
    "p2 = fl_aut / autumn\n",
    "\n",
    "# пропорция успехов в комбинированном датасете:\n",
    "p_combined = (fl_spr + fl_aut) / (spring + autumn)\n",
    "\n",
    "# разница пропорций в датасетах\n",
    "difference = p1 - p2\n",
    "\n",
    "# статистика в ст.отклонениях стандартного нормального распределения\n",
    "z_value = difference / mth.sqrt(p_combined * (1 - p_combined) * (1/spring + 1/autumn))\n",
    "\n",
    "# стандартное нормальное распределение (среднее 0, ст.отклонение 1)\n",
    "distr = st.norm(0, 1) \n",
    "\n",
    "\n",
    "p_value = (1 - distr.cdf(abs(z_value))) * 2\n",
    "\n",
    "print('p-значение: ', p_value)\n",
    "\n",
    "\n",
    "if p_value < alpha:\n",
    "    print('Отвергаем нулевую гипотезу: между долями есть значимая разница')\n",
    "else:\n",
    "    print(\n",
    "        'Не получилось отвергнуть нулевую гипотезу, нет оснований считать доли разными'\n",
    "    )"
   ]
  },
  {
   "cell_type": "markdown",
   "id": "780a20c7",
   "metadata": {},
   "source": [
    "Отличия спроса на растения весной и осенью подтвердились, доли выручки значимо разные - весной выше."
   ]
  },
  {
   "cell_type": "code",
   "execution_count": 58,
   "id": "23777e66",
   "metadata": {},
   "outputs": [],
   "source": [
    "# загружу csv для создания дашборда\n",
    "# df.to_csv('dataset.csv', index=False)"
   ]
  },
  {
   "cell_type": "markdown",
   "id": "d49955f3",
   "metadata": {},
   "source": [
    "### Общий вывод"
   ]
  },
  {
   "cell_type": "markdown",
   "id": "20e8cd8e",
   "metadata": {},
   "source": [
    "Для анализа товарного ассортимента сайта товаров для дома был использован датасет о покупках за период *с 1 октября 2018 по 31 января 2020*. Размер базы после предобработки составил *5,5 тысяч строк*. Товары распределены по категориям `кухня`, `спальня`, `ванная`, `ремонт`, `полезные мелочи` и `растения`.\n",
    "\n",
    "Информация о заказах:\n",
    "- Средняя стоимость равна 1063;\n",
    "- Медиана - 577;\n",
    "- 99% заказов стоят не более 7331;\n",
    "- Половина заказов от 192 до 1226.\n",
    "\n",
    "Динамика заказов:\n",
    "- Наибольшие стоимости заказов наблюдались в мае и октябре, немного ниже в марте и сентябре. Меньше всего в январе и ноябре;\n",
    "- Пик числа заказов приходится на февраль. Также много - в апреле, марте, ноябре и декабре. «Затишье» в июне, немногим больше в январе, мае, августе и сентябре;\n",
    "- Наибольшая выручка показана с отрывом в феврале - апреле. Хуже всего в ноябре, июне и августе;\n",
    "- Больше заказов посетители сайта делают в понедельник, вторник и четверг, наблюдается небольшой спад в среду и снижение в пятницу-субботу, легкое восстановление в воскресенье, но оно не дотягивает до значений будней;\n",
    "- Медианный чек по дням примерно одинаковый, на выходных - немного ниже;\n",
    "- В будни большинство заказов совершается с 9 до 16, пик в 11, есть подъем вечером в 21;\n",
    "- По выходным заказы совершаются более равномерно после 10 часов, пик в 15.\n",
    "\n",
    "Пользователи:\n",
    "- Всего 2426 пользователей совершили заказы, из них 37% сделали более одного, а 1,1% - более двух;\n",
    "- В среднем пользователи совершали от 1 до 2 заказов общей суммой от 390 до 1790;\n",
    "- 99% клиентов совершили не более трех.\n",
    "\n",
    "Продукты:\n",
    "\n",
    "Наиболее «выручкоемкими» являются стремянки, по отдельным позициям - одеяло и покрывало.\n",
    "\n",
    "\n",
    "- В среднем по году наибольший вклад по деньгам приносит категория `полезные мелочи` (33%), по проданному числу - на четвертом месте (11%). Доля в выручке колеблется от 18 до 38%, провал в начале лета, пик в августе.\n",
    "\n",
    "\n",
    "- `Товары для ванной` делают 25% выручки и 13% от проданного количества. Спад продаж в апреле и мае.\n",
    "\n",
    "\n",
    "- `Растения` составляют 20% выручки и более половины от всего проданного количества (53%). Спрос на них наибольший в апреле и мае (садовый сезон), в другое время ровный - около 10 %.\n",
    "\n",
    "\n",
    "- `Товары для кухни` занимают  11% в денежном и количественном выражении. Продажи категории составляют около 17% в начале года, снижаются до 5% в период с апреля по июнь.\n",
    "\n",
    "\n",
    "- Меньше 7% у товаров для `спальни` и `ремонта`. `Товары для спальни` продаются равномерно в течение года, небольшой рост в марте и декабре из-за праздников. `Товары для ремонта` лучше продаются летом и в начале осени.\n",
    "\n",
    "В ходе ABC-анализа были выделены основные и дополнительные товары, а также позиции под удаление.\n",
    "- Основной товар (80% выручки или проданного количества) составляет 51%;\n",
    "- Дополнительный товар 31%;\n",
    "- От 18% товарных наименований можно избавиться, они приносят наименьший вклад в выручку.\n",
    "- Больше всего товарных позиций на удаление в категории `товары для ремонта` и `растения`, затем `кухня` и `ванная`, `полезные мелочи`. Меньше всего - `товары для спальни`.\n",
    "\n",
    "В работе были проверены две гипотезы:\n",
    "- Средние стоимости основных и дополнительных товаров значимо различаются, у основных - выше;\n",
    "- Доля продаж растений значимо выше весной 2019, чем осенью.\n",
    "\n",
    "Рекомендации и их тестирование:\n",
    "- Убрать из каталога товары с тегом \"Можно избавиться\" для одной тестовой группы пользователей и сравнить выручку, средний чек, количество заказов всего и на пользователя с контрольной группой (либо с двумя контрольными AAB-тест) за один период;\n",
    "- В анализе выбраны самые популярные товары по категориям, можно добавить их на стартовую страницу в качестве хитов продаж. Также посчитать выручку, средний чек, количество заказов всего и на пользователя за один период для двух групп (A - старая стартовая без топа продаж, B - новая с топом);\n",
    "- По анализу видно, что падение выручки в ноябре и летом, а также по субботам, если оценивать недельный промежуток. Предлагаю добавить акции или скидки в какой-то из этих \"тихих\" периодов. Также AB-тест - со скидками и без - по показателям: выручка, средний чек, количество заказов всего и на пользователя за один период."
   ]
  }
 ],
 "metadata": {
  "ExecuteTimeLog": [
   {
    "duration": 1543,
    "start_time": "2023-06-19T21:28:07.054Z"
   },
   {
    "duration": 193,
    "start_time": "2023-06-19T21:28:08.599Z"
   },
   {
    "duration": 0,
    "start_time": "2023-06-19T21:28:08.794Z"
   },
   {
    "duration": 0,
    "start_time": "2023-06-19T21:28:08.796Z"
   },
   {
    "duration": 0,
    "start_time": "2023-06-19T21:28:08.798Z"
   },
   {
    "duration": 0,
    "start_time": "2023-06-19T21:28:08.801Z"
   },
   {
    "duration": 0,
    "start_time": "2023-06-19T21:28:08.802Z"
   },
   {
    "duration": 0,
    "start_time": "2023-06-19T21:28:08.803Z"
   },
   {
    "duration": 0,
    "start_time": "2023-06-19T21:28:08.804Z"
   },
   {
    "duration": 0,
    "start_time": "2023-06-19T21:28:08.806Z"
   },
   {
    "duration": 1435,
    "start_time": "2023-06-19T21:29:24.351Z"
   },
   {
    "duration": 33,
    "start_time": "2023-06-19T21:29:28.380Z"
   },
   {
    "duration": 1371,
    "start_time": "2023-06-19T21:30:23.025Z"
   },
   {
    "duration": 1037,
    "start_time": "2023-06-19T21:30:24.398Z"
   },
   {
    "duration": 35,
    "start_time": "2023-06-19T21:30:25.437Z"
   },
   {
    "duration": 16,
    "start_time": "2023-06-19T21:30:25.474Z"
   },
   {
    "duration": 17,
    "start_time": "2023-06-19T21:30:25.492Z"
   },
   {
    "duration": 675,
    "start_time": "2023-06-19T21:30:25.510Z"
   },
   {
    "duration": 40,
    "start_time": "2023-06-19T21:30:26.187Z"
   },
   {
    "duration": 32,
    "start_time": "2023-06-19T21:30:26.229Z"
   },
   {
    "duration": 41,
    "start_time": "2023-06-19T21:30:26.266Z"
   },
   {
    "duration": 6,
    "start_time": "2023-06-19T21:30:26.309Z"
   },
   {
    "duration": 88,
    "start_time": "2023-06-20T06:57:17.454Z"
   },
   {
    "duration": 1525,
    "start_time": "2023-06-20T06:57:24.150Z"
   },
   {
    "duration": 1327,
    "start_time": "2023-06-20T06:57:25.683Z"
   },
   {
    "duration": 30,
    "start_time": "2023-06-20T06:57:27.012Z"
   },
   {
    "duration": 43,
    "start_time": "2023-06-20T06:57:27.044Z"
   },
   {
    "duration": 22,
    "start_time": "2023-06-20T06:57:27.093Z"
   },
   {
    "duration": 889,
    "start_time": "2023-06-20T06:57:27.117Z"
   },
   {
    "duration": 42,
    "start_time": "2023-06-20T06:57:28.008Z"
   },
   {
    "duration": 22,
    "start_time": "2023-06-20T06:57:28.067Z"
   },
   {
    "duration": 93,
    "start_time": "2023-06-20T06:57:28.094Z"
   },
   {
    "duration": 11,
    "start_time": "2023-06-20T06:57:28.190Z"
   },
   {
    "duration": 18,
    "start_time": "2023-06-20T06:58:25.582Z"
   },
   {
    "duration": 9,
    "start_time": "2023-06-20T06:58:37.711Z"
   },
   {
    "duration": 42,
    "start_time": "2023-06-20T07:01:09.800Z"
   },
   {
    "duration": 29,
    "start_time": "2023-06-20T07:01:17.741Z"
   },
   {
    "duration": 13,
    "start_time": "2023-06-20T07:05:13.384Z"
   },
   {
    "duration": 78,
    "start_time": "2023-06-20T07:06:28.360Z"
   },
   {
    "duration": 7,
    "start_time": "2023-06-20T07:06:34.897Z"
   },
   {
    "duration": 5,
    "start_time": "2023-06-20T07:06:53.641Z"
   },
   {
    "duration": 8,
    "start_time": "2023-06-20T07:07:21.104Z"
   },
   {
    "duration": 122,
    "start_time": "2023-06-20T07:14:23.386Z"
   },
   {
    "duration": 4,
    "start_time": "2023-06-20T07:14:28.052Z"
   },
   {
    "duration": 66,
    "start_time": "2023-06-20T07:16:09.207Z"
   },
   {
    "duration": 39,
    "start_time": "2023-06-20T07:16:37.592Z"
   },
   {
    "duration": 10,
    "start_time": "2023-06-20T07:16:44.088Z"
   },
   {
    "duration": 55,
    "start_time": "2023-06-20T07:16:55.404Z"
   },
   {
    "duration": 12,
    "start_time": "2023-06-20T07:16:58.430Z"
   },
   {
    "duration": 40,
    "start_time": "2023-06-20T07:17:16.799Z"
   },
   {
    "duration": 9,
    "start_time": "2023-06-20T07:17:19.722Z"
   },
   {
    "duration": 9,
    "start_time": "2023-06-20T07:17:27.583Z"
   },
   {
    "duration": 30,
    "start_time": "2023-06-20T07:21:48.770Z"
   },
   {
    "duration": 10,
    "start_time": "2023-06-20T07:21:51.289Z"
   },
   {
    "duration": 64,
    "start_time": "2023-06-20T07:22:07.323Z"
   },
   {
    "duration": 10,
    "start_time": "2023-06-20T07:22:09.799Z"
   },
   {
    "duration": 6,
    "start_time": "2023-06-20T07:22:50.379Z"
   },
   {
    "duration": 3376,
    "start_time": "2023-06-20T07:59:15.410Z"
   },
   {
    "duration": 13,
    "start_time": "2023-06-20T08:00:01.283Z"
   },
   {
    "duration": 3459,
    "start_time": "2023-06-20T08:00:33.901Z"
   },
   {
    "duration": 3538,
    "start_time": "2023-06-20T08:00:39.229Z"
   },
   {
    "duration": 10,
    "start_time": "2023-06-20T08:00:49.078Z"
   },
   {
    "duration": 9,
    "start_time": "2023-06-20T08:02:20.098Z"
   },
   {
    "duration": 16,
    "start_time": "2023-06-20T08:04:38.925Z"
   },
   {
    "duration": 14,
    "start_time": "2023-06-20T08:04:45.098Z"
   },
   {
    "duration": 13,
    "start_time": "2023-06-20T08:04:46.805Z"
   },
   {
    "duration": 15,
    "start_time": "2023-06-20T08:04:48.223Z"
   },
   {
    "duration": 15,
    "start_time": "2023-06-20T08:04:50.265Z"
   },
   {
    "duration": 15,
    "start_time": "2023-06-20T08:04:55.092Z"
   },
   {
    "duration": 18,
    "start_time": "2023-06-20T08:04:56.551Z"
   },
   {
    "duration": 15,
    "start_time": "2023-06-20T08:04:59.412Z"
   },
   {
    "duration": 14,
    "start_time": "2023-06-20T08:05:01.462Z"
   },
   {
    "duration": 14,
    "start_time": "2023-06-20T08:05:02.987Z"
   },
   {
    "duration": 14,
    "start_time": "2023-06-20T08:09:40.612Z"
   },
   {
    "duration": 3928,
    "start_time": "2023-06-20T08:11:51.754Z"
   },
   {
    "duration": 3702,
    "start_time": "2023-06-20T08:13:10.419Z"
   },
   {
    "duration": 3906,
    "start_time": "2023-06-20T08:14:03.405Z"
   },
   {
    "duration": 3377,
    "start_time": "2023-06-20T08:14:29.292Z"
   },
   {
    "duration": 3448,
    "start_time": "2023-06-20T08:15:29.471Z"
   },
   {
    "duration": 3562,
    "start_time": "2023-06-20T08:15:41.603Z"
   },
   {
    "duration": 10,
    "start_time": "2023-06-20T08:15:52.538Z"
   },
   {
    "duration": 3333,
    "start_time": "2023-06-20T08:16:51.167Z"
   },
   {
    "duration": 1538,
    "start_time": "2023-06-20T08:17:00.636Z"
   },
   {
    "duration": 1419,
    "start_time": "2023-06-20T08:17:02.181Z"
   },
   {
    "duration": 31,
    "start_time": "2023-06-20T08:17:03.602Z"
   },
   {
    "duration": 17,
    "start_time": "2023-06-20T08:17:03.635Z"
   },
   {
    "duration": 7,
    "start_time": "2023-06-20T08:17:03.654Z"
   },
   {
    "duration": 772,
    "start_time": "2023-06-20T08:17:03.663Z"
   },
   {
    "duration": 59,
    "start_time": "2023-06-20T08:17:04.437Z"
   },
   {
    "duration": 3420,
    "start_time": "2023-06-20T08:17:04.497Z"
   },
   {
    "duration": 2433,
    "start_time": "2023-06-20T08:17:07.920Z"
   },
   {
    "duration": 0,
    "start_time": "2023-06-20T08:17:10.358Z"
   },
   {
    "duration": 0,
    "start_time": "2023-06-20T08:17:10.361Z"
   },
   {
    "duration": 9,
    "start_time": "2023-06-20T08:17:25.100Z"
   },
   {
    "duration": 9,
    "start_time": "2023-06-20T08:17:36.511Z"
   },
   {
    "duration": 11,
    "start_time": "2023-06-20T08:18:12.534Z"
   },
   {
    "duration": 9,
    "start_time": "2023-06-20T08:18:28.580Z"
   },
   {
    "duration": 1275,
    "start_time": "2023-06-20T08:20:35.691Z"
   },
   {
    "duration": 3426,
    "start_time": "2023-06-20T08:20:38.795Z"
   },
   {
    "duration": 9,
    "start_time": "2023-06-20T08:20:44.719Z"
   },
   {
    "duration": 15,
    "start_time": "2023-06-20T08:26:08.952Z"
   },
   {
    "duration": 14,
    "start_time": "2023-06-20T08:26:23.538Z"
   },
   {
    "duration": 16,
    "start_time": "2023-06-20T08:26:35.182Z"
   },
   {
    "duration": 13,
    "start_time": "2023-06-20T08:26:38.770Z"
   },
   {
    "duration": 12,
    "start_time": "2023-06-20T08:26:42.333Z"
   },
   {
    "duration": 17,
    "start_time": "2023-06-20T08:26:45.152Z"
   },
   {
    "duration": 13,
    "start_time": "2023-06-20T08:28:12.700Z"
   },
   {
    "duration": 13,
    "start_time": "2023-06-20T08:29:10.750Z"
   },
   {
    "duration": 14,
    "start_time": "2023-06-20T08:34:37.184Z"
   },
   {
    "duration": 1403,
    "start_time": "2023-06-20T08:34:47.605Z"
   },
   {
    "duration": 1186,
    "start_time": "2023-06-20T08:34:49.011Z"
   },
   {
    "duration": 34,
    "start_time": "2023-06-20T08:34:50.199Z"
   },
   {
    "duration": 30,
    "start_time": "2023-06-20T08:34:50.236Z"
   },
   {
    "duration": 18,
    "start_time": "2023-06-20T08:34:50.274Z"
   },
   {
    "duration": 807,
    "start_time": "2023-06-20T08:34:50.294Z"
   },
   {
    "duration": 73,
    "start_time": "2023-06-20T08:34:51.103Z"
   },
   {
    "duration": 3223,
    "start_time": "2023-06-20T08:34:51.178Z"
   },
   {
    "duration": 7,
    "start_time": "2023-06-20T08:34:54.403Z"
   },
   {
    "duration": 15,
    "start_time": "2023-06-20T08:34:54.413Z"
   },
   {
    "duration": 11,
    "start_time": "2023-06-20T08:34:54.430Z"
   },
   {
    "duration": 50,
    "start_time": "2023-06-20T08:34:54.443Z"
   },
   {
    "duration": 21,
    "start_time": "2023-06-20T08:34:54.495Z"
   },
   {
    "duration": 22,
    "start_time": "2023-06-20T08:34:54.518Z"
   },
   {
    "duration": 15,
    "start_time": "2023-06-20T08:35:14.164Z"
   },
   {
    "duration": 3371,
    "start_time": "2023-06-20T08:36:09.752Z"
   },
   {
    "duration": 9,
    "start_time": "2023-06-20T08:36:21.033Z"
   },
   {
    "duration": 5,
    "start_time": "2023-06-20T08:36:33.212Z"
   },
   {
    "duration": 17,
    "start_time": "2023-06-20T08:36:42.164Z"
   },
   {
    "duration": 65,
    "start_time": "2023-06-20T08:39:07.638Z"
   },
   {
    "duration": 14,
    "start_time": "2023-06-20T08:39:18.136Z"
   },
   {
    "duration": 13,
    "start_time": "2023-06-20T08:40:38.533Z"
   },
   {
    "duration": 136,
    "start_time": "2023-06-20T08:40:52.433Z"
   },
   {
    "duration": 28,
    "start_time": "2023-06-20T08:41:17.936Z"
   },
   {
    "duration": 14,
    "start_time": "2023-06-20T08:41:31.379Z"
   },
   {
    "duration": 28,
    "start_time": "2023-06-20T08:42:58.078Z"
   },
   {
    "duration": 12,
    "start_time": "2023-06-20T08:43:06.075Z"
   },
   {
    "duration": 24,
    "start_time": "2023-06-20T08:43:14.005Z"
   },
   {
    "duration": 25,
    "start_time": "2023-06-20T08:43:22.602Z"
   },
   {
    "duration": 13,
    "start_time": "2023-06-20T08:43:33.832Z"
   },
   {
    "duration": 45,
    "start_time": "2023-06-20T08:47:27.952Z"
   },
   {
    "duration": 16,
    "start_time": "2023-06-20T08:47:35.549Z"
   },
   {
    "duration": 40,
    "start_time": "2023-06-20T08:50:06.835Z"
   },
   {
    "duration": 20,
    "start_time": "2023-06-20T08:50:26.599Z"
   },
   {
    "duration": 227,
    "start_time": "2023-06-20T08:50:43.684Z"
   },
   {
    "duration": 23,
    "start_time": "2023-06-20T08:50:47.668Z"
   },
   {
    "duration": 429,
    "start_time": "2023-06-20T08:50:54.835Z"
   },
   {
    "duration": 15,
    "start_time": "2023-06-20T08:50:59.335Z"
   },
   {
    "duration": 23,
    "start_time": "2023-06-20T08:51:35.338Z"
   },
   {
    "duration": 22,
    "start_time": "2023-06-20T08:53:56.844Z"
   },
   {
    "duration": 17,
    "start_time": "2023-06-20T08:54:04.679Z"
   },
   {
    "duration": 17,
    "start_time": "2023-06-20T08:54:13.205Z"
   },
   {
    "duration": 23,
    "start_time": "2023-06-20T08:54:17.289Z"
   },
   {
    "duration": 34,
    "start_time": "2023-06-20T08:54:36.032Z"
   },
   {
    "duration": 33,
    "start_time": "2023-06-20T08:54:42.277Z"
   },
   {
    "duration": 21,
    "start_time": "2023-06-20T08:54:48.646Z"
   },
   {
    "duration": 23,
    "start_time": "2023-06-20T08:54:55.277Z"
   },
   {
    "duration": 18,
    "start_time": "2023-06-20T08:55:11.103Z"
   },
   {
    "duration": 28,
    "start_time": "2023-06-20T08:55:15.839Z"
   },
   {
    "duration": 1044,
    "start_time": "2023-06-20T08:57:18.535Z"
   },
   {
    "duration": 24,
    "start_time": "2023-06-20T08:57:26.738Z"
   },
   {
    "duration": 26,
    "start_time": "2023-06-20T08:57:40.249Z"
   },
   {
    "duration": 28,
    "start_time": "2023-06-20T08:57:46.374Z"
   },
   {
    "duration": 29,
    "start_time": "2023-06-20T08:57:57.236Z"
   },
   {
    "duration": 2,
    "start_time": "2023-06-20T08:58:17.776Z"
   },
   {
    "duration": 1381,
    "start_time": "2023-06-20T08:58:48.631Z"
   },
   {
    "duration": 1453,
    "start_time": "2023-06-20T08:58:50.014Z"
   },
   {
    "duration": 41,
    "start_time": "2023-06-20T08:58:51.474Z"
   },
   {
    "duration": 50,
    "start_time": "2023-06-20T08:58:51.519Z"
   },
   {
    "duration": 8,
    "start_time": "2023-06-20T08:58:51.572Z"
   },
   {
    "duration": 844,
    "start_time": "2023-06-20T08:58:51.582Z"
   },
   {
    "duration": 74,
    "start_time": "2023-06-20T08:58:52.428Z"
   },
   {
    "duration": 3476,
    "start_time": "2023-06-20T08:58:52.504Z"
   },
   {
    "duration": 10,
    "start_time": "2023-06-20T08:58:55.982Z"
   },
   {
    "duration": 18,
    "start_time": "2023-06-20T08:58:55.994Z"
   },
   {
    "duration": 51,
    "start_time": "2023-06-20T08:58:56.015Z"
   },
   {
    "duration": 30,
    "start_time": "2023-06-20T08:58:56.073Z"
   },
   {
    "duration": 3,
    "start_time": "2023-06-20T09:28:09.101Z"
   },
   {
    "duration": 1206,
    "start_time": "2023-06-20T09:28:41.525Z"
   },
   {
    "duration": 15,
    "start_time": "2023-06-20T09:29:16.783Z"
   },
   {
    "duration": 5,
    "start_time": "2023-06-20T09:29:34.459Z"
   },
   {
    "duration": 6,
    "start_time": "2023-06-20T09:29:51.061Z"
   },
   {
    "duration": 6,
    "start_time": "2023-06-20T09:29:53.190Z"
   },
   {
    "duration": 6,
    "start_time": "2023-06-20T09:30:15.323Z"
   },
   {
    "duration": 4,
    "start_time": "2023-06-20T09:30:29.650Z"
   },
   {
    "duration": 6,
    "start_time": "2023-06-20T09:30:51.525Z"
   },
   {
    "duration": 19,
    "start_time": "2023-06-20T09:31:09.381Z"
   },
   {
    "duration": 17,
    "start_time": "2023-06-20T09:33:04.059Z"
   },
   {
    "duration": 17,
    "start_time": "2023-06-20T09:34:43.050Z"
   },
   {
    "duration": 317,
    "start_time": "2023-06-20T09:35:25.853Z"
   },
   {
    "duration": 24,
    "start_time": "2023-06-20T09:35:32.090Z"
   },
   {
    "duration": 7,
    "start_time": "2023-06-20T09:36:01.049Z"
   },
   {
    "duration": 19,
    "start_time": "2023-06-20T09:36:55.451Z"
   },
   {
    "duration": 27,
    "start_time": "2023-06-20T09:39:22.768Z"
   },
   {
    "duration": 16,
    "start_time": "2023-06-20T09:40:52.533Z"
   },
   {
    "duration": 17,
    "start_time": "2023-06-20T09:41:47.642Z"
   },
   {
    "duration": 18,
    "start_time": "2023-06-20T09:41:55.597Z"
   },
   {
    "duration": 20,
    "start_time": "2023-06-20T09:42:21.449Z"
   },
   {
    "duration": 16,
    "start_time": "2023-06-20T09:42:29.871Z"
   },
   {
    "duration": 151,
    "start_time": "2023-06-20T09:42:50.507Z"
   },
   {
    "duration": 18,
    "start_time": "2023-06-20T09:43:07.812Z"
   },
   {
    "duration": 159,
    "start_time": "2023-06-20T09:43:13.919Z"
   },
   {
    "duration": 185,
    "start_time": "2023-06-20T09:43:20.091Z"
   },
   {
    "duration": 2,
    "start_time": "2023-06-20T09:44:08.998Z"
   },
   {
    "duration": 4,
    "start_time": "2023-06-20T09:44:23.255Z"
   },
   {
    "duration": 22,
    "start_time": "2023-06-20T09:46:26.489Z"
   },
   {
    "duration": 3303,
    "start_time": "2023-06-20T09:48:22.204Z"
   },
   {
    "duration": 10,
    "start_time": "2023-06-20T09:48:25.510Z"
   },
   {
    "duration": 3333,
    "start_time": "2023-06-20T09:48:42.170Z"
   },
   {
    "duration": 16,
    "start_time": "2023-06-20T09:48:48.616Z"
   },
   {
    "duration": 197,
    "start_time": "2023-06-20T09:48:52.591Z"
   },
   {
    "duration": 22,
    "start_time": "2023-06-20T09:52:30.772Z"
   },
   {
    "duration": 18,
    "start_time": "2023-06-20T09:55:25.277Z"
   },
   {
    "duration": 19,
    "start_time": "2023-06-20T09:59:23.350Z"
   },
   {
    "duration": 28,
    "start_time": "2023-06-20T09:59:41.364Z"
   },
   {
    "duration": 22,
    "start_time": "2023-06-20T09:59:50.350Z"
   },
   {
    "duration": 8,
    "start_time": "2023-06-20T10:00:03.330Z"
   },
   {
    "duration": 16,
    "start_time": "2023-06-20T10:01:00.114Z"
   },
   {
    "duration": 23,
    "start_time": "2023-06-20T10:01:10.544Z"
   },
   {
    "duration": 12,
    "start_time": "2023-06-20T10:01:24.970Z"
   },
   {
    "duration": 8,
    "start_time": "2023-06-20T10:02:10.204Z"
   },
   {
    "duration": 3350,
    "start_time": "2023-06-20T10:04:42.512Z"
   },
   {
    "duration": 12,
    "start_time": "2023-06-20T10:04:48.695Z"
   },
   {
    "duration": 3690,
    "start_time": "2023-06-20T10:04:56.384Z"
   },
   {
    "duration": 16,
    "start_time": "2023-06-20T10:05:02.459Z"
   },
   {
    "duration": 92,
    "start_time": "2023-06-20T10:05:09.870Z"
   },
   {
    "duration": 16,
    "start_time": "2023-06-20T10:12:20.555Z"
   },
   {
    "duration": 8,
    "start_time": "2023-06-20T10:13:45.131Z"
   },
   {
    "duration": 1525,
    "start_time": "2023-06-20T10:14:50.116Z"
   },
   {
    "duration": 1597,
    "start_time": "2023-06-20T10:14:51.643Z"
   },
   {
    "duration": 38,
    "start_time": "2023-06-20T10:14:53.242Z"
   },
   {
    "duration": 17,
    "start_time": "2023-06-20T10:14:53.282Z"
   },
   {
    "duration": 17,
    "start_time": "2023-06-20T10:14:53.301Z"
   },
   {
    "duration": 706,
    "start_time": "2023-06-20T10:14:53.320Z"
   },
   {
    "duration": 60,
    "start_time": "2023-06-20T10:14:54.028Z"
   },
   {
    "duration": 3415,
    "start_time": "2023-06-20T10:14:54.089Z"
   },
   {
    "duration": 10,
    "start_time": "2023-06-20T10:14:57.506Z"
   },
   {
    "duration": 163,
    "start_time": "2023-06-20T10:14:57.519Z"
   },
   {
    "duration": 4,
    "start_time": "2023-06-20T10:14:57.685Z"
   },
   {
    "duration": 20,
    "start_time": "2023-06-20T10:14:57.691Z"
   },
   {
    "duration": 17,
    "start_time": "2023-06-20T10:14:57.713Z"
   },
   {
    "duration": 23,
    "start_time": "2023-06-20T10:14:57.733Z"
   },
   {
    "duration": 36,
    "start_time": "2023-06-20T10:14:57.759Z"
   },
   {
    "duration": 9,
    "start_time": "2023-06-20T10:16:57.186Z"
   },
   {
    "duration": 8,
    "start_time": "2023-06-20T10:17:16.302Z"
   },
   {
    "duration": 8,
    "start_time": "2023-06-20T10:18:33.411Z"
   },
   {
    "duration": 13,
    "start_time": "2023-06-20T10:18:47.534Z"
   },
   {
    "duration": 9,
    "start_time": "2023-06-20T10:19:10.726Z"
   },
   {
    "duration": 9,
    "start_time": "2023-06-20T10:19:34.214Z"
   },
   {
    "duration": 8,
    "start_time": "2023-06-20T10:20:11.947Z"
   },
   {
    "duration": 9,
    "start_time": "2023-06-20T10:20:23.023Z"
   },
   {
    "duration": 12,
    "start_time": "2023-06-20T10:20:32.139Z"
   },
   {
    "duration": 12,
    "start_time": "2023-06-20T10:21:14.234Z"
   },
   {
    "duration": 10,
    "start_time": "2023-06-20T10:21:54.408Z"
   },
   {
    "duration": 8,
    "start_time": "2023-06-20T10:22:16.670Z"
   },
   {
    "duration": 9,
    "start_time": "2023-06-20T10:22:38.898Z"
   },
   {
    "duration": 11,
    "start_time": "2023-06-20T10:23:41.252Z"
   },
   {
    "duration": 11,
    "start_time": "2023-06-20T11:12:02.929Z"
   },
   {
    "duration": 8,
    "start_time": "2023-06-20T11:12:44.085Z"
   },
   {
    "duration": 12,
    "start_time": "2023-06-20T11:12:56.961Z"
   },
   {
    "duration": 10,
    "start_time": "2023-06-20T11:14:17.738Z"
   },
   {
    "duration": 10,
    "start_time": "2023-06-20T11:15:06.097Z"
   },
   {
    "duration": 8,
    "start_time": "2023-06-20T11:36:11.226Z"
   },
   {
    "duration": 9,
    "start_time": "2023-06-20T11:37:05.312Z"
   },
   {
    "duration": 9,
    "start_time": "2023-06-20T11:37:36.808Z"
   },
   {
    "duration": 9,
    "start_time": "2023-06-20T11:40:31.738Z"
   },
   {
    "duration": 13,
    "start_time": "2023-06-20T11:40:54.774Z"
   },
   {
    "duration": 9,
    "start_time": "2023-06-20T11:42:30.315Z"
   },
   {
    "duration": 7,
    "start_time": "2023-06-20T11:44:07.896Z"
   },
   {
    "duration": 7,
    "start_time": "2023-06-20T11:44:20.694Z"
   },
   {
    "duration": 8,
    "start_time": "2023-06-20T11:44:58.801Z"
   },
   {
    "duration": 274,
    "start_time": "2023-06-20T11:45:26.238Z"
   },
   {
    "duration": 8,
    "start_time": "2023-06-20T11:45:30.246Z"
   },
   {
    "duration": 7,
    "start_time": "2023-06-20T11:45:50.335Z"
   },
   {
    "duration": 7,
    "start_time": "2023-06-20T11:46:51.506Z"
   },
   {
    "duration": 12,
    "start_time": "2023-06-20T11:47:08.334Z"
   },
   {
    "duration": 7,
    "start_time": "2023-06-20T11:48:13.905Z"
   },
   {
    "duration": 10,
    "start_time": "2023-06-20T11:48:58.401Z"
   },
   {
    "duration": 9,
    "start_time": "2023-06-20T11:49:23.096Z"
   },
   {
    "duration": 9,
    "start_time": "2023-06-20T11:50:47.123Z"
   },
   {
    "duration": 14,
    "start_time": "2023-06-20T11:51:24.953Z"
   },
   {
    "duration": 9,
    "start_time": "2023-06-20T11:51:28.611Z"
   },
   {
    "duration": 8,
    "start_time": "2023-06-20T11:51:54.194Z"
   },
   {
    "duration": 9,
    "start_time": "2023-06-20T11:54:11.681Z"
   },
   {
    "duration": 11,
    "start_time": "2023-06-20T11:56:12.074Z"
   },
   {
    "duration": 9,
    "start_time": "2023-06-20T11:56:30.806Z"
   },
   {
    "duration": 10,
    "start_time": "2023-06-20T11:57:21.170Z"
   },
   {
    "duration": 7,
    "start_time": "2023-06-20T11:57:34.837Z"
   },
   {
    "duration": 14,
    "start_time": "2023-06-20T11:58:32.971Z"
   },
   {
    "duration": 9,
    "start_time": "2023-06-20T11:59:32.535Z"
   },
   {
    "duration": 9,
    "start_time": "2023-06-20T12:00:19.342Z"
   },
   {
    "duration": 10,
    "start_time": "2023-06-20T12:00:56.395Z"
   },
   {
    "duration": 11,
    "start_time": "2023-06-20T12:01:09.974Z"
   },
   {
    "duration": 18,
    "start_time": "2023-06-20T12:01:29.546Z"
   },
   {
    "duration": 9,
    "start_time": "2023-06-20T12:02:34.890Z"
   },
   {
    "duration": 11,
    "start_time": "2023-06-20T12:07:05.176Z"
   },
   {
    "duration": 8,
    "start_time": "2023-06-20T12:08:11.029Z"
   },
   {
    "duration": 8,
    "start_time": "2023-06-20T12:08:40.896Z"
   },
   {
    "duration": 12,
    "start_time": "2023-06-20T12:09:27.475Z"
   },
   {
    "duration": 8,
    "start_time": "2023-06-20T12:10:38.740Z"
   },
   {
    "duration": 8,
    "start_time": "2023-06-20T12:11:49.734Z"
   },
   {
    "duration": 11,
    "start_time": "2023-06-20T12:12:48.943Z"
   },
   {
    "duration": 10,
    "start_time": "2023-06-20T12:13:58.630Z"
   },
   {
    "duration": 8,
    "start_time": "2023-06-20T12:14:22.927Z"
   },
   {
    "duration": 30,
    "start_time": "2023-06-20T12:15:43.976Z"
   },
   {
    "duration": 8,
    "start_time": "2023-06-20T12:16:37.736Z"
   },
   {
    "duration": 11,
    "start_time": "2023-06-20T12:17:01.431Z"
   },
   {
    "duration": 15,
    "start_time": "2023-06-20T12:19:16.102Z"
   },
   {
    "duration": 23,
    "start_time": "2023-06-20T12:19:20.475Z"
   },
   {
    "duration": 8,
    "start_time": "2023-06-20T12:19:52.131Z"
   },
   {
    "duration": 8,
    "start_time": "2023-06-20T12:20:10.038Z"
   },
   {
    "duration": 8,
    "start_time": "2023-06-20T12:20:24.917Z"
   },
   {
    "duration": 8,
    "start_time": "2023-06-20T12:20:57.992Z"
   },
   {
    "duration": 10,
    "start_time": "2023-06-20T12:21:55.806Z"
   },
   {
    "duration": 16,
    "start_time": "2023-06-20T12:22:24.292Z"
   },
   {
    "duration": 15,
    "start_time": "2023-06-20T12:22:57.283Z"
   },
   {
    "duration": 10,
    "start_time": "2023-06-20T12:23:31.005Z"
   },
   {
    "duration": 13,
    "start_time": "2023-06-20T12:24:18.925Z"
   },
   {
    "duration": 9,
    "start_time": "2023-06-20T12:24:49.141Z"
   },
   {
    "duration": 9,
    "start_time": "2023-06-20T12:24:52.015Z"
   },
   {
    "duration": 15,
    "start_time": "2023-06-20T12:25:03.676Z"
   },
   {
    "duration": 12,
    "start_time": "2023-06-20T12:25:44.444Z"
   },
   {
    "duration": 17,
    "start_time": "2023-06-20T12:26:09.979Z"
   },
   {
    "duration": 9,
    "start_time": "2023-06-20T12:27:00.521Z"
   },
   {
    "duration": 9,
    "start_time": "2023-06-20T12:28:59.079Z"
   },
   {
    "duration": 9,
    "start_time": "2023-06-20T12:29:30.827Z"
   },
   {
    "duration": 8,
    "start_time": "2023-06-20T12:29:39.798Z"
   },
   {
    "duration": 14,
    "start_time": "2023-06-20T12:30:41.654Z"
   },
   {
    "duration": 11,
    "start_time": "2023-06-20T12:32:18.901Z"
   },
   {
    "duration": 9,
    "start_time": "2023-06-20T12:33:30.327Z"
   },
   {
    "duration": 10,
    "start_time": "2023-06-20T12:33:53.920Z"
   },
   {
    "duration": 13,
    "start_time": "2023-06-20T12:35:47.946Z"
   },
   {
    "duration": 11,
    "start_time": "2023-06-20T12:36:32.249Z"
   },
   {
    "duration": 7,
    "start_time": "2023-06-20T12:37:04.826Z"
   },
   {
    "duration": 11,
    "start_time": "2023-06-20T12:37:38.716Z"
   },
   {
    "duration": 7,
    "start_time": "2023-06-20T12:38:23.632Z"
   },
   {
    "duration": 8,
    "start_time": "2023-06-20T12:40:04.013Z"
   },
   {
    "duration": 12,
    "start_time": "2023-06-20T12:40:19.514Z"
   },
   {
    "duration": 14,
    "start_time": "2023-06-20T12:40:57.071Z"
   },
   {
    "duration": 11,
    "start_time": "2023-06-20T12:42:40.495Z"
   },
   {
    "duration": 13,
    "start_time": "2023-06-20T12:42:56.876Z"
   },
   {
    "duration": 9,
    "start_time": "2023-06-20T12:43:38.844Z"
   },
   {
    "duration": 17,
    "start_time": "2023-06-20T12:44:32.627Z"
   },
   {
    "duration": 9,
    "start_time": "2023-06-20T12:44:37.064Z"
   },
   {
    "duration": 109,
    "start_time": "2023-06-20T13:12:15.730Z"
   },
   {
    "duration": 38,
    "start_time": "2023-06-20T13:12:52.247Z"
   },
   {
    "duration": 3332,
    "start_time": "2023-06-20T13:13:02.214Z"
   },
   {
    "duration": 1429,
    "start_time": "2023-06-20T13:13:35.448Z"
   },
   {
    "duration": 1577,
    "start_time": "2023-06-20T13:13:36.879Z"
   },
   {
    "duration": 53,
    "start_time": "2023-06-20T13:13:38.462Z"
   },
   {
    "duration": 20,
    "start_time": "2023-06-20T13:13:38.517Z"
   },
   {
    "duration": 21,
    "start_time": "2023-06-20T13:13:38.540Z"
   },
   {
    "duration": 893,
    "start_time": "2023-06-20T13:13:38.564Z"
   },
   {
    "duration": 57,
    "start_time": "2023-06-20T13:13:39.461Z"
   },
   {
    "duration": 3298,
    "start_time": "2023-06-20T13:13:39.520Z"
   },
   {
    "duration": 9,
    "start_time": "2023-06-20T13:13:42.820Z"
   },
   {
    "duration": 102,
    "start_time": "2023-06-20T13:13:42.831Z"
   },
   {
    "duration": 54,
    "start_time": "2023-06-20T13:13:42.935Z"
   },
   {
    "duration": 2909,
    "start_time": "2023-06-20T13:13:42.992Z"
   },
   {
    "duration": 2,
    "start_time": "2023-06-20T13:13:45.903Z"
   },
   {
    "duration": 38,
    "start_time": "2023-06-20T13:13:45.907Z"
   },
   {
    "duration": 25,
    "start_time": "2023-06-20T13:31:19.978Z"
   },
   {
    "duration": 142,
    "start_time": "2023-06-20T13:32:45.104Z"
   },
   {
    "duration": 55,
    "start_time": "2023-06-20T13:32:53.545Z"
   },
   {
    "duration": 41,
    "start_time": "2023-06-20T13:33:11.701Z"
   },
   {
    "duration": 75,
    "start_time": "2023-06-20T13:35:34.050Z"
   },
   {
    "duration": 14,
    "start_time": "2023-06-20T13:35:47.851Z"
   },
   {
    "duration": 13,
    "start_time": "2023-06-20T13:36:07.973Z"
   },
   {
    "duration": 1515,
    "start_time": "2023-06-20T13:36:57.328Z"
   },
   {
    "duration": 1302,
    "start_time": "2023-06-20T13:36:58.846Z"
   },
   {
    "duration": 39,
    "start_time": "2023-06-20T13:37:00.159Z"
   },
   {
    "duration": 40,
    "start_time": "2023-06-20T13:37:00.200Z"
   },
   {
    "duration": 36,
    "start_time": "2023-06-20T13:37:00.242Z"
   },
   {
    "duration": 793,
    "start_time": "2023-06-20T13:37:00.279Z"
   },
   {
    "duration": 52,
    "start_time": "2023-06-20T13:37:01.074Z"
   },
   {
    "duration": 3346,
    "start_time": "2023-06-20T13:37:01.129Z"
   },
   {
    "duration": 11,
    "start_time": "2023-06-20T13:37:04.479Z"
   },
   {
    "duration": 111,
    "start_time": "2023-06-20T13:37:04.491Z"
   },
   {
    "duration": 20,
    "start_time": "2023-06-20T13:37:04.604Z"
   },
   {
    "duration": 2720,
    "start_time": "2023-06-20T13:37:04.665Z"
   },
   {
    "duration": 25,
    "start_time": "2023-06-20T13:37:07.388Z"
   },
   {
    "duration": 18,
    "start_time": "2023-06-20T13:37:07.414Z"
   },
   {
    "duration": 2714,
    "start_time": "2023-06-20T13:46:31.109Z"
   },
   {
    "duration": 19,
    "start_time": "2023-06-20T13:46:47.764Z"
   },
   {
    "duration": 26,
    "start_time": "2023-06-20T13:46:56.887Z"
   },
   {
    "duration": 24,
    "start_time": "2023-06-20T13:47:01.391Z"
   },
   {
    "duration": 23,
    "start_time": "2023-06-20T13:47:03.802Z"
   },
   {
    "duration": 33,
    "start_time": "2023-06-20T13:49:31.867Z"
   },
   {
    "duration": 4,
    "start_time": "2023-06-20T13:54:39.503Z"
   },
   {
    "duration": 1333,
    "start_time": "2023-06-20T13:54:45.266Z"
   },
   {
    "duration": 1195,
    "start_time": "2023-06-20T13:54:46.601Z"
   },
   {
    "duration": 33,
    "start_time": "2023-06-20T13:54:47.798Z"
   },
   {
    "duration": 29,
    "start_time": "2023-06-20T13:54:47.832Z"
   },
   {
    "duration": 8,
    "start_time": "2023-06-20T13:54:47.864Z"
   },
   {
    "duration": 796,
    "start_time": "2023-06-20T13:54:47.874Z"
   },
   {
    "duration": 5,
    "start_time": "2023-06-20T13:54:48.672Z"
   },
   {
    "duration": 56,
    "start_time": "2023-06-20T13:54:48.679Z"
   },
   {
    "duration": 3276,
    "start_time": "2023-06-20T13:54:48.737Z"
   },
   {
    "duration": 10,
    "start_time": "2023-06-20T13:54:52.015Z"
   },
   {
    "duration": 135,
    "start_time": "2023-06-20T13:54:52.027Z"
   },
   {
    "duration": 21,
    "start_time": "2023-06-20T13:54:52.165Z"
   },
   {
    "duration": 2697,
    "start_time": "2023-06-20T13:54:52.188Z"
   },
   {
    "duration": 27,
    "start_time": "2023-06-20T13:54:54.888Z"
   },
   {
    "duration": 150,
    "start_time": "2023-06-20T13:54:54.917Z"
   },
   {
    "duration": 0,
    "start_time": "2023-06-20T13:54:55.069Z"
   },
   {
    "duration": 16,
    "start_time": "2023-06-20T13:58:02.938Z"
   },
   {
    "duration": 35,
    "start_time": "2023-06-20T13:58:07.332Z"
   },
   {
    "duration": 24,
    "start_time": "2023-06-20T13:59:08.072Z"
   },
   {
    "duration": 1493,
    "start_time": "2023-06-20T13:59:51.976Z"
   },
   {
    "duration": 1134,
    "start_time": "2023-06-20T13:59:53.473Z"
   },
   {
    "duration": 35,
    "start_time": "2023-06-20T13:59:54.610Z"
   },
   {
    "duration": 164,
    "start_time": "2023-06-20T13:59:54.647Z"
   },
   {
    "duration": 8,
    "start_time": "2023-06-20T13:59:54.812Z"
   },
   {
    "duration": 909,
    "start_time": "2023-06-20T13:59:54.822Z"
   },
   {
    "duration": 4,
    "start_time": "2023-06-20T13:59:55.733Z"
   },
   {
    "duration": 107,
    "start_time": "2023-06-20T13:59:55.739Z"
   },
   {
    "duration": 4032,
    "start_time": "2023-06-20T13:59:55.847Z"
   },
   {
    "duration": 9,
    "start_time": "2023-06-20T13:59:59.882Z"
   },
   {
    "duration": 113,
    "start_time": "2023-06-20T13:59:59.893Z"
   },
   {
    "duration": 50,
    "start_time": "2023-06-20T14:00:00.009Z"
   },
   {
    "duration": 3149,
    "start_time": "2023-06-20T14:00:00.061Z"
   },
   {
    "duration": 40,
    "start_time": "2023-06-20T14:00:03.212Z"
   },
   {
    "duration": 3,
    "start_time": "2023-06-20T14:00:03.264Z"
   },
   {
    "duration": 71,
    "start_time": "2023-06-20T14:00:03.269Z"
   },
   {
    "duration": 74,
    "start_time": "2023-06-20T14:00:03.342Z"
   },
   {
    "duration": 25,
    "start_time": "2023-06-20T14:00:23.409Z"
   },
   {
    "duration": 38,
    "start_time": "2023-06-20T14:01:03.139Z"
   },
   {
    "duration": 25,
    "start_time": "2023-06-20T14:01:45.980Z"
   },
   {
    "duration": 18,
    "start_time": "2023-06-20T14:02:25.220Z"
   },
   {
    "duration": 1434,
    "start_time": "2023-06-20T14:03:29.344Z"
   },
   {
    "duration": 11581,
    "start_time": "2023-06-20T14:03:30.780Z"
   },
   {
    "duration": 34,
    "start_time": "2023-06-20T14:03:42.363Z"
   },
   {
    "duration": 18,
    "start_time": "2023-06-20T14:03:42.399Z"
   },
   {
    "duration": 11,
    "start_time": "2023-06-20T14:03:42.419Z"
   },
   {
    "duration": 787,
    "start_time": "2023-06-20T14:03:42.454Z"
   },
   {
    "duration": 13,
    "start_time": "2023-06-20T14:03:43.243Z"
   },
   {
    "duration": 61,
    "start_time": "2023-06-20T14:03:43.261Z"
   },
   {
    "duration": 3163,
    "start_time": "2023-06-20T14:03:43.324Z"
   },
   {
    "duration": 9,
    "start_time": "2023-06-20T14:03:46.491Z"
   },
   {
    "duration": 163,
    "start_time": "2023-06-20T14:03:46.502Z"
   },
   {
    "duration": 24,
    "start_time": "2023-06-20T14:03:46.667Z"
   },
   {
    "duration": 2719,
    "start_time": "2023-06-20T14:03:46.694Z"
   },
   {
    "duration": 26,
    "start_time": "2023-06-20T14:03:49.415Z"
   },
   {
    "duration": 10,
    "start_time": "2023-06-20T14:03:49.452Z"
   },
   {
    "duration": 135,
    "start_time": "2023-06-20T14:03:49.464Z"
   },
   {
    "duration": 0,
    "start_time": "2023-06-20T14:03:49.600Z"
   },
   {
    "duration": 0,
    "start_time": "2023-06-20T14:03:49.602Z"
   },
   {
    "duration": 25,
    "start_time": "2023-06-20T14:05:14.390Z"
   },
   {
    "duration": 81,
    "start_time": "2023-06-20T14:06:40.350Z"
   },
   {
    "duration": 12,
    "start_time": "2023-06-20T14:06:46.999Z"
   },
   {
    "duration": 15,
    "start_time": "2023-06-20T14:06:51.518Z"
   },
   {
    "duration": 22,
    "start_time": "2023-06-20T14:07:19.065Z"
   },
   {
    "duration": 1337,
    "start_time": "2023-06-20T14:08:04.987Z"
   },
   {
    "duration": 31,
    "start_time": "2023-06-20T14:08:08.293Z"
   },
   {
    "duration": 19,
    "start_time": "2023-06-20T14:15:00.231Z"
   },
   {
    "duration": 1248,
    "start_time": "2023-06-20T14:16:42.097Z"
   },
   {
    "duration": 5,
    "start_time": "2023-06-20T14:16:51.768Z"
   },
   {
    "duration": 6,
    "start_time": "2023-06-20T14:17:12.970Z"
   },
   {
    "duration": 6,
    "start_time": "2023-06-20T14:17:30.694Z"
   },
   {
    "duration": 23,
    "start_time": "2023-06-20T14:18:34.263Z"
   },
   {
    "duration": 1637,
    "start_time": "2023-06-21T08:07:29.990Z"
   },
   {
    "duration": 1028,
    "start_time": "2023-06-21T08:07:31.630Z"
   },
   {
    "duration": 35,
    "start_time": "2023-06-21T08:07:32.660Z"
   },
   {
    "duration": 16,
    "start_time": "2023-06-21T08:07:32.698Z"
   },
   {
    "duration": 7,
    "start_time": "2023-06-21T08:07:32.715Z"
   },
   {
    "duration": 28,
    "start_time": "2023-06-21T08:07:32.723Z"
   },
   {
    "duration": 3,
    "start_time": "2023-06-21T08:07:32.753Z"
   },
   {
    "duration": 45,
    "start_time": "2023-06-21T08:07:32.758Z"
   },
   {
    "duration": 17,
    "start_time": "2023-06-21T08:07:32.805Z"
   },
   {
    "duration": 18,
    "start_time": "2023-06-21T08:07:32.825Z"
   },
   {
    "duration": 11,
    "start_time": "2023-06-21T08:07:32.845Z"
   },
   {
    "duration": 11,
    "start_time": "2023-06-21T08:07:32.858Z"
   },
   {
    "duration": 498,
    "start_time": "2023-06-21T08:07:32.871Z"
   },
   {
    "duration": 5,
    "start_time": "2023-06-21T08:07:33.372Z"
   },
   {
    "duration": 78,
    "start_time": "2023-06-21T08:07:33.380Z"
   },
   {
    "duration": 1796,
    "start_time": "2023-06-21T08:07:33.461Z"
   },
   {
    "duration": 10,
    "start_time": "2023-06-21T08:07:35.272Z"
   },
   {
    "duration": 218,
    "start_time": "2023-06-21T08:07:35.283Z"
   },
   {
    "duration": 3,
    "start_time": "2023-06-21T08:07:35.503Z"
   },
   {
    "duration": 28,
    "start_time": "2023-06-21T08:07:35.508Z"
   },
   {
    "duration": 1798,
    "start_time": "2023-06-21T08:07:35.539Z"
   },
   {
    "duration": 76,
    "start_time": "2023-06-21T08:07:37.339Z"
   },
   {
    "duration": 3,
    "start_time": "2023-06-21T08:07:37.417Z"
   },
   {
    "duration": 81,
    "start_time": "2023-06-21T08:07:37.422Z"
   },
   {
    "duration": 205,
    "start_time": "2023-06-21T08:07:37.505Z"
   },
   {
    "duration": 23,
    "start_time": "2023-06-21T08:07:37.712Z"
   },
   {
    "duration": 109,
    "start_time": "2023-06-21T08:10:42.443Z"
   },
   {
    "duration": 172,
    "start_time": "2023-06-21T08:11:10.058Z"
   },
   {
    "duration": 103,
    "start_time": "2023-06-21T08:12:04.557Z"
   },
   {
    "duration": 10,
    "start_time": "2023-06-21T08:12:35.747Z"
   },
   {
    "duration": 9310,
    "start_time": "2023-06-21T08:12:39.836Z"
   },
   {
    "duration": 7827,
    "start_time": "2023-06-21T08:13:53.230Z"
   },
   {
    "duration": 176,
    "start_time": "2023-06-21T08:14:23.255Z"
   },
   {
    "duration": 7785,
    "start_time": "2023-06-21T08:15:35.842Z"
   },
   {
    "duration": 15959,
    "start_time": "2023-06-21T08:15:50.052Z"
   },
   {
    "duration": 209,
    "start_time": "2023-06-21T08:16:42.252Z"
   },
   {
    "duration": 1513,
    "start_time": "2023-06-21T08:21:15.155Z"
   },
   {
    "duration": 1509,
    "start_time": "2023-06-21T08:22:52.670Z"
   },
   {
    "duration": 348,
    "start_time": "2023-06-21T08:23:29.627Z"
   },
   {
    "duration": 1591,
    "start_time": "2023-06-21T08:23:38.250Z"
   },
   {
    "duration": 384,
    "start_time": "2023-06-21T08:24:19.300Z"
   },
   {
    "duration": 1696,
    "start_time": "2023-06-21T08:24:29.888Z"
   },
   {
    "duration": 1608,
    "start_time": "2023-06-21T08:24:42.722Z"
   },
   {
    "duration": 28,
    "start_time": "2023-06-21T08:26:05.497Z"
   },
   {
    "duration": 408,
    "start_time": "2023-06-21T08:26:17.443Z"
   },
   {
    "duration": 19,
    "start_time": "2023-06-21T08:26:49.342Z"
   },
   {
    "duration": 5,
    "start_time": "2023-06-21T08:28:03.095Z"
   },
   {
    "duration": 6,
    "start_time": "2023-06-21T08:28:08.498Z"
   },
   {
    "duration": 5,
    "start_time": "2023-06-21T08:28:33.122Z"
   },
   {
    "duration": 1271,
    "start_time": "2023-06-21T08:31:44.018Z"
   },
   {
    "duration": 1044,
    "start_time": "2023-06-21T08:31:45.292Z"
   },
   {
    "duration": 31,
    "start_time": "2023-06-21T08:31:46.338Z"
   },
   {
    "duration": 15,
    "start_time": "2023-06-21T08:31:46.372Z"
   },
   {
    "duration": 35,
    "start_time": "2023-06-21T08:31:46.388Z"
   },
   {
    "duration": 40,
    "start_time": "2023-06-21T08:31:46.425Z"
   },
   {
    "duration": 29,
    "start_time": "2023-06-21T08:31:46.468Z"
   },
   {
    "duration": 81,
    "start_time": "2023-06-21T08:31:46.500Z"
   },
   {
    "duration": 24,
    "start_time": "2023-06-21T08:31:46.583Z"
   },
   {
    "duration": 20,
    "start_time": "2023-06-21T08:31:46.618Z"
   },
   {
    "duration": 48,
    "start_time": "2023-06-21T08:31:46.640Z"
   },
   {
    "duration": 10,
    "start_time": "2023-06-21T08:31:46.691Z"
   },
   {
    "duration": 545,
    "start_time": "2023-06-21T08:31:46.708Z"
   },
   {
    "duration": 4,
    "start_time": "2023-06-21T08:31:47.255Z"
   },
   {
    "duration": 71,
    "start_time": "2023-06-21T08:31:47.260Z"
   },
   {
    "duration": 2019,
    "start_time": "2023-06-21T08:31:47.333Z"
   },
   {
    "duration": 8,
    "start_time": "2023-06-21T08:31:49.354Z"
   },
   {
    "duration": 89,
    "start_time": "2023-06-21T08:31:49.363Z"
   },
   {
    "duration": 8,
    "start_time": "2023-06-21T08:31:49.455Z"
   },
   {
    "duration": 56,
    "start_time": "2023-06-21T08:31:49.469Z"
   },
   {
    "duration": 1830,
    "start_time": "2023-06-21T08:31:49.527Z"
   },
   {
    "duration": 24,
    "start_time": "2023-06-21T08:31:51.359Z"
   },
   {
    "duration": 21,
    "start_time": "2023-06-21T08:31:51.385Z"
   },
   {
    "duration": 25,
    "start_time": "2023-06-21T08:31:51.408Z"
   },
   {
    "duration": 9,
    "start_time": "2023-06-21T08:31:51.435Z"
   },
   {
    "duration": 129,
    "start_time": "2023-06-21T08:31:51.445Z"
   },
   {
    "duration": 0,
    "start_time": "2023-06-21T08:31:51.575Z"
   },
   {
    "duration": 1583,
    "start_time": "2023-06-21T08:33:04.851Z"
   },
   {
    "duration": 4,
    "start_time": "2023-06-21T08:35:17.052Z"
   },
   {
    "duration": 11,
    "start_time": "2023-06-21T08:35:58.227Z"
   },
   {
    "duration": 6,
    "start_time": "2023-06-21T08:38:26.449Z"
   },
   {
    "duration": 10,
    "start_time": "2023-06-21T08:44:43.446Z"
   },
   {
    "duration": 7,
    "start_time": "2023-06-21T08:44:58.400Z"
   },
   {
    "duration": 10,
    "start_time": "2023-06-21T08:45:07.547Z"
   },
   {
    "duration": 8,
    "start_time": "2023-06-21T08:45:15.048Z"
   },
   {
    "duration": 4,
    "start_time": "2023-06-21T08:50:54.768Z"
   },
   {
    "duration": 5,
    "start_time": "2023-06-21T08:50:58.751Z"
   },
   {
    "duration": 5,
    "start_time": "2023-06-21T08:51:06.953Z"
   },
   {
    "duration": 13,
    "start_time": "2023-06-21T08:51:11.116Z"
   },
   {
    "duration": 6,
    "start_time": "2023-06-21T08:52:33.704Z"
   },
   {
    "duration": 9,
    "start_time": "2023-06-21T08:52:47.405Z"
   },
   {
    "duration": 9,
    "start_time": "2023-06-21T08:53:10.367Z"
   },
   {
    "duration": 11,
    "start_time": "2023-06-21T08:53:18.304Z"
   },
   {
    "duration": 8,
    "start_time": "2023-06-21T08:53:20.980Z"
   },
   {
    "duration": 9,
    "start_time": "2023-06-21T08:53:25.344Z"
   },
   {
    "duration": 8,
    "start_time": "2023-06-21T08:53:44.545Z"
   },
   {
    "duration": 9,
    "start_time": "2023-06-21T08:54:05.743Z"
   },
   {
    "duration": 9,
    "start_time": "2023-06-21T08:54:18.600Z"
   },
   {
    "duration": 8,
    "start_time": "2023-06-21T08:54:27.763Z"
   },
   {
    "duration": 4,
    "start_time": "2023-06-21T08:54:34.604Z"
   },
   {
    "duration": 9,
    "start_time": "2023-06-21T08:54:39.617Z"
   },
   {
    "duration": 7,
    "start_time": "2023-06-21T08:54:47.766Z"
   },
   {
    "duration": 223,
    "start_time": "2023-06-21T08:55:44.151Z"
   },
   {
    "duration": 7503,
    "start_time": "2023-06-21T09:02:23.201Z"
   },
   {
    "duration": 221,
    "start_time": "2023-06-21T09:02:42.930Z"
   },
   {
    "duration": 24,
    "start_time": "2023-06-21T09:04:06.305Z"
   },
   {
    "duration": 8,
    "start_time": "2023-06-21T09:04:11.612Z"
   },
   {
    "duration": 6,
    "start_time": "2023-06-21T09:04:13.742Z"
   },
   {
    "duration": 8,
    "start_time": "2023-06-21T09:04:16.571Z"
   },
   {
    "duration": 203,
    "start_time": "2023-06-21T09:04:18.305Z"
   },
   {
    "duration": 155,
    "start_time": "2023-06-21T09:04:24.209Z"
   },
   {
    "duration": 128,
    "start_time": "2023-06-21T09:04:29.852Z"
   },
   {
    "duration": 136,
    "start_time": "2023-06-21T09:05:40.607Z"
   },
   {
    "duration": 158,
    "start_time": "2023-06-21T09:06:35.353Z"
   },
   {
    "duration": 145,
    "start_time": "2023-06-21T09:06:42.313Z"
   },
   {
    "duration": 153,
    "start_time": "2023-06-21T09:07:16.752Z"
   },
   {
    "duration": 142,
    "start_time": "2023-06-21T09:11:44.410Z"
   },
   {
    "duration": 182,
    "start_time": "2023-06-21T09:11:51.562Z"
   },
   {
    "duration": 448,
    "start_time": "2023-06-21T09:11:55.665Z"
   },
   {
    "duration": 243,
    "start_time": "2023-06-21T09:12:04.622Z"
   },
   {
    "duration": 171,
    "start_time": "2023-06-21T09:13:12.720Z"
   },
   {
    "duration": 154,
    "start_time": "2023-06-21T09:13:19.945Z"
   },
   {
    "duration": 134,
    "start_time": "2023-06-21T09:13:22.910Z"
   },
   {
    "duration": 181,
    "start_time": "2023-06-21T09:13:31.309Z"
   },
   {
    "duration": 181,
    "start_time": "2023-06-21T09:13:34.809Z"
   },
   {
    "duration": 194,
    "start_time": "2023-06-21T09:13:40.145Z"
   },
   {
    "duration": 203,
    "start_time": "2023-06-21T09:13:44.809Z"
   },
   {
    "duration": 204,
    "start_time": "2023-06-21T09:13:58.246Z"
   },
   {
    "duration": 1212,
    "start_time": "2023-06-21T09:14:04.150Z"
   },
   {
    "duration": 1455,
    "start_time": "2023-06-21T09:14:05.364Z"
   },
   {
    "duration": 31,
    "start_time": "2023-06-21T09:14:06.821Z"
   },
   {
    "duration": 23,
    "start_time": "2023-06-21T09:14:06.854Z"
   },
   {
    "duration": 29,
    "start_time": "2023-06-21T09:14:06.878Z"
   },
   {
    "duration": 22,
    "start_time": "2023-06-21T09:14:06.909Z"
   },
   {
    "duration": 12,
    "start_time": "2023-06-21T09:14:06.933Z"
   },
   {
    "duration": 28,
    "start_time": "2023-06-21T09:14:06.946Z"
   },
   {
    "duration": 25,
    "start_time": "2023-06-21T09:14:06.976Z"
   },
   {
    "duration": 35,
    "start_time": "2023-06-21T09:14:07.004Z"
   },
   {
    "duration": 27,
    "start_time": "2023-06-21T09:14:07.041Z"
   },
   {
    "duration": 10,
    "start_time": "2023-06-21T09:14:07.070Z"
   },
   {
    "duration": 521,
    "start_time": "2023-06-21T09:14:07.082Z"
   },
   {
    "duration": 4,
    "start_time": "2023-06-21T09:14:07.605Z"
   },
   {
    "duration": 60,
    "start_time": "2023-06-21T09:14:07.611Z"
   },
   {
    "duration": 1933,
    "start_time": "2023-06-21T09:14:07.672Z"
   },
   {
    "duration": 7,
    "start_time": "2023-06-21T09:14:09.607Z"
   },
   {
    "duration": 116,
    "start_time": "2023-06-21T09:14:09.615Z"
   },
   {
    "duration": 2,
    "start_time": "2023-06-21T09:14:09.733Z"
   },
   {
    "duration": 19,
    "start_time": "2023-06-21T09:14:09.737Z"
   },
   {
    "duration": 1819,
    "start_time": "2023-06-21T09:14:09.757Z"
   },
   {
    "duration": 26,
    "start_time": "2023-06-21T09:14:11.578Z"
   },
   {
    "duration": 2,
    "start_time": "2023-06-21T09:14:11.606Z"
   },
   {
    "duration": 29,
    "start_time": "2023-06-21T09:14:11.610Z"
   },
   {
    "duration": 18,
    "start_time": "2023-06-21T09:14:11.640Z"
   },
   {
    "duration": 27,
    "start_time": "2023-06-21T09:14:11.660Z"
   },
   {
    "duration": 34,
    "start_time": "2023-06-21T09:14:11.688Z"
   },
   {
    "duration": 169,
    "start_time": "2023-06-21T09:14:11.725Z"
   },
   {
    "duration": 13,
    "start_time": "2023-06-21T09:14:11.896Z"
   },
   {
    "duration": 34,
    "start_time": "2023-06-21T09:14:11.910Z"
   },
   {
    "duration": 25,
    "start_time": "2023-06-21T09:18:37.762Z"
   },
   {
    "duration": 17,
    "start_time": "2023-06-21T09:19:03.318Z"
   },
   {
    "duration": 17,
    "start_time": "2023-06-21T09:19:42.515Z"
   },
   {
    "duration": 105,
    "start_time": "2023-06-21T09:19:50.653Z"
   },
   {
    "duration": 266,
    "start_time": "2023-06-21T09:19:56.111Z"
   },
   {
    "duration": 7854,
    "start_time": "2023-06-21T09:20:11.513Z"
   },
   {
    "duration": 185,
    "start_time": "2023-06-21T09:20:43.003Z"
   },
   {
    "duration": 193,
    "start_time": "2023-06-21T09:20:51.268Z"
   },
   {
    "duration": 303,
    "start_time": "2023-06-21T09:20:56.025Z"
   },
   {
    "duration": 457,
    "start_time": "2023-06-21T09:21:03.616Z"
   },
   {
    "duration": 420,
    "start_time": "2023-06-21T09:21:09.633Z"
   },
   {
    "duration": 192,
    "start_time": "2023-06-21T09:21:22.754Z"
   },
   {
    "duration": 194,
    "start_time": "2023-06-21T09:21:29.503Z"
   },
   {
    "duration": 249,
    "start_time": "2023-06-21T09:21:33.824Z"
   },
   {
    "duration": 248,
    "start_time": "2023-06-21T09:21:39.448Z"
   },
   {
    "duration": 198,
    "start_time": "2023-06-21T09:21:45.706Z"
   },
   {
    "duration": 312,
    "start_time": "2023-06-21T09:21:51.517Z"
   },
   {
    "duration": 4348,
    "start_time": "2023-06-21T09:22:09.843Z"
   },
   {
    "duration": 1252,
    "start_time": "2023-06-21T09:22:41.063Z"
   },
   {
    "duration": 1524,
    "start_time": "2023-06-21T09:22:42.317Z"
   },
   {
    "duration": 31,
    "start_time": "2023-06-21T09:22:43.843Z"
   },
   {
    "duration": 16,
    "start_time": "2023-06-21T09:22:43.875Z"
   },
   {
    "duration": 12,
    "start_time": "2023-06-21T09:22:43.893Z"
   },
   {
    "duration": 22,
    "start_time": "2023-06-21T09:22:43.907Z"
   },
   {
    "duration": 6,
    "start_time": "2023-06-21T09:22:43.931Z"
   },
   {
    "duration": 29,
    "start_time": "2023-06-21T09:22:43.938Z"
   },
   {
    "duration": 51,
    "start_time": "2023-06-21T09:22:43.969Z"
   },
   {
    "duration": 10,
    "start_time": "2023-06-21T09:22:44.022Z"
   },
   {
    "duration": 15,
    "start_time": "2023-06-21T09:22:44.033Z"
   },
   {
    "duration": 14,
    "start_time": "2023-06-21T09:22:44.049Z"
   },
   {
    "duration": 472,
    "start_time": "2023-06-21T09:22:44.064Z"
   },
   {
    "duration": 4,
    "start_time": "2023-06-21T09:22:44.539Z"
   },
   {
    "duration": 59,
    "start_time": "2023-06-21T09:22:44.544Z"
   },
   {
    "duration": 1817,
    "start_time": "2023-06-21T09:22:44.605Z"
   },
   {
    "duration": 7,
    "start_time": "2023-06-21T09:22:46.424Z"
   },
   {
    "duration": 112,
    "start_time": "2023-06-21T09:22:46.432Z"
   },
   {
    "duration": 5,
    "start_time": "2023-06-21T09:22:46.545Z"
   },
   {
    "duration": 50,
    "start_time": "2023-06-21T09:22:46.552Z"
   },
   {
    "duration": 1743,
    "start_time": "2023-06-21T09:22:46.604Z"
   },
   {
    "duration": 22,
    "start_time": "2023-06-21T09:22:48.348Z"
   },
   {
    "duration": 2,
    "start_time": "2023-06-21T09:22:48.372Z"
   },
   {
    "duration": 47,
    "start_time": "2023-06-21T09:22:48.376Z"
   },
   {
    "duration": 8,
    "start_time": "2023-06-21T09:22:48.425Z"
   },
   {
    "duration": 9,
    "start_time": "2023-06-21T09:22:48.435Z"
   },
   {
    "duration": 17,
    "start_time": "2023-06-21T09:22:48.446Z"
   },
   {
    "duration": 172,
    "start_time": "2023-06-21T09:22:48.466Z"
   },
   {
    "duration": 16,
    "start_time": "2023-06-21T09:22:48.640Z"
   },
   {
    "duration": 298,
    "start_time": "2023-06-21T09:22:48.658Z"
   },
   {
    "duration": 26,
    "start_time": "2023-06-21T09:22:48.957Z"
   },
   {
    "duration": 1268,
    "start_time": "2023-06-21T09:25:58.214Z"
   },
   {
    "duration": 1082,
    "start_time": "2023-06-21T09:25:59.485Z"
   },
   {
    "duration": 44,
    "start_time": "2023-06-21T09:26:00.570Z"
   },
   {
    "duration": 22,
    "start_time": "2023-06-21T09:26:00.616Z"
   },
   {
    "duration": 49,
    "start_time": "2023-06-21T09:26:00.641Z"
   },
   {
    "duration": 58,
    "start_time": "2023-06-21T09:26:00.692Z"
   },
   {
    "duration": 36,
    "start_time": "2023-06-21T09:26:00.752Z"
   },
   {
    "duration": 46,
    "start_time": "2023-06-21T09:26:00.791Z"
   },
   {
    "duration": 49,
    "start_time": "2023-06-21T09:26:00.839Z"
   },
   {
    "duration": 35,
    "start_time": "2023-06-21T09:26:00.890Z"
   },
   {
    "duration": 61,
    "start_time": "2023-06-21T09:26:00.927Z"
   },
   {
    "duration": 108,
    "start_time": "2023-06-21T09:26:00.990Z"
   },
   {
    "duration": 568,
    "start_time": "2023-06-21T09:26:01.100Z"
   },
   {
    "duration": 4,
    "start_time": "2023-06-21T09:26:01.671Z"
   },
   {
    "duration": 144,
    "start_time": "2023-06-21T09:26:01.676Z"
   },
   {
    "duration": 1961,
    "start_time": "2023-06-21T09:26:01.821Z"
   },
   {
    "duration": 19,
    "start_time": "2023-06-21T09:26:03.783Z"
   },
   {
    "duration": 116,
    "start_time": "2023-06-21T09:26:03.804Z"
   },
   {
    "duration": 3,
    "start_time": "2023-06-21T09:26:03.922Z"
   },
   {
    "duration": 20,
    "start_time": "2023-06-21T09:26:03.926Z"
   },
   {
    "duration": 1675,
    "start_time": "2023-06-21T09:26:03.948Z"
   },
   {
    "duration": 27,
    "start_time": "2023-06-21T09:26:05.625Z"
   },
   {
    "duration": 5,
    "start_time": "2023-06-21T09:26:05.654Z"
   },
   {
    "duration": 48,
    "start_time": "2023-06-21T09:26:05.661Z"
   },
   {
    "duration": 24,
    "start_time": "2023-06-21T09:26:05.711Z"
   },
   {
    "duration": 9,
    "start_time": "2023-06-21T09:26:05.737Z"
   },
   {
    "duration": 23,
    "start_time": "2023-06-21T09:26:05.748Z"
   },
   {
    "duration": 164,
    "start_time": "2023-06-21T09:26:05.773Z"
   },
   {
    "duration": 17,
    "start_time": "2023-06-21T09:26:05.939Z"
   },
   {
    "duration": 301,
    "start_time": "2023-06-21T09:26:05.959Z"
   },
   {
    "duration": 40,
    "start_time": "2023-06-21T09:26:06.262Z"
   },
   {
    "duration": 4,
    "start_time": "2023-06-21T09:27:58.116Z"
   },
   {
    "duration": 108,
    "start_time": "2023-06-21T09:28:04.823Z"
   },
   {
    "duration": 1295,
    "start_time": "2023-06-21T09:28:31.423Z"
   },
   {
    "duration": 1127,
    "start_time": "2023-06-21T09:28:32.720Z"
   },
   {
    "duration": 32,
    "start_time": "2023-06-21T09:28:33.850Z"
   },
   {
    "duration": 16,
    "start_time": "2023-06-21T09:28:33.885Z"
   },
   {
    "duration": 32,
    "start_time": "2023-06-21T09:28:33.903Z"
   },
   {
    "duration": 40,
    "start_time": "2023-06-21T09:28:33.937Z"
   },
   {
    "duration": 4,
    "start_time": "2023-06-21T09:28:33.979Z"
   },
   {
    "duration": 22,
    "start_time": "2023-06-21T09:28:33.984Z"
   },
   {
    "duration": 15,
    "start_time": "2023-06-21T09:28:34.008Z"
   },
   {
    "duration": 8,
    "start_time": "2023-06-21T09:28:34.026Z"
   },
   {
    "duration": 19,
    "start_time": "2023-06-21T09:28:34.036Z"
   },
   {
    "duration": 19,
    "start_time": "2023-06-21T09:28:34.057Z"
   },
   {
    "duration": 485,
    "start_time": "2023-06-21T09:28:34.078Z"
   },
   {
    "duration": 4,
    "start_time": "2023-06-21T09:28:34.565Z"
   },
   {
    "duration": 54,
    "start_time": "2023-06-21T09:28:34.570Z"
   },
   {
    "duration": 1792,
    "start_time": "2023-06-21T09:28:34.625Z"
   },
   {
    "duration": 8,
    "start_time": "2023-06-21T09:28:36.418Z"
   },
   {
    "duration": 136,
    "start_time": "2023-06-21T09:28:36.427Z"
   },
   {
    "duration": 3,
    "start_time": "2023-06-21T09:28:36.565Z"
   },
   {
    "duration": 47,
    "start_time": "2023-06-21T09:28:36.570Z"
   },
   {
    "duration": 1585,
    "start_time": "2023-06-21T09:28:36.619Z"
   },
   {
    "duration": 24,
    "start_time": "2023-06-21T09:28:38.206Z"
   },
   {
    "duration": 2,
    "start_time": "2023-06-21T09:28:38.232Z"
   },
   {
    "duration": 43,
    "start_time": "2023-06-21T09:28:38.236Z"
   },
   {
    "duration": 22,
    "start_time": "2023-06-21T09:28:38.281Z"
   },
   {
    "duration": 27,
    "start_time": "2023-06-21T09:28:38.305Z"
   },
   {
    "duration": 8,
    "start_time": "2023-06-21T09:28:38.334Z"
   },
   {
    "duration": 155,
    "start_time": "2023-06-21T09:28:38.345Z"
   },
   {
    "duration": 113,
    "start_time": "2023-06-21T09:28:38.502Z"
   },
   {
    "duration": 0,
    "start_time": "2023-06-21T09:28:38.617Z"
   },
   {
    "duration": 0,
    "start_time": "2023-06-21T09:28:38.618Z"
   },
   {
    "duration": 17,
    "start_time": "2023-06-21T09:33:10.946Z"
   },
   {
    "duration": 19,
    "start_time": "2023-06-21T09:33:47.318Z"
   },
   {
    "duration": 1340,
    "start_time": "2023-06-21T09:34:36.067Z"
   },
   {
    "duration": 914,
    "start_time": "2023-06-21T09:34:37.410Z"
   },
   {
    "duration": 31,
    "start_time": "2023-06-21T09:34:38.326Z"
   },
   {
    "duration": 16,
    "start_time": "2023-06-21T09:34:38.359Z"
   },
   {
    "duration": 29,
    "start_time": "2023-06-21T09:34:38.377Z"
   },
   {
    "duration": 34,
    "start_time": "2023-06-21T09:34:38.408Z"
   },
   {
    "duration": 12,
    "start_time": "2023-06-21T09:34:38.444Z"
   },
   {
    "duration": 35,
    "start_time": "2023-06-21T09:34:38.458Z"
   },
   {
    "duration": 41,
    "start_time": "2023-06-21T09:34:38.494Z"
   },
   {
    "duration": 25,
    "start_time": "2023-06-21T09:34:38.537Z"
   },
   {
    "duration": 39,
    "start_time": "2023-06-21T09:34:38.564Z"
   },
   {
    "duration": 42,
    "start_time": "2023-06-21T09:34:38.605Z"
   },
   {
    "duration": 478,
    "start_time": "2023-06-21T09:34:38.648Z"
   },
   {
    "duration": 4,
    "start_time": "2023-06-21T09:34:39.128Z"
   },
   {
    "duration": 61,
    "start_time": "2023-06-21T09:34:39.133Z"
   },
   {
    "duration": 1857,
    "start_time": "2023-06-21T09:34:39.196Z"
   },
   {
    "duration": 7,
    "start_time": "2023-06-21T09:34:41.054Z"
   },
   {
    "duration": 103,
    "start_time": "2023-06-21T09:34:41.063Z"
   },
   {
    "duration": 35,
    "start_time": "2023-06-21T09:34:41.168Z"
   },
   {
    "duration": 20,
    "start_time": "2023-06-21T09:34:41.204Z"
   },
   {
    "duration": 1583,
    "start_time": "2023-06-21T09:34:41.225Z"
   },
   {
    "duration": 23,
    "start_time": "2023-06-21T09:34:42.810Z"
   },
   {
    "duration": 3,
    "start_time": "2023-06-21T09:34:42.834Z"
   },
   {
    "duration": 125,
    "start_time": "2023-06-21T09:34:42.838Z"
   },
   {
    "duration": 0,
    "start_time": "2023-06-21T09:34:42.965Z"
   },
   {
    "duration": 0,
    "start_time": "2023-06-21T09:34:42.966Z"
   },
   {
    "duration": 0,
    "start_time": "2023-06-21T09:34:42.967Z"
   },
   {
    "duration": 0,
    "start_time": "2023-06-21T09:34:42.969Z"
   },
   {
    "duration": 0,
    "start_time": "2023-06-21T09:34:42.970Z"
   },
   {
    "duration": 0,
    "start_time": "2023-06-21T09:34:42.971Z"
   },
   {
    "duration": 0,
    "start_time": "2023-06-21T09:34:42.972Z"
   },
   {
    "duration": 52,
    "start_time": "2023-06-21T09:40:35.944Z"
   },
   {
    "duration": 1480,
    "start_time": "2023-06-21T09:41:07.122Z"
   },
   {
    "duration": 1055,
    "start_time": "2023-06-21T09:41:08.604Z"
   },
   {
    "duration": 33,
    "start_time": "2023-06-21T09:41:09.661Z"
   },
   {
    "duration": 21,
    "start_time": "2023-06-21T09:41:09.696Z"
   },
   {
    "duration": 8,
    "start_time": "2023-06-21T09:41:09.720Z"
   },
   {
    "duration": 28,
    "start_time": "2023-06-21T09:41:09.729Z"
   },
   {
    "duration": 10,
    "start_time": "2023-06-21T09:41:09.758Z"
   },
   {
    "duration": 17,
    "start_time": "2023-06-21T09:41:09.769Z"
   },
   {
    "duration": 39,
    "start_time": "2023-06-21T09:41:09.788Z"
   },
   {
    "duration": 36,
    "start_time": "2023-06-21T09:41:09.830Z"
   },
   {
    "duration": 24,
    "start_time": "2023-06-21T09:41:09.868Z"
   },
   {
    "duration": 7,
    "start_time": "2023-06-21T09:41:09.894Z"
   },
   {
    "duration": 521,
    "start_time": "2023-06-21T09:41:09.903Z"
   },
   {
    "duration": 5,
    "start_time": "2023-06-21T09:41:10.427Z"
   },
   {
    "duration": 79,
    "start_time": "2023-06-21T09:41:10.434Z"
   },
   {
    "duration": 1900,
    "start_time": "2023-06-21T09:41:10.515Z"
   },
   {
    "duration": 9,
    "start_time": "2023-06-21T09:41:12.417Z"
   },
   {
    "duration": 133,
    "start_time": "2023-06-21T09:41:12.428Z"
   },
   {
    "duration": 4,
    "start_time": "2023-06-21T09:41:12.564Z"
   },
   {
    "duration": 87,
    "start_time": "2023-06-21T09:41:12.569Z"
   },
   {
    "duration": 1675,
    "start_time": "2023-06-21T09:41:12.658Z"
   },
   {
    "duration": 29,
    "start_time": "2023-06-21T09:41:14.335Z"
   },
   {
    "duration": 2,
    "start_time": "2023-06-21T09:41:14.366Z"
   },
   {
    "duration": 43,
    "start_time": "2023-06-21T09:41:14.370Z"
   },
   {
    "duration": 1567,
    "start_time": "2023-06-21T09:41:14.415Z"
   },
   {
    "duration": 0,
    "start_time": "2023-06-21T09:41:15.983Z"
   },
   {
    "duration": 0,
    "start_time": "2023-06-21T09:41:15.984Z"
   },
   {
    "duration": 0,
    "start_time": "2023-06-21T09:41:15.986Z"
   },
   {
    "duration": 0,
    "start_time": "2023-06-21T09:41:15.987Z"
   },
   {
    "duration": 0,
    "start_time": "2023-06-21T09:41:15.988Z"
   },
   {
    "duration": 0,
    "start_time": "2023-06-21T09:41:15.989Z"
   },
   {
    "duration": 10,
    "start_time": "2023-06-21T09:41:24.530Z"
   },
   {
    "duration": 5,
    "start_time": "2023-06-21T09:41:33.810Z"
   },
   {
    "duration": 7,
    "start_time": "2023-06-21T09:41:36.334Z"
   },
   {
    "duration": 151,
    "start_time": "2023-06-21T09:41:42.118Z"
   },
   {
    "duration": 18,
    "start_time": "2023-06-21T09:42:15.634Z"
   },
   {
    "duration": 378,
    "start_time": "2023-06-21T09:42:46.519Z"
   },
   {
    "duration": 572,
    "start_time": "2023-06-21T09:43:13.710Z"
   },
   {
    "duration": 11,
    "start_time": "2023-06-21T09:43:31.707Z"
   },
   {
    "duration": 1987,
    "start_time": "2023-06-21T09:44:08.717Z"
   },
   {
    "duration": 1883,
    "start_time": "2023-06-21T09:44:19.910Z"
   },
   {
    "duration": 14,
    "start_time": "2023-06-21T09:44:32.206Z"
   },
   {
    "duration": 242,
    "start_time": "2023-06-21T09:44:36.214Z"
   },
   {
    "duration": 154,
    "start_time": "2023-06-21T09:45:09.336Z"
   },
   {
    "duration": 15,
    "start_time": "2023-06-21T09:45:58.946Z"
   },
   {
    "duration": 156,
    "start_time": "2023-06-21T09:46:03.733Z"
   },
   {
    "duration": 139,
    "start_time": "2023-06-21T09:46:24.715Z"
   },
   {
    "duration": 488,
    "start_time": "2023-06-21T09:47:39.805Z"
   },
   {
    "duration": 722,
    "start_time": "2023-06-21T09:47:50.312Z"
   },
   {
    "duration": 535,
    "start_time": "2023-06-21T09:47:58.038Z"
   },
   {
    "duration": 737,
    "start_time": "2023-06-21T09:48:08.242Z"
   },
   {
    "duration": 878,
    "start_time": "2023-06-21T09:48:40.750Z"
   },
   {
    "duration": 193,
    "start_time": "2023-06-21T09:52:13.758Z"
   },
   {
    "duration": 46,
    "start_time": "2023-06-21T09:54:36.902Z"
   },
   {
    "duration": 276,
    "start_time": "2023-06-21T09:55:20.620Z"
   },
   {
    "duration": 267,
    "start_time": "2023-06-21T09:55:37.789Z"
   },
   {
    "duration": 1607,
    "start_time": "2023-06-21T09:59:29.458Z"
   },
   {
    "duration": 1370,
    "start_time": "2023-06-21T09:59:31.068Z"
   },
   {
    "duration": 51,
    "start_time": "2023-06-21T09:59:32.440Z"
   },
   {
    "duration": 21,
    "start_time": "2023-06-21T09:59:32.503Z"
   },
   {
    "duration": 26,
    "start_time": "2023-06-21T09:59:32.528Z"
   },
   {
    "duration": 47,
    "start_time": "2023-06-21T09:59:32.557Z"
   },
   {
    "duration": 7,
    "start_time": "2023-06-21T09:59:32.608Z"
   },
   {
    "duration": 57,
    "start_time": "2023-06-21T09:59:32.618Z"
   },
   {
    "duration": 45,
    "start_time": "2023-06-21T09:59:32.678Z"
   },
   {
    "duration": 25,
    "start_time": "2023-06-21T09:59:32.726Z"
   },
   {
    "duration": 20,
    "start_time": "2023-06-21T09:59:32.753Z"
   },
   {
    "duration": 15,
    "start_time": "2023-06-21T09:59:32.775Z"
   },
   {
    "duration": 686,
    "start_time": "2023-06-21T09:59:32.792Z"
   },
   {
    "duration": 7,
    "start_time": "2023-06-21T09:59:33.482Z"
   },
   {
    "duration": 80,
    "start_time": "2023-06-21T09:59:33.491Z"
   },
   {
    "duration": 2604,
    "start_time": "2023-06-21T09:59:33.574Z"
   },
   {
    "duration": 20,
    "start_time": "2023-06-21T09:59:36.181Z"
   },
   {
    "duration": 201,
    "start_time": "2023-06-21T09:59:36.204Z"
   },
   {
    "duration": 5,
    "start_time": "2023-06-21T09:59:36.408Z"
   },
   {
    "duration": 35,
    "start_time": "2023-06-21T09:59:36.416Z"
   },
   {
    "duration": 2180,
    "start_time": "2023-06-21T09:59:36.453Z"
   },
   {
    "duration": 23,
    "start_time": "2023-06-21T09:59:38.636Z"
   },
   {
    "duration": 4,
    "start_time": "2023-06-21T09:59:38.661Z"
   },
   {
    "duration": 46,
    "start_time": "2023-06-21T09:59:38.666Z"
   },
   {
    "duration": 9,
    "start_time": "2023-06-21T09:59:38.714Z"
   },
   {
    "duration": 14,
    "start_time": "2023-06-21T09:59:38.725Z"
   },
   {
    "duration": 17,
    "start_time": "2023-06-21T09:59:38.740Z"
   },
   {
    "duration": 295,
    "start_time": "2023-06-21T09:59:38.759Z"
   },
   {
    "duration": 47,
    "start_time": "2023-06-21T09:59:39.056Z"
   },
   {
    "duration": 960,
    "start_time": "2023-06-21T09:59:39.105Z"
   },
   {
    "duration": 50,
    "start_time": "2023-06-21T09:59:40.067Z"
   },
   {
    "duration": 467,
    "start_time": "2023-06-21T09:59:56.944Z"
   },
   {
    "duration": 54,
    "start_time": "2023-06-21T10:01:53.015Z"
   },
   {
    "duration": 36,
    "start_time": "2023-06-21T10:02:11.261Z"
   },
   {
    "duration": 66,
    "start_time": "2023-06-21T10:06:38.565Z"
   },
   {
    "duration": 7,
    "start_time": "2023-06-21T10:06:51.714Z"
   },
   {
    "duration": 21,
    "start_time": "2023-06-21T10:06:54.543Z"
   },
   {
    "duration": 255,
    "start_time": "2023-06-21T10:07:06.041Z"
   },
   {
    "duration": 20,
    "start_time": "2023-06-21T10:07:13.708Z"
   },
   {
    "duration": 21,
    "start_time": "2023-06-21T10:07:20.721Z"
   },
   {
    "duration": 259,
    "start_time": "2023-06-21T10:08:11.642Z"
   },
   {
    "duration": 15,
    "start_time": "2023-06-21T10:08:16.533Z"
   },
   {
    "duration": 24,
    "start_time": "2023-06-21T10:08:21.191Z"
   },
   {
    "duration": 158,
    "start_time": "2023-06-21T10:09:00.070Z"
   },
   {
    "duration": 168,
    "start_time": "2023-06-21T10:09:31.802Z"
   },
   {
    "duration": 1418,
    "start_time": "2023-06-21T10:09:39.714Z"
   },
   {
    "duration": 1362,
    "start_time": "2023-06-21T10:09:41.134Z"
   },
   {
    "duration": 50,
    "start_time": "2023-06-21T10:09:42.498Z"
   },
   {
    "duration": 22,
    "start_time": "2023-06-21T10:09:42.549Z"
   },
   {
    "duration": 12,
    "start_time": "2023-06-21T10:09:42.574Z"
   },
   {
    "duration": 39,
    "start_time": "2023-06-21T10:09:42.589Z"
   },
   {
    "duration": 5,
    "start_time": "2023-06-21T10:09:42.630Z"
   },
   {
    "duration": 46,
    "start_time": "2023-06-21T10:09:42.637Z"
   },
   {
    "duration": 15,
    "start_time": "2023-06-21T10:09:42.684Z"
   },
   {
    "duration": 24,
    "start_time": "2023-06-21T10:09:42.701Z"
   },
   {
    "duration": 14,
    "start_time": "2023-06-21T10:09:42.727Z"
   },
   {
    "duration": 10,
    "start_time": "2023-06-21T10:09:42.743Z"
   },
   {
    "duration": 519,
    "start_time": "2023-06-21T10:09:42.755Z"
   },
   {
    "duration": 5,
    "start_time": "2023-06-21T10:09:43.277Z"
   },
   {
    "duration": 79,
    "start_time": "2023-06-21T10:09:43.283Z"
   },
   {
    "duration": 2018,
    "start_time": "2023-06-21T10:09:43.364Z"
   },
   {
    "duration": 19,
    "start_time": "2023-06-21T10:09:45.384Z"
   },
   {
    "duration": 130,
    "start_time": "2023-06-21T10:09:45.405Z"
   },
   {
    "duration": 3,
    "start_time": "2023-06-21T10:09:45.541Z"
   },
   {
    "duration": 32,
    "start_time": "2023-06-21T10:09:45.546Z"
   },
   {
    "duration": 1864,
    "start_time": "2023-06-21T10:09:45.601Z"
   },
   {
    "duration": 49,
    "start_time": "2023-06-21T10:09:47.468Z"
   },
   {
    "duration": 3,
    "start_time": "2023-06-21T10:09:47.519Z"
   },
   {
    "duration": 51,
    "start_time": "2023-06-21T10:09:47.524Z"
   },
   {
    "duration": 11,
    "start_time": "2023-06-21T10:09:47.577Z"
   },
   {
    "duration": 17,
    "start_time": "2023-06-21T10:09:47.591Z"
   },
   {
    "duration": 14,
    "start_time": "2023-06-21T10:09:47.619Z"
   },
   {
    "duration": 374,
    "start_time": "2023-06-21T10:09:47.635Z"
   },
   {
    "duration": 233,
    "start_time": "2023-06-21T10:09:48.013Z"
   },
   {
    "duration": 285,
    "start_time": "2023-06-21T10:09:48.249Z"
   },
   {
    "duration": 0,
    "start_time": "2023-06-21T10:09:48.536Z"
   },
   {
    "duration": 226,
    "start_time": "2023-06-21T10:10:10.466Z"
   },
   {
    "duration": 29,
    "start_time": "2023-06-21T10:10:23.393Z"
   },
   {
    "duration": 298,
    "start_time": "2023-06-21T10:10:35.596Z"
   },
   {
    "duration": 152,
    "start_time": "2023-06-21T10:10:43.534Z"
   },
   {
    "duration": 173,
    "start_time": "2023-06-21T10:11:28.567Z"
   },
   {
    "duration": 4,
    "start_time": "2023-06-21T10:14:10.797Z"
   },
   {
    "duration": 1488,
    "start_time": "2023-06-21T10:14:10.803Z"
   },
   {
    "duration": 40,
    "start_time": "2023-06-21T10:14:12.293Z"
   },
   {
    "duration": 40,
    "start_time": "2023-06-21T10:14:12.336Z"
   },
   {
    "duration": 81,
    "start_time": "2023-06-21T10:14:12.379Z"
   },
   {
    "duration": 34,
    "start_time": "2023-06-21T10:14:12.462Z"
   },
   {
    "duration": 49,
    "start_time": "2023-06-21T10:14:12.497Z"
   },
   {
    "duration": 37,
    "start_time": "2023-06-21T10:14:12.548Z"
   },
   {
    "duration": 61,
    "start_time": "2023-06-21T10:14:12.586Z"
   },
   {
    "duration": 127,
    "start_time": "2023-06-21T10:14:12.649Z"
   },
   {
    "duration": 56,
    "start_time": "2023-06-21T10:14:12.778Z"
   },
   {
    "duration": 21,
    "start_time": "2023-06-21T10:14:12.836Z"
   },
   {
    "duration": 601,
    "start_time": "2023-06-21T10:14:12.859Z"
   },
   {
    "duration": 4,
    "start_time": "2023-06-21T10:14:13.462Z"
   },
   {
    "duration": 64,
    "start_time": "2023-06-21T10:14:13.468Z"
   },
   {
    "duration": 2108,
    "start_time": "2023-06-21T10:14:13.535Z"
   },
   {
    "duration": 9,
    "start_time": "2023-06-21T10:14:15.645Z"
   },
   {
    "duration": 120,
    "start_time": "2023-06-21T10:14:15.656Z"
   },
   {
    "duration": 5,
    "start_time": "2023-06-21T10:14:15.802Z"
   },
   {
    "duration": 83,
    "start_time": "2023-06-21T10:14:15.810Z"
   },
   {
    "duration": 1984,
    "start_time": "2023-06-21T10:14:15.895Z"
   },
   {
    "duration": 41,
    "start_time": "2023-06-21T10:14:17.881Z"
   },
   {
    "duration": 14,
    "start_time": "2023-06-21T10:14:30.530Z"
   },
   {
    "duration": 1377,
    "start_time": "2023-06-21T10:14:40.162Z"
   },
   {
    "duration": 1326,
    "start_time": "2023-06-21T10:14:41.542Z"
   },
   {
    "duration": 39,
    "start_time": "2023-06-21T10:14:42.870Z"
   },
   {
    "duration": 24,
    "start_time": "2023-06-21T10:14:42.911Z"
   },
   {
    "duration": 7,
    "start_time": "2023-06-21T10:14:42.936Z"
   },
   {
    "duration": 31,
    "start_time": "2023-06-21T10:14:42.944Z"
   },
   {
    "duration": 4,
    "start_time": "2023-06-21T10:14:42.977Z"
   },
   {
    "duration": 28,
    "start_time": "2023-06-21T10:14:42.983Z"
   },
   {
    "duration": 23,
    "start_time": "2023-06-21T10:14:43.012Z"
   },
   {
    "duration": 8,
    "start_time": "2023-06-21T10:14:43.038Z"
   },
   {
    "duration": 23,
    "start_time": "2023-06-21T10:14:43.047Z"
   },
   {
    "duration": 7,
    "start_time": "2023-06-21T10:14:43.072Z"
   },
   {
    "duration": 528,
    "start_time": "2023-06-21T10:14:43.080Z"
   },
   {
    "duration": 8,
    "start_time": "2023-06-21T10:14:43.611Z"
   },
   {
    "duration": 37,
    "start_time": "2023-06-21T10:14:43.621Z"
   },
   {
    "duration": 1979,
    "start_time": "2023-06-21T10:14:43.659Z"
   },
   {
    "duration": 7,
    "start_time": "2023-06-21T10:14:45.640Z"
   },
   {
    "duration": 113,
    "start_time": "2023-06-21T10:14:45.649Z"
   },
   {
    "duration": 3,
    "start_time": "2023-06-21T10:14:45.764Z"
   },
   {
    "duration": 60,
    "start_time": "2023-06-21T10:14:45.769Z"
   },
   {
    "duration": 1732,
    "start_time": "2023-06-21T10:14:45.831Z"
   },
   {
    "duration": 44,
    "start_time": "2023-06-21T10:14:47.565Z"
   },
   {
    "duration": 14,
    "start_time": "2023-06-21T10:14:47.616Z"
   },
   {
    "duration": 7,
    "start_time": "2023-06-21T10:14:47.631Z"
   },
   {
    "duration": 26,
    "start_time": "2023-06-21T10:14:47.639Z"
   },
   {
    "duration": 8,
    "start_time": "2023-06-21T10:14:47.667Z"
   },
   {
    "duration": 6,
    "start_time": "2023-06-21T10:14:47.676Z"
   },
   {
    "duration": 22,
    "start_time": "2023-06-21T10:14:47.703Z"
   },
   {
    "duration": 303,
    "start_time": "2023-06-21T10:14:47.728Z"
   },
   {
    "duration": 249,
    "start_time": "2023-06-21T10:14:48.033Z"
   },
   {
    "duration": 282,
    "start_time": "2023-06-21T10:14:48.285Z"
   },
   {
    "duration": 0,
    "start_time": "2023-06-21T10:14:48.569Z"
   },
   {
    "duration": 15,
    "start_time": "2023-06-21T10:19:26.928Z"
   },
   {
    "duration": 23,
    "start_time": "2023-06-21T10:19:33.042Z"
   },
   {
    "duration": 1421,
    "start_time": "2023-06-21T10:19:59.496Z"
   },
   {
    "duration": 1507,
    "start_time": "2023-06-21T10:20:00.919Z"
   },
   {
    "duration": 36,
    "start_time": "2023-06-21T10:20:02.428Z"
   },
   {
    "duration": 76,
    "start_time": "2023-06-21T10:20:02.466Z"
   },
   {
    "duration": 28,
    "start_time": "2023-06-21T10:20:02.544Z"
   },
   {
    "duration": 53,
    "start_time": "2023-06-21T10:20:02.573Z"
   },
   {
    "duration": 16,
    "start_time": "2023-06-21T10:20:02.628Z"
   },
   {
    "duration": 41,
    "start_time": "2023-06-21T10:20:02.646Z"
   },
   {
    "duration": 56,
    "start_time": "2023-06-21T10:20:02.689Z"
   },
   {
    "duration": 30,
    "start_time": "2023-06-21T10:20:02.747Z"
   },
   {
    "duration": 37,
    "start_time": "2023-06-21T10:20:02.779Z"
   },
   {
    "duration": 11,
    "start_time": "2023-06-21T10:20:02.818Z"
   },
   {
    "duration": 504,
    "start_time": "2023-06-21T10:20:02.831Z"
   },
   {
    "duration": 4,
    "start_time": "2023-06-21T10:20:03.338Z"
   },
   {
    "duration": 43,
    "start_time": "2023-06-21T10:20:03.343Z"
   },
   {
    "duration": 1883,
    "start_time": "2023-06-21T10:20:03.388Z"
   },
   {
    "duration": 7,
    "start_time": "2023-06-21T10:20:05.273Z"
   },
   {
    "duration": 74,
    "start_time": "2023-06-21T10:20:05.282Z"
   },
   {
    "duration": 3,
    "start_time": "2023-06-21T10:20:05.362Z"
   },
   {
    "duration": 64,
    "start_time": "2023-06-21T10:20:05.367Z"
   },
   {
    "duration": 1719,
    "start_time": "2023-06-21T10:20:05.433Z"
   },
   {
    "duration": 24,
    "start_time": "2023-06-21T10:20:07.154Z"
   },
   {
    "duration": 45,
    "start_time": "2023-06-21T10:20:07.180Z"
   },
   {
    "duration": 5,
    "start_time": "2023-06-21T10:20:07.227Z"
   },
   {
    "duration": 27,
    "start_time": "2023-06-21T10:20:07.233Z"
   },
   {
    "duration": 8,
    "start_time": "2023-06-21T10:20:07.262Z"
   },
   {
    "duration": 37,
    "start_time": "2023-06-21T10:20:07.272Z"
   },
   {
    "duration": 26,
    "start_time": "2023-06-21T10:20:07.311Z"
   },
   {
    "duration": 312,
    "start_time": "2023-06-21T10:20:07.339Z"
   },
   {
    "duration": 240,
    "start_time": "2023-06-21T10:20:07.653Z"
   },
   {
    "duration": 262,
    "start_time": "2023-06-21T10:20:07.895Z"
   },
   {
    "duration": 0,
    "start_time": "2023-06-21T10:20:08.158Z"
   },
   {
    "duration": 16,
    "start_time": "2023-06-21T10:21:24.356Z"
   },
   {
    "duration": 21,
    "start_time": "2023-06-21T10:21:32.146Z"
   },
   {
    "duration": 189,
    "start_time": "2023-06-21T10:23:17.091Z"
   },
   {
    "duration": 183,
    "start_time": "2023-06-21T10:23:48.336Z"
   },
   {
    "duration": 176,
    "start_time": "2023-06-21T10:24:13.934Z"
   },
   {
    "duration": 197,
    "start_time": "2023-06-21T10:24:18.026Z"
   },
   {
    "duration": 215,
    "start_time": "2023-06-21T10:24:29.169Z"
   },
   {
    "duration": 280,
    "start_time": "2023-06-21T10:24:39.345Z"
   },
   {
    "duration": 231,
    "start_time": "2023-06-21T10:24:49.639Z"
   },
   {
    "duration": 234,
    "start_time": "2023-06-21T10:25:00.840Z"
   },
   {
    "duration": 285,
    "start_time": "2023-06-21T10:25:12.853Z"
   },
   {
    "duration": 430,
    "start_time": "2023-06-21T10:26:10.152Z"
   },
   {
    "duration": 225,
    "start_time": "2023-06-21T10:26:21.168Z"
   },
   {
    "duration": 226,
    "start_time": "2023-06-21T10:26:24.954Z"
   },
   {
    "duration": 201,
    "start_time": "2023-06-21T10:26:34.603Z"
   },
   {
    "duration": 195,
    "start_time": "2023-06-21T10:26:39.468Z"
   },
   {
    "duration": 30,
    "start_time": "2023-06-21T10:28:08.394Z"
   },
   {
    "duration": 24,
    "start_time": "2023-06-21T10:28:13.829Z"
   },
   {
    "duration": 34,
    "start_time": "2023-06-21T10:28:35.893Z"
   },
   {
    "duration": 36,
    "start_time": "2023-06-21T10:28:40.398Z"
   },
   {
    "duration": 27,
    "start_time": "2023-06-21T10:28:51.822Z"
   },
   {
    "duration": 187,
    "start_time": "2023-06-21T10:34:03.543Z"
   },
   {
    "duration": 161,
    "start_time": "2023-06-21T10:34:06.863Z"
   },
   {
    "duration": 26,
    "start_time": "2023-06-21T10:36:52.619Z"
   },
   {
    "duration": 28,
    "start_time": "2023-06-21T10:38:12.692Z"
   },
   {
    "duration": 1330,
    "start_time": "2023-06-21T10:38:33.201Z"
   },
   {
    "duration": 1464,
    "start_time": "2023-06-21T10:38:34.533Z"
   },
   {
    "duration": 53,
    "start_time": "2023-06-21T10:38:35.998Z"
   },
   {
    "duration": 18,
    "start_time": "2023-06-21T10:38:36.053Z"
   },
   {
    "duration": 26,
    "start_time": "2023-06-21T10:38:36.073Z"
   },
   {
    "duration": 43,
    "start_time": "2023-06-21T10:38:36.100Z"
   },
   {
    "duration": 5,
    "start_time": "2023-06-21T10:38:36.145Z"
   },
   {
    "duration": 23,
    "start_time": "2023-06-21T10:38:36.152Z"
   },
   {
    "duration": 14,
    "start_time": "2023-06-21T10:38:36.177Z"
   },
   {
    "duration": 17,
    "start_time": "2023-06-21T10:38:36.195Z"
   },
   {
    "duration": 20,
    "start_time": "2023-06-21T10:38:36.213Z"
   },
   {
    "duration": 22,
    "start_time": "2023-06-21T10:38:36.235Z"
   },
   {
    "duration": 536,
    "start_time": "2023-06-21T10:38:36.260Z"
   },
   {
    "duration": 6,
    "start_time": "2023-06-21T10:38:36.804Z"
   },
   {
    "duration": 91,
    "start_time": "2023-06-21T10:38:36.813Z"
   },
   {
    "duration": 1917,
    "start_time": "2023-06-21T10:38:36.906Z"
   },
   {
    "duration": 8,
    "start_time": "2023-06-21T10:38:38.825Z"
   },
   {
    "duration": 110,
    "start_time": "2023-06-21T10:38:38.834Z"
   },
   {
    "duration": 3,
    "start_time": "2023-06-21T10:38:38.954Z"
   },
   {
    "duration": 64,
    "start_time": "2023-06-21T10:38:38.959Z"
   },
   {
    "duration": 1913,
    "start_time": "2023-06-21T10:38:39.024Z"
   },
   {
    "duration": 25,
    "start_time": "2023-06-21T10:38:40.939Z"
   },
   {
    "duration": 52,
    "start_time": "2023-06-21T10:38:40.966Z"
   },
   {
    "duration": 50,
    "start_time": "2023-06-21T10:38:41.020Z"
   },
   {
    "duration": 49,
    "start_time": "2023-06-21T10:38:41.072Z"
   },
   {
    "duration": 12,
    "start_time": "2023-06-21T10:38:41.123Z"
   },
   {
    "duration": 15,
    "start_time": "2023-06-21T10:38:41.136Z"
   },
   {
    "duration": 309,
    "start_time": "2023-06-21T10:38:41.154Z"
   },
   {
    "duration": 255,
    "start_time": "2023-06-21T10:38:41.465Z"
   },
   {
    "duration": 14,
    "start_time": "2023-06-21T10:38:41.722Z"
   },
   {
    "duration": 27,
    "start_time": "2023-06-21T10:38:41.738Z"
   },
   {
    "duration": 224,
    "start_time": "2023-06-21T10:41:38.868Z"
   },
   {
    "duration": 166,
    "start_time": "2023-06-21T10:42:58.651Z"
   },
   {
    "duration": 131,
    "start_time": "2023-06-21T10:44:51.691Z"
   },
   {
    "duration": 157,
    "start_time": "2023-06-21T10:45:11.047Z"
   },
   {
    "duration": 208,
    "start_time": "2023-06-21T10:45:30.434Z"
   },
   {
    "duration": 30,
    "start_time": "2023-06-21T10:55:21.937Z"
   },
   {
    "duration": 32,
    "start_time": "2023-06-21T10:55:46.352Z"
   },
   {
    "duration": 1111,
    "start_time": "2023-06-21T10:56:47.294Z"
   },
   {
    "duration": 8,
    "start_time": "2023-06-21T10:56:50.592Z"
   },
   {
    "duration": 1426,
    "start_time": "2023-06-21T10:56:56.023Z"
   },
   {
    "duration": 1063,
    "start_time": "2023-06-21T10:56:57.456Z"
   },
   {
    "duration": 12,
    "start_time": "2023-06-21T10:56:58.521Z"
   },
   {
    "duration": 92,
    "start_time": "2023-06-21T10:56:58.535Z"
   },
   {
    "duration": 62,
    "start_time": "2023-06-21T10:56:58.629Z"
   },
   {
    "duration": 9,
    "start_time": "2023-06-21T10:56:58.693Z"
   },
   {
    "duration": 173,
    "start_time": "2023-06-21T10:56:58.705Z"
   },
   {
    "duration": 6,
    "start_time": "2023-06-21T10:56:58.881Z"
   },
   {
    "duration": 61,
    "start_time": "2023-06-21T10:56:58.889Z"
   },
   {
    "duration": 27,
    "start_time": "2023-06-21T10:56:58.954Z"
   },
   {
    "duration": 26,
    "start_time": "2023-06-21T10:56:58.983Z"
   },
   {
    "duration": 49,
    "start_time": "2023-06-21T10:56:59.011Z"
   },
   {
    "duration": 32,
    "start_time": "2023-06-21T10:56:59.065Z"
   },
   {
    "duration": 666,
    "start_time": "2023-06-21T10:56:59.100Z"
   },
   {
    "duration": 5,
    "start_time": "2023-06-21T10:56:59.769Z"
   },
   {
    "duration": 71,
    "start_time": "2023-06-21T10:56:59.776Z"
   },
   {
    "duration": 2573,
    "start_time": "2023-06-21T10:56:59.849Z"
   },
   {
    "duration": 15,
    "start_time": "2023-06-21T10:57:02.432Z"
   },
   {
    "duration": 130,
    "start_time": "2023-06-21T10:57:02.450Z"
   },
   {
    "duration": 5,
    "start_time": "2023-06-21T10:57:02.617Z"
   },
   {
    "duration": 47,
    "start_time": "2023-06-21T10:57:02.626Z"
   },
   {
    "duration": 1852,
    "start_time": "2023-06-21T10:57:02.676Z"
   },
   {
    "duration": 28,
    "start_time": "2023-06-21T10:57:04.530Z"
   },
   {
    "duration": 47,
    "start_time": "2023-06-21T10:57:04.560Z"
   },
   {
    "duration": 36,
    "start_time": "2023-06-21T10:57:04.615Z"
   },
   {
    "duration": 10,
    "start_time": "2023-06-21T10:57:04.653Z"
   },
   {
    "duration": 6,
    "start_time": "2023-06-21T10:57:04.665Z"
   },
   {
    "duration": 37,
    "start_time": "2023-06-21T10:57:04.675Z"
   },
   {
    "duration": 317,
    "start_time": "2023-06-21T10:57:04.714Z"
   },
   {
    "duration": 288,
    "start_time": "2023-06-21T10:57:05.033Z"
   },
   {
    "duration": 304,
    "start_time": "2023-06-21T10:57:05.328Z"
   },
   {
    "duration": 196,
    "start_time": "2023-06-21T10:57:05.634Z"
   },
   {
    "duration": 28,
    "start_time": "2023-06-21T10:57:05.834Z"
   },
   {
    "duration": 45,
    "start_time": "2023-06-21T10:57:05.864Z"
   },
   {
    "duration": 8,
    "start_time": "2023-06-21T10:57:21.478Z"
   },
   {
    "duration": 12,
    "start_time": "2023-06-21T10:57:59.101Z"
   },
   {
    "duration": 25,
    "start_time": "2023-06-21T10:58:08.372Z"
   },
   {
    "duration": 50,
    "start_time": "2023-06-21T10:58:24.618Z"
   },
   {
    "duration": 27,
    "start_time": "2023-06-21T10:58:49.834Z"
   },
   {
    "duration": 25,
    "start_time": "2023-06-21T10:59:06.953Z"
   },
   {
    "duration": 26,
    "start_time": "2023-06-21T11:00:01.013Z"
   },
   {
    "duration": 27,
    "start_time": "2023-06-21T11:00:12.770Z"
   },
   {
    "duration": 19,
    "start_time": "2023-06-21T11:01:11.358Z"
   },
   {
    "duration": 32,
    "start_time": "2023-06-21T11:01:38.299Z"
   },
   {
    "duration": 8,
    "start_time": "2023-06-21T11:03:24.093Z"
   },
   {
    "duration": 1425,
    "start_time": "2023-06-21T11:05:21.873Z"
   },
   {
    "duration": 1410,
    "start_time": "2023-06-21T11:05:35.019Z"
   },
   {
    "duration": 1549,
    "start_time": "2023-06-21T11:05:36.431Z"
   },
   {
    "duration": 36,
    "start_time": "2023-06-21T11:05:37.982Z"
   },
   {
    "duration": 36,
    "start_time": "2023-06-21T11:05:38.020Z"
   },
   {
    "duration": 7,
    "start_time": "2023-06-21T11:05:38.059Z"
   },
   {
    "duration": 47,
    "start_time": "2023-06-21T11:05:38.068Z"
   },
   {
    "duration": 14,
    "start_time": "2023-06-21T11:05:38.119Z"
   },
   {
    "duration": 16,
    "start_time": "2023-06-21T11:05:38.139Z"
   },
   {
    "duration": 17,
    "start_time": "2023-06-21T11:05:38.157Z"
   },
   {
    "duration": 8,
    "start_time": "2023-06-21T11:05:38.175Z"
   },
   {
    "duration": 17,
    "start_time": "2023-06-21T11:05:38.185Z"
   },
   {
    "duration": 89,
    "start_time": "2023-06-21T11:05:38.212Z"
   },
   {
    "duration": 629,
    "start_time": "2023-06-21T11:05:38.304Z"
   },
   {
    "duration": 8,
    "start_time": "2023-06-21T11:05:38.944Z"
   },
   {
    "duration": 38,
    "start_time": "2023-06-21T11:05:38.954Z"
   },
   {
    "duration": 2331,
    "start_time": "2023-06-21T11:05:38.994Z"
   },
   {
    "duration": 10,
    "start_time": "2023-06-21T11:05:41.334Z"
   },
   {
    "duration": 96,
    "start_time": "2023-06-21T11:05:41.346Z"
   },
   {
    "duration": 4,
    "start_time": "2023-06-21T11:05:41.444Z"
   },
   {
    "duration": 22,
    "start_time": "2023-06-21T11:05:41.451Z"
   },
   {
    "duration": 1968,
    "start_time": "2023-06-21T11:05:41.475Z"
   },
   {
    "duration": 35,
    "start_time": "2023-06-21T11:05:43.449Z"
   },
   {
    "duration": 43,
    "start_time": "2023-06-21T11:05:43.486Z"
   },
   {
    "duration": 57,
    "start_time": "2023-06-21T11:05:43.537Z"
   },
   {
    "duration": 15,
    "start_time": "2023-06-21T11:05:43.596Z"
   },
   {
    "duration": 33,
    "start_time": "2023-06-21T11:05:43.618Z"
   },
   {
    "duration": 15,
    "start_time": "2023-06-21T11:05:43.653Z"
   },
   {
    "duration": 350,
    "start_time": "2023-06-21T11:05:43.669Z"
   },
   {
    "duration": 262,
    "start_time": "2023-06-21T11:05:44.020Z"
   },
   {
    "duration": 252,
    "start_time": "2023-06-21T11:05:44.284Z"
   },
   {
    "duration": 166,
    "start_time": "2023-06-21T11:05:44.539Z"
   },
   {
    "duration": 36,
    "start_time": "2023-06-21T11:05:44.707Z"
   },
   {
    "duration": 29,
    "start_time": "2023-06-21T11:05:44.745Z"
   },
   {
    "duration": 86,
    "start_time": "2023-06-21T11:05:44.776Z"
   },
   {
    "duration": 6,
    "start_time": "2023-06-21T11:06:21.734Z"
   },
   {
    "duration": 9,
    "start_time": "2023-06-21T11:10:07.229Z"
   },
   {
    "duration": 6,
    "start_time": "2023-06-21T11:18:33.268Z"
   },
   {
    "duration": 23,
    "start_time": "2023-06-21T11:22:55.400Z"
   },
   {
    "duration": 5,
    "start_time": "2023-06-21T11:26:58.308Z"
   },
   {
    "duration": 7,
    "start_time": "2023-06-21T11:28:48.138Z"
   },
   {
    "duration": 18,
    "start_time": "2023-06-21T11:29:06.302Z"
   },
   {
    "duration": 11,
    "start_time": "2023-06-21T11:29:09.450Z"
   },
   {
    "duration": 392,
    "start_time": "2023-06-21T11:35:53.631Z"
   },
   {
    "duration": 73,
    "start_time": "2023-06-21T11:36:20.352Z"
   },
   {
    "duration": 483,
    "start_time": "2023-06-21T11:36:53.708Z"
   },
   {
    "duration": 127,
    "start_time": "2023-06-21T11:37:03.990Z"
   },
   {
    "duration": 82,
    "start_time": "2023-06-21T11:37:07.989Z"
   },
   {
    "duration": 61,
    "start_time": "2023-06-21T11:37:38.913Z"
   },
   {
    "duration": 46,
    "start_time": "2023-06-21T11:37:54.819Z"
   },
   {
    "duration": 54,
    "start_time": "2023-06-21T11:38:01.988Z"
   },
   {
    "duration": 406,
    "start_time": "2023-06-21T12:15:50.517Z"
   },
   {
    "duration": 176,
    "start_time": "2023-06-21T12:19:02.420Z"
   },
   {
    "duration": 155,
    "start_time": "2023-06-21T12:19:15.305Z"
   },
   {
    "duration": 209,
    "start_time": "2023-06-21T13:13:26.812Z"
   },
   {
    "duration": 49,
    "start_time": "2023-06-21T13:13:41.673Z"
   },
   {
    "duration": 39,
    "start_time": "2023-06-21T13:14:04.804Z"
   },
   {
    "duration": 15,
    "start_time": "2023-06-21T13:14:37.554Z"
   },
   {
    "duration": 45,
    "start_time": "2023-06-21T13:15:20.846Z"
   },
   {
    "duration": 18,
    "start_time": "2023-06-21T13:24:50.653Z"
   },
   {
    "duration": 163,
    "start_time": "2023-06-21T13:34:57.804Z"
   },
   {
    "duration": 64,
    "start_time": "2023-06-21T13:37:50.526Z"
   },
   {
    "duration": 146,
    "start_time": "2023-06-21T13:38:55.445Z"
   },
   {
    "duration": 198,
    "start_time": "2023-06-21T13:39:06.465Z"
   },
   {
    "duration": 199,
    "start_time": "2023-06-21T13:39:53.950Z"
   },
   {
    "duration": 239,
    "start_time": "2023-06-21T13:40:16.516Z"
   },
   {
    "duration": 186,
    "start_time": "2023-06-21T13:40:41.860Z"
   },
   {
    "duration": 203,
    "start_time": "2023-06-21T13:40:46.710Z"
   },
   {
    "duration": 632,
    "start_time": "2023-06-21T13:42:16.531Z"
   },
   {
    "duration": 347,
    "start_time": "2023-06-21T13:42:29.957Z"
   },
   {
    "duration": 361,
    "start_time": "2023-06-21T13:42:47.448Z"
   },
   {
    "duration": 371,
    "start_time": "2023-06-21T13:42:56.025Z"
   },
   {
    "duration": 236,
    "start_time": "2023-06-21T13:43:16.308Z"
   },
   {
    "duration": 2021,
    "start_time": "2023-06-21T13:43:25.715Z"
   },
   {
    "duration": 186,
    "start_time": "2023-06-21T13:43:32.722Z"
   },
   {
    "duration": 332,
    "start_time": "2023-06-21T13:43:38.635Z"
   },
   {
    "duration": 180,
    "start_time": "2023-06-21T13:43:50.220Z"
   },
   {
    "duration": 194,
    "start_time": "2023-06-21T13:44:19.134Z"
   },
   {
    "duration": 193,
    "start_time": "2023-06-21T13:44:23.715Z"
   },
   {
    "duration": 196,
    "start_time": "2023-06-21T13:44:27.506Z"
   },
   {
    "duration": 403,
    "start_time": "2023-06-21T13:44:33.727Z"
   },
   {
    "duration": 265,
    "start_time": "2023-06-21T13:44:46.640Z"
   },
   {
    "duration": 221,
    "start_time": "2023-06-21T13:44:52.341Z"
   },
   {
    "duration": 244,
    "start_time": "2023-06-21T13:44:56.324Z"
   },
   {
    "duration": 233,
    "start_time": "2023-06-21T13:45:01.831Z"
   },
   {
    "duration": 265,
    "start_time": "2023-06-21T13:45:36.452Z"
   },
   {
    "duration": 392,
    "start_time": "2023-06-21T13:45:41.324Z"
   },
   {
    "duration": 265,
    "start_time": "2023-06-21T13:45:55.481Z"
   },
   {
    "duration": 245,
    "start_time": "2023-06-21T13:46:00.445Z"
   },
   {
    "duration": 255,
    "start_time": "2023-06-21T13:46:03.517Z"
   },
   {
    "duration": 240,
    "start_time": "2023-06-21T13:46:07.612Z"
   },
   {
    "duration": 237,
    "start_time": "2023-06-21T13:46:53.219Z"
   },
   {
    "duration": 256,
    "start_time": "2023-06-21T13:47:23.429Z"
   },
   {
    "duration": 14,
    "start_time": "2023-06-21T13:47:47.636Z"
   },
   {
    "duration": 295,
    "start_time": "2023-06-21T13:47:50.498Z"
   },
   {
    "duration": 249,
    "start_time": "2023-06-21T13:47:53.556Z"
   },
   {
    "duration": 243,
    "start_time": "2023-06-21T13:53:36.309Z"
   },
   {
    "duration": 20,
    "start_time": "2023-06-21T13:59:37.511Z"
   },
   {
    "duration": 2684,
    "start_time": "2023-06-21T13:59:46.119Z"
   },
   {
    "duration": 37,
    "start_time": "2023-06-21T14:00:18.007Z"
   },
   {
    "duration": 2836,
    "start_time": "2023-06-21T14:00:38.234Z"
   },
   {
    "duration": 2715,
    "start_time": "2023-06-21T14:01:18.400Z"
   },
   {
    "duration": 8,
    "start_time": "2023-06-21T14:02:05.616Z"
   },
   {
    "duration": 17,
    "start_time": "2023-06-21T14:02:37.635Z"
   },
   {
    "duration": 26,
    "start_time": "2023-06-21T14:02:41.708Z"
   },
   {
    "duration": 25,
    "start_time": "2023-06-21T14:03:06.746Z"
   },
   {
    "duration": 26,
    "start_time": "2023-06-21T14:03:28.015Z"
   },
   {
    "duration": 30,
    "start_time": "2023-06-21T14:04:21.158Z"
   },
   {
    "duration": 32059,
    "start_time": "2023-06-21T14:04:59.607Z"
   },
   {
    "duration": 1391,
    "start_time": "2023-06-21T14:05:40.140Z"
   },
   {
    "duration": 1687,
    "start_time": "2023-06-21T14:05:41.533Z"
   },
   {
    "duration": 31,
    "start_time": "2023-06-21T14:05:43.222Z"
   },
   {
    "duration": 135,
    "start_time": "2023-06-21T14:05:43.255Z"
   },
   {
    "duration": 56,
    "start_time": "2023-06-21T14:05:43.392Z"
   },
   {
    "duration": 77,
    "start_time": "2023-06-21T14:05:43.450Z"
   },
   {
    "duration": 36,
    "start_time": "2023-06-21T14:05:43.528Z"
   },
   {
    "duration": 67,
    "start_time": "2023-06-21T14:05:43.566Z"
   },
   {
    "duration": 42,
    "start_time": "2023-06-21T14:05:43.635Z"
   },
   {
    "duration": 55,
    "start_time": "2023-06-21T14:05:43.680Z"
   },
   {
    "duration": 65,
    "start_time": "2023-06-21T14:05:43.737Z"
   },
   {
    "duration": 44,
    "start_time": "2023-06-21T14:05:43.805Z"
   },
   {
    "duration": 516,
    "start_time": "2023-06-21T14:05:43.851Z"
   },
   {
    "duration": 4,
    "start_time": "2023-06-21T14:05:44.369Z"
   },
   {
    "duration": 108,
    "start_time": "2023-06-21T14:05:44.375Z"
   },
   {
    "duration": 2032,
    "start_time": "2023-06-21T14:05:44.484Z"
   },
   {
    "duration": 10,
    "start_time": "2023-06-21T14:05:46.518Z"
   },
   {
    "duration": 133,
    "start_time": "2023-06-21T14:05:46.530Z"
   },
   {
    "duration": 2,
    "start_time": "2023-06-21T14:05:46.666Z"
   },
   {
    "duration": 23,
    "start_time": "2023-06-21T14:05:46.703Z"
   },
   {
    "duration": 1798,
    "start_time": "2023-06-21T14:05:46.728Z"
   },
   {
    "duration": 24,
    "start_time": "2023-06-21T14:05:48.528Z"
   },
   {
    "duration": 24,
    "start_time": "2023-06-21T14:05:48.554Z"
   },
   {
    "duration": 26,
    "start_time": "2023-06-21T14:05:48.603Z"
   },
   {
    "duration": 9,
    "start_time": "2023-06-21T14:05:48.630Z"
   },
   {
    "duration": 21,
    "start_time": "2023-06-21T14:05:48.641Z"
   },
   {
    "duration": 38,
    "start_time": "2023-06-21T14:05:48.664Z"
   },
   {
    "duration": 299,
    "start_time": "2023-06-21T14:05:48.705Z"
   },
   {
    "duration": 168,
    "start_time": "2023-06-21T14:05:49.006Z"
   },
   {
    "duration": 240,
    "start_time": "2023-06-21T14:05:49.175Z"
   },
   {
    "duration": 202,
    "start_time": "2023-06-21T14:05:49.417Z"
   },
   {
    "duration": 154,
    "start_time": "2023-06-21T14:05:49.621Z"
   },
   {
    "duration": 34,
    "start_time": "2023-06-21T14:05:49.776Z"
   },
   {
    "duration": 16,
    "start_time": "2023-06-21T14:05:49.811Z"
   },
   {
    "duration": 5,
    "start_time": "2023-06-21T14:05:49.829Z"
   },
   {
    "duration": 19,
    "start_time": "2023-06-21T14:05:49.836Z"
   },
   {
    "duration": 399,
    "start_time": "2023-06-21T14:05:49.856Z"
   },
   {
    "duration": 46,
    "start_time": "2023-06-21T14:05:50.257Z"
   },
   {
    "duration": 29,
    "start_time": "2023-06-21T14:05:50.304Z"
   },
   {
    "duration": 65324,
    "start_time": "2023-06-21T14:05:50.335Z"
   },
   {
    "duration": 0,
    "start_time": "2023-06-21T14:06:55.662Z"
   },
   {
    "duration": 21,
    "start_time": "2023-06-21T14:07:16.432Z"
   },
   {
    "duration": 255,
    "start_time": "2023-06-21T14:07:38.947Z"
   },
   {
    "duration": 31,
    "start_time": "2023-06-21T14:10:48.721Z"
   },
   {
    "duration": 33,
    "start_time": "2023-06-21T14:11:01.419Z"
   },
   {
    "duration": 33,
    "start_time": "2023-06-21T14:12:49.290Z"
   },
   {
    "duration": 17,
    "start_time": "2023-06-21T14:13:29.161Z"
   },
   {
    "duration": 16,
    "start_time": "2023-06-21T14:14:32.664Z"
   },
   {
    "duration": 6,
    "start_time": "2023-06-21T14:17:25.636Z"
   },
   {
    "duration": 40,
    "start_time": "2023-06-21T14:18:21.841Z"
   },
   {
    "duration": 31,
    "start_time": "2023-06-21T14:18:24.702Z"
   },
   {
    "duration": 15,
    "start_time": "2023-06-21T14:18:30.027Z"
   },
   {
    "duration": 6,
    "start_time": "2023-06-21T14:18:33.527Z"
   },
   {
    "duration": 45,
    "start_time": "2023-06-21T14:19:40.473Z"
   },
   {
    "duration": 7,
    "start_time": "2023-06-21T14:19:47.635Z"
   },
   {
    "duration": 5,
    "start_time": "2023-06-21T14:20:02.354Z"
   },
   {
    "duration": 54,
    "start_time": "2023-06-21T14:21:46.871Z"
   },
   {
    "duration": 9,
    "start_time": "2023-06-21T14:23:17.308Z"
   },
   {
    "duration": 4,
    "start_time": "2023-06-21T14:23:30.296Z"
   },
   {
    "duration": 260,
    "start_time": "2023-06-21T14:23:45.400Z"
   },
   {
    "duration": 37,
    "start_time": "2023-06-21T14:26:42.919Z"
   },
   {
    "duration": 35,
    "start_time": "2023-06-21T14:26:50.914Z"
   },
   {
    "duration": 37,
    "start_time": "2023-06-21T14:31:28.243Z"
   },
   {
    "duration": 21,
    "start_time": "2023-06-21T14:31:35.054Z"
   },
   {
    "duration": 16,
    "start_time": "2023-06-21T14:31:55.527Z"
   },
   {
    "duration": 13,
    "start_time": "2023-06-21T14:32:12.712Z"
   },
   {
    "duration": 9,
    "start_time": "2023-06-21T14:32:21.167Z"
   },
   {
    "duration": 5,
    "start_time": "2023-06-21T14:32:22.925Z"
   },
   {
    "duration": 256,
    "start_time": "2023-06-21T14:32:27.908Z"
   },
   {
    "duration": 14,
    "start_time": "2023-06-21T14:33:40.115Z"
   },
   {
    "duration": 15,
    "start_time": "2023-06-21T14:43:53.878Z"
   },
   {
    "duration": 18,
    "start_time": "2023-06-21T14:43:59.303Z"
   },
   {
    "duration": 24,
    "start_time": "2023-06-21T14:44:08.260Z"
   },
   {
    "duration": 19,
    "start_time": "2023-06-21T14:44:28.011Z"
   },
   {
    "duration": 18,
    "start_time": "2023-06-21T14:44:46.327Z"
   },
   {
    "duration": 25,
    "start_time": "2023-06-21T14:44:53.127Z"
   },
   {
    "duration": 17,
    "start_time": "2023-06-21T14:45:03.549Z"
   },
   {
    "duration": 17,
    "start_time": "2023-06-21T14:45:41.825Z"
   },
   {
    "duration": 94,
    "start_time": "2023-06-21T14:45:47.815Z"
   },
   {
    "duration": 16,
    "start_time": "2023-06-21T14:45:55.050Z"
   },
   {
    "duration": 26,
    "start_time": "2023-06-21T14:46:00.845Z"
   },
   {
    "duration": 26,
    "start_time": "2023-06-21T14:46:51.312Z"
   },
   {
    "duration": 32,
    "start_time": "2023-06-21T14:46:56.107Z"
   },
   {
    "duration": 32,
    "start_time": "2023-06-21T14:47:11.803Z"
   },
   {
    "duration": 40,
    "start_time": "2023-06-21T14:47:49.611Z"
   },
   {
    "duration": 40,
    "start_time": "2023-06-21T14:48:00.907Z"
   },
   {
    "duration": 3049,
    "start_time": "2023-06-21T14:49:16.233Z"
   },
   {
    "duration": 37,
    "start_time": "2023-06-21T14:49:46.054Z"
   },
   {
    "duration": 49,
    "start_time": "2023-06-21T14:50:00.419Z"
   },
   {
    "duration": 1279,
    "start_time": "2023-06-21T14:50:07.762Z"
   },
   {
    "duration": 932,
    "start_time": "2023-06-21T14:50:09.043Z"
   },
   {
    "duration": 34,
    "start_time": "2023-06-21T14:50:09.977Z"
   },
   {
    "duration": 18,
    "start_time": "2023-06-21T14:50:10.013Z"
   },
   {
    "duration": 29,
    "start_time": "2023-06-21T14:50:10.033Z"
   },
   {
    "duration": 38,
    "start_time": "2023-06-21T14:50:10.064Z"
   },
   {
    "duration": 9,
    "start_time": "2023-06-21T14:50:10.104Z"
   },
   {
    "duration": 21,
    "start_time": "2023-06-21T14:50:10.114Z"
   },
   {
    "duration": 36,
    "start_time": "2023-06-21T14:50:10.137Z"
   },
   {
    "duration": 56,
    "start_time": "2023-06-21T14:50:10.177Z"
   },
   {
    "duration": 14,
    "start_time": "2023-06-21T14:50:10.235Z"
   },
   {
    "duration": 9,
    "start_time": "2023-06-21T14:50:10.250Z"
   },
   {
    "duration": 630,
    "start_time": "2023-06-21T14:50:10.261Z"
   },
   {
    "duration": 9,
    "start_time": "2023-06-21T14:50:10.893Z"
   },
   {
    "duration": 70,
    "start_time": "2023-06-21T14:50:10.904Z"
   },
   {
    "duration": 1883,
    "start_time": "2023-06-21T14:50:10.976Z"
   },
   {
    "duration": 8,
    "start_time": "2023-06-21T14:50:12.860Z"
   },
   {
    "duration": 134,
    "start_time": "2023-06-21T14:50:12.870Z"
   },
   {
    "duration": 3,
    "start_time": "2023-06-21T14:50:13.007Z"
   },
   {
    "duration": 22,
    "start_time": "2023-06-21T14:50:13.012Z"
   },
   {
    "duration": 1646,
    "start_time": "2023-06-21T14:50:13.036Z"
   },
   {
    "duration": 31,
    "start_time": "2023-06-21T14:50:14.684Z"
   },
   {
    "duration": 28,
    "start_time": "2023-06-21T14:50:14.716Z"
   },
   {
    "duration": 26,
    "start_time": "2023-06-21T14:50:14.746Z"
   },
   {
    "duration": 34,
    "start_time": "2023-06-21T14:50:14.773Z"
   },
   {
    "duration": 12,
    "start_time": "2023-06-21T14:50:14.809Z"
   },
   {
    "duration": 13,
    "start_time": "2023-06-21T14:50:14.823Z"
   },
   {
    "duration": 312,
    "start_time": "2023-06-21T14:50:14.839Z"
   },
   {
    "duration": 227,
    "start_time": "2023-06-21T14:50:15.153Z"
   },
   {
    "duration": 181,
    "start_time": "2023-06-21T14:50:15.382Z"
   },
   {
    "duration": 224,
    "start_time": "2023-06-21T14:50:15.565Z"
   },
   {
    "duration": 173,
    "start_time": "2023-06-21T14:50:15.791Z"
   },
   {
    "duration": 41,
    "start_time": "2023-06-21T14:50:15.966Z"
   },
   {
    "duration": 20,
    "start_time": "2023-06-21T14:50:16.008Z"
   },
   {
    "duration": 7,
    "start_time": "2023-06-21T14:50:16.030Z"
   },
   {
    "duration": 19,
    "start_time": "2023-06-21T14:50:16.040Z"
   },
   {
    "duration": 361,
    "start_time": "2023-06-21T14:50:16.060Z"
   },
   {
    "duration": 85,
    "start_time": "2023-06-21T14:50:16.423Z"
   },
   {
    "duration": 33,
    "start_time": "2023-06-21T14:50:16.510Z"
   },
   {
    "duration": 58,
    "start_time": "2023-06-21T14:50:16.545Z"
   },
   {
    "duration": 9,
    "start_time": "2023-06-21T14:50:16.605Z"
   },
   {
    "duration": 17,
    "start_time": "2023-06-21T14:50:16.616Z"
   },
   {
    "duration": 267,
    "start_time": "2023-06-21T14:50:16.635Z"
   },
   {
    "duration": 151,
    "start_time": "2023-06-21T14:50:16.903Z"
   },
   {
    "duration": 45,
    "start_time": "2023-06-21T14:51:50.616Z"
   },
   {
    "duration": 33,
    "start_time": "2023-06-21T14:51:54.911Z"
   },
   {
    "duration": 43,
    "start_time": "2023-06-21T14:52:18.315Z"
   },
   {
    "duration": 48,
    "start_time": "2023-06-21T14:52:24.045Z"
   },
   {
    "duration": 45,
    "start_time": "2023-06-21T14:54:44.650Z"
   },
   {
    "duration": 63,
    "start_time": "2023-06-21T14:54:49.739Z"
   },
   {
    "duration": 1276,
    "start_time": "2023-06-21T14:59:22.769Z"
   },
   {
    "duration": 8,
    "start_time": "2023-06-21T14:59:36.525Z"
   },
   {
    "duration": 7,
    "start_time": "2023-06-21T15:01:46.247Z"
   },
   {
    "duration": 85,
    "start_time": "2023-06-21T15:01:50.760Z"
   },
   {
    "duration": 7,
    "start_time": "2023-06-21T15:01:53.301Z"
   },
   {
    "duration": 176,
    "start_time": "2023-06-21T15:05:07.457Z"
   },
   {
    "duration": 174,
    "start_time": "2023-06-21T15:05:24.331Z"
   },
   {
    "duration": 198,
    "start_time": "2023-06-21T15:06:43.293Z"
   },
   {
    "duration": 177,
    "start_time": "2023-06-21T15:07:54.221Z"
   },
   {
    "duration": 5,
    "start_time": "2023-06-21T15:09:46.864Z"
   },
   {
    "duration": 118,
    "start_time": "2023-06-21T15:10:21.145Z"
   },
   {
    "duration": 11,
    "start_time": "2023-06-21T15:10:27.119Z"
   },
   {
    "duration": 5,
    "start_time": "2023-06-21T15:10:53.727Z"
   },
   {
    "duration": 4,
    "start_time": "2023-06-21T15:10:57.713Z"
   },
   {
    "duration": 6,
    "start_time": "2023-06-21T15:11:45.407Z"
   },
   {
    "duration": 19,
    "start_time": "2023-06-21T15:12:09.152Z"
   },
   {
    "duration": 133,
    "start_time": "2023-06-21T15:12:27.405Z"
   },
   {
    "duration": 218,
    "start_time": "2023-06-21T15:13:03.103Z"
   },
   {
    "duration": 356,
    "start_time": "2023-06-21T15:13:50.556Z"
   },
   {
    "duration": 266,
    "start_time": "2023-06-21T15:14:14.207Z"
   },
   {
    "duration": 261,
    "start_time": "2023-06-21T15:15:06.997Z"
   },
   {
    "duration": 44,
    "start_time": "2023-06-21T15:15:33.691Z"
   },
   {
    "duration": 253,
    "start_time": "2023-06-21T15:15:37.025Z"
   },
   {
    "duration": 271,
    "start_time": "2023-06-21T15:15:57.206Z"
   },
   {
    "duration": 267,
    "start_time": "2023-06-21T15:16:02.705Z"
   },
   {
    "duration": 1279,
    "start_time": "2023-06-21T15:16:11.669Z"
   },
   {
    "duration": 1176,
    "start_time": "2023-06-21T15:16:12.950Z"
   },
   {
    "duration": 38,
    "start_time": "2023-06-21T15:16:14.127Z"
   },
   {
    "duration": 35,
    "start_time": "2023-06-21T15:16:14.168Z"
   },
   {
    "duration": 6,
    "start_time": "2023-06-21T15:16:14.205Z"
   },
   {
    "duration": 29,
    "start_time": "2023-06-21T15:16:14.213Z"
   },
   {
    "duration": 5,
    "start_time": "2023-06-21T15:16:14.244Z"
   },
   {
    "duration": 19,
    "start_time": "2023-06-21T15:16:14.250Z"
   },
   {
    "duration": 32,
    "start_time": "2023-06-21T15:16:14.271Z"
   },
   {
    "duration": 9,
    "start_time": "2023-06-21T15:16:14.306Z"
   },
   {
    "duration": 28,
    "start_time": "2023-06-21T15:16:14.317Z"
   },
   {
    "duration": 5,
    "start_time": "2023-06-21T15:16:14.347Z"
   },
   {
    "duration": 541,
    "start_time": "2023-06-21T15:16:14.354Z"
   },
   {
    "duration": 6,
    "start_time": "2023-06-21T15:16:14.897Z"
   },
   {
    "duration": 68,
    "start_time": "2023-06-21T15:16:14.905Z"
   },
   {
    "duration": 1859,
    "start_time": "2023-06-21T15:16:14.975Z"
   },
   {
    "duration": 7,
    "start_time": "2023-06-21T15:16:16.836Z"
   },
   {
    "duration": 113,
    "start_time": "2023-06-21T15:16:16.844Z"
   },
   {
    "duration": 3,
    "start_time": "2023-06-21T15:16:16.959Z"
   },
   {
    "duration": 52,
    "start_time": "2023-06-21T15:16:16.964Z"
   },
   {
    "duration": 1744,
    "start_time": "2023-06-21T15:16:17.018Z"
   },
   {
    "duration": 24,
    "start_time": "2023-06-21T15:16:18.763Z"
   },
   {
    "duration": 37,
    "start_time": "2023-06-21T15:16:18.788Z"
   },
   {
    "duration": 24,
    "start_time": "2023-06-21T15:16:18.826Z"
   },
   {
    "duration": 8,
    "start_time": "2023-06-21T15:16:18.851Z"
   },
   {
    "duration": 7,
    "start_time": "2023-06-21T15:16:18.861Z"
   },
   {
    "duration": 34,
    "start_time": "2023-06-21T15:16:18.869Z"
   },
   {
    "duration": 297,
    "start_time": "2023-06-21T15:16:18.907Z"
   },
   {
    "duration": 154,
    "start_time": "2023-06-21T15:16:19.206Z"
   },
   {
    "duration": 226,
    "start_time": "2023-06-21T15:16:19.362Z"
   },
   {
    "duration": 206,
    "start_time": "2023-06-21T15:16:19.590Z"
   },
   {
    "duration": 149,
    "start_time": "2023-06-21T15:16:19.802Z"
   },
   {
    "duration": 25,
    "start_time": "2023-06-21T15:16:19.952Z"
   },
   {
    "duration": 30,
    "start_time": "2023-06-21T15:16:19.979Z"
   },
   {
    "duration": 4,
    "start_time": "2023-06-21T15:16:20.011Z"
   },
   {
    "duration": 33,
    "start_time": "2023-06-21T15:16:20.017Z"
   },
   {
    "duration": 350,
    "start_time": "2023-06-21T15:16:20.052Z"
   },
   {
    "duration": 42,
    "start_time": "2023-06-21T15:16:20.403Z"
   },
   {
    "duration": 101,
    "start_time": "2023-06-21T15:16:20.447Z"
   },
   {
    "duration": 64,
    "start_time": "2023-06-21T15:16:20.550Z"
   },
   {
    "duration": 32,
    "start_time": "2023-06-21T15:16:20.616Z"
   },
   {
    "duration": 12,
    "start_time": "2023-06-21T15:16:20.650Z"
   },
   {
    "duration": 261,
    "start_time": "2023-06-21T15:16:20.663Z"
   },
   {
    "duration": 154,
    "start_time": "2023-06-21T15:16:20.925Z"
   },
   {
    "duration": 339,
    "start_time": "2023-06-21T15:16:21.080Z"
   },
   {
    "duration": 255,
    "start_time": "2023-06-21T15:16:46.646Z"
   },
   {
    "duration": 260,
    "start_time": "2023-06-21T15:17:34.502Z"
   },
   {
    "duration": 265,
    "start_time": "2023-06-21T15:17:51.499Z"
   },
   {
    "duration": 261,
    "start_time": "2023-06-21T15:18:25.270Z"
   },
   {
    "duration": 26,
    "start_time": "2023-06-21T15:19:04.442Z"
   },
   {
    "duration": 266,
    "start_time": "2023-06-21T15:19:46.496Z"
   },
   {
    "duration": 259,
    "start_time": "2023-06-21T15:19:54.976Z"
   },
   {
    "duration": 262,
    "start_time": "2023-06-21T15:20:03.349Z"
   },
   {
    "duration": 250,
    "start_time": "2023-06-21T15:20:13.759Z"
   },
   {
    "duration": 255,
    "start_time": "2023-06-21T15:20:21.345Z"
   },
   {
    "duration": 248,
    "start_time": "2023-06-21T15:20:28.705Z"
   },
   {
    "duration": 362,
    "start_time": "2023-06-21T15:20:33.445Z"
   },
   {
    "duration": 263,
    "start_time": "2023-06-21T15:20:59.002Z"
   },
   {
    "duration": 246,
    "start_time": "2023-06-21T15:21:08.366Z"
   },
   {
    "duration": 303,
    "start_time": "2023-06-21T15:21:13.390Z"
   },
   {
    "duration": 215,
    "start_time": "2023-06-21T15:21:20.034Z"
   },
   {
    "duration": 244,
    "start_time": "2023-06-21T15:21:29.390Z"
   },
   {
    "duration": 208,
    "start_time": "2023-06-21T15:21:38.275Z"
   },
   {
    "duration": 246,
    "start_time": "2023-06-21T15:21:50.736Z"
   },
   {
    "duration": 315,
    "start_time": "2023-06-21T15:21:54.487Z"
   },
   {
    "duration": 245,
    "start_time": "2023-06-21T15:21:59.742Z"
   },
   {
    "duration": 248,
    "start_time": "2023-06-21T15:22:03.991Z"
   },
   {
    "duration": 372,
    "start_time": "2023-06-21T15:22:12.051Z"
   },
   {
    "duration": 249,
    "start_time": "2023-06-21T15:22:53.034Z"
   },
   {
    "duration": 228,
    "start_time": "2023-06-21T15:23:19.035Z"
   },
   {
    "duration": 246,
    "start_time": "2023-06-21T15:23:31.507Z"
   },
   {
    "duration": 269,
    "start_time": "2023-06-21T15:23:46.958Z"
   },
   {
    "duration": 325,
    "start_time": "2023-06-21T15:24:00.407Z"
   },
   {
    "duration": 244,
    "start_time": "2023-06-21T15:24:17.184Z"
   },
   {
    "duration": 252,
    "start_time": "2023-06-21T15:24:40.562Z"
   },
   {
    "duration": 241,
    "start_time": "2023-06-21T15:25:08.799Z"
   },
   {
    "duration": 225,
    "start_time": "2023-06-21T15:25:26.409Z"
   },
   {
    "duration": 246,
    "start_time": "2023-06-21T15:25:33.646Z"
   },
   {
    "duration": 361,
    "start_time": "2023-06-21T15:25:39.360Z"
   },
   {
    "duration": 249,
    "start_time": "2023-06-21T15:25:48.198Z"
   },
   {
    "duration": 285,
    "start_time": "2023-06-21T15:25:56.436Z"
   },
   {
    "duration": 241,
    "start_time": "2023-06-21T15:27:45.239Z"
   },
   {
    "duration": 237,
    "start_time": "2023-06-21T15:28:59.299Z"
   },
   {
    "duration": 15,
    "start_time": "2023-06-21T15:38:44.056Z"
   },
   {
    "duration": 1336,
    "start_time": "2023-06-23T06:17:04.152Z"
   },
   {
    "duration": 1269,
    "start_time": "2023-06-23T06:17:05.490Z"
   },
   {
    "duration": 30,
    "start_time": "2023-06-23T06:17:06.761Z"
   },
   {
    "duration": 18,
    "start_time": "2023-06-23T06:17:06.793Z"
   },
   {
    "duration": 6,
    "start_time": "2023-06-23T06:17:06.812Z"
   },
   {
    "duration": 19,
    "start_time": "2023-06-23T06:17:06.820Z"
   },
   {
    "duration": 4,
    "start_time": "2023-06-23T06:17:06.840Z"
   },
   {
    "duration": 40,
    "start_time": "2023-06-23T06:17:06.846Z"
   },
   {
    "duration": 19,
    "start_time": "2023-06-23T06:17:06.888Z"
   },
   {
    "duration": 14,
    "start_time": "2023-06-23T06:17:06.910Z"
   },
   {
    "duration": 16,
    "start_time": "2023-06-23T06:17:06.926Z"
   },
   {
    "duration": 15,
    "start_time": "2023-06-23T06:17:06.943Z"
   },
   {
    "duration": 434,
    "start_time": "2023-06-23T06:17:06.959Z"
   },
   {
    "duration": 4,
    "start_time": "2023-06-23T06:17:07.395Z"
   },
   {
    "duration": 35,
    "start_time": "2023-06-23T06:17:07.401Z"
   },
   {
    "duration": 1844,
    "start_time": "2023-06-23T06:17:07.437Z"
   },
   {
    "duration": 6,
    "start_time": "2023-06-23T06:17:09.283Z"
   },
   {
    "duration": 138,
    "start_time": "2023-06-23T06:17:09.291Z"
   },
   {
    "duration": 3,
    "start_time": "2023-06-23T06:17:09.430Z"
   },
   {
    "duration": 54,
    "start_time": "2023-06-23T06:17:09.434Z"
   },
   {
    "duration": 1585,
    "start_time": "2023-06-23T06:17:09.490Z"
   },
   {
    "duration": 20,
    "start_time": "2023-06-23T06:17:11.076Z"
   },
   {
    "duration": 20,
    "start_time": "2023-06-23T06:17:11.098Z"
   },
   {
    "duration": 23,
    "start_time": "2023-06-23T06:17:11.120Z"
   },
   {
    "duration": 35,
    "start_time": "2023-06-23T06:17:11.145Z"
   },
   {
    "duration": 7,
    "start_time": "2023-06-23T06:17:11.181Z"
   },
   {
    "duration": 20,
    "start_time": "2023-06-23T06:17:11.190Z"
   },
   {
    "duration": 16,
    "start_time": "2023-06-23T06:17:11.215Z"
   },
   {
    "duration": 270,
    "start_time": "2023-06-23T06:17:11.233Z"
   },
   {
    "duration": 347,
    "start_time": "2023-06-23T06:17:11.504Z"
   },
   {
    "duration": 391,
    "start_time": "2023-06-23T06:17:11.853Z"
   },
   {
    "duration": 180,
    "start_time": "2023-06-23T06:17:12.246Z"
   },
   {
    "duration": 254,
    "start_time": "2023-06-23T06:17:12.428Z"
   },
   {
    "duration": 244,
    "start_time": "2023-06-23T06:17:12.684Z"
   },
   {
    "duration": 21,
    "start_time": "2023-06-23T06:17:12.929Z"
   },
   {
    "duration": 26,
    "start_time": "2023-06-23T06:17:12.951Z"
   },
   {
    "duration": 12,
    "start_time": "2023-06-23T06:17:12.979Z"
   },
   {
    "duration": 16,
    "start_time": "2023-06-23T06:17:12.992Z"
   },
   {
    "duration": 394,
    "start_time": "2023-06-23T06:17:13.009Z"
   },
   {
    "duration": 30,
    "start_time": "2023-06-23T06:17:13.404Z"
   },
   {
    "duration": 66,
    "start_time": "2023-06-23T06:17:13.436Z"
   },
   {
    "duration": 14,
    "start_time": "2023-06-23T06:17:13.504Z"
   },
   {
    "duration": 6,
    "start_time": "2023-06-23T06:17:13.519Z"
   },
   {
    "duration": 266,
    "start_time": "2023-06-23T06:17:13.526Z"
   },
   {
    "duration": 129,
    "start_time": "2023-06-23T06:17:13.793Z"
   },
   {
    "duration": 231,
    "start_time": "2023-06-23T06:17:13.924Z"
   },
   {
    "duration": 38,
    "start_time": "2023-06-23T06:17:14.157Z"
   },
   {
    "duration": 44,
    "start_time": "2023-06-23T06:17:14.197Z"
   },
   {
    "duration": 55,
    "start_time": "2023-06-23T06:17:14.243Z"
   },
   {
    "duration": 37,
    "start_time": "2023-06-23T06:17:14.300Z"
   },
   {
    "duration": 651,
    "start_time": "2023-06-23T06:17:14.339Z"
   },
   {
    "duration": 11,
    "start_time": "2023-06-23T06:17:14.991Z"
   },
   {
    "duration": 49,
    "start_time": "2023-06-23T06:17:15.004Z"
   },
   {
    "duration": 9,
    "start_time": "2023-06-23T06:19:19.063Z"
   },
   {
    "duration": 9,
    "start_time": "2023-06-23T06:20:38.044Z"
   },
   {
    "duration": 140,
    "start_time": "2023-06-23T06:20:58.702Z"
   },
   {
    "duration": 13,
    "start_time": "2023-06-23T06:21:23.286Z"
   },
   {
    "duration": 15,
    "start_time": "2023-06-23T06:21:29.327Z"
   },
   {
    "duration": 15,
    "start_time": "2023-06-23T06:21:44.334Z"
   },
   {
    "duration": 118,
    "start_time": "2023-06-23T06:21:48.695Z"
   },
   {
    "duration": 105,
    "start_time": "2023-06-23T06:22:07.319Z"
   },
   {
    "duration": 9,
    "start_time": "2023-06-23T06:24:01.544Z"
   },
   {
    "duration": 20,
    "start_time": "2023-06-23T06:24:51.497Z"
   },
   {
    "duration": 33,
    "start_time": "2023-06-23T06:26:36.005Z"
   },
   {
    "duration": 28,
    "start_time": "2023-06-23T06:28:35.130Z"
   },
   {
    "duration": 92,
    "start_time": "2023-06-23T06:29:28.108Z"
   },
   {
    "duration": 15,
    "start_time": "2023-06-23T06:29:32.437Z"
   },
   {
    "duration": 23,
    "start_time": "2023-06-23T06:30:17.212Z"
   },
   {
    "duration": 10,
    "start_time": "2023-06-23T06:31:10.261Z"
   },
   {
    "duration": 1276,
    "start_time": "2023-06-23T06:31:28.235Z"
   },
   {
    "duration": 1223,
    "start_time": "2023-06-23T06:31:29.516Z"
   },
   {
    "duration": 31,
    "start_time": "2023-06-23T06:31:30.741Z"
   },
   {
    "duration": 44,
    "start_time": "2023-06-23T06:31:30.775Z"
   },
   {
    "duration": 32,
    "start_time": "2023-06-23T06:31:30.821Z"
   },
   {
    "duration": 45,
    "start_time": "2023-06-23T06:31:30.854Z"
   },
   {
    "duration": 18,
    "start_time": "2023-06-23T06:31:30.900Z"
   },
   {
    "duration": 49,
    "start_time": "2023-06-23T06:31:30.920Z"
   },
   {
    "duration": 84,
    "start_time": "2023-06-23T06:31:30.971Z"
   },
   {
    "duration": 75,
    "start_time": "2023-06-23T06:31:31.059Z"
   },
   {
    "duration": 177,
    "start_time": "2023-06-23T06:31:31.136Z"
   },
   {
    "duration": 35,
    "start_time": "2023-06-23T06:31:31.315Z"
   },
   {
    "duration": 556,
    "start_time": "2023-06-23T06:31:31.352Z"
   },
   {
    "duration": 7,
    "start_time": "2023-06-23T06:31:31.910Z"
   },
   {
    "duration": 144,
    "start_time": "2023-06-23T06:31:31.919Z"
   },
   {
    "duration": 2053,
    "start_time": "2023-06-23T06:31:32.065Z"
   },
   {
    "duration": 8,
    "start_time": "2023-06-23T06:31:34.120Z"
   },
   {
    "duration": 105,
    "start_time": "2023-06-23T06:31:34.130Z"
   },
   {
    "duration": 3,
    "start_time": "2023-06-23T06:31:34.241Z"
   },
   {
    "duration": 52,
    "start_time": "2023-06-23T06:31:34.246Z"
   },
   {
    "duration": 1705,
    "start_time": "2023-06-23T06:31:34.301Z"
   },
   {
    "duration": 23,
    "start_time": "2023-06-23T06:31:36.008Z"
   },
   {
    "duration": 60,
    "start_time": "2023-06-23T06:31:36.033Z"
   },
   {
    "duration": 25,
    "start_time": "2023-06-23T06:31:36.094Z"
   },
   {
    "duration": 11,
    "start_time": "2023-06-23T06:31:36.121Z"
   },
   {
    "duration": 10,
    "start_time": "2023-06-23T06:31:36.134Z"
   },
   {
    "duration": 8,
    "start_time": "2023-06-23T06:31:36.146Z"
   },
   {
    "duration": 5,
    "start_time": "2023-06-23T06:31:36.182Z"
   },
   {
    "duration": 357,
    "start_time": "2023-06-23T06:31:36.189Z"
   },
   {
    "duration": 571,
    "start_time": "2023-06-23T06:31:36.548Z"
   },
   {
    "duration": 415,
    "start_time": "2023-06-23T06:31:37.121Z"
   },
   {
    "duration": 229,
    "start_time": "2023-06-23T06:31:37.538Z"
   },
   {
    "duration": 290,
    "start_time": "2023-06-23T06:31:37.769Z"
   },
   {
    "duration": 299,
    "start_time": "2023-06-23T06:31:38.062Z"
   },
   {
    "duration": 42,
    "start_time": "2023-06-23T06:31:38.364Z"
   },
   {
    "duration": 18,
    "start_time": "2023-06-23T06:31:38.408Z"
   },
   {
    "duration": 12,
    "start_time": "2023-06-23T06:31:38.428Z"
   },
   {
    "duration": 30,
    "start_time": "2023-06-23T06:31:38.443Z"
   },
   {
    "duration": 431,
    "start_time": "2023-06-23T06:31:38.476Z"
   },
   {
    "duration": 71,
    "start_time": "2023-06-23T06:31:38.910Z"
   },
   {
    "duration": 99,
    "start_time": "2023-06-23T06:31:38.983Z"
   },
   {
    "duration": 19,
    "start_time": "2023-06-23T06:31:39.084Z"
   },
   {
    "duration": 21,
    "start_time": "2023-06-23T06:31:39.105Z"
   },
   {
    "duration": 396,
    "start_time": "2023-06-23T06:31:39.128Z"
   },
   {
    "duration": 56,
    "start_time": "2023-06-23T06:31:39.526Z"
   },
   {
    "duration": 245,
    "start_time": "2023-06-23T06:31:39.583Z"
   },
   {
    "duration": 65,
    "start_time": "2023-06-23T06:31:39.831Z"
   },
   {
    "duration": 17,
    "start_time": "2023-06-23T06:31:39.899Z"
   },
   {
    "duration": 23,
    "start_time": "2023-06-23T06:31:39.918Z"
   },
   {
    "duration": 43,
    "start_time": "2023-06-23T06:31:39.943Z"
   },
   {
    "duration": 738,
    "start_time": "2023-06-23T06:31:39.988Z"
   },
   {
    "duration": 10,
    "start_time": "2023-06-23T06:31:40.728Z"
   },
   {
    "duration": 37,
    "start_time": "2023-06-23T06:31:40.740Z"
   },
   {
    "duration": 20,
    "start_time": "2023-06-23T06:31:40.779Z"
   },
   {
    "duration": 14,
    "start_time": "2023-06-23T06:31:40.801Z"
   },
   {
    "duration": 9,
    "start_time": "2023-06-23T06:31:40.817Z"
   },
   {
    "duration": 20,
    "start_time": "2023-06-23T06:35:35.321Z"
   },
   {
    "duration": 22,
    "start_time": "2023-06-23T06:40:31.948Z"
   },
   {
    "duration": 21,
    "start_time": "2023-06-23T06:40:43.724Z"
   },
   {
    "duration": 26,
    "start_time": "2023-06-23T06:41:32.283Z"
   },
   {
    "duration": 303,
    "start_time": "2023-06-23T06:41:39.300Z"
   },
   {
    "duration": 152,
    "start_time": "2023-06-23T06:42:00.349Z"
   },
   {
    "duration": 163,
    "start_time": "2023-06-23T06:43:27.445Z"
   },
   {
    "duration": 152,
    "start_time": "2023-06-23T06:43:34.099Z"
   },
   {
    "duration": 154,
    "start_time": "2023-06-23T06:44:44.654Z"
   },
   {
    "duration": 179,
    "start_time": "2023-06-23T06:45:03.868Z"
   },
   {
    "duration": 152,
    "start_time": "2023-06-23T06:45:17.199Z"
   },
   {
    "duration": 149,
    "start_time": "2023-06-23T06:45:31.721Z"
   },
   {
    "duration": 207,
    "start_time": "2023-06-23T06:48:04.400Z"
   },
   {
    "duration": 217,
    "start_time": "2023-06-23T06:48:24.921Z"
   },
   {
    "duration": 252,
    "start_time": "2023-06-23T06:48:41.038Z"
   },
   {
    "duration": 286,
    "start_time": "2023-06-23T06:50:15.371Z"
   },
   {
    "duration": 189,
    "start_time": "2023-06-23T06:50:21.683Z"
   },
   {
    "duration": 187,
    "start_time": "2023-06-23T06:50:37.123Z"
   },
   {
    "duration": 182,
    "start_time": "2023-06-23T06:50:55.973Z"
   },
   {
    "duration": 198,
    "start_time": "2023-06-23T06:52:09.716Z"
   },
   {
    "duration": 180,
    "start_time": "2023-06-23T06:52:33.723Z"
   },
   {
    "duration": 177,
    "start_time": "2023-06-23T06:52:48.627Z"
   },
   {
    "duration": 181,
    "start_time": "2023-06-23T06:52:55.840Z"
   },
   {
    "duration": 184,
    "start_time": "2023-06-23T06:53:00.751Z"
   },
   {
    "duration": 12,
    "start_time": "2023-06-23T06:53:51.112Z"
   },
   {
    "duration": 13,
    "start_time": "2023-06-23T06:54:40.228Z"
   },
   {
    "duration": 163,
    "start_time": "2023-06-23T06:54:45.802Z"
   },
   {
    "duration": 10,
    "start_time": "2023-06-23T06:57:44.907Z"
   },
   {
    "duration": 13,
    "start_time": "2023-06-23T06:57:54.711Z"
   },
   {
    "duration": 20,
    "start_time": "2023-06-23T06:57:58.100Z"
   },
   {
    "duration": 1365,
    "start_time": "2023-06-23T06:58:09.050Z"
   },
   {
    "duration": 1476,
    "start_time": "2023-06-23T06:58:10.417Z"
   },
   {
    "duration": 38,
    "start_time": "2023-06-23T06:58:11.895Z"
   },
   {
    "duration": 15,
    "start_time": "2023-06-23T06:58:11.935Z"
   },
   {
    "duration": 35,
    "start_time": "2023-06-23T06:58:11.952Z"
   },
   {
    "duration": 47,
    "start_time": "2023-06-23T06:58:11.989Z"
   },
   {
    "duration": 7,
    "start_time": "2023-06-23T06:58:12.037Z"
   },
   {
    "duration": 16,
    "start_time": "2023-06-23T06:58:12.046Z"
   },
   {
    "duration": 5,
    "start_time": "2023-06-23T06:58:12.064Z"
   },
   {
    "duration": 47,
    "start_time": "2023-06-23T06:58:12.072Z"
   },
   {
    "duration": 25,
    "start_time": "2023-06-23T06:58:12.120Z"
   },
   {
    "duration": 7,
    "start_time": "2023-06-23T06:58:12.146Z"
   },
   {
    "duration": 541,
    "start_time": "2023-06-23T06:58:12.155Z"
   },
   {
    "duration": 10,
    "start_time": "2023-06-23T06:58:12.698Z"
   },
   {
    "duration": 61,
    "start_time": "2023-06-23T06:58:12.710Z"
   },
   {
    "duration": 2273,
    "start_time": "2023-06-23T06:58:12.772Z"
   },
   {
    "duration": 7,
    "start_time": "2023-06-23T06:58:15.047Z"
   },
   {
    "duration": 150,
    "start_time": "2023-06-23T06:58:15.055Z"
   },
   {
    "duration": 4,
    "start_time": "2023-06-23T06:58:15.207Z"
   },
   {
    "duration": 32,
    "start_time": "2023-06-23T06:58:15.215Z"
   },
   {
    "duration": 1906,
    "start_time": "2023-06-23T06:58:15.249Z"
   },
   {
    "duration": 33,
    "start_time": "2023-06-23T06:58:17.156Z"
   },
   {
    "duration": 37,
    "start_time": "2023-06-23T06:58:17.191Z"
   },
   {
    "duration": 25,
    "start_time": "2023-06-23T06:58:17.230Z"
   },
   {
    "duration": 19,
    "start_time": "2023-06-23T06:58:17.258Z"
   },
   {
    "duration": 18,
    "start_time": "2023-06-23T06:58:17.284Z"
   },
   {
    "duration": 22,
    "start_time": "2023-06-23T06:58:17.304Z"
   },
   {
    "duration": 9,
    "start_time": "2023-06-23T06:58:17.329Z"
   },
   {
    "duration": 314,
    "start_time": "2023-06-23T06:58:17.339Z"
   },
   {
    "duration": 401,
    "start_time": "2023-06-23T06:58:17.655Z"
   },
   {
    "duration": 421,
    "start_time": "2023-06-23T06:58:18.058Z"
   },
   {
    "duration": 211,
    "start_time": "2023-06-23T06:58:18.481Z"
   },
   {
    "duration": 339,
    "start_time": "2023-06-23T06:58:18.695Z"
   },
   {
    "duration": 350,
    "start_time": "2023-06-23T06:58:19.036Z"
   },
   {
    "duration": 29,
    "start_time": "2023-06-23T06:58:19.388Z"
   },
   {
    "duration": 36,
    "start_time": "2023-06-23T06:58:19.420Z"
   },
   {
    "duration": 8,
    "start_time": "2023-06-23T06:58:19.458Z"
   },
   {
    "duration": 52,
    "start_time": "2023-06-23T06:58:19.468Z"
   },
   {
    "duration": 439,
    "start_time": "2023-06-23T06:58:19.522Z"
   },
   {
    "duration": 39,
    "start_time": "2023-06-23T06:58:19.963Z"
   },
   {
    "duration": 114,
    "start_time": "2023-06-23T06:58:20.004Z"
   },
   {
    "duration": 14,
    "start_time": "2023-06-23T06:58:20.121Z"
   },
   {
    "duration": 54,
    "start_time": "2023-06-23T06:58:20.137Z"
   },
   {
    "duration": 275,
    "start_time": "2023-06-23T06:58:20.200Z"
   },
   {
    "duration": 151,
    "start_time": "2023-06-23T06:58:20.477Z"
   },
   {
    "duration": 263,
    "start_time": "2023-06-23T06:58:20.630Z"
   },
   {
    "duration": 37,
    "start_time": "2023-06-23T06:58:20.895Z"
   },
   {
    "duration": 45,
    "start_time": "2023-06-23T06:58:20.935Z"
   },
   {
    "duration": 45,
    "start_time": "2023-06-23T06:58:20.982Z"
   },
   {
    "duration": 16,
    "start_time": "2023-06-23T06:58:21.029Z"
   },
   {
    "duration": 818,
    "start_time": "2023-06-23T06:58:21.046Z"
   },
   {
    "duration": 19,
    "start_time": "2023-06-23T06:58:21.866Z"
   },
   {
    "duration": 80,
    "start_time": "2023-06-23T06:58:21.887Z"
   },
   {
    "duration": 242,
    "start_time": "2023-06-23T06:58:21.969Z"
   },
   {
    "duration": 14,
    "start_time": "2023-06-23T06:58:22.216Z"
   },
   {
    "duration": 1259,
    "start_time": "2023-06-23T07:06:27.948Z"
   },
   {
    "duration": 1127,
    "start_time": "2023-06-23T07:06:29.209Z"
   },
   {
    "duration": 29,
    "start_time": "2023-06-23T07:06:30.338Z"
   },
   {
    "duration": 65,
    "start_time": "2023-06-23T07:06:30.369Z"
   },
   {
    "duration": 37,
    "start_time": "2023-06-23T07:06:30.435Z"
   },
   {
    "duration": 162,
    "start_time": "2023-06-23T07:06:30.473Z"
   },
   {
    "duration": 209,
    "start_time": "2023-06-23T07:06:30.637Z"
   },
   {
    "duration": 54,
    "start_time": "2023-06-23T07:06:30.848Z"
   },
   {
    "duration": 91,
    "start_time": "2023-06-23T07:06:30.903Z"
   },
   {
    "duration": 60,
    "start_time": "2023-06-23T07:06:30.998Z"
   },
   {
    "duration": 57,
    "start_time": "2023-06-23T07:06:31.060Z"
   },
   {
    "duration": 30,
    "start_time": "2023-06-23T07:06:31.119Z"
   },
   {
    "duration": 504,
    "start_time": "2023-06-23T07:06:31.151Z"
   },
   {
    "duration": 4,
    "start_time": "2023-06-23T07:06:31.657Z"
   },
   {
    "duration": 83,
    "start_time": "2023-06-23T07:06:31.663Z"
   },
   {
    "duration": 1957,
    "start_time": "2023-06-23T07:06:31.748Z"
   },
   {
    "duration": 7,
    "start_time": "2023-06-23T07:06:33.706Z"
   },
   {
    "duration": 93,
    "start_time": "2023-06-23T07:06:33.714Z"
   },
   {
    "duration": 3,
    "start_time": "2023-06-23T07:06:33.815Z"
   },
   {
    "duration": 23,
    "start_time": "2023-06-23T07:06:33.820Z"
   },
   {
    "duration": 1716,
    "start_time": "2023-06-23T07:06:33.845Z"
   },
   {
    "duration": 34,
    "start_time": "2023-06-23T07:06:35.563Z"
   },
   {
    "duration": 41,
    "start_time": "2023-06-23T07:06:35.599Z"
   },
   {
    "duration": 50,
    "start_time": "2023-06-23T07:06:35.642Z"
   },
   {
    "duration": 40,
    "start_time": "2023-06-23T07:06:35.695Z"
   },
   {
    "duration": 11,
    "start_time": "2023-06-23T07:06:35.736Z"
   },
   {
    "duration": 70,
    "start_time": "2023-06-23T07:06:35.749Z"
   },
   {
    "duration": 12,
    "start_time": "2023-06-23T07:06:35.823Z"
   },
   {
    "duration": 320,
    "start_time": "2023-06-23T07:06:35.836Z"
   },
   {
    "duration": 601,
    "start_time": "2023-06-23T07:06:36.158Z"
   },
   {
    "duration": 410,
    "start_time": "2023-06-23T07:06:36.761Z"
   },
   {
    "duration": 240,
    "start_time": "2023-06-23T07:06:37.175Z"
   },
   {
    "duration": 291,
    "start_time": "2023-06-23T07:06:37.416Z"
   },
   {
    "duration": 278,
    "start_time": "2023-06-23T07:06:37.708Z"
   },
   {
    "duration": 31,
    "start_time": "2023-06-23T07:06:37.988Z"
   },
   {
    "duration": 16,
    "start_time": "2023-06-23T07:06:38.020Z"
   },
   {
    "duration": 5,
    "start_time": "2023-06-23T07:06:38.037Z"
   },
   {
    "duration": 8,
    "start_time": "2023-06-23T07:06:38.043Z"
   },
   {
    "duration": 407,
    "start_time": "2023-06-23T07:06:38.052Z"
   },
   {
    "duration": 40,
    "start_time": "2023-06-23T07:06:38.461Z"
   },
   {
    "duration": 88,
    "start_time": "2023-06-23T07:06:38.503Z"
   },
   {
    "duration": 17,
    "start_time": "2023-06-23T07:06:38.593Z"
   },
   {
    "duration": 132,
    "start_time": "2023-06-23T07:06:38.611Z"
   },
   {
    "duration": 265,
    "start_time": "2023-06-23T07:06:38.745Z"
   },
   {
    "duration": 36,
    "start_time": "2023-06-23T07:06:39.012Z"
   },
   {
    "duration": 286,
    "start_time": "2023-06-23T07:06:39.050Z"
   },
   {
    "duration": 42,
    "start_time": "2023-06-23T07:06:39.338Z"
   },
   {
    "duration": 17,
    "start_time": "2023-06-23T07:06:39.382Z"
   },
   {
    "duration": 19,
    "start_time": "2023-06-23T07:06:39.401Z"
   },
   {
    "duration": 15,
    "start_time": "2023-06-23T07:06:39.422Z"
   },
   {
    "duration": 729,
    "start_time": "2023-06-23T07:06:39.438Z"
   },
   {
    "duration": 20,
    "start_time": "2023-06-23T07:06:40.169Z"
   },
   {
    "duration": 21,
    "start_time": "2023-06-23T07:06:40.197Z"
   },
   {
    "duration": 161,
    "start_time": "2023-06-23T07:06:40.220Z"
   },
   {
    "duration": 21,
    "start_time": "2023-06-23T07:06:40.384Z"
   },
   {
    "duration": 1748,
    "start_time": "2023-06-23T07:10:05.125Z"
   },
   {
    "duration": 176,
    "start_time": "2023-06-23T07:10:10.755Z"
   },
   {
    "duration": 16,
    "start_time": "2023-06-23T07:10:55.657Z"
   },
   {
    "duration": 12,
    "start_time": "2023-06-23T07:11:07.863Z"
   },
   {
    "duration": 4,
    "start_time": "2023-06-23T07:11:18.401Z"
   },
   {
    "duration": 34,
    "start_time": "2023-06-23T07:11:23.659Z"
   },
   {
    "duration": 29,
    "start_time": "2023-06-23T07:11:31.112Z"
   },
   {
    "duration": 19,
    "start_time": "2023-06-23T07:11:48.930Z"
   },
   {
    "duration": 9,
    "start_time": "2023-06-23T07:12:02.345Z"
   },
   {
    "duration": 18,
    "start_time": "2023-06-23T07:12:06.348Z"
   },
   {
    "duration": 1271,
    "start_time": "2023-06-23T07:12:26.568Z"
   },
   {
    "duration": 1268,
    "start_time": "2023-06-23T07:12:27.841Z"
   },
   {
    "duration": 29,
    "start_time": "2023-06-23T07:12:29.111Z"
   },
   {
    "duration": 13,
    "start_time": "2023-06-23T07:12:29.142Z"
   },
   {
    "duration": 31,
    "start_time": "2023-06-23T07:12:29.156Z"
   },
   {
    "duration": 28,
    "start_time": "2023-06-23T07:12:29.189Z"
   },
   {
    "duration": 4,
    "start_time": "2023-06-23T07:12:29.219Z"
   },
   {
    "duration": 22,
    "start_time": "2023-06-23T07:12:29.224Z"
   },
   {
    "duration": 7,
    "start_time": "2023-06-23T07:12:29.248Z"
   },
   {
    "duration": 9,
    "start_time": "2023-06-23T07:12:29.258Z"
   },
   {
    "duration": 46,
    "start_time": "2023-06-23T07:12:29.269Z"
   },
   {
    "duration": 6,
    "start_time": "2023-06-23T07:12:29.316Z"
   },
   {
    "duration": 483,
    "start_time": "2023-06-23T07:12:29.323Z"
   },
   {
    "duration": 5,
    "start_time": "2023-06-23T07:12:29.807Z"
   },
   {
    "duration": 36,
    "start_time": "2023-06-23T07:12:29.813Z"
   },
   {
    "duration": 2000,
    "start_time": "2023-06-23T07:12:29.851Z"
   },
   {
    "duration": 7,
    "start_time": "2023-06-23T07:12:31.853Z"
   },
   {
    "duration": 142,
    "start_time": "2023-06-23T07:12:31.861Z"
   },
   {
    "duration": 2,
    "start_time": "2023-06-23T07:12:32.006Z"
   },
   {
    "duration": 30,
    "start_time": "2023-06-23T07:12:32.010Z"
   },
   {
    "duration": 1912,
    "start_time": "2023-06-23T07:12:32.041Z"
   },
   {
    "duration": 32,
    "start_time": "2023-06-23T07:12:33.955Z"
   },
   {
    "duration": 36,
    "start_time": "2023-06-23T07:12:33.988Z"
   },
   {
    "duration": 21,
    "start_time": "2023-06-23T07:12:34.025Z"
   },
   {
    "duration": 15,
    "start_time": "2023-06-23T07:12:34.047Z"
   },
   {
    "duration": 13,
    "start_time": "2023-06-23T07:12:34.064Z"
   },
   {
    "duration": 11,
    "start_time": "2023-06-23T07:12:34.079Z"
   },
   {
    "duration": 26,
    "start_time": "2023-06-23T07:12:34.094Z"
   },
   {
    "duration": 284,
    "start_time": "2023-06-23T07:12:34.121Z"
   },
   {
    "duration": 419,
    "start_time": "2023-06-23T07:12:34.407Z"
   },
   {
    "duration": 487,
    "start_time": "2023-06-23T07:12:34.828Z"
   },
   {
    "duration": 225,
    "start_time": "2023-06-23T07:12:35.317Z"
   },
   {
    "duration": 307,
    "start_time": "2023-06-23T07:12:35.544Z"
   },
   {
    "duration": 308,
    "start_time": "2023-06-23T07:12:35.853Z"
   },
   {
    "duration": 45,
    "start_time": "2023-06-23T07:12:36.163Z"
   },
   {
    "duration": 39,
    "start_time": "2023-06-23T07:12:36.210Z"
   },
   {
    "duration": 40,
    "start_time": "2023-06-23T07:12:36.251Z"
   },
   {
    "duration": 44,
    "start_time": "2023-06-23T07:12:36.293Z"
   },
   {
    "duration": 466,
    "start_time": "2023-06-23T07:12:36.340Z"
   },
   {
    "duration": 34,
    "start_time": "2023-06-23T07:12:36.808Z"
   },
   {
    "duration": 69,
    "start_time": "2023-06-23T07:12:36.844Z"
   },
   {
    "duration": 70,
    "start_time": "2023-06-23T07:12:36.915Z"
   },
   {
    "duration": 8,
    "start_time": "2023-06-23T07:12:36.987Z"
   },
   {
    "duration": 276,
    "start_time": "2023-06-23T07:12:36.996Z"
   },
   {
    "duration": 145,
    "start_time": "2023-06-23T07:12:37.276Z"
   },
   {
    "duration": 284,
    "start_time": "2023-06-23T07:12:37.422Z"
   },
   {
    "duration": 30,
    "start_time": "2023-06-23T07:12:37.710Z"
   },
   {
    "duration": 18,
    "start_time": "2023-06-23T07:12:37.741Z"
   },
   {
    "duration": 25,
    "start_time": "2023-06-23T07:12:37.760Z"
   },
   {
    "duration": 39,
    "start_time": "2023-06-23T07:12:37.787Z"
   },
   {
    "duration": 721,
    "start_time": "2023-06-23T07:12:37.828Z"
   },
   {
    "duration": 11,
    "start_time": "2023-06-23T07:12:38.550Z"
   },
   {
    "duration": 36,
    "start_time": "2023-06-23T07:12:38.563Z"
   },
   {
    "duration": 169,
    "start_time": "2023-06-23T07:12:38.601Z"
   },
   {
    "duration": 19,
    "start_time": "2023-06-23T07:12:38.782Z"
   },
   {
    "duration": 1296,
    "start_time": "2023-06-23T07:20:10.419Z"
   },
   {
    "duration": 1397,
    "start_time": "2023-06-23T07:20:11.718Z"
   },
   {
    "duration": 30,
    "start_time": "2023-06-23T07:20:13.117Z"
   },
   {
    "duration": 33,
    "start_time": "2023-06-23T07:20:13.149Z"
   },
   {
    "duration": 10,
    "start_time": "2023-06-23T07:20:13.188Z"
   },
   {
    "duration": 56,
    "start_time": "2023-06-23T07:20:13.202Z"
   },
   {
    "duration": 54,
    "start_time": "2023-06-23T07:20:13.260Z"
   },
   {
    "duration": 25,
    "start_time": "2023-06-23T07:20:13.316Z"
   },
   {
    "duration": 15,
    "start_time": "2023-06-23T07:20:13.343Z"
   },
   {
    "duration": 20,
    "start_time": "2023-06-23T07:20:13.361Z"
   },
   {
    "duration": 63,
    "start_time": "2023-06-23T07:20:13.383Z"
   },
   {
    "duration": 19,
    "start_time": "2023-06-23T07:20:13.448Z"
   },
   {
    "duration": 584,
    "start_time": "2023-06-23T07:20:13.468Z"
   },
   {
    "duration": 4,
    "start_time": "2023-06-23T07:20:14.054Z"
   },
   {
    "duration": 86,
    "start_time": "2023-06-23T07:20:14.059Z"
   },
   {
    "duration": 2031,
    "start_time": "2023-06-23T07:20:14.147Z"
   },
   {
    "duration": 10,
    "start_time": "2023-06-23T07:20:16.187Z"
   },
   {
    "duration": 95,
    "start_time": "2023-06-23T07:20:16.198Z"
   },
   {
    "duration": 9,
    "start_time": "2023-06-23T07:20:16.297Z"
   },
   {
    "duration": 23,
    "start_time": "2023-06-23T07:20:16.316Z"
   },
   {
    "duration": 1892,
    "start_time": "2023-06-23T07:20:16.340Z"
   },
   {
    "duration": 20,
    "start_time": "2023-06-23T07:20:18.234Z"
   },
   {
    "duration": 49,
    "start_time": "2023-06-23T07:20:18.255Z"
   },
   {
    "duration": 24,
    "start_time": "2023-06-23T07:20:18.307Z"
   },
   {
    "duration": 8,
    "start_time": "2023-06-23T07:20:18.332Z"
   },
   {
    "duration": 6,
    "start_time": "2023-06-23T07:20:18.341Z"
   },
   {
    "duration": 7,
    "start_time": "2023-06-23T07:20:18.348Z"
   },
   {
    "duration": 11,
    "start_time": "2023-06-23T07:20:18.378Z"
   },
   {
    "duration": 315,
    "start_time": "2023-06-23T07:20:18.390Z"
   },
   {
    "duration": 445,
    "start_time": "2023-06-23T07:20:18.709Z"
   },
   {
    "duration": 394,
    "start_time": "2023-06-23T07:20:19.156Z"
   },
   {
    "duration": 212,
    "start_time": "2023-06-23T07:20:19.552Z"
   },
   {
    "duration": 297,
    "start_time": "2023-06-23T07:20:19.765Z"
   },
   {
    "duration": 303,
    "start_time": "2023-06-23T07:20:20.063Z"
   },
   {
    "duration": 50,
    "start_time": "2023-06-23T07:20:20.368Z"
   },
   {
    "duration": 21,
    "start_time": "2023-06-23T07:20:20.420Z"
   },
   {
    "duration": 13,
    "start_time": "2023-06-23T07:20:20.442Z"
   },
   {
    "duration": 22,
    "start_time": "2023-06-23T07:20:20.457Z"
   },
   {
    "duration": 449,
    "start_time": "2023-06-23T07:20:20.481Z"
   },
   {
    "duration": 32,
    "start_time": "2023-06-23T07:20:20.932Z"
   },
   {
    "duration": 48,
    "start_time": "2023-06-23T07:20:20.980Z"
   },
   {
    "duration": 55,
    "start_time": "2023-06-23T07:20:21.030Z"
   },
   {
    "duration": 116,
    "start_time": "2023-06-23T07:20:21.087Z"
   },
   {
    "duration": 298,
    "start_time": "2023-06-23T07:20:21.208Z"
   },
   {
    "duration": 40,
    "start_time": "2023-06-23T07:20:21.508Z"
   },
   {
    "duration": 303,
    "start_time": "2023-06-23T07:20:21.550Z"
   },
   {
    "duration": 45,
    "start_time": "2023-06-23T07:20:21.855Z"
   },
   {
    "duration": 18,
    "start_time": "2023-06-23T07:20:21.904Z"
   },
   {
    "duration": 32,
    "start_time": "2023-06-23T07:20:21.923Z"
   },
   {
    "duration": 27,
    "start_time": "2023-06-23T07:20:21.957Z"
   },
   {
    "duration": 837,
    "start_time": "2023-06-23T07:20:21.985Z"
   },
   {
    "duration": 9,
    "start_time": "2023-06-23T07:20:22.824Z"
   },
   {
    "duration": 21,
    "start_time": "2023-06-23T07:20:22.835Z"
   },
   {
    "duration": 183,
    "start_time": "2023-06-23T07:20:22.857Z"
   },
   {
    "duration": 16,
    "start_time": "2023-06-23T07:20:23.043Z"
   },
   {
    "duration": 8,
    "start_time": "2023-06-23T07:37:27.817Z"
   },
   {
    "duration": 1444,
    "start_time": "2023-06-23T07:37:33.821Z"
   },
   {
    "duration": 1555,
    "start_time": "2023-06-23T07:37:35.266Z"
   },
   {
    "duration": 28,
    "start_time": "2023-06-23T07:37:36.823Z"
   },
   {
    "duration": 14,
    "start_time": "2023-06-23T07:37:36.852Z"
   },
   {
    "duration": 26,
    "start_time": "2023-06-23T07:37:36.881Z"
   },
   {
    "duration": 36,
    "start_time": "2023-06-23T07:37:36.909Z"
   },
   {
    "duration": 4,
    "start_time": "2023-06-23T07:37:36.946Z"
   },
   {
    "duration": 35,
    "start_time": "2023-06-23T07:37:36.952Z"
   },
   {
    "duration": 33,
    "start_time": "2023-06-23T07:37:36.990Z"
   },
   {
    "duration": 21,
    "start_time": "2023-06-23T07:37:37.024Z"
   },
   {
    "duration": 25,
    "start_time": "2023-06-23T07:37:37.047Z"
   },
   {
    "duration": 41,
    "start_time": "2023-06-23T07:37:37.073Z"
   },
   {
    "duration": 542,
    "start_time": "2023-06-23T07:37:37.116Z"
   },
   {
    "duration": 5,
    "start_time": "2023-06-23T07:37:37.661Z"
   },
   {
    "duration": 97,
    "start_time": "2023-06-23T07:37:37.668Z"
   },
   {
    "duration": 2194,
    "start_time": "2023-06-23T07:37:37.767Z"
   },
   {
    "duration": 15,
    "start_time": "2023-06-23T07:37:39.963Z"
   },
   {
    "duration": 117,
    "start_time": "2023-06-23T07:37:39.980Z"
   },
   {
    "duration": 5,
    "start_time": "2023-06-23T07:37:40.105Z"
   },
   {
    "duration": 27,
    "start_time": "2023-06-23T07:37:40.112Z"
   },
   {
    "duration": 1979,
    "start_time": "2023-06-23T07:37:40.141Z"
   },
   {
    "duration": 23,
    "start_time": "2023-06-23T07:37:42.122Z"
   },
   {
    "duration": 80,
    "start_time": "2023-06-23T07:37:42.147Z"
   },
   {
    "duration": 36,
    "start_time": "2023-06-23T07:37:42.229Z"
   },
   {
    "duration": 7,
    "start_time": "2023-06-23T07:37:42.267Z"
   },
   {
    "duration": 30,
    "start_time": "2023-06-23T07:37:42.277Z"
   },
   {
    "duration": 29,
    "start_time": "2023-06-23T07:37:42.309Z"
   },
   {
    "duration": 300,
    "start_time": "2023-06-23T07:37:42.340Z"
   },
   {
    "duration": 475,
    "start_time": "2023-06-23T07:37:42.642Z"
   },
   {
    "duration": 381,
    "start_time": "2023-06-23T07:37:43.119Z"
   },
   {
    "duration": 242,
    "start_time": "2023-06-23T07:37:43.503Z"
   },
   {
    "duration": 318,
    "start_time": "2023-06-23T07:37:43.746Z"
   },
   {
    "duration": 332,
    "start_time": "2023-06-23T07:37:44.066Z"
   },
   {
    "duration": 23,
    "start_time": "2023-06-23T07:37:44.404Z"
   },
   {
    "duration": 16,
    "start_time": "2023-06-23T07:37:44.428Z"
   },
   {
    "duration": 16,
    "start_time": "2023-06-23T07:37:44.445Z"
   },
   {
    "duration": 12,
    "start_time": "2023-06-23T07:37:44.463Z"
   },
   {
    "duration": 390,
    "start_time": "2023-06-23T07:37:44.476Z"
   },
   {
    "duration": 48,
    "start_time": "2023-06-23T07:37:44.868Z"
   },
   {
    "duration": 92,
    "start_time": "2023-06-23T07:37:44.917Z"
   },
   {
    "duration": 82,
    "start_time": "2023-06-23T07:37:45.016Z"
   },
   {
    "duration": 73,
    "start_time": "2023-06-23T07:37:45.100Z"
   },
   {
    "duration": 373,
    "start_time": "2023-06-23T07:37:45.176Z"
   },
   {
    "duration": 61,
    "start_time": "2023-06-23T07:37:45.551Z"
   },
   {
    "duration": 261,
    "start_time": "2023-06-23T07:37:45.614Z"
   },
   {
    "duration": 43,
    "start_time": "2023-06-23T07:37:45.876Z"
   },
   {
    "duration": 10,
    "start_time": "2023-06-23T07:37:45.921Z"
   },
   {
    "duration": 29,
    "start_time": "2023-06-23T07:37:45.933Z"
   },
   {
    "duration": 76,
    "start_time": "2023-06-23T07:37:45.963Z"
   },
   {
    "duration": 865,
    "start_time": "2023-06-23T07:37:46.041Z"
   },
   {
    "duration": 13,
    "start_time": "2023-06-23T07:37:46.907Z"
   },
   {
    "duration": 24,
    "start_time": "2023-06-23T07:37:46.921Z"
   },
   {
    "duration": 181,
    "start_time": "2023-06-23T07:37:46.946Z"
   },
   {
    "duration": 14,
    "start_time": "2023-06-23T07:37:47.129Z"
   },
   {
    "duration": 25,
    "start_time": "2023-06-23T07:40:13.500Z"
   },
   {
    "duration": 19,
    "start_time": "2023-06-23T07:46:35.801Z"
   },
   {
    "duration": 1349,
    "start_time": "2023-06-23T07:46:43.939Z"
   },
   {
    "duration": 1820,
    "start_time": "2023-06-23T07:46:45.290Z"
   },
   {
    "duration": 30,
    "start_time": "2023-06-23T07:46:47.112Z"
   },
   {
    "duration": 19,
    "start_time": "2023-06-23T07:46:47.144Z"
   },
   {
    "duration": 20,
    "start_time": "2023-06-23T07:46:47.165Z"
   },
   {
    "duration": 40,
    "start_time": "2023-06-23T07:46:47.187Z"
   },
   {
    "duration": 13,
    "start_time": "2023-06-23T07:46:47.228Z"
   },
   {
    "duration": 27,
    "start_time": "2023-06-23T07:46:47.243Z"
   },
   {
    "duration": 48,
    "start_time": "2023-06-23T07:46:47.271Z"
   },
   {
    "duration": 20,
    "start_time": "2023-06-23T07:46:47.323Z"
   },
   {
    "duration": 10,
    "start_time": "2023-06-23T07:46:47.345Z"
   },
   {
    "duration": 10,
    "start_time": "2023-06-23T07:46:47.357Z"
   },
   {
    "duration": 546,
    "start_time": "2023-06-23T07:46:47.369Z"
   },
   {
    "duration": 4,
    "start_time": "2023-06-23T07:46:47.916Z"
   },
   {
    "duration": 44,
    "start_time": "2023-06-23T07:46:47.921Z"
   },
   {
    "duration": 2180,
    "start_time": "2023-06-23T07:46:47.966Z"
   },
   {
    "duration": 7,
    "start_time": "2023-06-23T07:46:50.148Z"
   },
   {
    "duration": 128,
    "start_time": "2023-06-23T07:46:50.157Z"
   },
   {
    "duration": 4,
    "start_time": "2023-06-23T07:46:50.298Z"
   },
   {
    "duration": 25,
    "start_time": "2023-06-23T07:46:50.307Z"
   },
   {
    "duration": 1948,
    "start_time": "2023-06-23T07:46:50.334Z"
   },
   {
    "duration": 38,
    "start_time": "2023-06-23T07:46:52.284Z"
   },
   {
    "duration": 22,
    "start_time": "2023-06-23T07:46:52.323Z"
   },
   {
    "duration": 47,
    "start_time": "2023-06-23T07:46:52.346Z"
   },
   {
    "duration": 10,
    "start_time": "2023-06-23T07:46:52.394Z"
   },
   {
    "duration": 26,
    "start_time": "2023-06-23T07:46:52.406Z"
   },
   {
    "duration": 12,
    "start_time": "2023-06-23T07:46:52.434Z"
   },
   {
    "duration": 382,
    "start_time": "2023-06-23T07:46:52.450Z"
   },
   {
    "duration": 496,
    "start_time": "2023-06-23T07:46:52.834Z"
   },
   {
    "duration": 413,
    "start_time": "2023-06-23T07:46:53.332Z"
   },
   {
    "duration": 239,
    "start_time": "2023-06-23T07:46:53.747Z"
   },
   {
    "duration": 325,
    "start_time": "2023-06-23T07:46:53.989Z"
   },
   {
    "duration": 320,
    "start_time": "2023-06-23T07:46:54.316Z"
   },
   {
    "duration": 23,
    "start_time": "2023-06-23T07:46:54.638Z"
   },
   {
    "duration": 42,
    "start_time": "2023-06-23T07:46:54.663Z"
   },
   {
    "duration": 18,
    "start_time": "2023-06-23T07:46:54.707Z"
   },
   {
    "duration": 33,
    "start_time": "2023-06-23T07:46:54.727Z"
   },
   {
    "duration": 409,
    "start_time": "2023-06-23T07:46:54.762Z"
   },
   {
    "duration": 52,
    "start_time": "2023-06-23T07:46:55.173Z"
   },
   {
    "duration": 87,
    "start_time": "2023-06-23T07:46:55.227Z"
   },
   {
    "duration": 61,
    "start_time": "2023-06-23T07:46:55.316Z"
   },
   {
    "duration": 132,
    "start_time": "2023-06-23T07:46:55.379Z"
   },
   {
    "duration": 282,
    "start_time": "2023-06-23T07:46:55.512Z"
   },
   {
    "duration": 44,
    "start_time": "2023-06-23T07:46:55.796Z"
   },
   {
    "duration": 283,
    "start_time": "2023-06-23T07:46:55.842Z"
   },
   {
    "duration": 30,
    "start_time": "2023-06-23T07:46:56.127Z"
   },
   {
    "duration": 34,
    "start_time": "2023-06-23T07:46:56.158Z"
   },
   {
    "duration": 43,
    "start_time": "2023-06-23T07:46:56.195Z"
   },
   {
    "duration": 22,
    "start_time": "2023-06-23T07:46:56.240Z"
   },
   {
    "duration": 868,
    "start_time": "2023-06-23T07:46:56.265Z"
   },
   {
    "duration": 12,
    "start_time": "2023-06-23T07:46:57.135Z"
   },
   {
    "duration": 42,
    "start_time": "2023-06-23T07:46:57.148Z"
   },
   {
    "duration": 193,
    "start_time": "2023-06-23T07:46:57.193Z"
   },
   {
    "duration": 23,
    "start_time": "2023-06-23T07:46:57.388Z"
   },
   {
    "duration": 1583,
    "start_time": "2023-06-23T08:42:27.134Z"
   },
   {
    "duration": 1646,
    "start_time": "2023-06-23T08:42:28.725Z"
   },
   {
    "duration": 47,
    "start_time": "2023-06-23T08:42:30.373Z"
   },
   {
    "duration": 57,
    "start_time": "2023-06-23T08:42:30.423Z"
   },
   {
    "duration": 66,
    "start_time": "2023-06-23T08:42:30.482Z"
   },
   {
    "duration": 87,
    "start_time": "2023-06-23T08:42:30.550Z"
   },
   {
    "duration": 93,
    "start_time": "2023-06-23T08:42:30.641Z"
   },
   {
    "duration": 127,
    "start_time": "2023-06-23T08:42:30.736Z"
   },
   {
    "duration": 86,
    "start_time": "2023-06-23T08:42:30.865Z"
   },
   {
    "duration": 103,
    "start_time": "2023-06-23T08:42:30.954Z"
   },
   {
    "duration": 103,
    "start_time": "2023-06-23T08:42:31.059Z"
   },
   {
    "duration": 146,
    "start_time": "2023-06-23T08:42:31.164Z"
   },
   {
    "duration": 686,
    "start_time": "2023-06-23T08:42:31.311Z"
   },
   {
    "duration": 4,
    "start_time": "2023-06-23T08:42:31.999Z"
   },
   {
    "duration": 365,
    "start_time": "2023-06-23T08:42:32.005Z"
   },
   {
    "duration": 2393,
    "start_time": "2023-06-23T08:42:32.372Z"
   },
   {
    "duration": 12,
    "start_time": "2023-06-23T08:42:34.767Z"
   },
   {
    "duration": 117,
    "start_time": "2023-06-23T08:42:34.784Z"
   },
   {
    "duration": 6,
    "start_time": "2023-06-23T08:42:34.903Z"
   },
   {
    "duration": 30,
    "start_time": "2023-06-23T08:42:34.913Z"
   },
   {
    "duration": 2117,
    "start_time": "2023-06-23T08:42:34.945Z"
   },
   {
    "duration": 36,
    "start_time": "2023-06-23T08:42:37.063Z"
   },
   {
    "duration": 79,
    "start_time": "2023-06-23T08:42:37.104Z"
   },
   {
    "duration": 100,
    "start_time": "2023-06-23T08:42:37.185Z"
   },
   {
    "duration": 9,
    "start_time": "2023-06-23T08:42:37.287Z"
   },
   {
    "duration": 51,
    "start_time": "2023-06-23T08:42:37.297Z"
   },
   {
    "duration": 11,
    "start_time": "2023-06-23T08:42:37.350Z"
   },
   {
    "duration": 309,
    "start_time": "2023-06-23T08:42:37.364Z"
   },
   {
    "duration": 525,
    "start_time": "2023-06-23T08:42:37.674Z"
   },
   {
    "duration": 446,
    "start_time": "2023-06-23T08:42:38.201Z"
   },
   {
    "duration": 250,
    "start_time": "2023-06-23T08:42:38.649Z"
   },
   {
    "duration": 336,
    "start_time": "2023-06-23T08:42:38.902Z"
   },
   {
    "duration": 325,
    "start_time": "2023-06-23T08:42:39.240Z"
   },
   {
    "duration": 35,
    "start_time": "2023-06-23T08:42:39.577Z"
   },
   {
    "duration": 41,
    "start_time": "2023-06-23T08:42:39.614Z"
   },
   {
    "duration": 5,
    "start_time": "2023-06-23T08:42:39.656Z"
   },
   {
    "duration": 12,
    "start_time": "2023-06-23T08:42:39.663Z"
   },
   {
    "duration": 478,
    "start_time": "2023-06-23T08:42:39.677Z"
   },
   {
    "duration": 44,
    "start_time": "2023-06-23T08:42:40.156Z"
   },
   {
    "duration": 104,
    "start_time": "2023-06-23T08:42:40.202Z"
   },
   {
    "duration": 17,
    "start_time": "2023-06-23T08:42:40.316Z"
   },
   {
    "duration": 11,
    "start_time": "2023-06-23T08:42:40.334Z"
   },
   {
    "duration": 409,
    "start_time": "2023-06-23T08:42:40.347Z"
   },
   {
    "duration": 55,
    "start_time": "2023-06-23T08:42:40.757Z"
   },
   {
    "duration": 298,
    "start_time": "2023-06-23T08:42:40.814Z"
   },
   {
    "duration": 38,
    "start_time": "2023-06-23T08:42:41.114Z"
   },
   {
    "duration": 32,
    "start_time": "2023-06-23T08:42:41.154Z"
   },
   {
    "duration": 68,
    "start_time": "2023-06-23T08:42:41.188Z"
   },
   {
    "duration": 44,
    "start_time": "2023-06-23T08:42:41.258Z"
   },
   {
    "duration": 901,
    "start_time": "2023-06-23T08:42:41.304Z"
   },
   {
    "duration": 19,
    "start_time": "2023-06-23T08:42:42.207Z"
   },
   {
    "duration": 26,
    "start_time": "2023-06-23T08:42:42.235Z"
   },
   {
    "duration": 181,
    "start_time": "2023-06-23T08:42:42.263Z"
   },
   {
    "duration": 14,
    "start_time": "2023-06-23T08:42:42.446Z"
   },
   {
    "duration": 325,
    "start_time": "2023-06-23T08:45:21.916Z"
   },
   {
    "duration": 1469,
    "start_time": "2023-06-23T08:46:04.401Z"
   },
   {
    "duration": 1556,
    "start_time": "2023-06-23T08:46:05.872Z"
   },
   {
    "duration": 28,
    "start_time": "2023-06-23T08:46:07.431Z"
   },
   {
    "duration": 14,
    "start_time": "2023-06-23T08:46:07.460Z"
   },
   {
    "duration": 61,
    "start_time": "2023-06-23T08:46:07.484Z"
   },
   {
    "duration": 23,
    "start_time": "2023-06-23T08:46:07.547Z"
   },
   {
    "duration": 10,
    "start_time": "2023-06-23T08:46:07.572Z"
   },
   {
    "duration": 58,
    "start_time": "2023-06-23T08:46:07.587Z"
   },
   {
    "duration": 25,
    "start_time": "2023-06-23T08:46:07.647Z"
   },
   {
    "duration": 70,
    "start_time": "2023-06-23T08:46:07.674Z"
   },
   {
    "duration": 13,
    "start_time": "2023-06-23T08:46:07.746Z"
   },
   {
    "duration": 24,
    "start_time": "2023-06-23T08:46:07.760Z"
   },
   {
    "duration": 640,
    "start_time": "2023-06-23T08:46:07.786Z"
   },
   {
    "duration": 5,
    "start_time": "2023-06-23T08:46:08.431Z"
   },
   {
    "duration": 50,
    "start_time": "2023-06-23T08:46:08.437Z"
   },
   {
    "duration": 2206,
    "start_time": "2023-06-23T08:46:08.489Z"
   },
   {
    "duration": 24,
    "start_time": "2023-06-23T08:46:10.697Z"
   },
   {
    "duration": 112,
    "start_time": "2023-06-23T08:46:10.723Z"
   },
   {
    "duration": 3,
    "start_time": "2023-06-23T08:46:10.836Z"
   },
   {
    "duration": 19,
    "start_time": "2023-06-23T08:46:10.841Z"
   },
   {
    "duration": 1968,
    "start_time": "2023-06-23T08:46:10.862Z"
   },
   {
    "duration": 22,
    "start_time": "2023-06-23T08:46:12.833Z"
   },
   {
    "duration": 51,
    "start_time": "2023-06-23T08:46:12.856Z"
   },
   {
    "duration": 60,
    "start_time": "2023-06-23T08:46:12.910Z"
   },
   {
    "duration": 77,
    "start_time": "2023-06-23T08:46:12.972Z"
   },
   {
    "duration": 21,
    "start_time": "2023-06-23T08:46:13.051Z"
   },
   {
    "duration": 53,
    "start_time": "2023-06-23T08:46:13.073Z"
   },
   {
    "duration": 319,
    "start_time": "2023-06-23T08:46:13.128Z"
   },
   {
    "duration": 504,
    "start_time": "2023-06-23T08:46:13.449Z"
   },
   {
    "duration": 417,
    "start_time": "2023-06-23T08:46:13.954Z"
   },
   {
    "duration": 231,
    "start_time": "2023-06-23T08:46:14.372Z"
   },
   {
    "duration": 346,
    "start_time": "2023-06-23T08:46:14.605Z"
   },
   {
    "duration": 329,
    "start_time": "2023-06-23T08:46:14.952Z"
   },
   {
    "duration": 35,
    "start_time": "2023-06-23T08:46:15.284Z"
   },
   {
    "duration": 35,
    "start_time": "2023-06-23T08:46:15.321Z"
   },
   {
    "duration": 6,
    "start_time": "2023-06-23T08:46:15.358Z"
   },
   {
    "duration": 54,
    "start_time": "2023-06-23T08:46:15.366Z"
   },
   {
    "duration": 435,
    "start_time": "2023-06-23T08:46:15.422Z"
   },
   {
    "duration": 57,
    "start_time": "2023-06-23T08:46:15.859Z"
   },
   {
    "duration": 54,
    "start_time": "2023-06-23T08:46:15.932Z"
   },
   {
    "duration": 24,
    "start_time": "2023-06-23T08:46:15.991Z"
   },
   {
    "duration": 31,
    "start_time": "2023-06-23T08:46:16.017Z"
   },
   {
    "duration": 411,
    "start_time": "2023-06-23T08:46:16.050Z"
   },
   {
    "duration": 62,
    "start_time": "2023-06-23T08:46:16.463Z"
   },
   {
    "duration": 305,
    "start_time": "2023-06-23T08:46:16.528Z"
   },
   {
    "duration": 33,
    "start_time": "2023-06-23T08:46:16.835Z"
   },
   {
    "duration": 68,
    "start_time": "2023-06-23T08:46:16.871Z"
   },
   {
    "duration": 30,
    "start_time": "2023-06-23T08:46:16.941Z"
   },
   {
    "duration": 37,
    "start_time": "2023-06-23T08:46:16.973Z"
   },
   {
    "duration": 827,
    "start_time": "2023-06-23T08:46:17.012Z"
   },
   {
    "duration": 11,
    "start_time": "2023-06-23T08:46:17.840Z"
   },
   {
    "duration": 27,
    "start_time": "2023-06-23T08:46:17.853Z"
   },
   {
    "duration": 263,
    "start_time": "2023-06-23T08:46:17.881Z"
   },
   {
    "duration": 13,
    "start_time": "2023-06-23T08:46:18.145Z"
   },
   {
    "duration": 1512,
    "start_time": "2023-06-23T12:48:08.771Z"
   },
   {
    "duration": 1497,
    "start_time": "2023-06-23T12:48:10.285Z"
   },
   {
    "duration": 30,
    "start_time": "2023-06-23T12:48:11.784Z"
   },
   {
    "duration": 17,
    "start_time": "2023-06-23T12:48:11.816Z"
   },
   {
    "duration": 22,
    "start_time": "2023-06-23T12:48:11.834Z"
   },
   {
    "duration": 17,
    "start_time": "2023-06-23T12:48:11.858Z"
   },
   {
    "duration": 4,
    "start_time": "2023-06-23T12:48:11.877Z"
   },
   {
    "duration": 17,
    "start_time": "2023-06-23T12:48:11.883Z"
   },
   {
    "duration": 5,
    "start_time": "2023-06-23T12:48:11.901Z"
   },
   {
    "duration": 9,
    "start_time": "2023-06-23T12:48:11.909Z"
   },
   {
    "duration": 44,
    "start_time": "2023-06-23T12:48:11.920Z"
   },
   {
    "duration": 9,
    "start_time": "2023-06-23T12:48:11.966Z"
   },
   {
    "duration": 482,
    "start_time": "2023-06-23T12:48:11.977Z"
   },
   {
    "duration": 5,
    "start_time": "2023-06-23T12:48:12.461Z"
   },
   {
    "duration": 43,
    "start_time": "2023-06-23T12:48:12.467Z"
   },
   {
    "duration": 1833,
    "start_time": "2023-06-23T12:48:12.512Z"
   },
   {
    "duration": 12,
    "start_time": "2023-06-23T12:48:14.347Z"
   },
   {
    "duration": 119,
    "start_time": "2023-06-23T12:48:14.361Z"
   },
   {
    "duration": 3,
    "start_time": "2023-06-23T12:48:14.486Z"
   },
   {
    "duration": 19,
    "start_time": "2023-06-23T12:48:14.491Z"
   },
   {
    "duration": 1631,
    "start_time": "2023-06-23T12:48:14.512Z"
   },
   {
    "duration": 25,
    "start_time": "2023-06-23T12:48:16.145Z"
   },
   {
    "duration": 21,
    "start_time": "2023-06-23T12:48:16.172Z"
   },
   {
    "duration": 22,
    "start_time": "2023-06-23T12:48:16.195Z"
   },
   {
    "duration": 38,
    "start_time": "2023-06-23T12:48:16.219Z"
   },
   {
    "duration": 5,
    "start_time": "2023-06-23T12:48:16.258Z"
   },
   {
    "duration": 10,
    "start_time": "2023-06-23T12:48:16.265Z"
   },
   {
    "duration": 288,
    "start_time": "2023-06-23T12:48:16.278Z"
   },
   {
    "duration": 370,
    "start_time": "2023-06-23T12:48:16.568Z"
   },
   {
    "duration": 437,
    "start_time": "2023-06-23T12:48:16.940Z"
   },
   {
    "duration": 214,
    "start_time": "2023-06-23T12:48:17.378Z"
   },
   {
    "duration": 281,
    "start_time": "2023-06-23T12:48:17.594Z"
   },
   {
    "duration": 270,
    "start_time": "2023-06-23T12:48:17.877Z"
   },
   {
    "duration": 28,
    "start_time": "2023-06-23T12:48:18.149Z"
   },
   {
    "duration": 18,
    "start_time": "2023-06-23T12:48:18.179Z"
   },
   {
    "duration": 5,
    "start_time": "2023-06-23T12:48:18.199Z"
   },
   {
    "duration": 9,
    "start_time": "2023-06-23T12:48:18.205Z"
   },
   {
    "duration": 477,
    "start_time": "2023-06-23T12:48:18.215Z"
   },
   {
    "duration": 66,
    "start_time": "2023-06-23T12:48:18.694Z"
   },
   {
    "duration": 34,
    "start_time": "2023-06-23T12:48:18.762Z"
   },
   {
    "duration": 74,
    "start_time": "2023-06-23T12:48:18.800Z"
   },
   {
    "duration": 9,
    "start_time": "2023-06-23T12:48:18.876Z"
   },
   {
    "duration": 314,
    "start_time": "2023-06-23T12:48:18.887Z"
   },
   {
    "duration": 156,
    "start_time": "2023-06-23T12:48:19.203Z"
   },
   {
    "duration": 251,
    "start_time": "2023-06-23T12:48:19.361Z"
   },
   {
    "duration": 46,
    "start_time": "2023-06-23T12:48:19.613Z"
   },
   {
    "duration": 12,
    "start_time": "2023-06-23T12:48:19.660Z"
   },
   {
    "duration": 25,
    "start_time": "2023-06-23T12:48:19.674Z"
   },
   {
    "duration": 23,
    "start_time": "2023-06-23T12:48:19.701Z"
   },
   {
    "duration": 732,
    "start_time": "2023-06-23T12:48:19.725Z"
   },
   {
    "duration": 10,
    "start_time": "2023-06-23T12:48:20.459Z"
   },
   {
    "duration": 18,
    "start_time": "2023-06-23T12:48:20.471Z"
   },
   {
    "duration": 174,
    "start_time": "2023-06-23T12:48:20.491Z"
   },
   {
    "duration": 16,
    "start_time": "2023-06-23T12:48:20.667Z"
   },
   {
    "duration": 287,
    "start_time": "2023-06-23T12:57:18.017Z"
   },
   {
    "duration": 164,
    "start_time": "2023-06-23T12:58:30.718Z"
   },
   {
    "duration": 161,
    "start_time": "2023-06-23T12:58:36.815Z"
   },
   {
    "duration": 168,
    "start_time": "2023-06-23T12:58:42.048Z"
   },
   {
    "duration": 290,
    "start_time": "2023-06-23T13:02:25.204Z"
   },
   {
    "duration": 1394,
    "start_time": "2023-06-23T13:02:45.624Z"
   },
   {
    "duration": 1012,
    "start_time": "2023-06-23T13:02:47.021Z"
   },
   {
    "duration": 36,
    "start_time": "2023-06-23T13:02:48.035Z"
   },
   {
    "duration": 17,
    "start_time": "2023-06-23T13:02:48.073Z"
   },
   {
    "duration": 6,
    "start_time": "2023-06-23T13:02:48.092Z"
   },
   {
    "duration": 23,
    "start_time": "2023-06-23T13:02:48.100Z"
   },
   {
    "duration": 5,
    "start_time": "2023-06-23T13:02:48.125Z"
   },
   {
    "duration": 18,
    "start_time": "2023-06-23T13:02:48.132Z"
   },
   {
    "duration": 127,
    "start_time": "2023-06-23T13:02:48.156Z"
   },
   {
    "duration": 81,
    "start_time": "2023-06-23T13:02:48.287Z"
   },
   {
    "duration": 252,
    "start_time": "2023-06-23T13:02:48.370Z"
   },
   {
    "duration": 20,
    "start_time": "2023-06-23T13:02:48.624Z"
   },
   {
    "duration": 680,
    "start_time": "2023-06-23T13:02:48.646Z"
   },
   {
    "duration": 4,
    "start_time": "2023-06-23T13:02:49.328Z"
   },
   {
    "duration": 80,
    "start_time": "2023-06-23T13:02:49.335Z"
   },
   {
    "duration": 1943,
    "start_time": "2023-06-23T13:02:49.416Z"
   },
   {
    "duration": 7,
    "start_time": "2023-06-23T13:02:51.360Z"
   },
   {
    "duration": 126,
    "start_time": "2023-06-23T13:02:51.369Z"
   },
   {
    "duration": 3,
    "start_time": "2023-06-23T13:02:51.496Z"
   },
   {
    "duration": 28,
    "start_time": "2023-06-23T13:02:51.501Z"
   },
   {
    "duration": 1714,
    "start_time": "2023-06-23T13:02:51.557Z"
   },
   {
    "duration": 31,
    "start_time": "2023-06-23T13:02:53.272Z"
   },
   {
    "duration": 60,
    "start_time": "2023-06-23T13:02:53.305Z"
   },
   {
    "duration": 25,
    "start_time": "2023-06-23T13:02:53.367Z"
   },
   {
    "duration": 28,
    "start_time": "2023-06-23T13:02:53.394Z"
   },
   {
    "duration": 36,
    "start_time": "2023-06-23T13:02:53.424Z"
   },
   {
    "duration": 34,
    "start_time": "2023-06-23T13:02:53.462Z"
   },
   {
    "duration": 303,
    "start_time": "2023-06-23T13:02:53.500Z"
   },
   {
    "duration": 416,
    "start_time": "2023-06-23T13:02:53.806Z"
   },
   {
    "duration": 452,
    "start_time": "2023-06-23T13:02:54.224Z"
   },
   {
    "duration": 198,
    "start_time": "2023-06-23T13:02:54.677Z"
   },
   {
    "duration": 290,
    "start_time": "2023-06-23T13:02:54.877Z"
   },
   {
    "duration": 304,
    "start_time": "2023-06-23T13:02:55.169Z"
   },
   {
    "duration": 24,
    "start_time": "2023-06-23T13:02:55.475Z"
   },
   {
    "duration": 18,
    "start_time": "2023-06-23T13:02:55.501Z"
   },
   {
    "duration": 14,
    "start_time": "2023-06-23T13:02:55.520Z"
   },
   {
    "duration": 16,
    "start_time": "2023-06-23T13:02:55.556Z"
   },
   {
    "duration": 467,
    "start_time": "2023-06-23T13:02:55.574Z"
   },
   {
    "duration": 38,
    "start_time": "2023-06-23T13:02:56.043Z"
   },
   {
    "duration": 85,
    "start_time": "2023-06-23T13:02:56.083Z"
   },
   {
    "duration": 16,
    "start_time": "2023-06-23T13:02:56.170Z"
   },
   {
    "duration": 15,
    "start_time": "2023-06-23T13:02:56.188Z"
   },
   {
    "duration": 283,
    "start_time": "2023-06-23T13:02:56.205Z"
   },
   {
    "duration": 173,
    "start_time": "2023-06-23T13:02:56.490Z"
   },
   {
    "duration": 265,
    "start_time": "2023-06-23T13:02:56.666Z"
   },
   {
    "duration": 48,
    "start_time": "2023-06-23T13:02:56.934Z"
   },
   {
    "duration": 13,
    "start_time": "2023-06-23T13:02:56.984Z"
   },
   {
    "duration": 64,
    "start_time": "2023-06-23T13:02:56.999Z"
   },
   {
    "duration": 44,
    "start_time": "2023-06-23T13:02:57.065Z"
   },
   {
    "duration": 795,
    "start_time": "2023-06-23T13:02:57.110Z"
   },
   {
    "duration": 11,
    "start_time": "2023-06-23T13:02:57.908Z"
   },
   {
    "duration": 36,
    "start_time": "2023-06-23T13:02:57.920Z"
   },
   {
    "duration": 174,
    "start_time": "2023-06-23T13:02:57.958Z"
   },
   {
    "duration": 24,
    "start_time": "2023-06-23T13:02:58.133Z"
   },
   {
    "duration": 1289,
    "start_time": "2023-06-23T13:20:38.785Z"
   },
   {
    "duration": 1569,
    "start_time": "2023-06-23T13:20:40.076Z"
   },
   {
    "duration": 35,
    "start_time": "2023-06-23T13:20:41.646Z"
   },
   {
    "duration": 18,
    "start_time": "2023-06-23T13:20:41.683Z"
   },
   {
    "duration": 15,
    "start_time": "2023-06-23T13:20:41.703Z"
   },
   {
    "duration": 37,
    "start_time": "2023-06-23T13:20:41.720Z"
   },
   {
    "duration": 4,
    "start_time": "2023-06-23T13:20:41.759Z"
   },
   {
    "duration": 23,
    "start_time": "2023-06-23T13:20:41.765Z"
   },
   {
    "duration": 8,
    "start_time": "2023-06-23T13:20:41.790Z"
   },
   {
    "duration": 7,
    "start_time": "2023-06-23T13:20:41.800Z"
   },
   {
    "duration": 19,
    "start_time": "2023-06-23T13:20:41.809Z"
   },
   {
    "duration": 27,
    "start_time": "2023-06-23T13:20:41.830Z"
   },
   {
    "duration": 503,
    "start_time": "2023-06-23T13:20:41.859Z"
   },
   {
    "duration": 4,
    "start_time": "2023-06-23T13:20:42.367Z"
   },
   {
    "duration": 47,
    "start_time": "2023-06-23T13:20:42.373Z"
   },
   {
    "duration": 1962,
    "start_time": "2023-06-23T13:20:42.422Z"
   },
   {
    "duration": 8,
    "start_time": "2023-06-23T13:20:44.385Z"
   },
   {
    "duration": 112,
    "start_time": "2023-06-23T13:20:44.394Z"
   },
   {
    "duration": 2,
    "start_time": "2023-06-23T13:20:44.509Z"
   },
   {
    "duration": 52,
    "start_time": "2023-06-23T13:20:44.513Z"
   },
   {
    "duration": 1729,
    "start_time": "2023-06-23T13:20:44.567Z"
   },
   {
    "duration": 26,
    "start_time": "2023-06-23T13:20:46.298Z"
   },
   {
    "duration": 41,
    "start_time": "2023-06-23T13:20:46.326Z"
   },
   {
    "duration": 24,
    "start_time": "2023-06-23T13:20:46.369Z"
   },
   {
    "duration": 9,
    "start_time": "2023-06-23T13:20:46.394Z"
   },
   {
    "duration": 6,
    "start_time": "2023-06-23T13:20:46.404Z"
   },
   {
    "duration": 8,
    "start_time": "2023-06-23T13:20:46.412Z"
   },
   {
    "duration": 325,
    "start_time": "2023-06-23T13:20:46.422Z"
   },
   {
    "duration": 385,
    "start_time": "2023-06-23T13:20:46.749Z"
   },
   {
    "duration": 535,
    "start_time": "2023-06-23T13:20:47.136Z"
   },
   {
    "duration": 229,
    "start_time": "2023-06-23T13:20:47.672Z"
   },
   {
    "duration": 502,
    "start_time": "2023-06-23T13:20:47.903Z"
   },
   {
    "duration": 321,
    "start_time": "2023-06-23T13:20:48.408Z"
   },
   {
    "duration": 38,
    "start_time": "2023-06-23T13:20:48.731Z"
   },
   {
    "duration": 21,
    "start_time": "2023-06-23T13:20:48.771Z"
   },
   {
    "duration": 33,
    "start_time": "2023-06-23T13:20:48.794Z"
   },
   {
    "duration": 19,
    "start_time": "2023-06-23T13:20:48.829Z"
   },
   {
    "duration": 522,
    "start_time": "2023-06-23T13:20:48.850Z"
   },
   {
    "duration": 86,
    "start_time": "2023-06-23T13:20:49.376Z"
   },
   {
    "duration": 93,
    "start_time": "2023-06-23T13:20:49.465Z"
   },
   {
    "duration": 19,
    "start_time": "2023-06-23T13:20:49.565Z"
   },
   {
    "duration": 7,
    "start_time": "2023-06-23T13:20:49.586Z"
   },
   {
    "duration": 321,
    "start_time": "2023-06-23T13:20:49.595Z"
   },
   {
    "duration": 181,
    "start_time": "2023-06-23T13:20:49.918Z"
   },
   {
    "duration": 277,
    "start_time": "2023-06-23T13:20:50.101Z"
   },
   {
    "duration": 34,
    "start_time": "2023-06-23T13:20:50.380Z"
   },
   {
    "duration": 19,
    "start_time": "2023-06-23T13:20:50.415Z"
   },
   {
    "duration": 31,
    "start_time": "2023-06-23T13:20:50.436Z"
   },
   {
    "duration": 24,
    "start_time": "2023-06-23T13:20:50.468Z"
   },
   {
    "duration": 755,
    "start_time": "2023-06-23T13:20:50.494Z"
   },
   {
    "duration": 16,
    "start_time": "2023-06-23T13:20:51.256Z"
   },
   {
    "duration": 34,
    "start_time": "2023-06-23T13:20:51.274Z"
   },
   {
    "duration": 194,
    "start_time": "2023-06-23T13:20:51.310Z"
   },
   {
    "duration": 16,
    "start_time": "2023-06-23T13:20:51.506Z"
   },
   {
    "duration": 1355,
    "start_time": "2023-06-24T19:56:11.168Z"
   },
   {
    "duration": 1305,
    "start_time": "2023-06-24T19:56:12.524Z"
   },
   {
    "duration": 44,
    "start_time": "2023-06-24T19:56:13.831Z"
   },
   {
    "duration": 42,
    "start_time": "2023-06-24T19:56:13.878Z"
   },
   {
    "duration": 7,
    "start_time": "2023-06-24T19:56:13.922Z"
   },
   {
    "duration": 36,
    "start_time": "2023-06-24T19:56:13.931Z"
   },
   {
    "duration": 24,
    "start_time": "2023-06-24T19:56:13.969Z"
   },
   {
    "duration": 20,
    "start_time": "2023-06-24T19:56:13.995Z"
   },
   {
    "duration": 10,
    "start_time": "2023-06-24T19:56:14.017Z"
   },
   {
    "duration": 11,
    "start_time": "2023-06-24T19:56:14.029Z"
   },
   {
    "duration": 11,
    "start_time": "2023-06-24T19:56:14.042Z"
   },
   {
    "duration": 7,
    "start_time": "2023-06-24T19:56:14.054Z"
   },
   {
    "duration": 468,
    "start_time": "2023-06-24T19:56:14.063Z"
   },
   {
    "duration": 4,
    "start_time": "2023-06-24T19:56:14.533Z"
   },
   {
    "duration": 40,
    "start_time": "2023-06-24T19:56:14.539Z"
   },
   {
    "duration": 1956,
    "start_time": "2023-06-24T19:56:14.581Z"
   },
   {
    "duration": 8,
    "start_time": "2023-06-24T19:56:16.539Z"
   },
   {
    "duration": 86,
    "start_time": "2023-06-24T19:56:16.548Z"
   },
   {
    "duration": 17,
    "start_time": "2023-06-24T19:56:16.648Z"
   },
   {
    "duration": 55,
    "start_time": "2023-06-24T19:56:16.671Z"
   },
   {
    "duration": 1628,
    "start_time": "2023-06-24T19:56:16.728Z"
   },
   {
    "duration": 21,
    "start_time": "2023-06-24T19:56:18.358Z"
   },
   {
    "duration": 40,
    "start_time": "2023-06-24T19:56:18.381Z"
   },
   {
    "duration": 26,
    "start_time": "2023-06-24T19:56:18.423Z"
   },
   {
    "duration": 7,
    "start_time": "2023-06-24T19:56:18.451Z"
   },
   {
    "duration": 13,
    "start_time": "2023-06-24T19:56:18.460Z"
   },
   {
    "duration": 7,
    "start_time": "2023-06-24T19:56:18.474Z"
   },
   {
    "duration": 310,
    "start_time": "2023-06-24T19:56:18.484Z"
   },
   {
    "duration": 421,
    "start_time": "2023-06-24T19:56:18.796Z"
   },
   {
    "duration": 481,
    "start_time": "2023-06-24T19:56:19.219Z"
   },
   {
    "duration": 222,
    "start_time": "2023-06-24T19:56:19.702Z"
   },
   {
    "duration": 277,
    "start_time": "2023-06-24T19:56:19.926Z"
   },
   {
    "duration": 272,
    "start_time": "2023-06-24T19:56:20.204Z"
   },
   {
    "duration": 36,
    "start_time": "2023-06-24T19:56:20.478Z"
   },
   {
    "duration": 23,
    "start_time": "2023-06-24T19:56:20.516Z"
   },
   {
    "duration": 14,
    "start_time": "2023-06-24T19:56:20.541Z"
   },
   {
    "duration": 9,
    "start_time": "2023-06-24T19:56:20.557Z"
   },
   {
    "duration": 623,
    "start_time": "2023-06-24T19:56:20.568Z"
   },
   {
    "duration": 39,
    "start_time": "2023-06-24T19:56:21.194Z"
   },
   {
    "duration": 103,
    "start_time": "2023-06-24T19:56:21.236Z"
   },
   {
    "duration": 19,
    "start_time": "2023-06-24T19:56:21.341Z"
   },
   {
    "duration": 55,
    "start_time": "2023-06-24T19:56:21.363Z"
   },
   {
    "duration": 272,
    "start_time": "2023-06-24T19:56:21.420Z"
   },
   {
    "duration": 141,
    "start_time": "2023-06-24T19:56:21.694Z"
   },
   {
    "duration": 266,
    "start_time": "2023-06-24T19:56:21.837Z"
   },
   {
    "duration": 35,
    "start_time": "2023-06-24T19:56:22.105Z"
   },
   {
    "duration": 35,
    "start_time": "2023-06-24T19:56:22.142Z"
   },
   {
    "duration": 26,
    "start_time": "2023-06-24T19:56:22.179Z"
   },
   {
    "duration": 19,
    "start_time": "2023-06-24T19:56:22.207Z"
   },
   {
    "duration": 744,
    "start_time": "2023-06-24T19:56:22.227Z"
   },
   {
    "duration": 12,
    "start_time": "2023-06-24T19:56:22.972Z"
   },
   {
    "duration": 32,
    "start_time": "2023-06-24T19:56:22.985Z"
   },
   {
    "duration": 170,
    "start_time": "2023-06-24T19:56:23.019Z"
   },
   {
    "duration": 15,
    "start_time": "2023-06-24T19:56:23.190Z"
   },
   {
    "duration": 1842,
    "start_time": "2023-06-30T11:00:30.805Z"
   },
   {
    "duration": 2086,
    "start_time": "2023-06-30T11:00:32.649Z"
   },
   {
    "duration": 76,
    "start_time": "2023-06-30T11:00:34.738Z"
   },
   {
    "duration": 36,
    "start_time": "2023-06-30T11:00:34.825Z"
   },
   {
    "duration": 13,
    "start_time": "2023-06-30T11:00:34.869Z"
   },
   {
    "duration": 58,
    "start_time": "2023-06-30T11:00:34.891Z"
   },
   {
    "duration": 7,
    "start_time": "2023-06-30T11:00:34.953Z"
   },
   {
    "duration": 34,
    "start_time": "2023-06-30T11:00:34.963Z"
   },
   {
    "duration": 9,
    "start_time": "2023-06-30T11:00:34.999Z"
   },
   {
    "duration": 24,
    "start_time": "2023-06-30T11:00:35.011Z"
   },
   {
    "duration": 38,
    "start_time": "2023-06-30T11:00:35.038Z"
   },
   {
    "duration": 6,
    "start_time": "2023-06-30T11:00:35.079Z"
   },
   {
    "duration": 951,
    "start_time": "2023-06-30T11:00:35.088Z"
   },
   {
    "duration": 5,
    "start_time": "2023-06-30T11:00:36.045Z"
   },
   {
    "duration": 87,
    "start_time": "2023-06-30T11:00:36.052Z"
   },
   {
    "duration": 2712,
    "start_time": "2023-06-30T11:00:36.141Z"
   },
   {
    "duration": 25,
    "start_time": "2023-06-30T11:00:38.861Z"
   },
   {
    "duration": 72,
    "start_time": "2023-06-30T11:00:38.897Z"
   },
   {
    "duration": 12,
    "start_time": "2023-06-30T11:00:38.973Z"
   },
   {
    "duration": 70,
    "start_time": "2023-06-30T11:00:38.990Z"
   },
   {
    "duration": 2573,
    "start_time": "2023-06-30T11:00:39.073Z"
   },
   {
    "duration": 45,
    "start_time": "2023-06-30T11:00:41.648Z"
   },
   {
    "duration": 15,
    "start_time": "2023-06-30T11:00:41.695Z"
   },
   {
    "duration": 40,
    "start_time": "2023-06-30T11:00:41.713Z"
   },
   {
    "duration": 36,
    "start_time": "2023-06-30T11:00:41.755Z"
   },
   {
    "duration": 49,
    "start_time": "2023-06-30T11:00:41.793Z"
   },
   {
    "duration": 13,
    "start_time": "2023-06-30T11:00:41.846Z"
   },
   {
    "duration": 36,
    "start_time": "2023-06-30T11:00:41.862Z"
   },
   {
    "duration": 517,
    "start_time": "2023-06-30T11:00:41.901Z"
   },
   {
    "duration": 639,
    "start_time": "2023-06-30T11:00:42.421Z"
   },
   {
    "duration": 726,
    "start_time": "2023-06-30T11:00:43.067Z"
   },
   {
    "duration": 307,
    "start_time": "2023-06-30T11:00:43.795Z"
   },
   {
    "duration": 455,
    "start_time": "2023-06-30T11:00:44.105Z"
   },
   {
    "duration": 464,
    "start_time": "2023-06-30T11:00:44.563Z"
   },
   {
    "duration": 38,
    "start_time": "2023-06-30T11:00:45.032Z"
   },
   {
    "duration": 35,
    "start_time": "2023-06-30T11:00:45.083Z"
   },
   {
    "duration": 36,
    "start_time": "2023-06-30T11:00:45.124Z"
   },
   {
    "duration": 43,
    "start_time": "2023-06-30T11:00:45.163Z"
   },
   {
    "duration": 66,
    "start_time": "2023-06-30T11:00:45.209Z"
   },
   {
    "duration": 58,
    "start_time": "2023-06-30T11:00:45.279Z"
   },
   {
    "duration": 32,
    "start_time": "2023-06-30T11:00:45.343Z"
   },
   {
    "duration": 441,
    "start_time": "2023-06-30T11:00:45.377Z"
   },
   {
    "duration": 125,
    "start_time": "2023-06-30T11:00:45.829Z"
   },
   {
    "duration": 446,
    "start_time": "2023-06-30T11:00:45.957Z"
   },
   {
    "duration": 49,
    "start_time": "2023-06-30T11:00:46.414Z"
   },
   {
    "duration": 33,
    "start_time": "2023-06-30T11:00:46.465Z"
   },
   {
    "duration": 26,
    "start_time": "2023-06-30T11:00:46.513Z"
   },
   {
    "duration": 60,
    "start_time": "2023-06-30T11:00:46.542Z"
   },
   {
    "duration": 1058,
    "start_time": "2023-06-30T11:00:46.604Z"
   },
   {
    "duration": 23,
    "start_time": "2023-06-30T11:00:47.672Z"
   },
   {
    "duration": 32,
    "start_time": "2023-06-30T11:00:47.698Z"
   },
   {
    "duration": 271,
    "start_time": "2023-06-30T11:00:47.736Z"
   },
   {
    "duration": 29,
    "start_time": "2023-06-30T11:00:48.012Z"
   },
   {
    "duration": 34,
    "start_time": "2023-06-30T11:00:48.044Z"
   },
   {
    "duration": 52,
    "start_time": "2023-06-30T11:00:48.080Z"
   },
   {
    "duration": 29,
    "start_time": "2023-06-30T11:00:48.138Z"
   },
   {
    "duration": 47,
    "start_time": "2023-06-30T11:00:48.172Z"
   },
   {
    "duration": 17,
    "start_time": "2023-06-30T11:00:48.221Z"
   },
   {
    "duration": 180,
    "start_time": "2023-06-30T11:00:59.707Z"
   },
   {
    "duration": 2599,
    "start_time": "2023-06-30T11:32:08.109Z"
   },
   {
    "duration": 1205,
    "start_time": "2023-06-30T11:32:10.711Z"
   },
   {
    "duration": 51,
    "start_time": "2023-06-30T11:32:11.918Z"
   },
   {
    "duration": 39,
    "start_time": "2023-06-30T11:32:11.971Z"
   },
   {
    "duration": 9,
    "start_time": "2023-06-30T11:32:12.013Z"
   },
   {
    "duration": 53,
    "start_time": "2023-06-30T11:32:12.025Z"
   },
   {
    "duration": 11,
    "start_time": "2023-06-30T11:32:12.098Z"
   },
   {
    "duration": 24,
    "start_time": "2023-06-30T11:32:12.112Z"
   },
   {
    "duration": 9,
    "start_time": "2023-06-30T11:32:12.139Z"
   },
   {
    "duration": 18,
    "start_time": "2023-06-30T11:32:12.151Z"
   },
   {
    "duration": 29,
    "start_time": "2023-06-30T11:32:12.172Z"
   },
   {
    "duration": 10,
    "start_time": "2023-06-30T11:32:12.203Z"
   },
   {
    "duration": 839,
    "start_time": "2023-06-30T11:32:12.215Z"
   },
   {
    "duration": 10,
    "start_time": "2023-06-30T11:32:13.059Z"
   },
   {
    "duration": 113,
    "start_time": "2023-06-30T11:32:13.074Z"
   },
   {
    "duration": 3306,
    "start_time": "2023-06-30T11:32:13.192Z"
   },
   {
    "duration": 25,
    "start_time": "2023-06-30T11:32:16.500Z"
   },
   {
    "duration": 78,
    "start_time": "2023-06-30T11:32:16.533Z"
   },
   {
    "duration": 6,
    "start_time": "2023-06-30T11:32:16.614Z"
   },
   {
    "duration": 67,
    "start_time": "2023-06-30T11:32:16.623Z"
   },
   {
    "duration": 2987,
    "start_time": "2023-06-30T11:32:16.698Z"
   },
   {
    "duration": 36,
    "start_time": "2023-06-30T11:32:19.688Z"
   },
   {
    "duration": 20,
    "start_time": "2023-06-30T11:32:19.727Z"
   },
   {
    "duration": 69,
    "start_time": "2023-06-30T11:32:19.750Z"
   },
   {
    "duration": 52,
    "start_time": "2023-06-30T11:32:19.821Z"
   },
   {
    "duration": 63,
    "start_time": "2023-06-30T11:32:19.879Z"
   },
   {
    "duration": 13,
    "start_time": "2023-06-30T11:32:19.945Z"
   },
   {
    "duration": 9,
    "start_time": "2023-06-30T11:32:19.961Z"
   },
   {
    "duration": 442,
    "start_time": "2023-06-30T11:32:19.975Z"
   },
   {
    "duration": 578,
    "start_time": "2023-06-30T11:32:20.420Z"
   },
   {
    "duration": 512,
    "start_time": "2023-06-30T11:32:21.006Z"
   },
   {
    "duration": 445,
    "start_time": "2023-06-30T11:32:21.531Z"
   },
   {
    "duration": 448,
    "start_time": "2023-06-30T11:32:21.982Z"
   },
   {
    "duration": 531,
    "start_time": "2023-06-30T11:32:22.434Z"
   },
   {
    "duration": 54,
    "start_time": "2023-06-30T11:32:22.967Z"
   },
   {
    "duration": 36,
    "start_time": "2023-06-30T11:32:23.023Z"
   },
   {
    "duration": 8,
    "start_time": "2023-06-30T11:32:23.061Z"
   },
   {
    "duration": 19,
    "start_time": "2023-06-30T11:32:23.072Z"
   },
   {
    "duration": 83,
    "start_time": "2023-06-30T11:32:23.094Z"
   },
   {
    "duration": 57,
    "start_time": "2023-06-30T11:32:23.180Z"
   },
   {
    "duration": 41,
    "start_time": "2023-06-30T11:32:23.246Z"
   },
   {
    "duration": 401,
    "start_time": "2023-06-30T11:32:23.295Z"
   },
   {
    "duration": 92,
    "start_time": "2023-06-30T11:32:23.704Z"
   },
   {
    "duration": 421,
    "start_time": "2023-06-30T11:32:23.804Z"
   },
   {
    "duration": 61,
    "start_time": "2023-06-30T11:32:24.228Z"
   },
   {
    "duration": 27,
    "start_time": "2023-06-30T11:32:24.291Z"
   },
   {
    "duration": 33,
    "start_time": "2023-06-30T11:32:24.321Z"
   },
   {
    "duration": 34,
    "start_time": "2023-06-30T11:32:24.357Z"
   },
   {
    "duration": 1208,
    "start_time": "2023-06-30T11:32:24.394Z"
   },
   {
    "duration": 21,
    "start_time": "2023-06-30T11:32:25.608Z"
   },
   {
    "duration": 42,
    "start_time": "2023-06-30T11:32:25.636Z"
   },
   {
    "duration": 234,
    "start_time": "2023-06-30T11:32:25.685Z"
   },
   {
    "duration": 34,
    "start_time": "2023-06-30T11:32:25.923Z"
   },
   {
    "duration": 26,
    "start_time": "2023-06-30T11:32:25.964Z"
   },
   {
    "duration": 27,
    "start_time": "2023-06-30T11:32:25.997Z"
   },
   {
    "duration": 33,
    "start_time": "2023-06-30T11:32:26.026Z"
   },
   {
    "duration": 40,
    "start_time": "2023-06-30T11:32:26.062Z"
   },
   {
    "duration": 10,
    "start_time": "2023-06-30T11:32:26.108Z"
   },
   {
    "duration": 1459,
    "start_time": "2023-06-30T11:39:56.955Z"
   },
   {
    "duration": 1564,
    "start_time": "2023-06-30T11:39:58.417Z"
   },
   {
    "duration": 58,
    "start_time": "2023-06-30T11:39:59.985Z"
   },
   {
    "duration": 43,
    "start_time": "2023-06-30T11:40:00.047Z"
   },
   {
    "duration": 26,
    "start_time": "2023-06-30T11:40:00.092Z"
   },
   {
    "duration": 84,
    "start_time": "2023-06-30T11:40:00.121Z"
   },
   {
    "duration": 50,
    "start_time": "2023-06-30T11:40:00.207Z"
   },
   {
    "duration": 73,
    "start_time": "2023-06-30T11:40:00.259Z"
   },
   {
    "duration": 60,
    "start_time": "2023-06-30T11:40:00.335Z"
   },
   {
    "duration": 63,
    "start_time": "2023-06-30T11:40:00.400Z"
   },
   {
    "duration": 48,
    "start_time": "2023-06-30T11:40:00.465Z"
   },
   {
    "duration": 32,
    "start_time": "2023-06-30T11:40:00.515Z"
   },
   {
    "duration": 786,
    "start_time": "2023-06-30T11:40:00.550Z"
   },
   {
    "duration": 7,
    "start_time": "2023-06-30T11:40:01.339Z"
   },
   {
    "duration": 159,
    "start_time": "2023-06-30T11:40:01.349Z"
   },
   {
    "duration": 2964,
    "start_time": "2023-06-30T11:40:01.511Z"
   },
   {
    "duration": 11,
    "start_time": "2023-06-30T11:40:04.478Z"
   },
   {
    "duration": 97,
    "start_time": "2023-06-30T11:40:04.491Z"
   },
   {
    "duration": 10,
    "start_time": "2023-06-30T11:40:04.590Z"
   },
   {
    "duration": 74,
    "start_time": "2023-06-30T11:40:04.606Z"
   },
   {
    "duration": 2385,
    "start_time": "2023-06-30T11:40:04.683Z"
   },
   {
    "duration": 35,
    "start_time": "2023-06-30T11:40:07.070Z"
   },
   {
    "duration": 14,
    "start_time": "2023-06-30T11:40:07.107Z"
   },
   {
    "duration": 55,
    "start_time": "2023-06-30T11:40:07.124Z"
   },
   {
    "duration": 49,
    "start_time": "2023-06-30T11:40:07.182Z"
   },
   {
    "duration": 37,
    "start_time": "2023-06-30T11:40:07.235Z"
   },
   {
    "duration": 13,
    "start_time": "2023-06-30T11:40:07.273Z"
   },
   {
    "duration": 7,
    "start_time": "2023-06-30T11:40:07.291Z"
   },
   {
    "duration": 468,
    "start_time": "2023-06-30T11:40:07.301Z"
   },
   {
    "duration": 526,
    "start_time": "2023-06-30T11:40:07.771Z"
   },
   {
    "duration": 557,
    "start_time": "2023-06-30T11:40:08.300Z"
   },
   {
    "duration": 350,
    "start_time": "2023-06-30T11:40:08.859Z"
   },
   {
    "duration": 367,
    "start_time": "2023-06-30T11:40:09.210Z"
   },
   {
    "duration": 93,
    "start_time": "2023-06-30T11:40:09.580Z"
   },
   {
    "duration": 0,
    "start_time": "2023-06-30T11:40:09.676Z"
   },
   {
    "duration": 0,
    "start_time": "2023-06-30T11:40:09.677Z"
   },
   {
    "duration": 1,
    "start_time": "2023-06-30T11:40:09.678Z"
   },
   {
    "duration": 0,
    "start_time": "2023-06-30T11:40:09.680Z"
   },
   {
    "duration": 0,
    "start_time": "2023-06-30T11:40:09.681Z"
   },
   {
    "duration": 0,
    "start_time": "2023-06-30T11:40:09.683Z"
   },
   {
    "duration": 0,
    "start_time": "2023-06-30T11:40:09.684Z"
   },
   {
    "duration": 0,
    "start_time": "2023-06-30T11:40:09.685Z"
   },
   {
    "duration": 0,
    "start_time": "2023-06-30T11:40:09.686Z"
   },
   {
    "duration": 0,
    "start_time": "2023-06-30T11:40:09.688Z"
   },
   {
    "duration": 0,
    "start_time": "2023-06-30T11:40:09.690Z"
   },
   {
    "duration": 0,
    "start_time": "2023-06-30T11:40:09.691Z"
   },
   {
    "duration": 0,
    "start_time": "2023-06-30T11:40:09.693Z"
   },
   {
    "duration": 0,
    "start_time": "2023-06-30T11:40:09.695Z"
   },
   {
    "duration": 0,
    "start_time": "2023-06-30T11:40:09.696Z"
   },
   {
    "duration": 0,
    "start_time": "2023-06-30T11:40:09.698Z"
   },
   {
    "duration": 0,
    "start_time": "2023-06-30T11:40:09.700Z"
   },
   {
    "duration": 1,
    "start_time": "2023-06-30T11:40:09.701Z"
   },
   {
    "duration": 0,
    "start_time": "2023-06-30T11:40:09.703Z"
   },
   {
    "duration": 0,
    "start_time": "2023-06-30T11:40:09.705Z"
   },
   {
    "duration": 0,
    "start_time": "2023-06-30T11:40:09.706Z"
   },
   {
    "duration": 0,
    "start_time": "2023-06-30T11:40:09.709Z"
   },
   {
    "duration": 0,
    "start_time": "2023-06-30T11:40:09.711Z"
   },
   {
    "duration": 0,
    "start_time": "2023-06-30T11:40:09.712Z"
   },
   {
    "duration": 376,
    "start_time": "2023-06-30T11:42:17.296Z"
   },
   {
    "duration": 678,
    "start_time": "2023-06-30T11:43:25.948Z"
   },
   {
    "duration": 1726,
    "start_time": "2023-06-30T11:44:08.754Z"
   },
   {
    "duration": 1683,
    "start_time": "2023-06-30T11:44:10.491Z"
   },
   {
    "duration": 73,
    "start_time": "2023-06-30T11:44:12.181Z"
   },
   {
    "duration": 45,
    "start_time": "2023-06-30T11:44:12.261Z"
   },
   {
    "duration": 14,
    "start_time": "2023-06-30T11:44:12.316Z"
   },
   {
    "duration": 34,
    "start_time": "2023-06-30T11:44:12.337Z"
   },
   {
    "duration": 5,
    "start_time": "2023-06-30T11:44:12.373Z"
   },
   {
    "duration": 29,
    "start_time": "2023-06-30T11:44:12.381Z"
   },
   {
    "duration": 17,
    "start_time": "2023-06-30T11:44:12.425Z"
   },
   {
    "duration": 27,
    "start_time": "2023-06-30T11:44:12.448Z"
   },
   {
    "duration": 62,
    "start_time": "2023-06-30T11:44:12.478Z"
   },
   {
    "duration": 5,
    "start_time": "2023-06-30T11:44:12.544Z"
   },
   {
    "duration": 938,
    "start_time": "2023-06-30T11:44:12.553Z"
   },
   {
    "duration": 6,
    "start_time": "2023-06-30T11:44:13.495Z"
   },
   {
    "duration": 83,
    "start_time": "2023-06-30T11:44:13.504Z"
   },
   {
    "duration": 3092,
    "start_time": "2023-06-30T11:44:13.595Z"
   },
   {
    "duration": 28,
    "start_time": "2023-06-30T11:44:16.705Z"
   },
   {
    "duration": 64,
    "start_time": "2023-06-30T11:44:16.740Z"
   },
   {
    "duration": 9,
    "start_time": "2023-06-30T11:44:16.806Z"
   },
   {
    "duration": 54,
    "start_time": "2023-06-30T11:44:16.817Z"
   },
   {
    "duration": 3447,
    "start_time": "2023-06-30T11:44:16.891Z"
   },
   {
    "duration": 43,
    "start_time": "2023-06-30T11:44:20.341Z"
   },
   {
    "duration": 10,
    "start_time": "2023-06-30T11:44:20.386Z"
   },
   {
    "duration": 38,
    "start_time": "2023-06-30T11:44:20.398Z"
   },
   {
    "duration": 68,
    "start_time": "2023-06-30T11:44:20.438Z"
   },
   {
    "duration": 53,
    "start_time": "2023-06-30T11:44:20.512Z"
   },
   {
    "duration": 23,
    "start_time": "2023-06-30T11:44:20.577Z"
   },
   {
    "duration": 14,
    "start_time": "2023-06-30T11:44:20.613Z"
   },
   {
    "duration": 453,
    "start_time": "2023-06-30T11:44:20.633Z"
   },
   {
    "duration": 582,
    "start_time": "2023-06-30T11:44:21.092Z"
   },
   {
    "duration": 681,
    "start_time": "2023-06-30T11:44:21.681Z"
   },
   {
    "duration": 485,
    "start_time": "2023-06-30T11:44:22.370Z"
   },
   {
    "duration": 524,
    "start_time": "2023-06-30T11:44:22.863Z"
   },
   {
    "duration": 737,
    "start_time": "2023-06-30T11:44:23.395Z"
   },
   {
    "duration": 55,
    "start_time": "2023-06-30T11:44:24.142Z"
   },
   {
    "duration": 40,
    "start_time": "2023-06-30T11:44:24.205Z"
   },
   {
    "duration": 14,
    "start_time": "2023-06-30T11:44:24.254Z"
   },
   {
    "duration": 18,
    "start_time": "2023-06-30T11:44:24.277Z"
   },
   {
    "duration": 81,
    "start_time": "2023-06-30T11:44:24.303Z"
   },
   {
    "duration": 71,
    "start_time": "2023-06-30T11:44:24.392Z"
   },
   {
    "duration": 38,
    "start_time": "2023-06-30T11:44:24.475Z"
   },
   {
    "duration": 435,
    "start_time": "2023-06-30T11:44:24.521Z"
   },
   {
    "duration": 74,
    "start_time": "2023-06-30T11:44:24.964Z"
   },
   {
    "duration": 437,
    "start_time": "2023-06-30T11:44:25.046Z"
   },
   {
    "duration": 61,
    "start_time": "2023-06-30T11:44:25.491Z"
   },
   {
    "duration": 29,
    "start_time": "2023-06-30T11:44:25.567Z"
   },
   {
    "duration": 30,
    "start_time": "2023-06-30T11:44:25.604Z"
   },
   {
    "duration": 57,
    "start_time": "2023-06-30T11:44:25.641Z"
   },
   {
    "duration": 1174,
    "start_time": "2023-06-30T11:44:25.705Z"
   },
   {
    "duration": 26,
    "start_time": "2023-06-30T11:44:26.885Z"
   },
   {
    "duration": 29,
    "start_time": "2023-06-30T11:44:26.917Z"
   },
   {
    "duration": 234,
    "start_time": "2023-06-30T11:44:26.953Z"
   },
   {
    "duration": 33,
    "start_time": "2023-06-30T11:44:27.194Z"
   },
   {
    "duration": 58,
    "start_time": "2023-06-30T11:44:27.233Z"
   },
   {
    "duration": 35,
    "start_time": "2023-06-30T11:44:27.299Z"
   },
   {
    "duration": 39,
    "start_time": "2023-06-30T11:44:27.345Z"
   },
   {
    "duration": 48,
    "start_time": "2023-06-30T11:44:27.392Z"
   },
   {
    "duration": 12,
    "start_time": "2023-06-30T11:44:27.451Z"
   }
  ],
  "kernelspec": {
   "display_name": "Python 3 (ipykernel)",
   "language": "python",
   "name": "python3"
  },
  "language_info": {
   "codemirror_mode": {
    "name": "ipython",
    "version": 3
   },
   "file_extension": ".py",
   "mimetype": "text/x-python",
   "name": "python",
   "nbconvert_exporter": "python",
   "pygments_lexer": "ipython3",
   "version": "3.9.13"
  },
  "toc": {
   "base_numbering": 1,
   "nav_menu": {
    "height": "213px",
    "width": "866px"
   },
   "number_sections": true,
   "sideBar": true,
   "skip_h1_title": true,
   "title_cell": "Table of Contents",
   "title_sidebar": "Contents",
   "toc_cell": false,
   "toc_position": {
    "height": "calc(100% - 180px)",
    "left": "10px",
    "top": "150px",
    "width": "211px"
   },
   "toc_section_display": true,
   "toc_window_display": true
  }
 },
 "nbformat": 4,
 "nbformat_minor": 5
}
